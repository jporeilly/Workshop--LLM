{
 "cells": [
  {
   "cell_type": "markdown",
   "metadata": {},
   "source": [
    "[LangGraph](https://www.langchain.com/langgraph)  \n",
    "\n",
    "What we will do here, \n",
    "1. Simple graph with two nodes connected by edges to get started.\n",
    "2. Build a basic chatbot\n",
    "3. Enhancing the basic chatbot with tools\n",
    "\n",
    "We will use [Ollama](https://ollama.com/) for LLM -> `llama 3.1:8b` for basic testing.  \n",
    "If needed you can use other models too."
   ]
  },
  {
   "cell_type": "code",
   "execution_count": 115,
   "metadata": {},
   "outputs": [],
   "source": [
    "%%capture\n",
    "%pip install -U langgraph langsmith\n",
    "\n",
    "# Used for this tutorial; not a requirement for LangGraph\n",
    "%pip install -U langchain-openai"
   ]
  },
  {
   "cell_type": "code",
   "execution_count": 116,
   "metadata": {},
   "outputs": [],
   "source": [
    "from langgraph.graph import Graph\n",
    "\n",
    "# define a langchain graph\n",
    "graph_builder = Graph()"
   ]
  },
  {
   "cell_type": "code",
   "execution_count": 117,
   "metadata": {},
   "outputs": [],
   "source": [
    "# lets first understand how the Graph things work here\n",
    "# nodes act like functions that can be called as needed\n",
    "def function_1(input_1):\n",
    "    return input_1 + \" Hi \"\n",
    "\n",
    "def function_2(input_2):\n",
    "    return input_2 + \"there\"\n",
    "\n",
    "# The first argument is the unique node name\n",
    "# The second argument is the function or object that will be called whenever the node is used.\n",
    "graph_builder.add_node(\"node_1\", function_1)\n",
    "graph_builder.add_node(\"node_2\", function_2)"
   ]
  },
  {
   "cell_type": "code",
   "execution_count": 118,
   "metadata": {},
   "outputs": [],
   "source": [
    "graph_builder.add_edge(\"node_1\", \"node_2\")\n",
    "graph_builder.set_entry_point(\"node_1\")\n",
    "graph_builder.set_finish_point(\"node_2\")"
   ]
  },
  {
   "cell_type": "code",
   "execution_count": 119,
   "metadata": {},
   "outputs": [],
   "source": [
    "graph = graph_builder.compile()"
   ]
  },
  {
   "cell_type": "code",
   "execution_count": 120,
   "metadata": {},
   "outputs": [
    {
     "data": {
      "image/jpeg": "[encoded data removed]",
      "text/plain": [
       "<IPython.core.display.Image object>"
      ]
     },
     "metadata": {},
     "output_type": "display_data"
    }
   ],
   "source": [
    "from IPython.display import Image, display\n",
    "\n",
    "try:\n",
    "    display(Image(graph.get_graph().draw_mermaid_png()))\n",
    "except Exception:\n",
    "    # This requires some extra dependencies and is optional\n",
    "    pass"
   ]
  },
  {
   "cell_type": "code",
   "execution_count": 121,
   "metadata": {},
   "outputs": [
    {
     "data": {
      "text/plain": [
       "'Hello Hi there'"
      ]
     },
     "execution_count": 121,
     "metadata": {},
     "output_type": "execute_result"
    }
   ],
   "source": [
    "# now, lets run the chatbot\n",
    "graph.invoke(\"Hello\")"
   ]
  },
  {
   "cell_type": "markdown",
   "metadata": {},
   "source": [
    "### Let's build a basic chatbot\n",
    "[LangSmith](https://www.langchain.com/langsmith) -> Debug, collaborate, test, and monitor your LLM applications."
   ]
  },
  {
   "cell_type": "code",
   "execution_count": 8,
   "metadata": {},
   "outputs": [],
   "source": [
    "# langsmith makes it esier to see what's going on \"under the hood\"\n",
    "# https://eu.smith.langchain.com\n",
    "import getpass\n",
    "import os\n",
    "\n",
    "\n",
    "def _set_env(var: str):\n",
    "    if not os.environ.get(var):\n",
    "        os.environ[var] = getpass.getpass(f\"{var}: \")"
   ]
  },
  {
   "cell_type": "code",
   "execution_count": 9,
   "metadata": {},
   "outputs": [],
   "source": [
    "_set_env(\"LANGCHAIN_API_KEY\")\n",
    "os.environ[\"LANGCHAIN_ENDPOINT\"] = \"https://eu.api.smith.langchain.com\"\n",
    "os.environ[\"LANGCHAIN_TRACING_V2\"] = \"true\"\n",
    "os.environ[\"LANGCHAIN_PROJECT\"] = \"langgraph-tutorial\""
   ]
  },
  {
   "cell_type": "markdown",
   "metadata": {},
   "source": [
    ">Important: Ollama now has built-in [compatibility](https://ollama.com/blog/openai-compatibility) with the OpenAI Chat Completions API, making it possible to use more tooling and applications with Ollama locally. If you want to use OpenAI, replace the api_key with OpenAI's."
   ]
  },
  {
   "cell_type": "code",
   "execution_count": 122,
   "metadata": {},
   "outputs": [],
   "source": [
    "from langchain_openai import ChatOpenAI"
   ]
  },
  {
   "cell_type": "markdown",
   "metadata": {},
   "source": [
    "**Make sure Ollama is running -> http://localhost:11434**"
   ]
  },
  {
   "cell_type": "code",
   "execution_count": 123,
   "metadata": {},
   "outputs": [],
   "source": [
    "llm_local = ChatOpenAI(api_key=\"provide_aynthing_here\",model=\"llama3.1:8b\",base_url=\"http://localhost:11434/v1\",)"
   ]
  },
  {
   "cell_type": "markdown",
   "metadata": {},
   "source": [
    "- Start by creating a `StateGraph`. \n",
    "- A `StateGraph` object defines the structure of our chatbot as a \"state machine\". \n",
    "- We'll add `nodes` to represent the llm and functions our chatbot can call and `edges` to specify how the bot should transition between these functions."
   ]
  },
  {
   "cell_type": "code",
   "execution_count": 124,
   "metadata": {},
   "outputs": [],
   "source": [
    "from typing import Annotated\n",
    "\n",
    "from typing_extensions import TypedDict\n",
    "\n",
    "from langgraph.graph import StateGraph, START, END\n",
    "from langgraph.graph.message import add_messages\n",
    "\n",
    "\n",
    "class State(TypedDict):\n",
    "    # Messages have the type \"list\". The `add_messages` function\n",
    "    # in the annotation defines how this state key should be updated\n",
    "    # (in this case, it appends messages to the list, rather than overwriting them)\n",
    "    messages: Annotated[list, add_messages]\n",
    "\n",
    "\n",
    "graph_builder = StateGraph(State)"
   ]
  },
  {
   "cell_type": "markdown",
   "metadata": {},
   "source": [
    "\n",
    "So now our graph knows two things:\n",
    "\n",
    "- Every `node` we define will receive the current State as input and return a value that updates that state.\n",
    "- `messages` will be appended to the current list, rather than directly overwritten. This is communicated via the prebuilt add_messages function in the Annotated syntax.\n",
    "\n",
    "Next, add a \"chatbot\" node. Nodes represent units of work. They are typically regular python functions."
   ]
  },
  {
   "cell_type": "code",
   "execution_count": 125,
   "metadata": {},
   "outputs": [],
   "source": [
    "def chatbot(state: State):\n",
    "    return {\"messages\": [llm_local.invoke(state[\"messages\"])]}\n",
    "\n",
    "# The first argument is the unique node name\n",
    "# The second argument is the function or object that will be called whenever\n",
    "# the node is used.\n",
    "graph_builder.add_node(\"chatbot\", chatbot)"
   ]
  },
  {
   "cell_type": "markdown",
   "metadata": {},
   "source": [
    "The `add_messages` function in our State will append the llm's response messages to whatever messages are already in the state."
   ]
  },
  {
   "cell_type": "code",
   "execution_count": 126,
   "metadata": {},
   "outputs": [],
   "source": [
    "# Next, add an entry point. This tells our graph where to start its work each time we run it.\n",
    "graph_builder.add_edge(START, \"chatbot\")"
   ]
  },
  {
   "cell_type": "code",
   "execution_count": 127,
   "metadata": {},
   "outputs": [],
   "source": [
    "# Similarly, set a finish point. This instructs the graph \"any time this node is run, you can exit.\"\n",
    "graph_builder.add_edge(\"chatbot\", END)"
   ]
  },
  {
   "cell_type": "code",
   "execution_count": 128,
   "metadata": {},
   "outputs": [],
   "source": [
    "# Finally, we'll want to be able to run our graph. To do so, call \"compile()\" on the graph builder. \n",
    "# This creates a \"CompiledGraph\" we can use invoke on our state.\n",
    "graph = graph_builder.compile()"
   ]
  },
  {
   "cell_type": "code",
   "execution_count": 129,
   "metadata": {},
   "outputs": [
    {
     "data": {
      "image/jpeg": "[encoded data removed]",
      "text/plain": [
       "<IPython.core.display.Image object>"
      ]
     },
     "metadata": {},
     "output_type": "display_data"
    }
   ],
   "source": [
    "from IPython.display import Image, display\n",
    "\n",
    "try:\n",
    "    display(Image(graph.get_graph().draw_mermaid_png()))\n",
    "except Exception:\n",
    "    # This requires some extra dependencies and is optional\n",
    "    pass"
   ]
  },
  {
   "cell_type": "code",
   "execution_count": 130,
   "metadata": {},
   "outputs": [
    {
     "name": "stdout",
     "output_type": "stream",
     "text": [
      "Assistant: Hello! How are you today? Is there something I can help with or would you like to chat?\n",
      "Assistant: Helsinki, the capital city of Finland, has a temperate climate with cold winters and mild summers. Here's an overview of the typical weather conditions in Helsinki:\n",
      "\n",
      "**Seasonal Weather Patterns:**\n",
      "\n",
      "* **Winter (December to February):**\n",
      "\t+ Temperature: Average -3°C (27°F), with lows around -10°C (14°F) and highs around 0°C (32°F).\n",
      "\t+ Snowfall: Moderate, with an average of 35 cm (13.8 in) snow per month.\n",
      "\t+ Sunshine hours: Around 6-7 hours per day.\n",
      "* **Spring (March to May):**\n",
      "\t+ Temperature: Gradually warming up, with averages ranging from 2°C (36°F) to 12°C (54°F).\n",
      "\t+ Precipitation: Increasing, but still relatively moderate, with an average of 3-5 rainy days per month.\n",
      "\t+ Sunshine hours: Around 10-14 hours per day.\n",
      "* **Summer (June to August):**\n",
      "\t+ Temperature: Pleasant, with averages around 17°C (63°F) to 23°C (73°F).\n",
      "\t+ Precipitation: Relatively low, with an average of 1-2 rainy days per month.\n",
      "\t+ Sunshine hours: Around 20 hours per day (midsummer has almost 24-hour daylight!).\n",
      "* **Autumn (September to November):**\n",
      "\t+ Temperature: Cooling down, with averages ranging from 10°C (50°F) to -2°C (28°F).\n",
      "\t+ Precipitation: Moderate, with an average of 3-5 rainy days per month.\n",
      "\t+ Sunshine hours: Around 8-12 hours per day.\n",
      "\n",
      "**Notable Weather Events:**\n",
      "\n",
      "* **Snowfall:** Helsinki can expect heavy snowfalls in late winter, which may cause some disruption to daily life. The city has a system for clearing and salting roads during this period.\n",
      "* **Wind:** Strong winds are not uncommon during the autumn and early spring months, leading to gusty weather and potential disruptions.\n",
      "* **Heatwaves:** Helsinki experiences occasional heatwaves in summer, where temperatures can rise above 30°C (86°F).\n",
      "* **Storms:** Severe storms with thunderstorms, heavy rain, or high winds may occur during any time of the year, but they're more frequent during the autumn months.\n",
      "\n",
      "Keep in mind that these are general conditions, and actual weather may vary from year to year. It's always a good idea to check current forecasts before visiting or moving to Helsinki!\n",
      "Goodbye!\n"
     ]
    }
   ],
   "source": [
    "# now, lets run the chatbot\n",
    "# Tip: You can exit the chat loop at any time by typing \"quit\", \"exit\", or \"q\".\n",
    "\n",
    "while True:  # Start an infinite loop to keep the program running until a break condition is met.\n",
    "    user_input = input(\"User: \")  # Prompt the user to input a message.\n",
    "    \n",
    "    # Check if the user wants to quit by typing \"quit\", \"exit\", or \"q\" (case-insensitive).\n",
    "    if user_input.lower() in [\"quit\", \"exit\", \"q\"]:\n",
    "        print(\"Goodbye!\")  # Print a goodbye message.\n",
    "        break  # Exit the loop and end the program.\n",
    "    \n",
    "    # Stream events from the 'graph' using the user input, processing each event returned.\n",
    "    for event in graph.stream({\"messages\": (\"user\", user_input)}):\n",
    "        # Iterate over each value in the event.\n",
    "        for value in event.values():\n",
    "            # Print the assistant's response, which is the last message in the 'messages' list of the value.\n",
    "            print(\"Assistant:\", value[\"messages\"][-1].content)\n"
   ]
  },
  {
   "cell_type": "code",
   "execution_count": 131,
   "metadata": {},
   "outputs": [
    {
     "data": {
      "text/plain": [
       "AIMessage(content=\"HELLO WORLD! It's great to connect with you! Is there something I can help you with or would you like to chat?\", response_metadata={'token_usage': {'completion_tokens': 28, 'prompt_tokens': 13, 'total_tokens': 41}, 'model_name': 'llama3.1:8b', 'system_fingerprint': 'fp_ollama', 'finish_reason': 'stop', 'logprobs': None}, id='run-e187570f-e94c-47d8-953c-64e0e4c40a19-0', usage_metadata={'input_tokens': 13, 'output_tokens': 28, 'total_tokens': 41})"
      ]
     },
     "execution_count": 131,
     "metadata": {},
     "output_type": "execute_result"
    }
   ],
   "source": [
    "llm_local.invoke(\"hello world!\")"
   ]
  },
  {
   "cell_type": "markdown",
   "metadata": {},
   "source": [
    "##### bot's knowledge is limited to what's in its training data. In the next part, we'll add a web search tool to expand the bot's knowledge and make it more capable."
   ]
  },
  {
   "cell_type": "markdown",
   "metadata": {},
   "source": [
    "### Enhancing the Chatbot with Tools ( web search tool )"
   ]
  },
  {
   "attachments": {
    "image.png": {
     "image/png": "[encoded data removed]"
    }
   },
   "cell_type": "markdown",
   "metadata": {},
   "source": [
    "![image.png](attachment:image.png)"
   ]
  },
  {
   "cell_type": "code",
   "execution_count": 65,
   "metadata": {},
   "outputs": [],
   "source": [
    "# _set_env(\"OPENAI_API_KEY\")"
   ]
  },
  {
   "cell_type": "code",
   "execution_count": 102,
   "metadata": {},
   "outputs": [],
   "source": [
    "#from langchain_openai import ChatOpenAI\n",
    "#llm = ChatOpenAI(temperature=0, streaming=True)"
   ]
  },
  {
   "cell_type": "code",
   "execution_count": 132,
   "metadata": {},
   "outputs": [],
   "source": [
    "%%capture\n",
    "%pip install -U tavily-python\n",
    "%pip install -U langchain_community"
   ]
  },
  {
   "cell_type": "markdown",
   "metadata": {},
   "source": [
    "First, install the requirements to use the [Tavily Search Engine](https://python.langchain.com/v0.2/docs/integrations/tools/tavily_search/), and set your TAVILY_API_KEY."
   ]
  },
  {
   "cell_type": "code",
   "execution_count": 133,
   "metadata": {},
   "outputs": [],
   "source": [
    "_set_env(\"TAVILY_API_KEY\")"
   ]
  },
  {
   "cell_type": "code",
   "execution_count": 134,
   "metadata": {},
   "outputs": [],
   "source": [
    "# lets define the tool\n",
    "\n",
    "from langchain_community.tools.tavily_search import TavilySearchResults\n",
    "\n",
    "tool = TavilySearchResults(max_results=2)\n",
    "tools = [tool]"
   ]
  },
  {
   "cell_type": "code",
   "execution_count": 137,
   "metadata": {},
   "outputs": [
    {
     "data": {
      "text/plain": [
       "[{'url': 'https://www.weatherapi.com/',\n",
       "  'content': \"{'location': {'name': 'Helsinki', 'region': 'Southern Finland', 'country': 'Finland', 'lat': 60.18, 'lon': 24.93, 'tz_id': 'Europe/Helsinki', 'localtime_epoch': 1723316729, 'localtime': '2024-08-10 22:05'}, 'current': {'last_updated_epoch': 1723316400, 'last_updated': '2024-08-10 22:00', 'temp_c': 15.1, 'temp_f': 59.2, 'is_day': 0, 'condition': {'text': 'Clear', 'icon': '//cdn.weatherapi.com/weather/64x64/night/113.png', 'code': 1000}, 'wind_mph': 11.0, 'wind_kph': 17.6, 'wind_degree': 250, 'wind_dir': 'WSW', 'pressure_mb': 1001.0, 'pressure_in': 29.56, 'precip_mm': 0.0, 'precip_in': 0.0, 'humidity': 78, 'cloud': 20, 'feelslike_c': 15.1, 'feelslike_f': 59.2, 'windchill_c': 15.1, 'windchill_f': 59.2, 'heatindex_c': 15.1, 'heatindex_f': 59.2, 'dewpoint_c': 11.3, 'dewpoint_f': 52.4, 'vis_km': 10.0, 'vis_miles': 6.0, 'uv': 1.0, 'gust_mph': 20.0, 'gust_kph': 32.1}}\"},\n",
       " {'url': 'https://world-weather.info/forecast/finland/helsinki/august-2024/',\n",
       "  'content': 'Extended weather forecast in Helsinki. Hourly Week 10 days 14 days 30 days Year. Detailed ⚡ Helsinki Weather Forecast for August 2024 - day/night 🌡️ temperatures, precipitations - World-Weather.info.'}]"
      ]
     },
     "execution_count": 137,
     "metadata": {},
     "output_type": "execute_result"
    }
   ],
   "source": [
    "tool.invoke(\"What is the weather of Helsinki in Celsius?\")"
   ]
  },
  {
   "cell_type": "code",
   "execution_count": 139,
   "metadata": {},
   "outputs": [],
   "source": [
    "llm_with_tools = llm_local.bind_tools(tools)"
   ]
  },
  {
   "cell_type": "code",
   "execution_count": 140,
   "metadata": {},
   "outputs": [],
   "source": [
    "from typing import Annotated\n",
    "\n",
    "from typing_extensions import TypedDict\n",
    "\n",
    "from langgraph.graph import StateGraph, START\n",
    "from langgraph.graph.message import add_messages\n",
    "\n",
    "\n",
    "class State(TypedDict):\n",
    "    messages: Annotated[list, add_messages]\n",
    "\n",
    "\n",
    "graph_builder = StateGraph(State)\n",
    "\n",
    "#llm = ChatOpenAI(temperature=0, streaming=True)\n",
    "#llm = ChatAnthropic(model=\"claude-3-haiku-20240307\")\n",
    "# Modification: tell the LLM which tools it can call\n",
    "llm_with_tools = llm_local.bind_tools(tools)\n",
    "\n",
    "\n",
    "def chatbot(state: State):\n",
    "    return {\"messages\": [llm_with_tools.invoke(state[\"messages\"])]}\n",
    "\n",
    "\n",
    "graph_builder.add_node(\"chatbot\", chatbot)"
   ]
  },
  {
   "cell_type": "markdown",
   "metadata": {},
   "source": [
    "**Create a function to actually run the tools if they are called**"
   ]
  },
  {
   "cell_type": "code",
   "execution_count": 141,
   "metadata": {},
   "outputs": [],
   "source": [
    "import json\n",
    "from langchain_core.messages import ToolMessage\n",
    "\n",
    "class BasicToolNode:\n",
    "    \"\"\"A class representing a node that processes and executes tool requests embedded in the last AI message.\"\"\"\n",
    "\n",
    "    def __init__(self, tools: list) -> None:\n",
    "        \"\"\"\n",
    "        Initializes the BasicToolNode with a list of available tools.\n",
    "        \n",
    "        Args:\n",
    "            tools (list): A list of tool objects that the node can use to execute requests.\n",
    "        \"\"\"\n",
    "        # Creates a dictionary mapping tool names to tool objects for quick lookup during execution\n",
    "        self.tools_by_name = {tool.name: tool for tool in tools}\n",
    "\n",
    "    def __call__(self, inputs: dict):\n",
    "        \"\"\"\n",
    "        Processes the input data to extract the latest message and execute the requested tools.\n",
    "        \n",
    "        Args:\n",
    "            inputs (dict): A dictionary containing messages, where each message can contain tool calls.\n",
    "        \n",
    "        Returns:\n",
    "            dict: A dictionary with a list of ToolMessage objects containing the results of tool executions.\n",
    "        \n",
    "        Raises:\n",
    "            ValueError: If no messages are found in the input.\n",
    "        \"\"\"\n",
    "        # Extracts the latest message from the input, raising an error if no messages are found\n",
    "        if messages := inputs.get(\"messages\", []):\n",
    "            message = messages[-1]\n",
    "        else:\n",
    "            raise ValueError(\"No message found in input\")\n",
    "\n",
    "        # List to accumulate the outputs of each tool invocation\n",
    "        outputs = []\n",
    "        \n",
    "        # Iterate over each tool call in the message, invoking the corresponding tool and collecting the results\n",
    "        for tool_call in message.tool_calls:\n",
    "            tool_result = self.tools_by_name[tool_call[\"name\"]].invoke(\n",
    "                tool_call[\"args\"]\n",
    "            )\n",
    "            # Wraps the tool result in a ToolMessage object and appends it to the outputs list\n",
    "            outputs.append(\n",
    "                ToolMessage(\n",
    "                    content=json.dumps(tool_result),\n",
    "                    name=tool_call[\"name\"],\n",
    "                    tool_call_id=tool_call[\"id\"],\n",
    "                )\n",
    "            )\n",
    "        \n",
    "        # Returns a dictionary with the key \"messages\" containing the list of ToolMessage objects\n",
    "        return {\"messages\": outputs}\n",
    "\n",
    "# Example usage: Instantiating the BasicToolNode with a list of tools and adding it to a graph builder\n",
    "tool_node = BasicToolNode(tools=[tool])\n",
    "graph_builder.add_node(\"tools\", tool_node)\n"
   ]
  },
  {
   "cell_type": "markdown",
   "metadata": {},
   "source": [
    "**Now, lets define the conditional edges**"
   ]
  },
  {
   "cell_type": "code",
   "execution_count": 142,
   "metadata": {},
   "outputs": [],
   "source": [
    "from typing import Literal\n",
    "\n",
    "def route_tools(\n",
    "    state: State,\n",
    ") -> Literal[\"tools\", \"__end__\"]:\n",
    "    \"\"\"\n",
    "    Determines the next node in the processing graph based on the last AI message in the state.\n",
    "    \n",
    "    This function is used in a conditional edge to decide whether to route the flow to the 'tools' node,\n",
    "    if the last message contains tool calls, or to the '__end__' node if no tool calls are present.\n",
    "\n",
    "    Args:\n",
    "        state (State): The current state, which may be a list of messages or a dictionary containing messages.\n",
    "    \n",
    "    Returns:\n",
    "        Literal[\"tools\", \"__end__\"]: A string indicating the next node to route to. Returns \"tools\" if the last \n",
    "        message has tool calls, otherwise returns \"__end__\".\n",
    "    \n",
    "    Raises:\n",
    "        ValueError: If no messages are found in the state.\n",
    "    \"\"\"\n",
    "    # Checks if the state is a list, retrieves the last message; otherwise, tries to get it from a dictionary\n",
    "    if isinstance(state, list):\n",
    "        ai_message = state[-1]\n",
    "    elif messages := state.get(\"messages\", []):\n",
    "        ai_message = messages[-1]\n",
    "    else:\n",
    "        raise ValueError(f\"No messages found in input state to tool_edge: {state}\")\n",
    "\n",
    "    # If the last message contains tool calls, route to the \"tools\" node\n",
    "    if hasattr(ai_message, \"tool_calls\") and len(ai_message.tool_calls) > 0:\n",
    "        return \"tools\"\n",
    "    \n",
    "    # If no tool calls are found, route to the \"__end__\" node\n",
    "    return \"__end__\"\n",
    "\n",
    "\n",
    "# Conditional routing function to direct the flow based on the presence of tool calls in the last message\n",
    "# The route_tools function will return \"tools\" if the AI message has tool calls, otherwise \"__end__\"\n",
    "graph_builder.add_conditional_edges(\n",
    "    \"chatbot\",  # The node from which the routing decision will be made\n",
    "    route_tools,  # The function that determines the next node\n",
    "    {\n",
    "        # Mapping of function return values to specific nodes in the graph\n",
    "        \"tools\": \"tools\",       # If the function returns \"tools\", route to the \"tools\" node\n",
    "        \"__end__\": \"__end__\",   # If the function returns \"__end__\", route to the \"__end__\" node\n",
    "    }\n",
    ")\n",
    "\n",
    "# Adding an edge to return to the chatbot node after any tool call to decide the next step\n",
    "graph_builder.add_edge(\"tools\", \"chatbot\")\n",
    "\n",
    "# Starting the graph by linking the START node to the chatbot node\n",
    "graph_builder.add_edge(START, \"chatbot\")\n",
    "\n",
    "# Compile the graph to finalize the structure and prepare it for execution\n",
    "graph = graph_builder.compile()\n"
   ]
  },
  {
   "cell_type": "code",
   "execution_count": 143,
   "metadata": {},
   "outputs": [
    {
     "data": {
      "image/jpeg": "[encoded data removed]",
      "text/plain": [
       "<IPython.core.display.Image object>"
      ]
     },
     "metadata": {},
     "output_type": "display_data"
    }
   ],
   "source": [
    "from IPython.display import Image, display\n",
    "\n",
    "try:\n",
    "    display(Image(graph.get_graph().draw_mermaid_png()))\n",
    "except Exception:\n",
    "    # This requires some extra dependencies and is optional\n",
    "    pass"
   ]
  },
  {
   "cell_type": "code",
   "execution_count": 145,
   "metadata": {},
   "outputs": [
    {
     "name": "stdout",
     "output_type": "stream",
     "text": [
      "Assistant: \n",
      "Assistant: [{\"url\": \"https://www.weatherapi.com/\", \"content\": \"{'location': {'name': 'Helsinki', 'region': 'Southern Finland', 'country': 'Finland', 'lat': 60.18, 'lon': 24.93, 'tz_id': 'Europe/Helsinki', 'localtime_epoch': 1723316925, 'localtime': '2024-08-10 22:08'}, 'current': {'last_updated_epoch': 1723316400, 'last_updated': '2024-08-10 22:00', 'temp_c': 15.1, 'temp_f': 59.2, 'is_day': 0, 'condition': {'text': 'Clear', 'icon': '//cdn.weatherapi.com/weather/64x64/night/113.png', 'code': 1000}, 'wind_mph': 11.0, 'wind_kph': 17.6, 'wind_degree': 250, 'wind_dir': 'WSW', 'pressure_mb': 1001.0, 'pressure_in': 29.56, 'precip_mm': 0.0, 'precip_in': 0.0, 'humidity': 78, 'cloud': 20, 'feelslike_c': 15.1, 'feelslike_f': 59.2, 'windchill_c': 15.1, 'windchill_f': 59.2, 'heatindex_c': 15.1, 'heatindex_f': 59.2, 'dewpoint_c': 11.3, 'dewpoint_f': 52.4, 'vis_km': 10.0, 'vis_miles': 6.0, 'uv': 1.0, 'gust_mph': 20.0, 'gust_kph': 32.1}}\"}, {\"url\": \"https://world-weather.info/forecast/finland/helsinki/august-2024/\", \"content\": \"Extended weather forecast in Helsinki. Hourly Week 10 days 14 days 30 days Year. Detailed \\u26a1 Helsinki Weather Forecast for August 2024 - day/night \\ud83c\\udf21\\ufe0f temperatures, precipitations - World-Weather.info.\"}]\n",
      "Assistant: The current weather in Helsinki is clear with a temperature of 15.1°C (59.2°F). The wind speed is moderate at 11 mph (17.6 km/h) from the west-southwest direction. There is no precipitation expected currently, but it's recommended to check the latest forecast for any updates.\n",
      "Goodbye!\n"
     ]
    }
   ],
   "source": [
    "from langchain_core.messages import BaseMessage\n",
    "\n",
    "# Start an infinite loop to continuously interact with the user\n",
    "while True:\n",
    "    # Prompt the user for input and capture their response\n",
    "    user_input = input(\"User: \")\n",
    "    \n",
    "    # Check if the user wants to quit the interaction\n",
    "    if user_input.lower() in [\"quit\", \"exit\", \"q\"]:\n",
    "        print(\"Goodbye!\")  # Print a farewell message\n",
    "        break  # Exit the loop, ending the program\n",
    "    \n",
    "    # Stream events from the graph using the user's input\n",
    "    # The input is wrapped in a dictionary with \"messages\" key containing a list of tuples (message type, content)\n",
    "    for event in graph.stream({\"messages\": [(\"user\", user_input)]}):\n",
    "        \n",
    "        # Iterate over the values produced by each event in the stream\n",
    "        for value in event.values():\n",
    "            \n",
    "            # Check if the last message in the list is an instance of BaseMessage\n",
    "            if isinstance(value[\"messages\"][-1], BaseMessage):\n",
    "                \n",
    "                # Print the content of the Assistant's response\n",
    "                print(\"Assistant:\", value[\"messages\"][-1].content)\n"
   ]
  },
  {
   "cell_type": "code",
   "execution_count": null,
   "metadata": {},
   "outputs": [],
   "source": []
  }
 ],
 "metadata": {
  "kernelspec": {
   "display_name": ".venv",
   "language": "python",
   "name": "python3"
  },
  "language_info": {
   "codemirror_mode": {
    "name": "ipython",
    "version": 3
   },
   "file_extension": ".py",
   "mimetype": "text/x-python",
   "name": "python",
   "nbconvert_exporter": "python",
   "pygments_lexer": "ipython3",
   "version": "3.12.0"
  }
 },
 "nbformat": 4,
 "nbformat_minor": 2
}
