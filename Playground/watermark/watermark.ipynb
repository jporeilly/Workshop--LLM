{
 "cells": [
  {
   "cell_type": "markdown",
   "id": "f9400e17-385f-4c84-8b50-a11254c96dd9",
   "metadata": {
    "tags": []
   },
   "source": [
    "# An IPython magic extension "
   ]
  },
  {
   "cell_type": "markdown",
   "id": "b5dd3679-7fa0-41cf-81c5-5381a834ea0e",
   "metadata": {
    "tags": []
   },
   "source": [
    "## Installing and Loading the package"
   ]
  },
  {
   "cell_type": "code",
   "execution_count": 3,
   "id": "07c51e23-ef44-405a-847c-ec581fee9045",
   "metadata": {
    "tags": []
   },
   "outputs": [],
   "source": [
    "!pip install watermark -q"
   ]
  },
  {
   "cell_type": "code",
   "execution_count": 4,
   "id": "c17f38bf-a541-447e-89e1-4e4af8897014",
   "metadata": {
    "tags": []
   },
   "outputs": [],
   "source": [
    "%load_ext watermark"
   ]
  },
  {
   "cell_type": "markdown",
   "id": "a8d5388e-95a5-4174-8fa3-94a1be90889d",
   "metadata": {
    "tags": []
   },
   "source": [
    "## How to use the watermark package"
   ]
  },
  {
   "cell_type": "code",
   "execution_count": 5,
   "id": "9fbbb8ca-ba3c-4d2c-b701-8f1669931fa0",
   "metadata": {
    "tags": []
   },
   "outputs": [
    {
     "data": {
      "text/plain": [
       "\u001b[0;31mDocstring:\u001b[0m\n",
       "::\n",
       "\n",
       "  %watermark [-a AUTHOR] [-gu GITHUB_USERNAME] [-e EMAIL] [-ws WEBSITE]\n",
       "                 [-d] [-n] [-t] [-i] [-z] [-u] [-c CUSTOM_TIME] [-v]\n",
       "                 [-p PACKAGES] [-co] [-h] [-m] [-g] [-r] [-b] [-w] [-iv]\n",
       "\n",
       "IPython magic function to print date/time stamps\n",
       "and various system information.\n",
       "\n",
       "options:\n",
       "  -a AUTHOR, --author AUTHOR\n",
       "                        prints author name\n",
       "  -gu GITHUB_USERNAME, --github_username GITHUB_USERNAME\n",
       "                        prints author github username\n",
       "  -e EMAIL, --email EMAIL\n",
       "                        prints author email\n",
       "  -ws WEBSITE, --website WEBSITE\n",
       "                        prints author or project website\n",
       "  -d, --date            prints current date as YYYY-mm-dd\n",
       "  -n, --datename        prints date with abbrv. day and month names\n",
       "  -t, --time            prints current time as HH-MM-SS\n",
       "  -i, --iso8601         prints the combined date and time including the time\n",
       "                        zone in the ISO 8601 standard with UTC offset\n",
       "  -z, --timezone        appends the local time zone\n",
       "  -u, --updated         appends a string \"Last updated: \"\n",
       "  -c CUSTOM_TIME, --custom_time CUSTOM_TIME\n",
       "                        prints a valid strftime() string\n",
       "  -v, --python          prints Python and IPython version\n",
       "  -p PACKAGES, --packages PACKAGES\n",
       "                        prints versions of specified Python modules and\n",
       "                        packages\n",
       "  -co, --conda          prints name of current conda environment\n",
       "  -h, --hostname        prints the host name\n",
       "  -m, --machine         prints system and machine info\n",
       "  -g, --githash         prints current Git commit hash\n",
       "  -r, --gitrepo         prints current Git remote address\n",
       "  -b, --gitbranch       prints current Git branch\n",
       "  -w, --watermark       prints the current version of watermark\n",
       "  -iv, --iversions      prints the name/version of all imported modules\n",
       "\u001b[0;31mFile:\u001b[0m      /usr/local/python/3.10.4/lib/python3.10/site-packages/watermark/magic.py"
      ]
     },
     "metadata": {},
     "output_type": "display_data"
    }
   ],
   "source": [
    "## Let's first see the doc (available arguments)\n",
    "%watermark?"
   ]
  },
  {
   "cell_type": "code",
   "execution_count": 6,
   "id": "b46e1255-1862-48cb-bee6-f2ae39e2cecf",
   "metadata": {
    "tags": []
   },
   "outputs": [
    {
     "name": "stdout",
     "output_type": "stream",
     "text": [
      "Watermark: 2.3.1\n",
      "\n"
     ]
    }
   ],
   "source": [
    "# version of watermark\n",
    "%watermark --watermark"
   ]
  },
  {
   "cell_type": "markdown",
   "id": "c378f494-d2a2-4bcd-9075-f0081976e477",
   "metadata": {
    "tags": []
   },
   "source": [
    "### Default behaviour"
   ]
  },
  {
   "cell_type": "code",
   "execution_count": 7,
   "id": "7f5865bf-cb3e-405b-a9ec-c91f24eea64e",
   "metadata": {
    "tags": []
   },
   "outputs": [
    {
     "name": "stdout",
     "output_type": "stream",
     "text": [
      "Last updated: 2023-03-18T09:07:00.773594+00:00\n",
      "\n",
      "Python implementation: CPython\n",
      "Python version       : 3.10.4\n",
      "IPython version      : 8.11.0\n",
      "\n",
      "Compiler    : GCC 9.4.0\n",
      "OS          : Linux\n",
      "Release     : 5.4.0-1104-azure\n",
      "Machine     : x86_64\n",
      "Processor   : x86_64\n",
      "CPU cores   : 2\n",
      "Architecture: 64bit\n",
      "\n"
     ]
    }
   ],
   "source": [
    "%watermark"
   ]
  },
  {
   "cell_type": "markdown",
   "id": "3147faea-2768-408e-81eb-751196229fba",
   "metadata": {
    "tags": []
   },
   "source": [
    "### Last updated date and time"
   ]
  },
  {
   "cell_type": "code",
   "execution_count": 8,
   "id": "c12c2ff8-ea4b-4bd0-99f9-89055670f150",
   "metadata": {
    "tags": []
   },
   "outputs": [
    {
     "name": "stdout",
     "output_type": "stream",
     "text": [
      "Last updated: 2023-03-18 09:08:12\n",
      "\n"
     ]
    }
   ],
   "source": [
    "# last updated date and time\n",
    "%watermark -u -t -d"
   ]
  },
  {
   "cell_type": "code",
   "execution_count": 9,
   "id": "7c6b5e98-df2f-4186-91d2-0e0349a84f31",
   "metadata": {
    "tags": []
   },
   "outputs": [
    {
     "name": "stdout",
     "output_type": "stream",
     "text": [
      "Last updated: 2023-03-18 09:08:27\n",
      "\n"
     ]
    }
   ],
   "source": [
    "%watermark -utd"
   ]
  },
  {
   "cell_type": "code",
   "execution_count": 10,
   "id": "a3acfc8b-d193-4fde-964f-b91ecdcbe470",
   "metadata": {
    "tags": []
   },
   "outputs": [
    {
     "name": "stdout",
     "output_type": "stream",
     "text": [
      "Last updated: Sat Mar 18 2023\n",
      "\n"
     ]
    }
   ],
   "source": [
    "%watermark -u -n "
   ]
  },
  {
   "cell_type": "markdown",
   "id": "1985a349-b200-4d51-a0da-3515ed341f82",
   "metadata": {
    "tags": []
   },
   "source": [
    "### Add also author name "
   ]
  },
  {
   "cell_type": "code",
   "execution_count": 11,
   "id": "d5cc6d3a-3a93-4463-8068-6835d8eaede3",
   "metadata": {
    "tags": []
   },
   "outputs": [
    {
     "name": "stdout",
     "output_type": "stream",
     "text": [
      "Author: Sudarshan Koirala\n",
      "\n",
      "Last updated: Sat Mar 18 2023\n",
      "\n"
     ]
    }
   ],
   "source": [
    "%watermark -u -n -a \"Sudarshan Koirala\""
   ]
  },
  {
   "cell_type": "markdown",
   "id": "4247cfb3-131f-4312-8401-6b892a8cfbaf",
   "metadata": {
    "tags": []
   },
   "source": [
    "### Add github username"
   ]
  },
  {
   "cell_type": "code",
   "execution_count": 12,
   "id": "266e66f2-aff7-4b33-b705-66b0dd023764",
   "metadata": {
    "tags": []
   },
   "outputs": [
    {
     "name": "stdout",
     "output_type": "stream",
     "text": [
      "Author: Sudarshan Koirala\n",
      "\n",
      "Github username: sudarshan-koirala\n",
      "\n",
      "Last updated: Sat Mar 18 2023\n",
      "\n"
     ]
    }
   ],
   "source": [
    "%watermark -u -n -a \"Sudarshan Koirala\" -gu \"sudarshan-koirala\""
   ]
  },
  {
   "cell_type": "markdown",
   "id": "3f4a7103-b2d1-4148-98c6-86d5973686cc",
   "metadata": {
    "tags": []
   },
   "source": [
    "### Python version information"
   ]
  },
  {
   "cell_type": "code",
   "execution_count": 13,
   "id": "bd24242f-dd16-40f4-a95a-57686b1331fe",
   "metadata": {
    "tags": []
   },
   "outputs": [
    {
     "name": "stdout",
     "output_type": "stream",
     "text": [
      "Python implementation: CPython\n",
      "Python version       : 3.10.4\n",
      "IPython version      : 8.11.0\n",
      "\n"
     ]
    }
   ],
   "source": [
    "%watermark -v"
   ]
  },
  {
   "cell_type": "markdown",
   "id": "824ba7dc-7b8a-44d2-9435-eab32dd95fec",
   "metadata": {
    "tags": []
   },
   "source": [
    "### Machine only information"
   ]
  },
  {
   "cell_type": "code",
   "execution_count": 14,
   "id": "ec396352-95e9-440c-a62c-bfd7bf0dedbf",
   "metadata": {
    "tags": []
   },
   "outputs": [
    {
     "name": "stdout",
     "output_type": "stream",
     "text": [
      "Compiler    : GCC 9.4.0\n",
      "OS          : Linux\n",
      "Release     : 5.4.0-1104-azure\n",
      "Machine     : x86_64\n",
      "Processor   : x86_64\n",
      "CPU cores   : 2\n",
      "Architecture: 64bit\n",
      "\n"
     ]
    }
   ],
   "source": [
    "%watermark -m "
   ]
  },
  {
   "cell_type": "markdown",
   "id": "6577bdac-26db-482d-b2f0-85e60c18406e",
   "metadata": {
    "tags": []
   },
   "source": [
    "## What I preferred"
   ]
  },
  {
   "cell_type": "code",
   "execution_count": 15,
   "id": "e4b692eb-bfcc-4cbd-b05c-92cb950b53c9",
   "metadata": {
    "tags": []
   },
   "outputs": [
    {
     "name": "stdout",
     "output_type": "stream",
     "text": [
      "Author: Sudarshan Koirala\n",
      "\n",
      "Last updated: 2023-03-18\n",
      "\n",
      "Python implementation: CPython\n",
      "Python version       : 3.10.4\n",
      "IPython version      : 8.11.0\n",
      "\n",
      "Compiler    : GCC 9.4.0\n",
      "OS          : Linux\n",
      "Release     : 5.4.0-1104-azure\n",
      "Machine     : x86_64\n",
      "Processor   : x86_64\n",
      "CPU cores   : 2\n",
      "Architecture: 64bit\n",
      "\n"
     ]
    }
   ],
   "source": [
    "%watermark -a \"Sudarshan Koirala\" -udvm"
   ]
  },
  {
   "cell_type": "markdown",
   "id": "a3ebe64e-9229-49fe-9f31-261099f94499",
   "metadata": {
    "tags": []
   },
   "source": [
    "## Imported modules information (versions)"
   ]
  },
  {
   "cell_type": "code",
   "execution_count": 16,
   "id": "05fb5532-1bd4-4cc1-b3c7-1be13eebdf48",
   "metadata": {
    "tags": []
   },
   "outputs": [],
   "source": [
    "import numpy as np\n",
    "import pandas as pd\n",
    "from sklearn import metrics\n",
    "import matplotlib.pyplot as plt"
   ]
  },
  {
   "cell_type": "markdown",
   "id": "cb0f985f-cb85-4b66-a048-3e13c1ea25a3",
   "metadata": {
    "tags": []
   },
   "source": [
    "### How I see many people use it"
   ]
  },
  {
   "cell_type": "code",
   "execution_count": 17,
   "id": "582a8008-9c11-48cf-b1d0-131e8d11d7b5",
   "metadata": {
    "tags": []
   },
   "outputs": [
    {
     "name": "stdout",
     "output_type": "stream",
     "text": [
      "numpy 1.23.5\n",
      "pandas 1.23.5\n",
      "sklearn 1.23.5\n",
      "matplotlib 1.23.5\n"
     ]
    }
   ],
   "source": [
    "print('numpy', np.__version__)\n",
    "print('pandas', np.__version__)\n",
    "print('sklearn', np.__version__)\n",
    "print('matplotlib', np.__version__)"
   ]
  },
  {
   "cell_type": "markdown",
   "id": "0ac57eb0-9bff-4801-b887-5cadf93cd613",
   "metadata": {
    "tags": []
   },
   "source": [
    "### One liner"
   ]
  },
  {
   "cell_type": "code",
   "execution_count": 18,
   "id": "b41be57b-6a8c-4844-99de-f17c2f4e5d6e",
   "metadata": {
    "tags": []
   },
   "outputs": [
    {
     "name": "stdout",
     "output_type": "stream",
     "text": [
      "numpy     : 1.23.5\n",
      "matplotlib: 3.7.0\n",
      "pandas    : 1.5.3\n",
      "sklearn   : 1.2.1\n",
      "\n"
     ]
    }
   ],
   "source": [
    "%watermark -iv"
   ]
  },
  {
   "cell_type": "code",
   "execution_count": 20,
   "id": "de5e839e-e904-4aeb-b865-a08163c4ea1f",
   "metadata": {},
   "outputs": [
    {
     "name": "stdout",
     "output_type": "stream",
     "text": [
      "Python implementation: CPython\n",
      "Python version       : 3.10.4\n",
      "IPython version      : 8.11.0\n",
      "\n",
      "numpy: 1.23.5\n",
      "scipy: 1.9.3\n",
      "\n",
      "Compiler    : GCC 9.4.0\n",
      "OS          : Linux\n",
      "Release     : 5.4.0-1104-azure\n",
      "Machine     : x86_64\n",
      "Processor   : x86_64\n",
      "CPU cores   : 2\n",
      "Architecture: 64bit\n",
      "\n"
     ]
    }
   ],
   "source": [
    "%watermark -v -m -p numpy,scipy"
   ]
  },
  {
   "cell_type": "markdown",
   "id": "651ca903-921f-4aaf-8b2c-d6db834371a4",
   "metadata": {
    "tags": []
   },
   "source": [
    "## Without the magic command"
   ]
  },
  {
   "cell_type": "code",
   "execution_count": 1,
   "id": "82c9abaf-ba4c-4264-bdfa-011b15a1901a",
   "metadata": {
    "tags": []
   },
   "outputs": [
    {
     "name": "stderr",
     "output_type": "stream",
     "text": [
      "UsageError: Line magic function `%watermark` not found.\n"
     ]
    }
   ],
   "source": [
    "%watermark -iv "
   ]
  },
  {
   "cell_type": "code",
   "execution_count": 2,
   "id": "b0d21cf6-6a7b-4345-9283-01fe19d96c03",
   "metadata": {
    "tags": []
   },
   "outputs": [
    {
     "data": {
      "text/plain": [
       "'pandas: 1.5.3\\nnumpy : 1.23.5\\n'"
      ]
     },
     "execution_count": 2,
     "metadata": {},
     "output_type": "execute_result"
    }
   ],
   "source": [
    "import numpy as np\n",
    "import pandas as pd\n",
    "import watermark.watermark as watermark\n",
    "\n",
    "\n",
    "watermark(iversions=True, globals_=globals())"
   ]
  },
  {
   "cell_type": "code",
   "execution_count": null,
   "id": "b52dda6e-65af-4854-90c3-ef392d9ef24d",
   "metadata": {},
   "outputs": [],
   "source": []
  }
 ],
 "metadata": {
  "kernelspec": {
   "display_name": "Python 3 (ipykernel)",
   "language": "python",
   "name": "python3"
  },
  "language_info": {
   "codemirror_mode": {
    "name": "ipython",
    "version": 3
   },
   "file_extension": ".py",
   "mimetype": "text/x-python",
   "name": "python",
   "nbconvert_exporter": "python",
   "pygments_lexer": "ipython3",
   "version": "3.10.4"
  }
 },
 "nbformat": 4,
 "nbformat_minor": 5
}
