{
  "cells": [
    {
      "cell_type": "markdown",
      "metadata": {
        "id": "view-in-github",
        "colab_type": "text"
      },
      "source": [
        "<a href=\"https://colab.research.google.com/github/sudarshan-koirala/youtube-stuffs/blob/main/llamaindex/llamaindex_openai_assistant_agent.ipynb\" target=\"_parent\"><img src=\"https://colab.research.google.com/assets/colab-badge.svg\" alt=\"Open In Colab\"/></a>"
      ]
    },
    {
      "cell_type": "markdown",
      "id": "99cea58c-48bc-4af6-8358-df9695659983",
      "metadata": {
        "id": "99cea58c-48bc-4af6-8358-df9695659983"
      },
      "source": [
        "# OpenAI Assistant Agent\n",
        "\n",
        "This shows you how to use our agent abstractions built on top of the [OpenAI Assistant API](https://platform.openai.com/docs/assistants/overview).\n"
      ]
    },
    {
      "cell_type": "code",
      "execution_count": 1,
      "id": "c61c873d",
      "metadata": {
        "id": "c61c873d"
      },
      "outputs": [],
      "source": [
        "%%capture\n",
        "!pip install llama-index watermark openai"
      ]
    },
    {
      "cell_type": "code",
      "source": [
        "%load_ext watermark\n",
        "%watermark -a \"Sudarshan Koirala\" -vmp llama_index,openai"
      ],
      "metadata": {
        "colab": {
          "base_uri": "https://localhost:8080/"
        },
        "id": "kScPwj5OGl4w",
        "outputId": "6dc0ed75-0ce7-4ecb-c66c-5991b0d303e5"
      },
      "id": "kScPwj5OGl4w",
      "execution_count": 6,
      "outputs": [
        {
          "output_type": "stream",
          "name": "stdout",
          "text": [
            "Author: Sudarshan Koirala\n",
            "\n",
            "Python implementation: CPython\n",
            "Python version       : 3.10.12\n",
            "IPython version      : 7.34.0\n",
            "\n",
            "llama_index: 0.8.64.post1\n",
            "openai     : 1.1.1\n",
            "\n",
            "Compiler    : GCC 11.4.0\n",
            "OS          : Linux\n",
            "Release     : 5.15.120+\n",
            "Machine     : x86_64\n",
            "Processor   : x86_64\n",
            "CPU cores   : 2\n",
            "Architecture: 64bit\n",
            "\n"
          ]
        }
      ]
    },
    {
      "cell_type": "code",
      "source": [
        "# get your openai api key from https://platform.openai.com/account/api-keys 🔑\n",
        "import openai\n",
        "import os\n",
        "from getpass import getpass\n",
        "\n",
        "OPENAI_API_KEY = getpass()\n",
        "os.environ[\"OPENAI_API_KEY\"] = OPENAI_API_KEY"
      ],
      "metadata": {
        "colab": {
          "base_uri": "https://localhost:8080/"
        },
        "id": "ze_4jAaRG16l",
        "outputId": "49b964e1-303c-49ce-adc4-222b278f7c2c"
      },
      "id": "ze_4jAaRG16l",
      "execution_count": 7,
      "outputs": [
        {
          "name": "stdout",
          "output_type": "stream",
          "text": [
            "··········\n"
          ]
        }
      ]
    },
    {
      "cell_type": "markdown",
      "id": "54b7bc2e-606f-411a-9490-fcfab9236dfc",
      "metadata": {
        "id": "54b7bc2e-606f-411a-9490-fcfab9236dfc"
      },
      "source": [
        "## Simple Agent (no external tools)\n",
        "\n",
        "Here we show a simple example with the built-in code interpreter."
      ]
    },
    {
      "cell_type": "code",
      "execution_count": 8,
      "id": "7f856af7-2f11-446a-9aef-21d68ddf2695",
      "metadata": {
        "id": "7f856af7-2f11-446a-9aef-21d68ddf2695"
      },
      "outputs": [],
      "source": [
        "from llama_index.agent import OpenAIAssistantAgent"
      ]
    },
    {
      "cell_type": "code",
      "source": [
        "OpenAIAssistantAgent??"
      ],
      "metadata": {
        "id": "8eR3v_tLLgtw"
      },
      "id": "8eR3v_tLLgtw",
      "execution_count": 42,
      "outputs": []
    },
    {
      "cell_type": "code",
      "execution_count": 10,
      "id": "82b6fe26-0bdd-44ab-a887-9525dbc85f00",
      "metadata": {
        "id": "82b6fe26-0bdd-44ab-a887-9525dbc85f00"
      },
      "outputs": [],
      "source": [
        "agent = OpenAIAssistantAgent.from_new(\n",
        "    name=\"Math Tutor\",\n",
        "    instructions=\"You are a personal math tutor. Write and run code to answer math questions.\",\n",
        "    openai_tools=[{\"type\": \"code_interpreter\"}],\n",
        "    instructions_prefix=\"Please address the user as Sudarshan Koirala.\",\n",
        ")"
      ]
    },
    {
      "cell_type": "code",
      "execution_count": 11,
      "id": "40da2dd6-0872-4179-bbc1-33dfbb6c2b46",
      "metadata": {
        "id": "40da2dd6-0872-4179-bbc1-33dfbb6c2b46",
        "outputId": "28610e33-4cf7-49ef-c743-d1383b6a5728",
        "colab": {
          "base_uri": "https://localhost:8080/",
          "height": 35
        }
      },
      "outputs": [
        {
          "output_type": "execute_result",
          "data": {
            "text/plain": [
              "'thread_ijDl6GDDjNhAcOWgDFRJpr64'"
            ],
            "application/vnd.google.colaboratory.intrinsic+json": {
              "type": "string"
            }
          },
          "metadata": {},
          "execution_count": 11
        }
      ],
      "source": [
        "agent.thread_id"
      ]
    },
    {
      "cell_type": "code",
      "execution_count": 12,
      "id": "9f0433d6-d662-4d9c-a087-d2052269c4e9",
      "metadata": {
        "id": "9f0433d6-d662-4d9c-a087-d2052269c4e9"
      },
      "outputs": [],
      "source": [
        "response = agent.chat(\n",
        "    \"I need to solve the equation `3x + 11 = 14`. Can you help me?\"\n",
        ")"
      ]
    },
    {
      "cell_type": "code",
      "execution_count": 13,
      "id": "1bfaa306-245a-43e3-bcd4-f5ad8611aa70",
      "metadata": {
        "id": "1bfaa306-245a-43e3-bcd4-f5ad8611aa70",
        "outputId": "de77ff87-5b6d-4d76-9198-db3a81711f9c",
        "colab": {
          "base_uri": "https://localhost:8080/"
        }
      },
      "outputs": [
        {
          "output_type": "stream",
          "name": "stdout",
          "text": [
            "To solve the equation \\(3x + 11 = 14\\), we can isolate \\(x\\) as follows:\n",
            "\n",
            "Subtract \\(11\\) from both sides of the equation to get:\n",
            "\\[3x = 14 - 11\\]\n",
            "\n",
            "Now, we have:\n",
            "\\[3x = 3\\]\n",
            "\n",
            "Next, divide both sides by \\(3\\) to solve for \\(x\\):\n",
            "\\[x = \\frac{3}{3} = 1\\]\n",
            "\n",
            "Therefore, the solution to the equation \\(3x + 11 = 14\\) is \\(x = 1\\).\n"
          ]
        }
      ],
      "source": [
        "print(str(response))"
      ]
    },
    {
      "cell_type": "markdown",
      "id": "b4b8a07e-b18d-4ab2-be61-9f5b835aface",
      "metadata": {
        "id": "b4b8a07e-b18d-4ab2-be61-9f5b835aface"
      },
      "source": [
        "## Assistant with Query Engine Tools\n",
        "\n",
        "Here we showcase the function calling capabilities of the OpenAIAssistantAgent by integrating it with our query engine tools over different documents."
      ]
    },
    {
      "cell_type": "markdown",
      "id": "62c55f5f-fc22-4e85-b539-fbbe1fd93ac2",
      "metadata": {
        "id": "62c55f5f-fc22-4e85-b539-fbbe1fd93ac2"
      },
      "source": [
        "### 1. Setup: Load Data"
      ]
    },
    {
      "cell_type": "code",
      "execution_count": 15,
      "id": "355abef5-85c2-4a2c-8b6f-3a6c2d520807",
      "metadata": {
        "id": "355abef5-85c2-4a2c-8b6f-3a6c2d520807"
      },
      "outputs": [],
      "source": [
        "from llama_index.agent import OpenAIAssistantAgent\n",
        "from llama_index import (\n",
        "    SimpleDirectoryReader,\n",
        "    VectorStoreIndex,\n",
        "    StorageContext,\n",
        "    load_index_from_storage,\n",
        ")\n",
        "\n",
        "from llama_index.tools import QueryEngineTool, ToolMetadata"
      ]
    },
    {
      "cell_type": "code",
      "execution_count": 16,
      "id": "e6d02c34-d5d6-4318-824f-1ae20fc5d286",
      "metadata": {
        "id": "e6d02c34-d5d6-4318-824f-1ae20fc5d286"
      },
      "outputs": [],
      "source": [
        "try:\n",
        "    storage_context = StorageContext.from_defaults(\n",
        "        persist_dir=\"./storage/lyft\"\n",
        "    )\n",
        "    lyft_index = load_index_from_storage(storage_context)\n",
        "\n",
        "    storage_context = StorageContext.from_defaults(\n",
        "        persist_dir=\"./storage/uber\"\n",
        "    )\n",
        "    uber_index = load_index_from_storage(storage_context)\n",
        "\n",
        "    index_loaded = True\n",
        "except:\n",
        "    index_loaded = False"
      ]
    },
    {
      "cell_type": "code",
      "execution_count": 17,
      "id": "b43c5eb8-a98b-4f17-877b-f66b7d8715ce",
      "metadata": {
        "id": "b43c5eb8-a98b-4f17-877b-f66b7d8715ce",
        "outputId": "bdd5d548-8b7a-4500-c291-147e71035800",
        "colab": {
          "base_uri": "https://localhost:8080/"
        }
      },
      "outputs": [
        {
          "output_type": "stream",
          "name": "stdout",
          "text": [
            "--2023-11-07 18:50:33--  https://raw.githubusercontent.com/run-llama/llama_index/main/docs/examples/data/10k/uber_2021.pdf\n",
            "Resolving raw.githubusercontent.com (raw.githubusercontent.com)... 185.199.108.133, 185.199.109.133, 185.199.110.133, ...\n",
            "Connecting to raw.githubusercontent.com (raw.githubusercontent.com)|185.199.108.133|:443... connected.\n",
            "HTTP request sent, awaiting response... 200 OK\n",
            "Length: 1880483 (1.8M) [application/octet-stream]\n",
            "Saving to: ‘data/10k/uber_2021.pdf’\n",
            "\n",
            "data/10k/uber_2021. 100%[===================>]   1.79M  --.-KB/s    in 0.09s   \n",
            "\n",
            "2023-11-07 18:50:33 (20.9 MB/s) - ‘data/10k/uber_2021.pdf’ saved [1880483/1880483]\n",
            "\n",
            "--2023-11-07 18:50:34--  https://raw.githubusercontent.com/run-llama/llama_index/main/docs/examples/data/10k/lyft_2021.pdf\n",
            "Resolving raw.githubusercontent.com (raw.githubusercontent.com)... 185.199.110.133, 185.199.111.133, 185.199.108.133, ...\n",
            "Connecting to raw.githubusercontent.com (raw.githubusercontent.com)|185.199.110.133|:443... connected.\n",
            "HTTP request sent, awaiting response... 200 OK\n",
            "Length: 1440303 (1.4M) [application/octet-stream]\n",
            "Saving to: ‘data/10k/lyft_2021.pdf’\n",
            "\n",
            "data/10k/lyft_2021. 100%[===================>]   1.37M  --.-KB/s    in 0.08s   \n",
            "\n",
            "2023-11-07 18:50:34 (16.7 MB/s) - ‘data/10k/lyft_2021.pdf’ saved [1440303/1440303]\n",
            "\n"
          ]
        }
      ],
      "source": [
        "!mkdir -p 'data/10k/'\n",
        "!wget 'https://raw.githubusercontent.com/run-llama/llama_index/main/docs/examples/data/10k/uber_2021.pdf' -O 'data/10k/uber_2021.pdf'\n",
        "!wget 'https://raw.githubusercontent.com/run-llama/llama_index/main/docs/examples/data/10k/lyft_2021.pdf' -O 'data/10k/lyft_2021.pdf'"
      ]
    },
    {
      "cell_type": "code",
      "source": [
        "%%capture\n",
        "!pip install pypdf"
      ],
      "metadata": {
        "id": "n_U493M5IBle"
      },
      "id": "n_U493M5IBle",
      "execution_count": 19,
      "outputs": []
    },
    {
      "cell_type": "code",
      "execution_count": 20,
      "id": "3d79f4f2-bc1d-4aff-b51e-0f05e4de2aac",
      "metadata": {
        "id": "3d79f4f2-bc1d-4aff-b51e-0f05e4de2aac"
      },
      "outputs": [],
      "source": [
        "if not index_loaded:\n",
        "    # load data\n",
        "    lyft_docs = SimpleDirectoryReader(\n",
        "        input_files=[\"./data/10k/lyft_2021.pdf\"]\n",
        "    ).load_data()\n",
        "\n",
        "    uber_docs = SimpleDirectoryReader(\n",
        "        input_files=[\"./data/10k/uber_2021.pdf\"]\n",
        "    ).load_data()\n",
        "\n",
        "    # build index\n",
        "    lyft_index = VectorStoreIndex.from_documents(lyft_docs)\n",
        "    uber_index = VectorStoreIndex.from_documents(uber_docs)\n",
        "\n",
        "    # persist index\n",
        "    lyft_index.storage_context.persist(persist_dir=\"./storage/lyft\")\n",
        "    uber_index.storage_context.persist(persist_dir=\"./storage/uber\")"
      ]
    },
    {
      "cell_type": "code",
      "source": [],
      "metadata": {
        "id": "Ea0MpYFUIevj"
      },
      "id": "Ea0MpYFUIevj",
      "execution_count": null,
      "outputs": []
    },
    {
      "cell_type": "code",
      "source": [],
      "metadata": {
        "id": "4F5TeAmBI8RJ"
      },
      "id": "4F5TeAmBI8RJ",
      "execution_count": null,
      "outputs": []
    },
    {
      "cell_type": "markdown",
      "source": [
        "### 2. Create Engine"
      ],
      "metadata": {
        "id": "VkZLpiBEI8zr"
      },
      "id": "VkZLpiBEI8zr"
    },
    {
      "cell_type": "code",
      "execution_count": 21,
      "id": "1df845e8-8932-4a51-ad0a-db0e6533fdc9",
      "metadata": {
        "id": "1df845e8-8932-4a51-ad0a-db0e6533fdc9"
      },
      "outputs": [],
      "source": [
        "lyft_engine = lyft_index.as_query_engine(similarity_top_k=3)\n",
        "uber_engine = uber_index.as_query_engine(similarity_top_k=3)"
      ]
    },
    {
      "cell_type": "code",
      "source": [
        "lyft_engine"
      ],
      "metadata": {
        "colab": {
          "base_uri": "https://localhost:8080/"
        },
        "id": "4BMMqgtDIipM",
        "outputId": "67db712e-3599-4ece-861f-177748b80bd5"
      },
      "id": "4BMMqgtDIipM",
      "execution_count": 22,
      "outputs": [
        {
          "output_type": "execute_result",
          "data": {
            "text/plain": [
              "<llama_index.query_engine.retriever_query_engine.RetrieverQueryEngine at 0x7b63f7a3eec0>"
            ]
          },
          "metadata": {},
          "execution_count": 22
        }
      ]
    },
    {
      "cell_type": "code",
      "source": [
        "uber_engine"
      ],
      "metadata": {
        "colab": {
          "base_uri": "https://localhost:8080/"
        },
        "id": "ky4Cs08UIlzV",
        "outputId": "e7e766b7-eb64-4e35-e415-4ec622636f0e"
      },
      "id": "ky4Cs08UIlzV",
      "execution_count": 23,
      "outputs": [
        {
          "output_type": "execute_result",
          "data": {
            "text/plain": [
              "<llama_index.query_engine.retriever_query_engine.RetrieverQueryEngine at 0x7b63f7a3e8f0>"
            ]
          },
          "metadata": {},
          "execution_count": 23
        }
      ]
    },
    {
      "cell_type": "code",
      "execution_count": 24,
      "id": "69ed3f3b-cf01-4958-ba53-e5448e487c1e",
      "metadata": {
        "id": "69ed3f3b-cf01-4958-ba53-e5448e487c1e"
      },
      "outputs": [],
      "source": [
        "query_engine_tools = [\n",
        "    QueryEngineTool(\n",
        "        query_engine=lyft_engine,\n",
        "        metadata=ToolMetadata(\n",
        "            name=\"lyft_10k\",\n",
        "            description=(\n",
        "                \"Provides information about Lyft financials for year 2021. \"\n",
        "                \"Use a detailed plain text question as input to the tool.\"\n",
        "            ),\n",
        "        ),\n",
        "    ),\n",
        "    QueryEngineTool(\n",
        "        query_engine=uber_engine,\n",
        "        metadata=ToolMetadata(\n",
        "            name=\"uber_10k\",\n",
        "            description=(\n",
        "                \"Provides information about Uber financials for year 2021. \"\n",
        "                \"Use a detailed plain text question as input to the tool.\"\n",
        "            ),\n",
        "        ),\n",
        "    ),\n",
        "]"
      ]
    },
    {
      "cell_type": "markdown",
      "id": "fcd18ac7-5b5b-4093-8882-30ab93fa9d16",
      "metadata": {
        "id": "fcd18ac7-5b5b-4093-8882-30ab93fa9d16"
      },
      "source": [
        "### 3. Now the query engine tools is being created, let's try it out with this tools."
      ]
    },
    {
      "cell_type": "code",
      "execution_count": 34,
      "id": "e76a5a96-c299-4565-bc1a-8b4f4ca4b455",
      "metadata": {
        "id": "e76a5a96-c299-4565-bc1a-8b4f4ca4b455"
      },
      "outputs": [],
      "source": [
        "agent = OpenAIAssistantAgent.from_new(\n",
        "    name=\"SEC Analyst\",\n",
        "    instructions=\"You are a QA assistant designed to analyze sec filings.\",\n",
        "    tools=query_engine_tools,\n",
        "    instructions_prefix=\"Please address the user as Sudarshan.\",\n",
        "    verbose=True,\n",
        "    run_retrieve_sleep_time=1.0,\n",
        ")"
      ]
    },
    {
      "cell_type": "code",
      "execution_count": 35,
      "id": "8b30b508-3f2e-47e6-b79c-57333fe37e88",
      "metadata": {
        "id": "8b30b508-3f2e-47e6-b79c-57333fe37e88",
        "outputId": "70f525a1-3f0c-4da8-ef34-409ff8134cc3",
        "colab": {
          "base_uri": "https://localhost:8080/"
        }
      },
      "outputs": [
        {
          "output_type": "stream",
          "name": "stdout",
          "text": [
            "=== Calling Function ===\n",
            "Calling function: lyft_10k with args: {\"input\":\"What was Lyft's revenue growth in 2021?\"}\n",
            "Got output: Lyft's revenue growth in 2021 was 36%.\n",
            "========================\n"
          ]
        }
      ],
      "source": [
        "response = agent.chat(\"What was Lyft's revenue growth in 2021?\")"
      ]
    },
    {
      "cell_type": "code",
      "source": [
        "response.response"
      ],
      "metadata": {
        "colab": {
          "base_uri": "https://localhost:8080/",
          "height": 35
        },
        "id": "fHIO4xWRK8Bt",
        "outputId": "240dfe0a-f9c6-4966-f578-769b486ee404"
      },
      "id": "fHIO4xWRK8Bt",
      "execution_count": 38,
      "outputs": [
        {
          "output_type": "execute_result",
          "data": {
            "text/plain": [
              "\"Lyft's revenue growth in 2021 was 36%.\""
            ],
            "application/vnd.google.colaboratory.intrinsic+json": {
              "type": "string"
            }
          },
          "metadata": {},
          "execution_count": 38
        }
      ]
    },
    {
      "cell_type": "code",
      "source": [
        "response.source_nodes"
      ],
      "metadata": {
        "colab": {
          "base_uri": "https://localhost:8080/"
        },
        "id": "rvFXWuSxJL7P",
        "outputId": "85a7a4c4-e00b-41b7-bf3c-a40fa8265cbb"
      },
      "id": "rvFXWuSxJL7P",
      "execution_count": 36,
      "outputs": [
        {
          "output_type": "execute_result",
          "data": {
            "text/plain": [
              "[NodeWithScore(node=TextNode(id_='811b322d-e86f-4986-a1b5-01615cf4190d', embedding=None, metadata={'page_label': '57', 'file_name': 'lyft_2021.pdf', 'file_path': 'data/10k/lyft_2021.pdf', 'creation_date': '2023-11-07', 'last_modified_date': '2023-11-07', 'last_accessed_date': '2023-11-07'}, excluded_embed_metadata_keys=['creation_date', 'last_modified_date', 'last_accessed_date'], excluded_llm_metadata_keys=['creation_date', 'last_modified_date', 'last_accessed_date'], relationships={<NodeRelationship.SOURCE: '1'>: RelatedNodeInfo(node_id='ead7931d-bf6d-4997-978a-80763f96e92a', node_type=<ObjectType.DOCUMENT: '4'>, metadata={'page_label': '57', 'file_name': 'lyft_2021.pdf', 'file_path': 'data/10k/lyft_2021.pdf', 'creation_date': '2023-11-07', 'last_modified_date': '2023-11-07', 'last_accessed_date': '2023-11-07'}, hash='34f0436addaa20dc5e1bc13b9bc29cbe3f7256873b155653b81ce65b2260c200'), <NodeRelationship.NEXT: '3'>: RelatedNodeInfo(node_id='8e3f8140-7afa-455f-80f8-fdd829256cfa', node_type=<ObjectType.TEXT: '1'>, metadata={'page_label': '57', 'file_name': 'lyft_2021.pdf', 'file_path': 'data/10k/lyft_2021.pdf', 'creation_date': '2023-11-07', 'last_modified_date': '2023-11-07', 'last_accessed_date': '2023-11-07'}, hash='b1a0d7ad06036dcb94d4e8346d38e7de51a0d64e1e35eb2249ee4059dd4c9cad')}, hash='55bd8bb14573ac72db4babe5b96989b557c08cdfa484a325ace683e15d5ea3a7', text='We have strengthened our business over the last year and we are confident in our ability to continue to navigate this challenging period. In 2021, we saw continuedrecovery\\n as vaccines were more widely distributed and more communities fully reopened, which resulted in revenue increasing 36% in 2021 compared to the prior year,and\\n the number of Active Riders increasing 49.2% in the fourth quarter of 2021 compared to the fourth quarter of 2020. Net loss decreased $743.5 million, or 42%, from$1.8\\n billion in 2020 to $1.0 billion in 2021, which included a benefit from a pre-tax gain of $119.3 million from the transaction with Woven Planet. Adjusted EBITDA in2021\\n was  $92.9  million,  marking  our  first  annual  Adjusted  EBITDA  profitability.  We  remain  focused  on  our  long-term  growth  opportunities.  With  $2.3  billion  inunrestricted\\n cash and cash equivalents and short-term investments as of December 31, 2021, we believe we have sufficient liquidity to continue business operations and totake\\n action we determine to be in the best interests of our employees, stockholders, stakeholders and of drivers and riders on the Lyft Platform. For more information onrisks associated with the COVID-19 pandem\\nic, see the section titled “Risk Factors” in Item 1A of Part I.Recent Developments\\nTransaction with Woven Planet Holdings, Inc. \\n(“Woven Planet”)On\\n July 13, 2021, we completed a multi-element transaction with Woven Planet, a subsidiary of Toyota Motor Corporation, for the divestiture of certain assetsrelated\\n to  our  self-driving  vehicle  division,  Level  5,  as  well  as  commercial  agreements  for  the  utilization  of  Lyft  rideshare  and  fleet  data  to  accelerate  the  safety  andcommercialization of\\n the automated-driving vehicles that Woven Planet is developing. We will receive, in total, approximately $515 million in cash in connection with thistransaction, with $165 mill\\nion paid upfront and $350 million to be paid over a five-year period.The\\n divestiture did not represent a strategic shift with a major effect on our operations and financial results, and therefore does not qualify for reporting as adiscontinued\\n operation. We recognized a pre-tax gain of $119.3 million as a result of our transaction with Woven Planet, which was included in other income, net on theconsolidated\\n statement of operations for the quarter ended September 30, 2021. Refer to Note 4 \"Divestitures\" to the consolidated financial statements for informationregarding the divestitu\\nre of certain assets related to our self-driving vehicles division, Level 5.Reinsurance of Certain Legacy Auto Liabil\\nity InsuranceOn\\n April 22, 2021, our wholly-owned subsidiary, Pacific Valley Insurance Company, Inc. (“PVIC”), entered into a Quota Share Reinsurance Agreement (the“Reinsurance\\n Agreement”) with DARAG Bermuda LTD (“DARAG”), under which DARAG reinsured a legacy portfolio of auto insurance policies, based on reserves inplace\\n as of March 31, 2021, for $183.2 million of coverage above the liabilities recorded as of that date. Under the terms of the Reinsurance Agreement, PVIC ceded toDARAG\\n approximately $251.3 million of certain legacy insurance liabilities for policies underwritten during the period of October 1, 2018 to October 1, 2020, with anaggregate\\n limit of $434.5 million, for a premium of $271.5 million (“the Reinsurance Transaction”). The Reinsurance Agreement arrangement does not discharge PVIC ofits\\n obligations to the policyholder. A loss of approximately $20.4 million for the net cost of the Reinsurance Transaction was recognized on the consolidated statement ofoperations for the nine mon\\nths ended September 30, 2021, with $20.2 million in cost of revenue and $0.2 million in general and administrative expenses.Active Riders and Revenue per Active Rider\\nThe\\n COVID-19  pandemic  caused  a  significant  decrease  in  Active  Riders  and  in  revenue  per  Active  Rider  beginning  March  2020.', start_char_idx=None, end_char_idx=None, text_template='{metadata_str}\\n\\n{content}', metadata_template='{key}: {value}', metadata_seperator='\\n'), score=0.8444471544751362),\n",
              " NodeWithScore(node=TextNode(id_='8e3f8140-7afa-455f-80f8-fdd829256cfa', embedding=None, metadata={'page_label': '57', 'file_name': 'lyft_2021.pdf', 'file_path': 'data/10k/lyft_2021.pdf', 'creation_date': '2023-11-07', 'last_modified_date': '2023-11-07', 'last_accessed_date': '2023-11-07'}, excluded_embed_metadata_keys=['creation_date', 'last_modified_date', 'last_accessed_date'], excluded_llm_metadata_keys=['creation_date', 'last_modified_date', 'last_accessed_date'], relationships={<NodeRelationship.SOURCE: '1'>: RelatedNodeInfo(node_id='ead7931d-bf6d-4997-978a-80763f96e92a', node_type=<ObjectType.DOCUMENT: '4'>, metadata={'page_label': '57', 'file_name': 'lyft_2021.pdf', 'file_path': 'data/10k/lyft_2021.pdf', 'creation_date': '2023-11-07', 'last_modified_date': '2023-11-07', 'last_accessed_date': '2023-11-07'}, hash='34f0436addaa20dc5e1bc13b9bc29cbe3f7256873b155653b81ce65b2260c200'), <NodeRelationship.PREVIOUS: '2'>: RelatedNodeInfo(node_id='811b322d-e86f-4986-a1b5-01615cf4190d', node_type=<ObjectType.TEXT: '1'>, metadata={'page_label': '57', 'file_name': 'lyft_2021.pdf', 'file_path': 'data/10k/lyft_2021.pdf', 'creation_date': '2023-11-07', 'last_modified_date': '2023-11-07', 'last_accessed_date': '2023-11-07'}, hash='55bd8bb14573ac72db4babe5b96989b557c08cdfa484a325ace683e15d5ea3a7')}, hash='b1a0d7ad06036dcb94d4e8346d38e7de51a0d64e1e35eb2249ee4059dd4c9cad', text='Though  we  experienced  arecovery in\\n revenue per Active Rider and the number of Active Riders in 2021, the number of Active Rider levels have not reached levels we experienced prior to the onsetof\\n the pandemic in March 2020. The number of Active Riders is a key indicator of the scale of our community and awareness of our brand. Revenue per Active Riderrepresents our ability \\nto drive usage and monetization of our platform.Active Riders\\n2021\\n2020 2019 2020 to 2021 %Change\\n2019 to 2020 %Change\\n(in thousands, except for dollar amounts and percentages)\\nThree Months Ended March 31\\n13,494 21,211 20,503 (36.4)% 3.5% Three Months Ended June 30\\n17,142 8,688 21,807 97.3% (60.2)% Three Months Ended September 30\\n18,942 12,513 22,314 51.4% (43.9)% Three Months Ended December 31\\n18,728 12,552 22,905 49.2% (45.2)% 57', start_char_idx=None, end_char_idx=None, text_template='{metadata_str}\\n\\n{content}', metadata_template='{key}: {value}', metadata_seperator='\\n'), score=0.8387016220832686),\n",
              " NodeWithScore(node=TextNode(id_='115c823e-c7c7-4742-b4bc-b3e6cfbc4105', embedding=None, metadata={'page_label': '64', 'file_name': 'lyft_2021.pdf', 'file_path': 'data/10k/lyft_2021.pdf', 'creation_date': '2023-11-07', 'last_modified_date': '2023-11-07', 'last_accessed_date': '2023-11-07'}, excluded_embed_metadata_keys=['creation_date', 'last_modified_date', 'last_accessed_date'], excluded_llm_metadata_keys=['creation_date', 'last_modified_date', 'last_accessed_date'], relationships={<NodeRelationship.SOURCE: '1'>: RelatedNodeInfo(node_id='685063a8-7d50-48e9-ac7f-e7aaa13f05ee', node_type=<ObjectType.DOCUMENT: '4'>, metadata={'page_label': '64', 'file_name': 'lyft_2021.pdf', 'file_path': 'data/10k/lyft_2021.pdf', 'creation_date': '2023-11-07', 'last_modified_date': '2023-11-07', 'last_accessed_date': '2023-11-07'}, hash='c7b885cbbe5a7f8eb84df516a9021032137049f8a0d7c46d6702c095017c72a9')}, hash='94b6573c389a643a4341f45188fb75591fa976808fccd685bed96d40ae86f91c', text='second quarter of 2021. These increases were offset by investments in driver supply by increasing driver incentives recorded as a reduction to revenue by $942.9 million in2021 as compared to the prior y\\near as rider demand outpaced driver supply during certain periods of the pandemic recovery in 2021. Revenue in 2020 was also higher in thefirst quarter of 2020 prio\\nr to the implementation of shelter-in-place orders and other travel restrictions across North America beginning March 2020.We\\n expect to see continued recovery in demand for our platform and the resulting positive impacts on revenue as there are more widespread immunity levels,more\\n communities  reopen  and  other  restrictive  travel  and  social  distancing  measures  in  response  to  COVID-19  are  eased. However,  we  cannot  predict  the  impact  ofCOVID variants and the longer term \\nimpact of the pandemic on consumer behavior.Cost of Revenue\\nYear Ended December 31,\\n2020 to 2021 %Change\\n2019 to 2020 %Change\\n2021 2020 2019 (in thousands, except for percentages)\\nCost of revenue\\n$ 1,649,532 $ 1,447,516 $ 2,176,469 14 %(33) %Cost\\n of revenue increased $202.0 million, or 14%, in 2021 as compared to the prior year. The increase was due primarily to an increase of $160.6 million ininsurance costs driven by inc\\nreased rider demand. Insurance costs were also impacted by (i) an increase of $46.2 million attributable to changes in estimates to the liabilitiesfor\\n insurance required by regulatory agencies, (ii) a $20.2 million increase in transaction costs related to the reinsurance of certain legacy auto insurance liabilities in thesecond quarter of\\n 2021, and (iii) a $62.5 million decrease in transaction costs related to the transfer of certain legacy auto insurance liabilities from the first quarter of 2020.In\\n addition, there was an increase of $48.4 million in transaction fees and $14.9 million in bikes and scooter related costs driven by the increased ride volume as a result ofincreased\\n demand  as  recovery  from  the  pandemic  continued.  These  increases  were  partially  offset  by  a  $31.4  million  decrease  in  costs  related  to  Flexdrive  and  a$13.4 million decrease in web\\n-hosting fees to support our platform.Operations and Support\\nYear Ended December 31,\\n2020 to 2021 %Change\\n2019 to 2020 %Change\\n2021 2020 2019 (in thousands, except for percentages)\\nOperations and support\\n$ 402,233 $ 453,963 $ 636,116 (11) %(29) %Operations\\n and  support  expenses  decreased  $51.7  million,  or  11%,  in  2021  as  compared  to  the  prior  year.  The  decrease  was  primarily  due  to  a  reduction  of$18.3\\n million in driver onboarding costs and rider and driver support costs and a reduction of $14.7 million in personnel-related costs. There was also a $13.1 milliondecrease in\\n costs related to Flexdrive and a $6.5 million net decrease related to costs from the restructuring event in the second quarter of 2020, consisting of severance andbenefits costs, lease t\\nermination costs and a stock-based compensation benefit which did not recur in 2021.Research and Development\\nYear Ended December 31,\\n2020 to 2021 %Change\\n2019 to 2020 %Change\\n2021 2020 2019 (in thousands, except for percentages)\\nResearch and development\\n$ 911,946 $ 909,126 $ 1,505,640 — %(40) %Research\\n and development expenses increased $2.8 million in 2021. The slight increase was due to a $51.6 million increase in stock-based compensation and a$25.4\\n million benefit from the restructuring event in the second quarter of 2020 consisting of a stock-based compensation benefit and severance and benefits costs whichdid\\n not recur in 2021. These increases were offset by a $37.5 million decrease in personnel-related costs and a $4.6 million decrease in autonomous vehicle research costswhich were\\n64', start_char_idx=None, end_char_idx=None, text_template='{metadata_str}\\n\\n{content}', metadata_template='{key}: {value}', metadata_seperator='\\n'), score=0.8386895239065941)]"
            ]
          },
          "metadata": {},
          "execution_count": 36
        }
      ]
    },
    {
      "cell_type": "markdown",
      "id": "0783a8db-5546-472a-8376-6d2774dba45a",
      "metadata": {
        "id": "0783a8db-5546-472a-8376-6d2774dba45a"
      },
      "source": [
        "## Assistant with Built-In Retrieval\n",
        "\n",
        "Let's test the assistant by having it use the built-in OpenAI Retrieval tool over a user-uploaded file.\n",
        "\n",
        "Here, we upload and pass in the file during assistant-creation time.\n",
        "\n",
        "The other option is you can upload/pass the file-id in for a message in a given thread with `upload_files` and `add_message`. [Link](https://platform.openai.com/docs/assistants/tools/uploading-files-for-retrieval) to openai documentation."
      ]
    },
    {
      "cell_type": "code",
      "execution_count": 27,
      "id": "3ac4421f-ca9e-4d9f-91e1-10e1fb1119e7",
      "metadata": {
        "id": "3ac4421f-ca9e-4d9f-91e1-10e1fb1119e7"
      },
      "outputs": [],
      "source": [
        "from llama_index.agent import OpenAIAssistantAgent"
      ]
    },
    {
      "cell_type": "code",
      "execution_count": 28,
      "id": "304c5c23-930c-4aed-8e0b-84a6e5c36138",
      "metadata": {
        "id": "304c5c23-930c-4aed-8e0b-84a6e5c36138"
      },
      "outputs": [],
      "source": [
        "agent = OpenAIAssistantAgent.from_new(\n",
        "    name=\"SEC Analyst\",\n",
        "    instructions=\"You are a QA assistant designed to analyze sec filings.\",\n",
        "    openai_tools=[{\"type\": \"retrieval\"}],\n",
        "    instructions_prefix=\"Please address the user as Sudarshan.\",\n",
        "    files=[\"data/10k/lyft_2021.pdf\"],\n",
        "    verbose=True,\n",
        ")"
      ]
    },
    {
      "cell_type": "code",
      "execution_count": 29,
      "id": "6845f8e9-ca2c-4bd1-a31a-dc58b47c585a",
      "metadata": {
        "id": "6845f8e9-ca2c-4bd1-a31a-dc58b47c585a"
      },
      "outputs": [],
      "source": [
        "response = agent.chat(\"What was Lyft's revenue growth in 2021?\")"
      ]
    },
    {
      "cell_type": "code",
      "source": [
        "from pprint import pprint\n",
        "pprint(response.response)"
      ],
      "metadata": {
        "colab": {
          "base_uri": "https://localhost:8080/"
        },
        "id": "BxgO3ApZKP9L",
        "outputId": "bf168ccf-ec25-4a30-e81d-2a5925411d4d"
      },
      "id": "BxgO3ApZKP9L",
      "execution_count": 31,
      "outputs": [
        {
          "output_type": "stream",
          "name": "stdout",
          "text": [
            "(\"Lyft's revenue increased $843.6 million or 36% in 2021 as compared to the \"\n",
            " 'previous year. This growth was driven primarily by a significant increase in '\n",
            " 'the number of Active Riders as vaccines became more widely distributed and '\n",
            " 'communities began to reopen【7†source】.')\n"
          ]
        }
      ]
    },
    {
      "cell_type": "code",
      "source": [],
      "metadata": {
        "id": "e2gl91F0KnWx"
      },
      "id": "e2gl91F0KnWx",
      "execution_count": null,
      "outputs": []
    }
  ],
  "metadata": {
    "kernelspec": {
      "display_name": "llama_index_v2",
      "language": "python",
      "name": "llama_index_v2"
    },
    "language_info": {
      "codemirror_mode": {
        "name": "ipython",
        "version": 3
      },
      "file_extension": ".py",
      "mimetype": "text/x-python",
      "name": "python",
      "nbconvert_exporter": "python",
      "pygments_lexer": "ipython3"
    },
    "colab": {
      "provenance": [],
      "include_colab_link": true
    }
  },
  "nbformat": 4,
  "nbformat_minor": 5
}