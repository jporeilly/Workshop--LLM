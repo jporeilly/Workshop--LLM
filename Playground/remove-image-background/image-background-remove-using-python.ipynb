{
 "cells": [
  {
   "cell_type": "markdown",
   "id": "8a86e3a8-a6e3-4c44-9ff1-45c5fc876ca7",
   "metadata": {
    "tags": []
   },
   "source": [
    "# Removing background of image(s) using Python using [rembg](https://github.com/danielgatis/rembg)\n",
    "### Uses Deep Learning behind the scene\n",
    "1. Install and import package\n",
    "2. Usage as a library\n",
    "3. Usage as a CLI\n",
    "4. Create Gradio app"
   ]
  },
  {
   "cell_type": "markdown",
   "id": "03b9d2a6-ba6e-44f3-b03c-305a1630aa1e",
   "metadata": {
    "tags": []
   },
   "source": [
    "## Install python package"
   ]
  },
  {
   "cell_type": "code",
   "execution_count": null,
   "id": "c0155469-68a9-42b4-aad9-d8e4ed216b6a",
   "metadata": {
    "tags": []
   },
   "outputs": [],
   "source": [
    "!pip install rembg -q"
   ]
  },
  {
   "cell_type": "markdown",
   "id": "7df1afa7-8644-4fc1-b93b-4b23d52b3029",
   "metadata": {
    "jp-MarkdownHeadingCollapsed": true,
    "tags": []
   },
   "source": [
    "## Importing necessary libraries"
   ]
  },
  {
   "cell_type": "markdown",
   "id": "54101d3e-35fa-4b8c-8a9c-4e59575beda6",
   "metadata": {
    "tags": []
   },
   "source": [
    "#### `Rembg` uses `U-Net`. `U-Net` is a type of convolutional neural network (CNN) architecture that is commonly used for image segmentation tasks. Rembg provides a fast and easy-to-use way to remove backgrounds from images using state-of-the-art machine learning techniques.\n",
    "\n",
    "#### PIL stands for Python Imaging Library, which is a library for handling and manipulating images in Python. It provides a range of functions for opening, manipulating, and saving different types of image files, including JPEG, PNG, BMP, GIF, and TIFF."
   ]
  },
  {
   "cell_type": "code",
   "execution_count": null,
   "id": "59330571-3d01-4f41-adf9-2c6e22d1a592",
   "metadata": {
    "tags": []
   },
   "outputs": [],
   "source": [
    "from rembg import remove\n",
    "from PIL import Image"
   ]
  },
  {
   "cell_type": "code",
   "execution_count": null,
   "id": "f0945208-60f9-4550-a85f-e84cdc23d987",
   "metadata": {
    "tags": []
   },
   "outputs": [],
   "source": [
    "#remove?"
   ]
  },
  {
   "cell_type": "markdown",
   "id": "4ef13a60-5663-4307-b2d2-4e43119ecb11",
   "metadata": {
    "tags": []
   },
   "source": [
    "## Usage as a library"
   ]
  },
  {
   "cell_type": "markdown",
   "id": "d5563b5a-fb6b-4be6-bc09-afd94b6cf477",
   "metadata": {
    "jp-MarkdownHeadingCollapsed": true,
    "tags": []
   },
   "source": [
    "### Single Image"
   ]
  },
  {
   "cell_type": "code",
   "execution_count": null,
   "id": "1e09bcc7-4bf0-4cac-9b49-d5632d298e7d",
   "metadata": {
    "tags": []
   },
   "outputs": [],
   "source": [
    "from IPython.display import Image as Image_display\n",
    "Image_display('car-input.jpeg') "
   ]
  },
  {
   "cell_type": "code",
   "execution_count": null,
   "id": "24023d70-4fad-49a6-b666-e4f0d10ffadd",
   "metadata": {
    "tags": []
   },
   "outputs": [],
   "source": [
    "input_path = 'car-input.jpg'\n",
    "output_path = 'car-output.png'\n",
    "\n",
    "input = Image.open(input_path)\n",
    "output = remove(input)\n",
    "output.save(output_path)"
   ]
  },
  {
   "cell_type": "code",
   "execution_count": null,
   "id": "6ddeaeb1-afd8-4c74-b91d-839a5f333a9d",
   "metadata": {
    "tags": []
   },
   "outputs": [],
   "source": [
    "Image_display('car-output.png') "
   ]
  },
  {
   "cell_type": "markdown",
   "id": "cbbdc909-bcd5-43cb-9be2-c57b953195b9",
   "metadata": {
    "jp-MarkdownHeadingCollapsed": true,
    "tags": []
   },
   "source": [
    "### Multiple Images"
   ]
  },
  {
   "cell_type": "code",
   "execution_count": null,
   "id": "551fb6ea-07df-4390-ad0f-8d00c757e65d",
   "metadata": {
    "tags": []
   },
   "outputs": [],
   "source": [
    "import glob\n",
    "images = glob.glob('input-images/*')\n",
    "print(f'Total images: {len(images)}')"
   ]
  },
  {
   "cell_type": "code",
   "execution_count": null,
   "id": "a2943e56-0269-4167-af35-d1c122c9f542",
   "metadata": {
    "tags": []
   },
   "outputs": [],
   "source": [
    "from IPython.display import Image\n",
    "Image(images[0]) "
   ]
  },
  {
   "cell_type": "code",
   "execution_count": null,
   "id": "e9d0efae-8c74-4f94-8170-a34e2519728a",
   "metadata": {
    "tags": []
   },
   "outputs": [],
   "source": [
    "for image in images:\n",
    "    input_path = image\n",
    "    output_path = input_path.replace('input-images', 'output-images')\n",
    "\n",
    "    with open(input_path, 'rb') as i:\n",
    "        with open(output_path, 'wb') as o:\n",
    "            input = i.read()\n",
    "            output = remove(input)\n",
    "            o.write(output) "
   ]
  },
  {
   "cell_type": "code",
   "execution_count": null,
   "id": "67e6edeb-86eb-488e-abbb-30f8c8fe7976",
   "metadata": {
    "tags": []
   },
   "outputs": [],
   "source": [
    "!ls input-images/"
   ]
  },
  {
   "cell_type": "code",
   "execution_count": null,
   "id": "1a7f0384-25fc-479a-8de5-70b912ed668a",
   "metadata": {
    "tags": []
   },
   "outputs": [],
   "source": [
    "!ls output-images/"
   ]
  },
  {
   "cell_type": "markdown",
   "id": "33c7ccfc-bb5d-4df3-8259-f1d0353a6501",
   "metadata": {},
   "source": [
    "## Usage as a Command Line Interface (CLI)"
   ]
  },
  {
   "cell_type": "markdown",
   "id": "e9ce98f7-1d77-4653-949c-cb299f0c2e9d",
   "metadata": {
    "jp-MarkdownHeadingCollapsed": true,
    "tags": []
   },
   "source": [
    "### Remove the background from file"
   ]
  },
  {
   "cell_type": "code",
   "execution_count": null,
   "id": "8331e680-8ec3-436c-a7dd-768950840e95",
   "metadata": {},
   "outputs": [],
   "source": [
    "import rembg"
   ]
  },
  {
   "cell_type": "code",
   "execution_count": null,
   "id": "fea00141-0e48-4a4e-9963-9a7437f01e5a",
   "metadata": {},
   "outputs": [],
   "source": [
    "!rembg --help"
   ]
  },
  {
   "cell_type": "code",
   "execution_count": null,
   "id": "3ef17167-1785-40e3-a52b-8fee91268322",
   "metadata": {
    "tags": []
   },
   "outputs": [],
   "source": [
    "!rembg i car-input.jpg car-output.jpg"
   ]
  },
  {
   "cell_type": "code",
   "execution_count": null,
   "id": "1a41b5b5-a65c-4f8f-912a-7a24935f3617",
   "metadata": {
    "tags": []
   },
   "outputs": [],
   "source": [
    "!rembg i -m u2netp car-input.jpg car-output.jpg"
   ]
  },
  {
   "cell_type": "markdown",
   "id": "854a151b-3534-46cf-a59c-3eadd17edaeb",
   "metadata": {
    "jp-MarkdownHeadingCollapsed": true,
    "tags": []
   },
   "source": [
    "### Remove the background from all images in a folder"
   ]
  },
  {
   "cell_type": "code",
   "execution_count": null,
   "id": "447bda12-bfee-499f-8b68-36fe6de631cb",
   "metadata": {},
   "outputs": [],
   "source": [
    "!rembg p -m u2net input-images/ output-images/"
   ]
  },
  {
   "cell_type": "markdown",
   "id": "e44453a8-68a2-433a-ab60-37af22127e5b",
   "metadata": {
    "jp-MarkdownHeadingCollapsed": true,
    "tags": []
   },
   "source": [
    "## Create [Gradio](https://github.com/gradio-app/gradio) app "
   ]
  },
  {
   "cell_type": "code",
   "execution_count": null,
   "id": "0ee4f5dc-1873-4f73-a479-654bc34750b7",
   "metadata": {
    "tags": []
   },
   "outputs": [],
   "source": [
    "!pip install gradio -q"
   ]
  },
  {
   "cell_type": "code",
   "execution_count": 15,
   "id": "90b13c71-b088-4f99-b5c3-719e8789518c",
   "metadata": {
    "tags": []
   },
   "outputs": [],
   "source": [
    "import gradio as gr\n",
    "\n",
    "def image_background_removal(input_img):\n",
    "    output_path = 'output.png'\n",
    "    output = remove(input_img)\n",
    "    output.save(output_path)\n",
    "    return output_path"
   ]
  },
  {
   "cell_type": "code",
   "execution_count": null,
   "id": "be852e66-df49-449c-ac86-a966f06a4866",
   "metadata": {
    "tags": []
   },
   "outputs": [],
   "source": [
    "demo = gr.Interface(image_background_removal, gr.Image(type='pil'), 'image')\n",
    "# Function which calls rembg and handles the image background removal\n",
    "# Image is the gradio component and type='pil' tells to pass the image as PILLOW object, takes numpy array by default.\n",
    "# 'image' tells interface to render Image component\n",
    "demo.launch(share=True)"
   ]
  },
  {
   "cell_type": "code",
   "execution_count": null,
   "id": "6b5278be-1c58-4fd0-a76a-64f23559b24f",
   "metadata": {},
   "outputs": [],
   "source": []
  }
 ],
 "metadata": {
  "kernelspec": {
   "display_name": "Python 3 (ipykernel)",
   "language": "python",
   "name": "python3"
  },
  "language_info": {
   "codemirror_mode": {
    "name": "ipython",
    "version": 3
   },
   "file_extension": ".py",
   "mimetype": "text/x-python",
   "name": "python",
   "nbconvert_exporter": "python",
   "pygments_lexer": "ipython3",
   "version": "3.10.4"
  }
 },
 "nbformat": 4,
 "nbformat_minor": 5
}
