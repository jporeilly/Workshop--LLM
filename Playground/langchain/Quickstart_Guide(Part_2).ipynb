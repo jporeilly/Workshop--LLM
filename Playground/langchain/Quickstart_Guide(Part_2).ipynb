{
  "nbformat": 4,
  "nbformat_minor": 0,
  "metadata": {
    "colab": {
      "provenance": [],
      "authorship_tag": "ABX9TyPsUFH5oV4tk+VTDymz/p1C",
      "include_colab_link": true
    },
    "kernelspec": {
      "name": "python3",
      "display_name": "Python 3"
    },
    "language_info": {
      "name": "python"
    },
    "accelerator": "GPU",
    "gpuClass": "standard"
  },
  "cells": [
    {
      "cell_type": "markdown",
      "metadata": {
        "id": "view-in-github",
        "colab_type": "text"
      },
      "source": [
        "<a href=\"https://colab.research.google.com/github/sudarshan-koirala/youtube-stuffs/blob/main/langchain/Quickstart_Guide(Part_2).ipynb\" target=\"_parent\"><img src=\"https://colab.research.google.com/assets/colab-badge.svg\" alt=\"Open In Colab\"/></a>"
      ]
    },
    {
      "cell_type": "markdown",
      "source": [
        "# Quickstart Guide (part 2)\n",
        "### [Youtube Video Covering this notebook](https://youtu.be/-nCW1b1BTxU)\n",
        "# Building a Language Model Application: Chat Models\n",
        "- https://python.langchain.com/en/latest/getting_started/getting_started.html\n",
        "- This 2nd part of quickstart guide provides you a quick walkthrough about using chat models instead of LLMs.\n",
        "- Chat models are a variation on language models. While chat models use language models under the hood, the interface they expose is a bit different: rather than expose a “text in, text out” API, they expose an interface where “chat messages” are the inputs and outputs."
      ],
      "metadata": {
        "id": "aIVTlfviLK03"
      }
    },
    {
      "cell_type": "markdown",
      "source": [
        "## Installation"
      ],
      "metadata": {
        "id": "H2wSBdVwMEHm"
      }
    },
    {
      "cell_type": "code",
      "source": [
        "!pip install langchain openai huggingface_hub watermark --quiet"
      ],
      "metadata": {
        "id": "WQyILM-6Lufj"
      },
      "execution_count": null,
      "outputs": []
    },
    {
      "cell_type": "code",
      "source": [
        "%load_ext watermark\n",
        "%watermark -a \"Sudarshan Koirala\""
      ],
      "metadata": {
        "id": "xSCVHcEYS7FA"
      },
      "execution_count": null,
      "outputs": []
    },
    {
      "cell_type": "markdown",
      "source": [
        "## Environment Setup\n",
        "- Using LangChain will usually require integrations with one or more model providers, data stores, apis, etc.\n",
        "\n",
        "- Good to know: <font color=\"red\">OpenAI's API (its not free)</font>\n",
        "\n",
        "**Get api keys (you need to create account for both to access the api keys)**\n",
        "\n",
        "- Get OpenAI api key: https://platform.openai.com/account/api-keys"
      ],
      "metadata": {
        "id": "xWSS4cN7M3Zw"
      }
    },
    {
      "cell_type": "code",
      "source": [
        "import os\n",
        "os.environ[\"OPENAI_API_KEY\"] = \"OPENAI_API_KEY\""
      ],
      "metadata": {
        "id": "W19xmh93Pr45"
      },
      "execution_count": null,
      "outputs": []
    },
    {
      "cell_type": "markdown",
      "source": [
        "📝NOTE: LangChain provides many modules that can be used to build language model applications. Modules can be combined to create more complex applications, or be used individually for simple applications."
      ],
      "metadata": {
        "id": "2ZVZuC0VOVm6"
      }
    },
    {
      "cell_type": "markdown",
      "source": [
        "## Get Message Completions from a Chat Model\n",
        "- We can get chat completions by passing one or more messages to chat model and response will be message.\n",
        "- <font color=\"orange\"> The types of messages currently supported in LangChain are `AIMessage`, `HumanMessage`, `SystemMessage` and `ChatMessage` – `ChatMessage` takes in an arbitrary role parameter. Most of the time, you’ll just be dealing with `HumanMessage`, `AIMessage`, and `SystemMessage`. </font>\n"
      ],
      "metadata": {
        "id": "PmsfPQxgO32D"
      }
    },
    {
      "cell_type": "code",
      "source": [
        "from langchain.chat_models import ChatOpenAI\n",
        "from langchain.schema import (\n",
        "    AIMessage,\n",
        "    HumanMessage,\n",
        "    SystemMessage\n",
        ")\n",
        "\n",
        "chat = ChatOpenAI(temperature=0)"
      ],
      "metadata": {
        "id": "2qoYayO4Mk3Y"
      },
      "execution_count": null,
      "outputs": []
    },
    {
      "cell_type": "markdown",
      "source": [
        "- The temperature argument in the OpenAI LLM wrapper is used to <font color=\"red\">control the level of randomness in the generated text.</font>\n",
        "- <font color=\"cyan\">A higher temperature value will result in more diverse and unpredictable text, while a lower temperature value will result in more conservative and predictable text. </font> \n",
        "- The default value for temperature is 1.0, and valid values range from 0.0 to 1.0."
      ],
      "metadata": {
        "id": "p5JsKY0EUzFV"
      }
    },
    {
      "cell_type": "code",
      "source": [
        "# we can now get completions by passing in a single message\n",
        "chat([HumanMessage(content=\"Translate this sentence from English to Nepali. I love programming.\")])"
      ],
      "metadata": {
        "colab": {
          "base_uri": "https://localhost:8080/"
        },
        "id": "y1hIkwQ3QG-_",
        "outputId": "837fd35f-3954-442a-d7eb-5bcee1c660a2"
      },
      "execution_count": null,
      "outputs": [
        {
          "output_type": "execute_result",
          "data": {
            "text/plain": [
              "AIMessage(content='मलाई प्रोग्रामिङ्ग मन पर्छ।', additional_kwargs={})"
            ]
          },
          "metadata": {},
          "execution_count": 12
        }
      ]
    },
    {
      "cell_type": "code",
      "source": [
        "# we can pass multiple messages for OpenAI’s gpt-3.5-turbo and gpt-4 models\n",
        "messages = [\n",
        "    SystemMessage(content=\"You are a helpful assistant that translates English to Nepali.\"),\n",
        "    HumanMessage(content=\"Translate this sentence from English to Nepali. I love programming.\")\n",
        "]\n",
        "chat(messages)"
      ],
      "metadata": {
        "colab": {
          "base_uri": "https://localhost:8080/"
        },
        "id": "-SSkxfUmEO6h",
        "outputId": "4a14bd1e-3234-440a-c930-1a817dce8e3f"
      },
      "execution_count": null,
      "outputs": [
        {
          "output_type": "execute_result",
          "data": {
            "text/plain": [
              "AIMessage(content='मलाई प्रोग्रामिङ मन पर्छ।', additional_kwargs={})"
            ]
          },
          "metadata": {},
          "execution_count": 13
        }
      ]
    },
    {
      "cell_type": "code",
      "source": [],
      "metadata": {
        "id": "9t-Xdq6OFNMP"
      },
      "execution_count": null,
      "outputs": []
    },
    {
      "cell_type": "markdown",
      "source": [
        "You can go one step further and generate completions for multiple sets of messages using `generate`. This returns an `LLMResult` with an additional `message` parameter"
      ],
      "metadata": {
        "id": "lkx4vferEywv"
      }
    },
    {
      "cell_type": "code",
      "source": [
        "batch_messages = [\n",
        "    [\n",
        "        SystemMessage(content=\"You are a helpful assistant that translates English to Nepali.\"),\n",
        "        HumanMessage(content=\"Translate this sentence from English to Nepali. I love programming.\")\n",
        "    ],\n",
        "    [\n",
        "        SystemMessage(content=\"You are a helpful assistant that translates English to Nepali.\"),\n",
        "        HumanMessage(content=\"Translate this sentence from English to Nepali. I love artificial intelligence.\")\n",
        "    ],\n",
        "]\n",
        "result = chat.generate(batch_messages)\n",
        "result"
      ],
      "metadata": {
        "colab": {
          "base_uri": "https://localhost:8080/"
        },
        "id": "mABmBfbWFEJi",
        "outputId": "1566e64d-8b3c-4cab-a87d-dc60cc1a96cf"
      },
      "execution_count": null,
      "outputs": [
        {
          "output_type": "execute_result",
          "data": {
            "text/plain": [
              "LLMResult(generations=[[ChatGeneration(text='मलाई प्रोग्रामिङ मन पर्छ।', generation_info=None, message=AIMessage(content='मलाई प्रोग्रामिङ मन पर्छ।', additional_kwargs={}))], [ChatGeneration(text='मलाई कृत्रिम बुद्धिमत्ता मन पर्छ।', generation_info=None, message=AIMessage(content='मलाई कृत्रिम बुद्धिमत्ता मन पर्छ।', additional_kwargs={}))]], llm_output={'token_usage': {'prompt_tokens': 77, 'completion_tokens': 54, 'total_tokens': 131}, 'model_name': 'gpt-3.5-turbo'})"
            ]
          },
          "metadata": {},
          "execution_count": 14
        }
      ]
    },
    {
      "cell_type": "code",
      "source": [
        "# from the output we get we can even extract specific things like token usage\n",
        "result.llm_output['token_usage']"
      ],
      "metadata": {
        "colab": {
          "base_uri": "https://localhost:8080/"
        },
        "id": "kbZKbCE0Ex6r",
        "outputId": "0e016178-2253-4f20-86fc-0051aaea7350"
      },
      "execution_count": null,
      "outputs": [
        {
          "output_type": "execute_result",
          "data": {
            "text/plain": [
              "{'prompt_tokens': 77, 'completion_tokens': 54, 'total_tokens': 131}"
            ]
          },
          "metadata": {},
          "execution_count": 15
        }
      ]
    },
    {
      "cell_type": "code",
      "source": [],
      "metadata": {
        "id": "c8E13rYRN1fs"
      },
      "execution_count": null,
      "outputs": []
    },
    {
      "cell_type": "markdown",
      "source": [
        "## Chat Prompt Templates\n",
        "- <font color=\"orange\">Instead of hard-coding thet text we want to ask, similar to LLMs, we can use make use of templating by using a `MessagePromptTemplate`.</font> \n",
        "- We can build a `ChatPromptTemplate` from one or more `MessagePromptTemplate`s.\n",
        "- We can use `ChatPromptTemplate`’s `format_prompt` – this returns a `PromptValue`, which we can convert to a string or `Message` object, depending on whether you want to use the formatted value as input to an llm or chat model.\n",
        "- For simplicity, there is a `from_template` method exposed on the template which makes our task lot easier."
      ],
      "metadata": {
        "id": "_aYG3masavjn"
      }
    },
    {
      "cell_type": "code",
      "source": [
        "from langchain.chat_models import ChatOpenAI\n",
        "from langchain.prompts.chat import (\n",
        "    ChatPromptTemplate,\n",
        "    SystemMessagePromptTemplate,\n",
        "    HumanMessagePromptTemplate,\n",
        ")\n",
        "\n",
        "chat = ChatOpenAI(temperature=0)\n",
        "\n",
        "template=\"You are a helpful assistant that translates {input_language} to {output_language}.\"\n",
        "system_message_prompt = SystemMessagePromptTemplate.from_template(template)\n",
        "human_template=\"{text}\"\n",
        "human_message_prompt = HumanMessagePromptTemplate.from_template(human_template)\n",
        "\n",
        "chat_prompt = ChatPromptTemplate.from_messages([system_message_prompt, human_message_prompt])\n",
        "\n",
        "# get a chat completion from the formatted messages\n",
        "chat(chat_prompt.format_prompt(input_language=\"English\", output_language=\"Nepali\", text=\"I love programming.\").to_messages())"
      ],
      "metadata": {
        "colab": {
          "base_uri": "https://localhost:8080/"
        },
        "id": "hZSJiNadW1EP",
        "outputId": "a977e400-f21f-4b77-bbd8-f1ef8595647e"
      },
      "execution_count": null,
      "outputs": [
        {
          "output_type": "execute_result",
          "data": {
            "text/plain": [
              "AIMessage(content='मलाई प्रोग्रामिङ्ग मन पर्छ।', additional_kwargs={})"
            ]
          },
          "metadata": {},
          "execution_count": 17
        }
      ]
    },
    {
      "cell_type": "code",
      "source": [],
      "metadata": {
        "id": "97h69hmFIBCO"
      },
      "execution_count": null,
      "outputs": []
    },
    {
      "cell_type": "markdown",
      "source": [
        "## Chains and Chat Models\n",
        "- In real application, Using LLM in isolation is OK for some applications but in most of the cases it requires chaining. And chaining with PromptTemplate might be a neccessity. \n",
        "- A chain in LangChain is made up of links, which can be either primitives like LLMs or other chains\n",
        "- <font color=\"red\">Similar to what we did for LLMs in the previous video, extending the previous example, we can construct an LLMChain which takes user input, formats it with a PromptTemplate, and then passes the formatted response to an LLM.</font>"
      ],
      "metadata": {
        "id": "4u8hfDLuqO80"
      }
    },
    {
      "cell_type": "code",
      "source": [
        "#ChatPromptTemplate??"
      ],
      "metadata": {
        "id": "ruwNQohttvJ7"
      },
      "execution_count": null,
      "outputs": []
    },
    {
      "cell_type": "code",
      "source": [
        "from langchain.chat_models import ChatOpenAI\n",
        "from langchain import LLMChain\n",
        "from langchain.prompts.chat import (\n",
        "    ChatPromptTemplate,\n",
        "    SystemMessagePromptTemplate,\n",
        "    HumanMessagePromptTemplate,\n",
        ")\n",
        "\n",
        "chat = ChatOpenAI(temperature=0)\n",
        "\n",
        "template=\"You are a helpful assistant that translates {input_language} to {output_language}.\"\n",
        "system_message_prompt = SystemMessagePromptTemplate.from_template(template)\n",
        "human_template=\"{text}\"\n",
        "human_message_prompt = HumanMessagePromptTemplate.from_template(human_template)\n",
        "chat_prompt = ChatPromptTemplate.from_messages([system_message_prompt, human_message_prompt])\n",
        "\n",
        "chain = LLMChain(llm=chat, prompt=chat_prompt)\n",
        "chain.run(input_language=\"English\", output_language=\"Nepali\", text=\"I love programming.\")"
      ],
      "metadata": {
        "colab": {
          "base_uri": "https://localhost:8080/",
          "height": 35
        },
        "id": "atpILVEPbpDQ",
        "outputId": "cd7a9075-9014-455b-b25b-abfd53e408d4"
      },
      "execution_count": null,
      "outputs": [
        {
          "output_type": "execute_result",
          "data": {
            "text/plain": [
              "'मलाई प्रोग्रामिङ्ग मन पर्छ।'"
            ],
            "application/vnd.google.colaboratory.intrinsic+json": {
              "type": "string"
            }
          },
          "metadata": {},
          "execution_count": 19
        }
      ]
    },
    {
      "cell_type": "code",
      "source": [],
      "metadata": {
        "id": "tH6TwYflIjtu"
      },
      "execution_count": null,
      "outputs": []
    },
    {
      "cell_type": "markdown",
      "source": [
        "## Agents and Chat Models\n",
        "- So, far what we did was to run the chains in a predetermined order.\n",
        "- <font color =\"orange\"> Agents can also be used with chat models, you can initialize one using `AgentType`. `CHAT_ZERO_SHOT_REACT_DESCRIPTION` as the agent type.</font>\n",
        "\n",
        "In order to load agents, understanding the following concepts is crucial.\n",
        "\n",
        "- Tool: A function that performs a specific duty. This can be things like: Google Search, Database lookup, Python REPL, other chains.\n",
        "\n",
        "- Chat Models: The chat models powering the agent.\n",
        "\n",
        "- Agents: Agents involve an LLM making decisions about which actions to take, taking that Action, seeing an observation, and repeating that until its done.\n",
        "\n",
        "Agents: For a list of supported agents and their specifications, see [here](https://python.langchain.com/en/latest/modules/agents/agents.html).\n",
        "\n",
        "Tools: For a list of predefined tools and their specifications, see [here](https://python.langchain.com/en/latest/modules/agents/tools.html).\n",
        "\n",
        "<font color=\"red\">For this example, you will also need to install the [SerpAPI Python package](https://pypi.org/project/google-search-results/).</font>\n",
        "\n"
      ],
      "metadata": {
        "id": "IQBWXNR4z-cz"
      }
    },
    {
      "cell_type": "code",
      "source": [
        "!pip install google-search-results --quiet"
      ],
      "metadata": {
        "id": "axoJAs402uQS"
      },
      "execution_count": null,
      "outputs": []
    },
    {
      "cell_type": "code",
      "source": [
        "# https://serpapi.com/\n",
        "import os\n",
        "os.environ['SERPAPI_API_KEY'] = \"SERPAPI_API_KEY\""
      ],
      "metadata": {
        "id": "ihxWArPc4L_O"
      },
      "execution_count": null,
      "outputs": []
    },
    {
      "cell_type": "markdown",
      "source": [
        "<font color=\"yellow\">LLM Math is a Python package that showcases using LLMs and Python REPLs to do complex word math problems. It allows you to input a math problem in natural language and get the answer in return.</>"
      ],
      "metadata": {
        "id": "lo8e2qIMJ90t"
      }
    },
    {
      "cell_type": "code",
      "source": [
        "from langchain.agents import load_tools\n",
        "from langchain.agents import initialize_agent\n",
        "from langchain.agents import AgentType\n",
        "from langchain.chat_models import ChatOpenAI\n",
        "from langchain.llms import OpenAI\n",
        "\n",
        "# First, let's load the language model we're going to use to control the agent.\n",
        "chat = ChatOpenAI(temperature=0)\n",
        "\n",
        "# Next, let's load some tools to use. Note that the `llm-math` tool uses an LLM, so we need to pass that in.\n",
        "llm = OpenAI(temperature=0)\n",
        "tools = load_tools([\"serpapi\", \"llm-math\"], llm=llm)\n",
        "\n",
        "\n",
        "# Finally, let's initialize an agent with the tools, the language model, and the type of agent we want to use.\n",
        "agent = initialize_agent(tools, chat, agent=AgentType.CHAT_ZERO_SHOT_REACT_DESCRIPTION, verbose=True)\n",
        "\n",
        "# Now let's test it out!\n",
        "agent.run(\"Who is the president of Finland ? What is 2+2 ?\")"
      ],
      "metadata": {
        "colab": {
          "base_uri": "https://localhost:8080/",
          "height": 552
        },
        "id": "FdiZ7Ueg6fBv",
        "outputId": "72510136-af97-46a0-cff5-493df7591c2d"
      },
      "execution_count": null,
      "outputs": [
        {
          "output_type": "stream",
          "name": "stdout",
          "text": [
            "\n",
            "\n",
            "\u001b[1m> Entering new AgentExecutor chain...\u001b[0m\n",
            "\u001b[32;1m\u001b[1;3mQuestion: Who is the president of Finland? What is 2+2?\n",
            "Thought: The first question requires a search, while the second question requires a calculator.\n",
            "Action:\n",
            "```\n",
            "{\n",
            "  \"action\": \"Search\",\n",
            "  \"action_input\": \"President of Finland\"\n",
            "}\n",
            "```\n",
            "\u001b[0m\n",
            "Observation: \u001b[36;1m\u001b[1;3mSauli Niinistö\u001b[0m\n",
            "Thought:\u001b[32;1m\u001b[1;3mFor the second question, I need to use the calculator tool.\n",
            "Action:\n",
            "```\n",
            "{\n",
            "  \"action\": \"Calculator\",\n",
            "  \"action_input\": \"2+2\"\n",
            "}\n",
            "```\n",
            "\n",
            "\u001b[0m\n",
            "Observation: \u001b[33;1m\u001b[1;3mAnswer: 4\u001b[0m\n",
            "Thought:\u001b[32;1m\u001b[1;3mI now know the final answer to the original input question.\n",
            "Final Answer: Sauli Niinistö, 4.\u001b[0m\n",
            "\n",
            "\u001b[1m> Finished chain.\u001b[0m\n"
          ]
        },
        {
          "output_type": "execute_result",
          "data": {
            "text/plain": [
              "'Sauli Niinistö, 4.'"
            ],
            "application/vnd.google.colaboratory.intrinsic+json": {
              "type": "string"
            }
          },
          "metadata": {},
          "execution_count": 20
        }
      ]
    },
    {
      "cell_type": "code",
      "source": [],
      "metadata": {
        "id": "1GFAFZe0OGdv"
      },
      "execution_count": null,
      "outputs": []
    },
    {
      "cell_type": "markdown",
      "source": [
        "## Memory: Add State to Chains and Agents\n",
        "- So far, all the chains and agents we’ve gone through have been stateless. But often, you may want a chain or agent to have some concept of “memory” so that it may remember information about its previous interactions.\n",
        "- For example, while designing a chatbot you want it to remember previous message or previous several messages.\n",
        "- Short-term memory\n",
        "- Long-term-memory (remembering key pieces of information over time)\n",
        "- <font color=\"red\"> You can use Memory with chains and agents initialized with chat models. The main difference between this and Memory for LLMs is that rather than trying to condense all previous messages into a string, we can keep them as their own unique memory object.</font>\n"
      ],
      "metadata": {
        "id": "Sqj9WHbK-VGp"
      }
    },
    {
      "cell_type": "code",
      "source": [
        "from langchain.prompts import (\n",
        "    ChatPromptTemplate, \n",
        "    MessagesPlaceholder, \n",
        "    SystemMessagePromptTemplate, \n",
        "    HumanMessagePromptTemplate\n",
        ")\n",
        "from langchain.chains import ConversationChain\n",
        "from langchain.chat_models import ChatOpenAI\n",
        "from langchain.memory import ConversationBufferMemory\n",
        "\n",
        "prompt = ChatPromptTemplate.from_messages([\n",
        "    SystemMessagePromptTemplate.from_template(\"The following is a friendly conversation between a human and an AI. The AI is talkative and provides lots of specific details from its context. If the AI does not know the answer to a question, it truthfully says it does not know.\"),\n",
        "    MessagesPlaceholder(variable_name=\"history\"),\n",
        "    HumanMessagePromptTemplate.from_template(\"{input}\")\n",
        "])\n",
        "\n",
        "llm = ChatOpenAI(temperature=0)\n",
        "memory = ConversationBufferMemory(return_messages=True)\n",
        "conversation = ConversationChain(memory=memory, prompt=prompt, llm=llm)\n",
        "\n",
        "conversation.predict(input=\"Hi there!\")"
      ],
      "metadata": {
        "colab": {
          "base_uri": "https://localhost:8080/",
          "height": 35
        },
        "id": "kAnoBgSv7SVC",
        "outputId": "b1cd1456-1ca2-435e-cbaa-de630c28552e"
      },
      "execution_count": null,
      "outputs": [
        {
          "output_type": "execute_result",
          "data": {
            "text/plain": [
              "'Hello! How can I assist you today?'"
            ],
            "application/vnd.google.colaboratory.intrinsic+json": {
              "type": "string"
            }
          },
          "metadata": {},
          "execution_count": 21
        }
      ]
    },
    {
      "cell_type": "code",
      "source": [
        "conversation.predict(input=\"I'm doing well! Just having a conversation with an AI.\")"
      ],
      "metadata": {
        "colab": {
          "base_uri": "https://localhost:8080/",
          "height": 35
        },
        "id": "m3iNCgxm_A4R",
        "outputId": "f87041fa-1fae-4457-face-26854f7f171f"
      },
      "execution_count": null,
      "outputs": [
        {
          "output_type": "execute_result",
          "data": {
            "text/plain": [
              "\"That sounds like fun! I'm happy to chat with you. Is there anything specific you'd like to talk about?\""
            ],
            "application/vnd.google.colaboratory.intrinsic+json": {
              "type": "string"
            }
          },
          "metadata": {},
          "execution_count": 22
        }
      ]
    },
    {
      "cell_type": "code",
      "source": [
        "conversation.predict(input=\"Tell me about yourself.\")"
      ],
      "metadata": {
        "colab": {
          "base_uri": "https://localhost:8080/",
          "height": 71
        },
        "id": "6C519CjyMEBG",
        "outputId": "144580d5-d8c6-4cba-ca76-63812dbc564a"
      },
      "execution_count": null,
      "outputs": [
        {
          "output_type": "execute_result",
          "data": {
            "text/plain": [
              "\"Sure! I am an AI language model created by OpenAI. I was trained on a large dataset of text from the internet, which allows me to understand and generate human-like language. I can answer questions, provide information, and even have conversations like this one. Is there anything else you'd like to know about me?\""
            ],
            "application/vnd.google.colaboratory.intrinsic+json": {
              "type": "string"
            }
          },
          "metadata": {},
          "execution_count": 23
        }
      ]
    },
    {
      "cell_type": "code",
      "source": [],
      "metadata": {
        "id": "Lkm2v2kDMvnF"
      },
      "execution_count": null,
      "outputs": []
    },
    {
      "cell_type": "markdown",
      "source": [
        "## Conclusion\n",
        "- <font color=\"red\">The decision to use a chat model or an LLM would depend on the specific task you are trying to accomplish. Chat models are designed to have structured conversations with humans, so they would be useful for tasks like creating chatbots or customer service agents. On the other hand, LLMs are more general language models that can be used for a wide range of tasks, such as language translation, text generation, or summarization.</font>\n",
        "\n",
        "- <font color=\"orange\">In general, if the task involves interacting with humans in a conversational way, a chat model would be the better choice. But if the task involves generating or processing large amounts of text, an LLM would be more appropriate. It's also worth noting that LLMs can be used in conjunction with other models, such as text embedding models, to improve their performance on specific tasks.</font>"
      ],
      "metadata": {
        "id": "pcEQG_NyPC9N"
      }
    },
    {
      "cell_type": "code",
      "source": [],
      "metadata": {
        "id": "PR0-gVG9PBwj"
      },
      "execution_count": null,
      "outputs": []
    }
  ]
}