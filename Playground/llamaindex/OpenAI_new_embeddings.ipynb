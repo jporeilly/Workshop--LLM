{
  "cells": [
    {
      "cell_type": "markdown",
      "metadata": {
        "id": "view-in-github",
        "colab_type": "text"
      },
      "source": [
        "<a href=\"https://colab.research.google.com/github/sudarshan-koirala/youtube-stuffs/blob/main/llamaindex/OpenAI_new_embeddings.ipynb\" target=\"_parent\"><img src=\"https://colab.research.google.com/assets/colab-badge.svg\" alt=\"Open In Colab\"/></a>"
      ]
    },
    {
      "cell_type": "markdown",
      "metadata": {
        "id": "qGbUhub_l8p_"
      },
      "source": [
        "# OpenAI Embeddings with LlamaIndex\n",
        "## [Youtube video covering this notebook](https://youtu.be/egJgdJDjpAQ)"
      ]
    },
    {
      "cell_type": "markdown",
      "metadata": {
        "id": "_M2q8zdcl8p_"
      },
      "source": [
        "If you're opening this Notebook on colab, you will probably need to install LlamaIndex 🦙."
      ]
    },
    {
      "cell_type": "code",
      "execution_count": 1,
      "metadata": {
        "id": "C3mBGL7pl8qA"
      },
      "outputs": [],
      "source": [
        "%%capture\n",
        "!pip install llama-index"
      ]
    },
    {
      "cell_type": "code",
      "execution_count": 2,
      "metadata": {
        "id": "JwPwDiOFl8qA"
      },
      "outputs": [],
      "source": [
        "import os\n",
        "# https://platform.openai.com/api-keys\n",
        "\n",
        "os.environ[\"OPENAI_API_KEY\"] = \"YOUR_OPENAI_API_KEY\""
      ]
    },
    {
      "cell_type": "markdown",
      "source": [
        "### Earlier, this is what we had / still have"
      ],
      "metadata": {
        "id": "BahELjMOqgWN"
      }
    },
    {
      "cell_type": "code",
      "source": [
        "# get API key and create embeddings\n",
        "from llama_index.embeddings import OpenAIEmbedding\n",
        "\n",
        "embed_model = OpenAIEmbedding(\n",
        "    model=\"text-embedding-ada-002\",\n",
        ")\n",
        "\n",
        "embeddings = embed_model.get_text_embedding(\n",
        "    \"Open AI new Embeddings models is awesome.\"\n",
        ")\n",
        "\n",
        "print(len(embeddings))"
      ],
      "metadata": {
        "id": "ZFZu92ufnMZ_",
        "colab": {
          "base_uri": "https://localhost:8080/"
        },
        "outputId": "7311fccb-2854-40a0-8100-37133466a56b"
      },
      "execution_count": 3,
      "outputs": [
        {
          "output_type": "stream",
          "name": "stdout",
          "text": [
            "1536\n"
          ]
        }
      ]
    },
    {
      "cell_type": "markdown",
      "metadata": {
        "id": "F34p0Ectl8qB"
      },
      "source": [
        "## Using OpenAI `text-embedding-3-large`, `text-embedding-3-small` and `text-embedding-ada-002`\n",
        "\n",
        "Note, you may have to update your openai client: `pip install -U openai`"
      ]
    },
    {
      "cell_type": "code",
      "source": [
        "#!pip install -U openai"
      ],
      "metadata": {
        "id": "L7_4_FWTm_KB"
      },
      "execution_count": 7,
      "outputs": []
    },
    {
      "cell_type": "code",
      "execution_count": 4,
      "metadata": {
        "id": "jZ9cbhe6l8qB"
      },
      "outputs": [],
      "source": [
        "# get API key and create embeddings\n",
        "from llama_index.embeddings import OpenAIEmbedding\n",
        "\n",
        "embed_model = OpenAIEmbedding(model=\"text-embedding-3-large\")\n",
        "\n",
        "embeddings = embed_model.get_text_embedding(\n",
        "    \"Open AI new Embeddings models is great.\"\n",
        ")"
      ]
    },
    {
      "cell_type": "code",
      "execution_count": 5,
      "metadata": {
        "id": "9nTbQNQ3l8qB",
        "outputId": "f4f2e85f-f9ea-4a8b-f3e3-b0841341ef61",
        "colab": {
          "base_uri": "https://localhost:8080/"
        }
      },
      "outputs": [
        {
          "output_type": "stream",
          "name": "stdout",
          "text": [
            "[-0.011500772088766098, 0.02457442320883274, -0.01760469563305378, -0.017763426527380943, 0.029841400682926178]\n"
          ]
        }
      ],
      "source": [
        "print(embeddings[:5])"
      ]
    },
    {
      "cell_type": "code",
      "execution_count": 6,
      "metadata": {
        "id": "LYgKfAUbl8qC",
        "outputId": "d7e5a339-41e5-4f5a-ad40-25fb7cd48288",
        "colab": {
          "base_uri": "https://localhost:8080/"
        }
      },
      "outputs": [
        {
          "output_type": "stream",
          "name": "stdout",
          "text": [
            "3072\n"
          ]
        }
      ],
      "source": [
        "print(len(embeddings))"
      ]
    },
    {
      "cell_type": "code",
      "execution_count": null,
      "metadata": {
        "id": "Z3ItKCwhl8qC"
      },
      "outputs": [],
      "source": [
        "# get API key and create embeddings\n",
        "from llama_index.embeddings import OpenAIEmbedding\n",
        "\n",
        "embed_model = OpenAIEmbedding(\n",
        "    model=\"text-embedding-3-small\",\n",
        ")\n",
        "\n",
        "embeddings = embed_model.get_text_embedding(\n",
        "    \"Open AI new Embeddings models is awesome.\"\n",
        ")"
      ]
    },
    {
      "cell_type": "code",
      "execution_count": null,
      "metadata": {
        "id": "xc1SMbVxl8qC",
        "outputId": "24913582-867d-469c-b4da-60dcc9b130fa",
        "colab": {
          "base_uri": "https://localhost:8080/"
        }
      },
      "outputs": [
        {
          "output_type": "stream",
          "name": "stdout",
          "text": [
            "1536\n"
          ]
        }
      ],
      "source": [
        "print(len(embeddings))"
      ]
    },
    {
      "cell_type": "markdown",
      "metadata": {
        "id": "FAGpo9P8l8qC"
      },
      "source": [
        "# Change the dimension of output embeddings\n",
        "- https://openai.com/blog/new-embedding-models-and-api-updates\n",
        "\n",
        "Note: Make sure you have the latest OpenAI client\n",
        "\n",
        "### Trade-off:\n",
        "\n",
        "- Both embeddings support a novel \"dimensions\" parameter that lets you shorten the embeddings to trade accuracy for smaller vector sizes.\n",
        "- gain the ability to use the embedding model with a data store that supports only up to limited (512, 1024) dimensions.\n",
        "- sacrifice some accuracy because the reduced-dimensional embedding may not capture all the nuances present in the original higher-dimensional embedding."
      ]
    },
    {
      "cell_type": "code",
      "execution_count": null,
      "metadata": {
        "id": "067kKJ0pl8qC",
        "outputId": "c9650340-7479-47e4-80ae-60f6c75ccaba",
        "colab": {
          "base_uri": "https://localhost:8080/"
        }
      },
      "outputs": [
        {
          "output_type": "stream",
          "name": "stdout",
          "text": [
            "1024\n"
          ]
        }
      ],
      "source": [
        "# get API key and create embeddings\n",
        "from llama_index.embeddings import OpenAIEmbedding\n",
        "\n",
        "\n",
        "embed_model = OpenAIEmbedding(\n",
        "    model=\"text-embedding-3-large\",\n",
        "    #dimensions=512,\n",
        "    dimensions=1024,\n",
        ")\n",
        "\n",
        "embeddings = embed_model.get_text_embedding(\n",
        "    \"Open AI new Embeddings models with different dimensions is awesome.\"\n",
        ")\n",
        "print(len(embeddings))"
      ]
    },
    {
      "cell_type": "code",
      "source": [
        "# get API key and create embeddings\n",
        "from llama_index.embeddings import OpenAIEmbedding\n",
        "\n",
        "embed_model = OpenAIEmbedding(\n",
        "    model=\"text-embedding-3-small\",\n",
        "    dimensions=512,\n",
        ")\n",
        "\n",
        "embeddings = embed_model.get_text_embedding(\n",
        "    \"Open AI new Embeddings models is awesome.\"\n",
        ")\n",
        "\n",
        "print(len(embeddings))"
      ],
      "metadata": {
        "id": "TeYNI8yKo5pb",
        "outputId": "fff22abf-7df9-4dd5-d9f2-540c2ab94584",
        "colab": {
          "base_uri": "https://localhost:8080/"
        }
      },
      "execution_count": null,
      "outputs": [
        {
          "output_type": "stream",
          "name": "stdout",
          "text": [
            "512\n"
          ]
        }
      ]
    },
    {
      "cell_type": "markdown",
      "source": [
        "# Conclusion\n",
        "This enables very flexible usage. For example, when using a vector data store that only supports embeddings up to 1024 dimensions long, developers can now still use OpenAI's best embedding model `text-embedding-3-large` and specify a value of 1024 for the dimensions API parameter, which will shorten the embedding down from 3072 dimensions, **trading off some accuracy** in exchange for the smaller vector size."
      ],
      "metadata": {
        "id": "4WG0zM0-pXAF"
      }
    },
    {
      "cell_type": "code",
      "source": [],
      "metadata": {
        "id": "oP9ND_QxpEu6"
      },
      "execution_count": null,
      "outputs": []
    }
  ],
  "metadata": {
    "kernelspec": {
      "display_name": "venv",
      "language": "python",
      "name": "python3"
    },
    "language_info": {
      "codemirror_mode": {
        "name": "ipython",
        "version": 3
      },
      "file_extension": ".py",
      "mimetype": "text/x-python",
      "name": "python",
      "nbconvert_exporter": "python",
      "pygments_lexer": "ipython3"
    },
    "colab": {
      "provenance": [],
      "include_colab_link": true
    }
  },
  "nbformat": 4,
  "nbformat_minor": 0
}