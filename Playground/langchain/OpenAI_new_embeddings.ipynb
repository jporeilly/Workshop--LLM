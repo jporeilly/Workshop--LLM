{
  "cells": [
    {
      "cell_type": "markdown",
      "metadata": {
        "id": "view-in-github",
        "colab_type": "text"
      },
      "source": [
        "<a href=\"https://colab.research.google.com/github/sudarshan-koirala/youtube-stuffs/blob/main/langchain/OpenAI_new_embeddings.ipynb\" target=\"_parent\"><img src=\"https://colab.research.google.com/assets/colab-badge.svg\" alt=\"Open In Colab\"/></a>"
      ]
    },
    {
      "cell_type": "markdown",
      "source": [
        "# OpenAI embeddings with and without LangChain\n",
        "- [New announcemnet link](https://openai.com/blog/new-embedding-models-and-api-updates)"
      ],
      "metadata": {
        "id": "sazlKC__cihu"
      }
    },
    {
      "cell_type": "markdown",
      "source": [
        "## OpenAI New Embeddings\n",
        "#### [New embeddings doc](https://platform.openai.com/docs/guides/embeddings/)"
      ],
      "metadata": {
        "id": "tei7VBQqcYa2"
      }
    },
    {
      "cell_type": "code",
      "source": [
        "%%capture\n",
        "!pip install openai"
      ],
      "metadata": {
        "id": "7oe-8Gnkb5pg"
      },
      "execution_count": 1,
      "outputs": []
    },
    {
      "cell_type": "code",
      "execution_count": 2,
      "metadata": {
        "id": "JwPwDiOFl8qA",
        "colab": {
          "base_uri": "https://localhost:8080/"
        },
        "outputId": "3dc0646a-6b1a-4d41-868a-f0f638eee2ab"
      },
      "outputs": [
        {
          "name": "stdout",
          "output_type": "stream",
          "text": [
            "··········\n"
          ]
        }
      ],
      "source": [
        "# https://platform.openai.com/api-keys\n",
        "\n",
        "import getpass\n",
        "import os\n",
        "\n",
        "os.environ[\"OPENAI_API_KEY\"] = getpass.getpass()"
      ]
    },
    {
      "cell_type": "code",
      "source": [
        "from openai import OpenAI\n",
        "client = OpenAI()\n",
        "\n",
        "response = client.embeddings.create(\n",
        "    input=\"Open AI new Embeddings models is great.\",\n",
        "    model=\"text-embedding-3-small\"\n",
        ")\n",
        "\n",
        "print(response.data[0].embedding[:5])"
      ],
      "metadata": {
        "colab": {
          "base_uri": "https://localhost:8080/"
        },
        "id": "WrSWF41Pb4vJ",
        "outputId": "3fb06d46-42c0-4bca-901f-3a668e3598df"
      },
      "execution_count": 3,
      "outputs": [
        {
          "output_type": "stream",
          "name": "stdout",
          "text": [
            "[-0.014905157499015331, -0.027476679533720016, 0.0051691289991140366, 0.0026080890092998743, -0.025682540610432625]\n"
          ]
        }
      ]
    },
    {
      "cell_type": "code",
      "source": [
        "print(len(response.data[0].embedding))"
      ],
      "metadata": {
        "colab": {
          "base_uri": "https://localhost:8080/"
        },
        "id": "mNSUi-plcC41",
        "outputId": "58ef081e-ebc0-413e-cdf6-f038a8308289"
      },
      "execution_count": 4,
      "outputs": [
        {
          "output_type": "stream",
          "name": "stdout",
          "text": [
            "1536\n"
          ]
        }
      ]
    },
    {
      "cell_type": "markdown",
      "metadata": {
        "id": "qGbUhub_l8p_"
      },
      "source": [
        "## OpenAI Embeddings with LangChain\n",
        "## [New embeddings doc](https://platform.openai.com/docs/guides/embeddings/)"
      ]
    },
    {
      "cell_type": "markdown",
      "metadata": {
        "id": "_M2q8zdcl8p_"
      },
      "source": [
        "If you're opening this Notebook on colab, you will probably need to install LlamaIndex 🦙."
      ]
    },
    {
      "cell_type": "code",
      "execution_count": 5,
      "metadata": {
        "id": "C3mBGL7pl8qA"
      },
      "outputs": [],
      "source": [
        "%%capture\n",
        "!pip install langchain-openai"
      ]
    },
    {
      "cell_type": "markdown",
      "source": [
        "### Earlier, this is what we had / still have"
      ],
      "metadata": {
        "id": "BahELjMOqgWN"
      }
    },
    {
      "cell_type": "code",
      "source": [
        "text = \"Open AI new Embeddings models is great.\""
      ],
      "metadata": {
        "id": "HBGm2MkQY9dn"
      },
      "execution_count": 6,
      "outputs": []
    },
    {
      "cell_type": "code",
      "source": [
        "# embed query\n",
        "from langchain_openai import OpenAIEmbeddings\n",
        "\n",
        "embed_model = OpenAIEmbeddings(model=\"text-embedding-ada-002\",)\n",
        "\n",
        "embeddings = embed_model.embed_query(text)\n",
        "\n",
        "print(len(embeddings))"
      ],
      "metadata": {
        "id": "ZFZu92ufnMZ_",
        "colab": {
          "base_uri": "https://localhost:8080/"
        },
        "outputId": "e391d56c-a9ef-45f5-a5d6-0915b75dab28"
      },
      "execution_count": 7,
      "outputs": [
        {
          "output_type": "stream",
          "name": "stdout",
          "text": [
            "1536\n"
          ]
        }
      ]
    },
    {
      "cell_type": "code",
      "source": [
        "# embed document\n",
        "from langchain_openai import OpenAIEmbeddings\n",
        "\n",
        "embed_model = OpenAIEmbeddings(model=\"text-embedding-ada-002\",)\n",
        "\n",
        "embeddings = embed_model.embed_documents([text])\n",
        "\n",
        "print(embeddings[0][:5])"
      ],
      "metadata": {
        "colab": {
          "base_uri": "https://localhost:8080/"
        },
        "id": "UJxgUAjQazAw",
        "outputId": "a00b3cd9-515c-4134-fe7f-d78a2ddba8cf"
      },
      "execution_count": 8,
      "outputs": [
        {
          "output_type": "stream",
          "name": "stdout",
          "text": [
            "[-0.01446078921278476, 0.010669829451574759, -0.0005397810083217527, -0.030437963447640624, 0.0034859599962766405]\n"
          ]
        }
      ]
    },
    {
      "cell_type": "code",
      "source": [
        "print(len(embeddings))"
      ],
      "metadata": {
        "colab": {
          "base_uri": "https://localhost:8080/"
        },
        "id": "mCX3wP17bF3k",
        "outputId": "486c1d2b-3072-45f0-9f1d-aff98ec45b90"
      },
      "execution_count": 9,
      "outputs": [
        {
          "output_type": "stream",
          "name": "stdout",
          "text": [
            "1\n"
          ]
        }
      ]
    },
    {
      "cell_type": "code",
      "source": [
        "print(len(embeddings[0]))"
      ],
      "metadata": {
        "colab": {
          "base_uri": "https://localhost:8080/"
        },
        "id": "LYBYgVHLbS5e",
        "outputId": "ac06fdf5-95c5-4ec9-cc0b-310d5def2c75"
      },
      "execution_count": 10,
      "outputs": [
        {
          "output_type": "stream",
          "name": "stdout",
          "text": [
            "1536\n"
          ]
        }
      ]
    },
    {
      "cell_type": "markdown",
      "metadata": {
        "id": "F34p0Ectl8qB"
      },
      "source": [
        "## Using OpenAI `text-embedding-3-large`, `text-embedding-3-small`"
      ]
    },
    {
      "cell_type": "code",
      "execution_count": 11,
      "metadata": {
        "id": "jZ9cbhe6l8qB",
        "colab": {
          "base_uri": "https://localhost:8080/"
        },
        "outputId": "52db4a0f-a3fd-448c-ba00-c123237bed63"
      },
      "outputs": [
        {
          "output_type": "stream",
          "name": "stderr",
          "text": [
            "WARNING:langchain_openai.embeddings.base:Warning: model not found. Using cl100k_base encoding.\n"
          ]
        }
      ],
      "source": [
        "# embed query\n",
        "from langchain_openai import OpenAIEmbeddings\n",
        "\n",
        "embed_model = OpenAIEmbeddings(model=\"text-embedding-3-large\")\n",
        "\n",
        "embeddings = embed_model.embed_query(text)"
      ]
    },
    {
      "cell_type": "code",
      "execution_count": 12,
      "metadata": {
        "id": "9nTbQNQ3l8qB",
        "outputId": "e1d07c31-e146-4c41-9df7-9431fa04cc01",
        "colab": {
          "base_uri": "https://localhost:8080/"
        }
      },
      "outputs": [
        {
          "output_type": "stream",
          "name": "stdout",
          "text": [
            "[-0.011500772465203734, 0.024574424013190717, -0.01760469620928205, -0.017763427108804714, 0.02984140165968028]\n"
          ]
        }
      ],
      "source": [
        "print(embeddings[:5])"
      ]
    },
    {
      "cell_type": "code",
      "execution_count": 13,
      "metadata": {
        "id": "LYgKfAUbl8qC",
        "outputId": "7bad8264-32ed-4e88-e308-04f6556c0db4",
        "colab": {
          "base_uri": "https://localhost:8080/"
        }
      },
      "outputs": [
        {
          "output_type": "stream",
          "name": "stdout",
          "text": [
            "3072\n"
          ]
        }
      ],
      "source": [
        "print(len(embeddings))"
      ]
    },
    {
      "cell_type": "code",
      "source": [
        "# embed documents\n",
        "from langchain_openai import OpenAIEmbeddings\n",
        "\n",
        "embed_model = OpenAIEmbeddings(model=\"text-embedding-3-large\")\n",
        "\n",
        "embeddings = embed_model.embed_documents([text])"
      ],
      "metadata": {
        "colab": {
          "base_uri": "https://localhost:8080/"
        },
        "id": "M74m1DXYY4K4",
        "outputId": "7e4473f2-545c-4b68-97b3-5321b0393e3f"
      },
      "execution_count": 14,
      "outputs": [
        {
          "output_type": "stream",
          "name": "stderr",
          "text": [
            "WARNING:langchain_openai.embeddings.base:Warning: model not found. Using cl100k_base encoding.\n"
          ]
        }
      ]
    },
    {
      "cell_type": "code",
      "source": [
        "embeddings[0][:5]"
      ],
      "metadata": {
        "colab": {
          "base_uri": "https://localhost:8080/"
        },
        "id": "7aHOQR2AaPo0",
        "outputId": "b64fdf7b-4ad7-4720-fbbd-80fd4f8b0b15"
      },
      "execution_count": 15,
      "outputs": [
        {
          "output_type": "execute_result",
          "data": {
            "text/plain": [
              "[-0.011500772465203734,\n",
              " 0.024574424013190717,\n",
              " -0.01760469620928205,\n",
              " -0.017763427108804714,\n",
              " 0.02984140165968028]"
            ]
          },
          "metadata": {},
          "execution_count": 15
        }
      ]
    },
    {
      "cell_type": "code",
      "source": [],
      "metadata": {
        "id": "GqDtKaiTaVNG"
      },
      "execution_count": null,
      "outputs": []
    },
    {
      "cell_type": "code",
      "execution_count": 16,
      "metadata": {
        "id": "Z3ItKCwhl8qC",
        "colab": {
          "base_uri": "https://localhost:8080/"
        },
        "outputId": "6a3deaf0-9581-42ca-de69-4a9f84063ce1"
      },
      "outputs": [
        {
          "output_type": "stream",
          "name": "stderr",
          "text": [
            "WARNING:langchain_openai.embeddings.base:Warning: model not found. Using cl100k_base encoding.\n"
          ]
        }
      ],
      "source": [
        "# embed query\n",
        "from langchain_openai import OpenAIEmbeddings\n",
        "\n",
        "embed_model = OpenAIEmbeddings(model=\"text-embedding-3-small\")\n",
        "\n",
        "embeddings = embed_model.embed_query(text)"
      ]
    },
    {
      "cell_type": "code",
      "execution_count": 17,
      "metadata": {
        "id": "xc1SMbVxl8qC",
        "outputId": "5c5e2996-f4f6-46c4-f38e-6723cb73e4c4",
        "colab": {
          "base_uri": "https://localhost:8080/"
        }
      },
      "outputs": [
        {
          "output_type": "stream",
          "name": "stdout",
          "text": [
            "1536\n"
          ]
        }
      ],
      "source": [
        "print(len(embeddings))"
      ]
    },
    {
      "cell_type": "markdown",
      "metadata": {
        "id": "FAGpo9P8l8qC"
      },
      "source": [
        "# Specify dimensions\n",
        "- https://openai.com/blog/new-embedding-models-and-api-updates\n",
        "\n",
        "Note: Make sure you have the latest OpenAI client\n",
        "\n",
        "### Trade-off:\n",
        "\n",
        "- Both embeddings support a novel \"dimensions\" parameter that lets you shorten the embeddings to trade accuracy for smaller vector sizes.\n",
        "- gain the ability to use the embedding model with a data store that supports only up to limited (512, 1024) dimensions.\n",
        "- sacrifice some accuracy because the reduced-dimensional embedding may not capture all the nuances present in the original higher-dimensional embedding."
      ]
    },
    {
      "cell_type": "code",
      "execution_count": 18,
      "metadata": {
        "id": "067kKJ0pl8qC",
        "outputId": "111a00a0-9cbc-42cb-c64d-3f03130aa5b3",
        "colab": {
          "base_uri": "https://localhost:8080/"
        }
      },
      "outputs": [
        {
          "output_type": "stream",
          "name": "stderr",
          "text": [
            "WARNING:langchain_openai.embeddings.base:Warning: model not found. Using cl100k_base encoding.\n"
          ]
        },
        {
          "output_type": "stream",
          "name": "stdout",
          "text": [
            "1024\n"
          ]
        }
      ],
      "source": [
        "# embed query\n",
        "from langchain_openai import OpenAIEmbeddings\n",
        "\n",
        "embed_model = OpenAIEmbeddings(model=\"text-embedding-3-large\", dimensions=1024)\n",
        "\n",
        "embeddings = embed_model.embed_query(text)\n",
        "\n",
        "print(len(embeddings))"
      ]
    },
    {
      "cell_type": "code",
      "source": [
        "# embed query\n",
        "from langchain_openai import OpenAIEmbeddings\n",
        "\n",
        "embed_model = OpenAIEmbeddings(model=\"text-embedding-3-large\", dimensions=256)\n",
        "\n",
        "embeddings = embed_model.embed_query(text)\n",
        "\n",
        "print(len(embeddings))"
      ],
      "metadata": {
        "id": "TeYNI8yKo5pb",
        "outputId": "9a8d3c18-ff84-409e-ba6a-d52153ad552f",
        "colab": {
          "base_uri": "https://localhost:8080/"
        }
      },
      "execution_count": 19,
      "outputs": [
        {
          "output_type": "stream",
          "name": "stderr",
          "text": [
            "WARNING:langchain_openai.embeddings.base:Warning: model not found. Using cl100k_base encoding.\n"
          ]
        },
        {
          "output_type": "stream",
          "name": "stdout",
          "text": [
            "256\n"
          ]
        }
      ]
    },
    {
      "cell_type": "markdown",
      "source": [
        "# Conclusion\n",
        "This enables very flexible usage. For example, when using a vector data store that only supports embeddings up to 1024 dimensions long, developers can now still use OpenAI's best embedding model `text-embedding-3-large` and specify a value of 1024 for the dimensions API parameter, which will shorten the embedding down from 3072 dimensions, **trading off some accuracy** in exchange for the smaller vector size."
      ],
      "metadata": {
        "id": "4WG0zM0-pXAF"
      }
    },
    {
      "cell_type": "code",
      "source": [],
      "metadata": {
        "id": "oP9ND_QxpEu6"
      },
      "execution_count": null,
      "outputs": []
    }
  ],
  "metadata": {
    "kernelspec": {
      "display_name": "venv",
      "language": "python",
      "name": "python3"
    },
    "language_info": {
      "codemirror_mode": {
        "name": "ipython",
        "version": 3
      },
      "file_extension": ".py",
      "mimetype": "text/x-python",
      "name": "python",
      "nbconvert_exporter": "python",
      "pygments_lexer": "ipython3"
    },
    "colab": {
      "provenance": [],
      "include_colab_link": true
    }
  },
  "nbformat": 4,
  "nbformat_minor": 0
}