{
  "nbformat": 4,
  "nbformat_minor": 0,
  "metadata": {
    "colab": {
      "provenance": [],
      "authorship_tag": "ABX9TyNbthY6AZRQhOm/hvcupvlj",
      "include_colab_link": true
    },
    "kernelspec": {
      "name": "python3",
      "display_name": "Python 3"
    },
    "language_info": {
      "name": "python"
    },
    "widgets": {
      "application/vnd.jupyter.widget-state+json": {
        "eabe6efa620c4f96a1beed774bf49dbd": {
          "model_module": "@jupyter-widgets/controls",
          "model_name": "HBoxModel",
          "model_module_version": "1.5.0",
          "state": {
            "_dom_classes": [],
            "_model_module": "@jupyter-widgets/controls",
            "_model_module_version": "1.5.0",
            "_model_name": "HBoxModel",
            "_view_count": null,
            "_view_module": "@jupyter-widgets/controls",
            "_view_module_version": "1.5.0",
            "_view_name": "HBoxView",
            "box_style": "",
            "children": [
              "IPY_MODEL_c87896da0eb34497b2f967e0b3d46850",
              "IPY_MODEL_cb0d83c95e6b4393b88b91a2a94f1d26",
              "IPY_MODEL_778cdc12ad4a479f9d4b37dab2d7659d"
            ],
            "layout": "IPY_MODEL_c4641c29e773433786c91ee7ca25abc7"
          }
        },
        "c87896da0eb34497b2f967e0b3d46850": {
          "model_module": "@jupyter-widgets/controls",
          "model_name": "HTMLModel",
          "model_module_version": "1.5.0",
          "state": {
            "_dom_classes": [],
            "_model_module": "@jupyter-widgets/controls",
            "_model_module_version": "1.5.0",
            "_model_name": "HTMLModel",
            "_view_count": null,
            "_view_module": "@jupyter-widgets/controls",
            "_view_module_version": "1.5.0",
            "_view_name": "HTMLView",
            "description": "",
            "description_tooltip": null,
            "layout": "IPY_MODEL_6628a20e0bdc4d2193744ec0830d09fd",
            "placeholder": "​",
            "style": "IPY_MODEL_3619d0b1a3e7430d98a57ae33ad960df",
            "value": "Upserted vectors: 100%"
          }
        },
        "cb0d83c95e6b4393b88b91a2a94f1d26": {
          "model_module": "@jupyter-widgets/controls",
          "model_name": "FloatProgressModel",
          "model_module_version": "1.5.0",
          "state": {
            "_dom_classes": [],
            "_model_module": "@jupyter-widgets/controls",
            "_model_module_version": "1.5.0",
            "_model_name": "FloatProgressModel",
            "_view_count": null,
            "_view_module": "@jupyter-widgets/controls",
            "_view_module_version": "1.5.0",
            "_view_name": "ProgressView",
            "bar_style": "success",
            "description": "",
            "description_tooltip": null,
            "layout": "IPY_MODEL_daa34f9cd61f47d3a8a06ae5756de40a",
            "max": 17,
            "min": 0,
            "orientation": "horizontal",
            "style": "IPY_MODEL_d4ce9938ae7746d88b8482abfb73e3fe",
            "value": 17
          }
        },
        "778cdc12ad4a479f9d4b37dab2d7659d": {
          "model_module": "@jupyter-widgets/controls",
          "model_name": "HTMLModel",
          "model_module_version": "1.5.0",
          "state": {
            "_dom_classes": [],
            "_model_module": "@jupyter-widgets/controls",
            "_model_module_version": "1.5.0",
            "_model_name": "HTMLModel",
            "_view_count": null,
            "_view_module": "@jupyter-widgets/controls",
            "_view_module_version": "1.5.0",
            "_view_name": "HTMLView",
            "description": "",
            "description_tooltip": null,
            "layout": "IPY_MODEL_67b2c8622df241d486688f2d9b14d357",
            "placeholder": "​",
            "style": "IPY_MODEL_c50084b2be1f41a9a94a09f80b91a701",
            "value": " 17/17 [01:50&lt;00:00,  7.97it/s]"
          }
        },
        "c4641c29e773433786c91ee7ca25abc7": {
          "model_module": "@jupyter-widgets/base",
          "model_name": "LayoutModel",
          "model_module_version": "1.2.0",
          "state": {
            "_model_module": "@jupyter-widgets/base",
            "_model_module_version": "1.2.0",
            "_model_name": "LayoutModel",
            "_view_count": null,
            "_view_module": "@jupyter-widgets/base",
            "_view_module_version": "1.2.0",
            "_view_name": "LayoutView",
            "align_content": null,
            "align_items": null,
            "align_self": null,
            "border": null,
            "bottom": null,
            "display": null,
            "flex": null,
            "flex_flow": null,
            "grid_area": null,
            "grid_auto_columns": null,
            "grid_auto_flow": null,
            "grid_auto_rows": null,
            "grid_column": null,
            "grid_gap": null,
            "grid_row": null,
            "grid_template_areas": null,
            "grid_template_columns": null,
            "grid_template_rows": null,
            "height": null,
            "justify_content": null,
            "justify_items": null,
            "left": null,
            "margin": null,
            "max_height": null,
            "max_width": null,
            "min_height": null,
            "min_width": null,
            "object_fit": null,
            "object_position": null,
            "order": null,
            "overflow": null,
            "overflow_x": null,
            "overflow_y": null,
            "padding": null,
            "right": null,
            "top": null,
            "visibility": null,
            "width": null
          }
        },
        "6628a20e0bdc4d2193744ec0830d09fd": {
          "model_module": "@jupyter-widgets/base",
          "model_name": "LayoutModel",
          "model_module_version": "1.2.0",
          "state": {
            "_model_module": "@jupyter-widgets/base",
            "_model_module_version": "1.2.0",
            "_model_name": "LayoutModel",
            "_view_count": null,
            "_view_module": "@jupyter-widgets/base",
            "_view_module_version": "1.2.0",
            "_view_name": "LayoutView",
            "align_content": null,
            "align_items": null,
            "align_self": null,
            "border": null,
            "bottom": null,
            "display": null,
            "flex": null,
            "flex_flow": null,
            "grid_area": null,
            "grid_auto_columns": null,
            "grid_auto_flow": null,
            "grid_auto_rows": null,
            "grid_column": null,
            "grid_gap": null,
            "grid_row": null,
            "grid_template_areas": null,
            "grid_template_columns": null,
            "grid_template_rows": null,
            "height": null,
            "justify_content": null,
            "justify_items": null,
            "left": null,
            "margin": null,
            "max_height": null,
            "max_width": null,
            "min_height": null,
            "min_width": null,
            "object_fit": null,
            "object_position": null,
            "order": null,
            "overflow": null,
            "overflow_x": null,
            "overflow_y": null,
            "padding": null,
            "right": null,
            "top": null,
            "visibility": null,
            "width": null
          }
        },
        "3619d0b1a3e7430d98a57ae33ad960df": {
          "model_module": "@jupyter-widgets/controls",
          "model_name": "DescriptionStyleModel",
          "model_module_version": "1.5.0",
          "state": {
            "_model_module": "@jupyter-widgets/controls",
            "_model_module_version": "1.5.0",
            "_model_name": "DescriptionStyleModel",
            "_view_count": null,
            "_view_module": "@jupyter-widgets/base",
            "_view_module_version": "1.2.0",
            "_view_name": "StyleView",
            "description_width": ""
          }
        },
        "daa34f9cd61f47d3a8a06ae5756de40a": {
          "model_module": "@jupyter-widgets/base",
          "model_name": "LayoutModel",
          "model_module_version": "1.2.0",
          "state": {
            "_model_module": "@jupyter-widgets/base",
            "_model_module_version": "1.2.0",
            "_model_name": "LayoutModel",
            "_view_count": null,
            "_view_module": "@jupyter-widgets/base",
            "_view_module_version": "1.2.0",
            "_view_name": "LayoutView",
            "align_content": null,
            "align_items": null,
            "align_self": null,
            "border": null,
            "bottom": null,
            "display": null,
            "flex": null,
            "flex_flow": null,
            "grid_area": null,
            "grid_auto_columns": null,
            "grid_auto_flow": null,
            "grid_auto_rows": null,
            "grid_column": null,
            "grid_gap": null,
            "grid_row": null,
            "grid_template_areas": null,
            "grid_template_columns": null,
            "grid_template_rows": null,
            "height": null,
            "justify_content": null,
            "justify_items": null,
            "left": null,
            "margin": null,
            "max_height": null,
            "max_width": null,
            "min_height": null,
            "min_width": null,
            "object_fit": null,
            "object_position": null,
            "order": null,
            "overflow": null,
            "overflow_x": null,
            "overflow_y": null,
            "padding": null,
            "right": null,
            "top": null,
            "visibility": null,
            "width": null
          }
        },
        "d4ce9938ae7746d88b8482abfb73e3fe": {
          "model_module": "@jupyter-widgets/controls",
          "model_name": "ProgressStyleModel",
          "model_module_version": "1.5.0",
          "state": {
            "_model_module": "@jupyter-widgets/controls",
            "_model_module_version": "1.5.0",
            "_model_name": "ProgressStyleModel",
            "_view_count": null,
            "_view_module": "@jupyter-widgets/base",
            "_view_module_version": "1.2.0",
            "_view_name": "StyleView",
            "bar_color": null,
            "description_width": ""
          }
        },
        "67b2c8622df241d486688f2d9b14d357": {
          "model_module": "@jupyter-widgets/base",
          "model_name": "LayoutModel",
          "model_module_version": "1.2.0",
          "state": {
            "_model_module": "@jupyter-widgets/base",
            "_model_module_version": "1.2.0",
            "_model_name": "LayoutModel",
            "_view_count": null,
            "_view_module": "@jupyter-widgets/base",
            "_view_module_version": "1.2.0",
            "_view_name": "LayoutView",
            "align_content": null,
            "align_items": null,
            "align_self": null,
            "border": null,
            "bottom": null,
            "display": null,
            "flex": null,
            "flex_flow": null,
            "grid_area": null,
            "grid_auto_columns": null,
            "grid_auto_flow": null,
            "grid_auto_rows": null,
            "grid_column": null,
            "grid_gap": null,
            "grid_row": null,
            "grid_template_areas": null,
            "grid_template_columns": null,
            "grid_template_rows": null,
            "height": null,
            "justify_content": null,
            "justify_items": null,
            "left": null,
            "margin": null,
            "max_height": null,
            "max_width": null,
            "min_height": null,
            "min_width": null,
            "object_fit": null,
            "object_position": null,
            "order": null,
            "overflow": null,
            "overflow_x": null,
            "overflow_y": null,
            "padding": null,
            "right": null,
            "top": null,
            "visibility": null,
            "width": null
          }
        },
        "c50084b2be1f41a9a94a09f80b91a701": {
          "model_module": "@jupyter-widgets/controls",
          "model_name": "DescriptionStyleModel",
          "model_module_version": "1.5.0",
          "state": {
            "_model_module": "@jupyter-widgets/controls",
            "_model_module_version": "1.5.0",
            "_model_name": "DescriptionStyleModel",
            "_view_count": null,
            "_view_module": "@jupyter-widgets/base",
            "_view_module_version": "1.2.0",
            "_view_name": "StyleView",
            "description_width": ""
          }
        },
        "a0d692e0f1ff424ab4419c7f0a398561": {
          "model_module": "@jupyter-widgets/controls",
          "model_name": "HBoxModel",
          "model_module_version": "1.5.0",
          "state": {
            "_dom_classes": [],
            "_model_module": "@jupyter-widgets/controls",
            "_model_module_version": "1.5.0",
            "_model_name": "HBoxModel",
            "_view_count": null,
            "_view_module": "@jupyter-widgets/controls",
            "_view_module_version": "1.5.0",
            "_view_name": "HBoxView",
            "box_style": "",
            "children": [
              "IPY_MODEL_b9493329ff4a4b778723ac0ffad356ce",
              "IPY_MODEL_931580a6c8dd4825abbee2f704bdcff8",
              "IPY_MODEL_900b2fdaa3144efea573534f5f23e89b"
            ],
            "layout": "IPY_MODEL_ecfeabbbe5f743d1bd672de62c89d0be"
          }
        },
        "b9493329ff4a4b778723ac0ffad356ce": {
          "model_module": "@jupyter-widgets/controls",
          "model_name": "HTMLModel",
          "model_module_version": "1.5.0",
          "state": {
            "_dom_classes": [],
            "_model_module": "@jupyter-widgets/controls",
            "_model_module_version": "1.5.0",
            "_model_name": "HTMLModel",
            "_view_count": null,
            "_view_module": "@jupyter-widgets/controls",
            "_view_module_version": "1.5.0",
            "_view_name": "HTMLView",
            "description": "",
            "description_tooltip": null,
            "layout": "IPY_MODEL_3d1275d36ee447ad9e32b1a4379d1c5e",
            "placeholder": "​",
            "style": "IPY_MODEL_c0ae8d8449c34d9685ccfdf16937716e",
            "value": "Upserted vectors: 100%"
          }
        },
        "931580a6c8dd4825abbee2f704bdcff8": {
          "model_module": "@jupyter-widgets/controls",
          "model_name": "FloatProgressModel",
          "model_module_version": "1.5.0",
          "state": {
            "_dom_classes": [],
            "_model_module": "@jupyter-widgets/controls",
            "_model_module_version": "1.5.0",
            "_model_name": "FloatProgressModel",
            "_view_count": null,
            "_view_module": "@jupyter-widgets/controls",
            "_view_module_version": "1.5.0",
            "_view_name": "ProgressView",
            "bar_style": "success",
            "description": "",
            "description_tooltip": null,
            "layout": "IPY_MODEL_ec05ee24c5274141aa6badb1babc38df",
            "max": 18,
            "min": 0,
            "orientation": "horizontal",
            "style": "IPY_MODEL_e23223bb7ed444f688431d596f3dffc5",
            "value": 18
          }
        },
        "900b2fdaa3144efea573534f5f23e89b": {
          "model_module": "@jupyter-widgets/controls",
          "model_name": "HTMLModel",
          "model_module_version": "1.5.0",
          "state": {
            "_dom_classes": [],
            "_model_module": "@jupyter-widgets/controls",
            "_model_module_version": "1.5.0",
            "_model_name": "HTMLModel",
            "_view_count": null,
            "_view_module": "@jupyter-widgets/controls",
            "_view_module_version": "1.5.0",
            "_view_name": "HTMLView",
            "description": "",
            "description_tooltip": null,
            "layout": "IPY_MODEL_7e01563d5eeb45c19cb0c109545cfe80",
            "placeholder": "​",
            "style": "IPY_MODEL_f3756b14fe3d43648dc99f48f3ee7608",
            "value": " 18/18 [00:33&lt;00:00, 13.84it/s]"
          }
        },
        "ecfeabbbe5f743d1bd672de62c89d0be": {
          "model_module": "@jupyter-widgets/base",
          "model_name": "LayoutModel",
          "model_module_version": "1.2.0",
          "state": {
            "_model_module": "@jupyter-widgets/base",
            "_model_module_version": "1.2.0",
            "_model_name": "LayoutModel",
            "_view_count": null,
            "_view_module": "@jupyter-widgets/base",
            "_view_module_version": "1.2.0",
            "_view_name": "LayoutView",
            "align_content": null,
            "align_items": null,
            "align_self": null,
            "border": null,
            "bottom": null,
            "display": null,
            "flex": null,
            "flex_flow": null,
            "grid_area": null,
            "grid_auto_columns": null,
            "grid_auto_flow": null,
            "grid_auto_rows": null,
            "grid_column": null,
            "grid_gap": null,
            "grid_row": null,
            "grid_template_areas": null,
            "grid_template_columns": null,
            "grid_template_rows": null,
            "height": null,
            "justify_content": null,
            "justify_items": null,
            "left": null,
            "margin": null,
            "max_height": null,
            "max_width": null,
            "min_height": null,
            "min_width": null,
            "object_fit": null,
            "object_position": null,
            "order": null,
            "overflow": null,
            "overflow_x": null,
            "overflow_y": null,
            "padding": null,
            "right": null,
            "top": null,
            "visibility": null,
            "width": null
          }
        },
        "3d1275d36ee447ad9e32b1a4379d1c5e": {
          "model_module": "@jupyter-widgets/base",
          "model_name": "LayoutModel",
          "model_module_version": "1.2.0",
          "state": {
            "_model_module": "@jupyter-widgets/base",
            "_model_module_version": "1.2.0",
            "_model_name": "LayoutModel",
            "_view_count": null,
            "_view_module": "@jupyter-widgets/base",
            "_view_module_version": "1.2.0",
            "_view_name": "LayoutView",
            "align_content": null,
            "align_items": null,
            "align_self": null,
            "border": null,
            "bottom": null,
            "display": null,
            "flex": null,
            "flex_flow": null,
            "grid_area": null,
            "grid_auto_columns": null,
            "grid_auto_flow": null,
            "grid_auto_rows": null,
            "grid_column": null,
            "grid_gap": null,
            "grid_row": null,
            "grid_template_areas": null,
            "grid_template_columns": null,
            "grid_template_rows": null,
            "height": null,
            "justify_content": null,
            "justify_items": null,
            "left": null,
            "margin": null,
            "max_height": null,
            "max_width": null,
            "min_height": null,
            "min_width": null,
            "object_fit": null,
            "object_position": null,
            "order": null,
            "overflow": null,
            "overflow_x": null,
            "overflow_y": null,
            "padding": null,
            "right": null,
            "top": null,
            "visibility": null,
            "width": null
          }
        },
        "c0ae8d8449c34d9685ccfdf16937716e": {
          "model_module": "@jupyter-widgets/controls",
          "model_name": "DescriptionStyleModel",
          "model_module_version": "1.5.0",
          "state": {
            "_model_module": "@jupyter-widgets/controls",
            "_model_module_version": "1.5.0",
            "_model_name": "DescriptionStyleModel",
            "_view_count": null,
            "_view_module": "@jupyter-widgets/base",
            "_view_module_version": "1.2.0",
            "_view_name": "StyleView",
            "description_width": ""
          }
        },
        "ec05ee24c5274141aa6badb1babc38df": {
          "model_module": "@jupyter-widgets/base",
          "model_name": "LayoutModel",
          "model_module_version": "1.2.0",
          "state": {
            "_model_module": "@jupyter-widgets/base",
            "_model_module_version": "1.2.0",
            "_model_name": "LayoutModel",
            "_view_count": null,
            "_view_module": "@jupyter-widgets/base",
            "_view_module_version": "1.2.0",
            "_view_name": "LayoutView",
            "align_content": null,
            "align_items": null,
            "align_self": null,
            "border": null,
            "bottom": null,
            "display": null,
            "flex": null,
            "flex_flow": null,
            "grid_area": null,
            "grid_auto_columns": null,
            "grid_auto_flow": null,
            "grid_auto_rows": null,
            "grid_column": null,
            "grid_gap": null,
            "grid_row": null,
            "grid_template_areas": null,
            "grid_template_columns": null,
            "grid_template_rows": null,
            "height": null,
            "justify_content": null,
            "justify_items": null,
            "left": null,
            "margin": null,
            "max_height": null,
            "max_width": null,
            "min_height": null,
            "min_width": null,
            "object_fit": null,
            "object_position": null,
            "order": null,
            "overflow": null,
            "overflow_x": null,
            "overflow_y": null,
            "padding": null,
            "right": null,
            "top": null,
            "visibility": null,
            "width": null
          }
        },
        "e23223bb7ed444f688431d596f3dffc5": {
          "model_module": "@jupyter-widgets/controls",
          "model_name": "ProgressStyleModel",
          "model_module_version": "1.5.0",
          "state": {
            "_model_module": "@jupyter-widgets/controls",
            "_model_module_version": "1.5.0",
            "_model_name": "ProgressStyleModel",
            "_view_count": null,
            "_view_module": "@jupyter-widgets/base",
            "_view_module_version": "1.2.0",
            "_view_name": "StyleView",
            "bar_color": null,
            "description_width": ""
          }
        },
        "7e01563d5eeb45c19cb0c109545cfe80": {
          "model_module": "@jupyter-widgets/base",
          "model_name": "LayoutModel",
          "model_module_version": "1.2.0",
          "state": {
            "_model_module": "@jupyter-widgets/base",
            "_model_module_version": "1.2.0",
            "_model_name": "LayoutModel",
            "_view_count": null,
            "_view_module": "@jupyter-widgets/base",
            "_view_module_version": "1.2.0",
            "_view_name": "LayoutView",
            "align_content": null,
            "align_items": null,
            "align_self": null,
            "border": null,
            "bottom": null,
            "display": null,
            "flex": null,
            "flex_flow": null,
            "grid_area": null,
            "grid_auto_columns": null,
            "grid_auto_flow": null,
            "grid_auto_rows": null,
            "grid_column": null,
            "grid_gap": null,
            "grid_row": null,
            "grid_template_areas": null,
            "grid_template_columns": null,
            "grid_template_rows": null,
            "height": null,
            "justify_content": null,
            "justify_items": null,
            "left": null,
            "margin": null,
            "max_height": null,
            "max_width": null,
            "min_height": null,
            "min_width": null,
            "object_fit": null,
            "object_position": null,
            "order": null,
            "overflow": null,
            "overflow_x": null,
            "overflow_y": null,
            "padding": null,
            "right": null,
            "top": null,
            "visibility": null,
            "width": null
          }
        },
        "f3756b14fe3d43648dc99f48f3ee7608": {
          "model_module": "@jupyter-widgets/controls",
          "model_name": "DescriptionStyleModel",
          "model_module_version": "1.5.0",
          "state": {
            "_model_module": "@jupyter-widgets/controls",
            "_model_module_version": "1.5.0",
            "_model_name": "DescriptionStyleModel",
            "_view_count": null,
            "_view_module": "@jupyter-widgets/base",
            "_view_module_version": "1.2.0",
            "_view_name": "StyleView",
            "description_width": ""
          }
        },
        "281ef8e2807b4aceae666cf16a33f496": {
          "model_module": "@jupyter-widgets/controls",
          "model_name": "HBoxModel",
          "model_module_version": "1.5.0",
          "state": {
            "_dom_classes": [],
            "_model_module": "@jupyter-widgets/controls",
            "_model_module_version": "1.5.0",
            "_model_name": "HBoxModel",
            "_view_count": null,
            "_view_module": "@jupyter-widgets/controls",
            "_view_module_version": "1.5.0",
            "_view_name": "HBoxView",
            "box_style": "",
            "children": [
              "IPY_MODEL_3855504f19284f98b1147ec5db475a6e",
              "IPY_MODEL_ce124267e9ab44139b8730d779ce41fd",
              "IPY_MODEL_0a81de71f9ac49a2abc0405f29530319"
            ],
            "layout": "IPY_MODEL_4bfbc6af2bc54affac911c6a6811206d"
          }
        },
        "3855504f19284f98b1147ec5db475a6e": {
          "model_module": "@jupyter-widgets/controls",
          "model_name": "HTMLModel",
          "model_module_version": "1.5.0",
          "state": {
            "_dom_classes": [],
            "_model_module": "@jupyter-widgets/controls",
            "_model_module_version": "1.5.0",
            "_model_name": "HTMLModel",
            "_view_count": null,
            "_view_module": "@jupyter-widgets/controls",
            "_view_module_version": "1.5.0",
            "_view_name": "HTMLView",
            "description": "",
            "description_tooltip": null,
            "layout": "IPY_MODEL_0f9d7bd0466c466ba509ac34c00f8b11",
            "placeholder": "​",
            "style": "IPY_MODEL_fd045b91670f4383a4dc00f4ec4896db",
            "value": "Upserted vectors: 100%"
          }
        },
        "ce124267e9ab44139b8730d779ce41fd": {
          "model_module": "@jupyter-widgets/controls",
          "model_name": "FloatProgressModel",
          "model_module_version": "1.5.0",
          "state": {
            "_dom_classes": [],
            "_model_module": "@jupyter-widgets/controls",
            "_model_module_version": "1.5.0",
            "_model_name": "FloatProgressModel",
            "_view_count": null,
            "_view_module": "@jupyter-widgets/controls",
            "_view_module_version": "1.5.0",
            "_view_name": "ProgressView",
            "bar_style": "success",
            "description": "",
            "description_tooltip": null,
            "layout": "IPY_MODEL_12af75fd6ebb45a4811881099e86ec4a",
            "max": 11,
            "min": 0,
            "orientation": "horizontal",
            "style": "IPY_MODEL_d168ba965a2e44da9fcb554a4edb479b",
            "value": 11
          }
        },
        "0a81de71f9ac49a2abc0405f29530319": {
          "model_module": "@jupyter-widgets/controls",
          "model_name": "HTMLModel",
          "model_module_version": "1.5.0",
          "state": {
            "_dom_classes": [],
            "_model_module": "@jupyter-widgets/controls",
            "_model_module_version": "1.5.0",
            "_model_name": "HTMLModel",
            "_view_count": null,
            "_view_module": "@jupyter-widgets/controls",
            "_view_module_version": "1.5.0",
            "_view_name": "HTMLView",
            "description": "",
            "description_tooltip": null,
            "layout": "IPY_MODEL_d854956665154cd6af4f822c2d58d3ce",
            "placeholder": "​",
            "style": "IPY_MODEL_3cb275827f8245e5b3d1ddf8519c2aa4",
            "value": " 11/11 [00:30&lt;00:00, 17.40it/s]"
          }
        },
        "4bfbc6af2bc54affac911c6a6811206d": {
          "model_module": "@jupyter-widgets/base",
          "model_name": "LayoutModel",
          "model_module_version": "1.2.0",
          "state": {
            "_model_module": "@jupyter-widgets/base",
            "_model_module_version": "1.2.0",
            "_model_name": "LayoutModel",
            "_view_count": null,
            "_view_module": "@jupyter-widgets/base",
            "_view_module_version": "1.2.0",
            "_view_name": "LayoutView",
            "align_content": null,
            "align_items": null,
            "align_self": null,
            "border": null,
            "bottom": null,
            "display": null,
            "flex": null,
            "flex_flow": null,
            "grid_area": null,
            "grid_auto_columns": null,
            "grid_auto_flow": null,
            "grid_auto_rows": null,
            "grid_column": null,
            "grid_gap": null,
            "grid_row": null,
            "grid_template_areas": null,
            "grid_template_columns": null,
            "grid_template_rows": null,
            "height": null,
            "justify_content": null,
            "justify_items": null,
            "left": null,
            "margin": null,
            "max_height": null,
            "max_width": null,
            "min_height": null,
            "min_width": null,
            "object_fit": null,
            "object_position": null,
            "order": null,
            "overflow": null,
            "overflow_x": null,
            "overflow_y": null,
            "padding": null,
            "right": null,
            "top": null,
            "visibility": null,
            "width": null
          }
        },
        "0f9d7bd0466c466ba509ac34c00f8b11": {
          "model_module": "@jupyter-widgets/base",
          "model_name": "LayoutModel",
          "model_module_version": "1.2.0",
          "state": {
            "_model_module": "@jupyter-widgets/base",
            "_model_module_version": "1.2.0",
            "_model_name": "LayoutModel",
            "_view_count": null,
            "_view_module": "@jupyter-widgets/base",
            "_view_module_version": "1.2.0",
            "_view_name": "LayoutView",
            "align_content": null,
            "align_items": null,
            "align_self": null,
            "border": null,
            "bottom": null,
            "display": null,
            "flex": null,
            "flex_flow": null,
            "grid_area": null,
            "grid_auto_columns": null,
            "grid_auto_flow": null,
            "grid_auto_rows": null,
            "grid_column": null,
            "grid_gap": null,
            "grid_row": null,
            "grid_template_areas": null,
            "grid_template_columns": null,
            "grid_template_rows": null,
            "height": null,
            "justify_content": null,
            "justify_items": null,
            "left": null,
            "margin": null,
            "max_height": null,
            "max_width": null,
            "min_height": null,
            "min_width": null,
            "object_fit": null,
            "object_position": null,
            "order": null,
            "overflow": null,
            "overflow_x": null,
            "overflow_y": null,
            "padding": null,
            "right": null,
            "top": null,
            "visibility": null,
            "width": null
          }
        },
        "fd045b91670f4383a4dc00f4ec4896db": {
          "model_module": "@jupyter-widgets/controls",
          "model_name": "DescriptionStyleModel",
          "model_module_version": "1.5.0",
          "state": {
            "_model_module": "@jupyter-widgets/controls",
            "_model_module_version": "1.5.0",
            "_model_name": "DescriptionStyleModel",
            "_view_count": null,
            "_view_module": "@jupyter-widgets/base",
            "_view_module_version": "1.2.0",
            "_view_name": "StyleView",
            "description_width": ""
          }
        },
        "12af75fd6ebb45a4811881099e86ec4a": {
          "model_module": "@jupyter-widgets/base",
          "model_name": "LayoutModel",
          "model_module_version": "1.2.0",
          "state": {
            "_model_module": "@jupyter-widgets/base",
            "_model_module_version": "1.2.0",
            "_model_name": "LayoutModel",
            "_view_count": null,
            "_view_module": "@jupyter-widgets/base",
            "_view_module_version": "1.2.0",
            "_view_name": "LayoutView",
            "align_content": null,
            "align_items": null,
            "align_self": null,
            "border": null,
            "bottom": null,
            "display": null,
            "flex": null,
            "flex_flow": null,
            "grid_area": null,
            "grid_auto_columns": null,
            "grid_auto_flow": null,
            "grid_auto_rows": null,
            "grid_column": null,
            "grid_gap": null,
            "grid_row": null,
            "grid_template_areas": null,
            "grid_template_columns": null,
            "grid_template_rows": null,
            "height": null,
            "justify_content": null,
            "justify_items": null,
            "left": null,
            "margin": null,
            "max_height": null,
            "max_width": null,
            "min_height": null,
            "min_width": null,
            "object_fit": null,
            "object_position": null,
            "order": null,
            "overflow": null,
            "overflow_x": null,
            "overflow_y": null,
            "padding": null,
            "right": null,
            "top": null,
            "visibility": null,
            "width": null
          }
        },
        "d168ba965a2e44da9fcb554a4edb479b": {
          "model_module": "@jupyter-widgets/controls",
          "model_name": "ProgressStyleModel",
          "model_module_version": "1.5.0",
          "state": {
            "_model_module": "@jupyter-widgets/controls",
            "_model_module_version": "1.5.0",
            "_model_name": "ProgressStyleModel",
            "_view_count": null,
            "_view_module": "@jupyter-widgets/base",
            "_view_module_version": "1.2.0",
            "_view_name": "StyleView",
            "bar_color": null,
            "description_width": ""
          }
        },
        "d854956665154cd6af4f822c2d58d3ce": {
          "model_module": "@jupyter-widgets/base",
          "model_name": "LayoutModel",
          "model_module_version": "1.2.0",
          "state": {
            "_model_module": "@jupyter-widgets/base",
            "_model_module_version": "1.2.0",
            "_model_name": "LayoutModel",
            "_view_count": null,
            "_view_module": "@jupyter-widgets/base",
            "_view_module_version": "1.2.0",
            "_view_name": "LayoutView",
            "align_content": null,
            "align_items": null,
            "align_self": null,
            "border": null,
            "bottom": null,
            "display": null,
            "flex": null,
            "flex_flow": null,
            "grid_area": null,
            "grid_auto_columns": null,
            "grid_auto_flow": null,
            "grid_auto_rows": null,
            "grid_column": null,
            "grid_gap": null,
            "grid_row": null,
            "grid_template_areas": null,
            "grid_template_columns": null,
            "grid_template_rows": null,
            "height": null,
            "justify_content": null,
            "justify_items": null,
            "left": null,
            "margin": null,
            "max_height": null,
            "max_width": null,
            "min_height": null,
            "min_width": null,
            "object_fit": null,
            "object_position": null,
            "order": null,
            "overflow": null,
            "overflow_x": null,
            "overflow_y": null,
            "padding": null,
            "right": null,
            "top": null,
            "visibility": null,
            "width": null
          }
        },
        "3cb275827f8245e5b3d1ddf8519c2aa4": {
          "model_module": "@jupyter-widgets/controls",
          "model_name": "DescriptionStyleModel",
          "model_module_version": "1.5.0",
          "state": {
            "_model_module": "@jupyter-widgets/controls",
            "_model_module_version": "1.5.0",
            "_model_name": "DescriptionStyleModel",
            "_view_count": null,
            "_view_module": "@jupyter-widgets/base",
            "_view_module_version": "1.2.0",
            "_view_name": "StyleView",
            "description_width": ""
          }
        }
      }
    }
  },
  "cells": [
    {
      "cell_type": "markdown",
      "metadata": {
        "id": "view-in-github",
        "colab_type": "text"
      },
      "source": [
        "<a href=\"https://colab.research.google.com/github/sudarshan-koirala/youtube-stuffs/blob/main/llamaindex/Combining_Text_to_SQL_with_Semantic_Search_for_Retrieval_Augmented_Generation.ipynb\" target=\"_parent\"><img src=\"https://colab.research.google.com/assets/colab-badge.svg\" alt=\"Open In Colab\"/></a>"
      ]
    },
    {
      "cell_type": "markdown",
      "source": [
        "# Combining Text-to-SQL with Semantic Search for `RAG` [LlamaIndex Website](https://www.llamaindex.ai/)"
      ],
      "metadata": {
        "id": "D4GclYQPYmV-"
      }
    },
    {
      "cell_type": "markdown",
      "source": [
        "In this tutorial, we show you how to use our `SQLAutoVectorQueryEngine`. More info in this [blog post](https://blog.llamaindex.ai/combining-text-to-sql-with-semantic-search-for-retrieval-augmented-generation-c60af30ec3b).\n",
        "\n",
        "- This query engine allows you to combine insights from your structured tables with your unstructured data.\n",
        "- Can leverage both a SQL database as well as a vector store to fulfill complex natural language queries over a combination of structured and unstructured data\n",
        "- It first decides whether to query your structured tables for insights. Once it does, it can then infer a corresponding query to the vector store in order to fetch corresponding documents.\n",
        "\n"
      ],
      "metadata": {
        "id": "AqXB6DiGRvzc"
      }
    },
    {
      "cell_type": "markdown",
      "source": [
        "## SETUP"
      ],
      "metadata": {
        "id": "42Y7G6NYSNs5"
      }
    },
    {
      "cell_type": "code",
      "execution_count": 1,
      "metadata": {
        "id": "9rm4RRQEQiTS"
      },
      "outputs": [],
      "source": [
        "%%capture\n",
        "!pip install llama-index openai pinecone-client"
      ]
    },
    {
      "cell_type": "code",
      "source": [
        "import openai\n",
        "import os\n",
        "\n",
        "# find API key in console at https://platform.openai.com/account/api-keys\n",
        "\n",
        "os.environ[\"OPENAI_API_KEY\"] = \"OPENAI_API_KEY\"\n",
        "openai.api_key = os.environ[\"OPENAI_API_KEY\"]"
      ],
      "metadata": {
        "id": "1j_K_9xxQqa4"
      },
      "execution_count": 58,
      "outputs": []
    },
    {
      "cell_type": "code",
      "source": [
        "from llama_index import (\n",
        "    VectorStoreIndex,\n",
        "    SimpleDirectoryReader,\n",
        "    ServiceContext,\n",
        "    StorageContext,\n",
        "    SQLDatabase,\n",
        "    WikipediaReader,\n",
        ")"
      ],
      "metadata": {
        "id": "vaZ90v_nSCFg"
      },
      "execution_count": 3,
      "outputs": []
    },
    {
      "cell_type": "markdown",
      "source": [
        "## Create Common Objects\n",
        "This includes a `ServiceContext` object containing abstractions such as the LLM and chunk size. This also includes a `StorageContext` object containing our vector store abstractions."
      ],
      "metadata": {
        "id": "N2Ctq_RwXnD-"
      }
    },
    {
      "cell_type": "code",
      "source": [
        "# define pinecone index\n",
        "import pinecone\n",
        "import os\n",
        "\n",
        "# find API key in console at https://app.pinecone.io/\n",
        "os.environ['PINECONE_API_KEY'] = 'PINECONE_API_KEY'\n",
        "# environment is found next to API key in the console\n",
        "os.environ['PINECONE_ENVIRONMENT'] = 'asia-southeast1-gcp'\n",
        "\n",
        "# initialize connection to pinecone\n",
        "pinecone.init(\n",
        "    api_key=os.environ['PINECONE_API_KEY'],\n",
        "    environment=os.environ['PINECONE_ENVIRONMENT']\n",
        ")\n",
        "\n",
        "# dimensions are for text-embedding-ada-002\n",
        "pinecone.create_index(\"quickstart\", dimension=1536, metric=\"euclidean\", pod_type=\"p1\")"
      ],
      "metadata": {
        "id": "oL8gqFvYSG5V"
      },
      "execution_count": 47,
      "outputs": []
    },
    {
      "cell_type": "code",
      "source": [
        "# list indexes\n",
        "pinecone.list_indexes()"
      ],
      "metadata": {
        "colab": {
          "base_uri": "https://localhost:8080/"
        },
        "id": "dWL-cT7le2Vz",
        "outputId": "7aac08a0-8cca-44ef-e7fe-c401ca4ab999"
      },
      "execution_count": 61,
      "outputs": [
        {
          "output_type": "execute_result",
          "data": {
            "text/plain": [
              "['quickstart']"
            ]
          },
          "metadata": {},
          "execution_count": 61
        }
      ]
    },
    {
      "cell_type": "code",
      "source": [
        "# describe index\n",
        "pinecone.describe_index(\"quickstart\")"
      ],
      "metadata": {
        "colab": {
          "base_uri": "https://localhost:8080/"
        },
        "id": "SzRkpcLje_cR",
        "outputId": "c54516a2-1bc4-4101-a77e-932a4b66e58a"
      },
      "execution_count": 62,
      "outputs": [
        {
          "output_type": "execute_result",
          "data": {
            "text/plain": [
              "IndexDescription(name='quickstart', metric='euclidean', replicas=1, dimension=1536.0, shards=1, pods=1, pod_type='p1.x1', status={'ready': True, 'state': 'Ready'}, metadata_config=None, source_collection='')"
            ]
          },
          "metadata": {},
          "execution_count": 62
        }
      ]
    },
    {
      "cell_type": "code",
      "source": [
        "# connect to the index\n",
        "pinecone_index = pinecone.Index('quickstart')"
      ],
      "metadata": {
        "id": "M4TNC820fVkF"
      },
      "execution_count": 63,
      "outputs": []
    },
    {
      "cell_type": "code",
      "source": [
        "from llama_index.node_parser.simple import SimpleNodeParser\n",
        "from llama_index import ServiceContext, LLMPredictor\n",
        "from llama_index.storage import StorageContext\n",
        "from llama_index.vector_stores import PineconeVectorStore\n",
        "from llama_index.text_splitter import TokenTextSplitter\n",
        "from llama_index.llms import OpenAI\n",
        "\n",
        "# define node parser and LLM\n",
        "chunk_size = 1024\n",
        "llm = OpenAI(temperature=0, model=\"gpt-3.5-turbo\", streaming=True)\n",
        "service_context = ServiceContext.from_defaults(chunk_size=chunk_size, llm=llm)\n",
        "text_splitter = TokenTextSplitter(chunk_size=chunk_size)\n",
        "node_parser = SimpleNodeParser.from_defaults(text_splitter=text_splitter)\n",
        "\n",
        "# define pinecone vector index\n",
        "vector_store = PineconeVectorStore(\n",
        "    pinecone_index=pinecone_index, namespace=\"wiki_cities\"\n",
        ")\n",
        "storage_context = StorageContext.from_defaults(vector_store=vector_store)\n",
        "vector_index = VectorStoreIndex([], storage_context=storage_context)"
      ],
      "metadata": {
        "id": "_IIcuNH5ZWcZ"
      },
      "execution_count": 64,
      "outputs": []
    },
    {
      "cell_type": "markdown",
      "source": [
        "## Create Database Schema + Test Data"
      ],
      "metadata": {
        "id": "oSMgJ0g4ZcOc"
      }
    },
    {
      "cell_type": "code",
      "source": [
        "from sqlalchemy import (\n",
        "    create_engine,\n",
        "    MetaData,\n",
        "    Table,\n",
        "    Column,\n",
        "    String,\n",
        "    Integer,\n",
        "    select,\n",
        "    column,\n",
        ")"
      ],
      "metadata": {
        "id": "gNqlwqBbZqd1"
      },
      "execution_count": 65,
      "outputs": []
    },
    {
      "cell_type": "code",
      "source": [
        "engine = create_engine(\"sqlite:///:memory:\", future=True)\n",
        "metadata_obj = MetaData()"
      ],
      "metadata": {
        "id": "nyZENLhzZsfP"
      },
      "execution_count": 66,
      "outputs": []
    },
    {
      "cell_type": "code",
      "source": [
        "# create city SQL table\n",
        "table_name = \"city_stats\"\n",
        "city_stats_table = Table(\n",
        "    table_name,\n",
        "    metadata_obj,\n",
        "    Column(\"city_name\", String(16), primary_key=True),\n",
        "    Column(\"population\", Integer),\n",
        "    Column(\"country\", String(16), nullable=False),\n",
        ")\n",
        "\n",
        "metadata_obj.create_all(engine)"
      ],
      "metadata": {
        "id": "ijFHTzx2Z5Ih"
      },
      "execution_count": 67,
      "outputs": []
    },
    {
      "cell_type": "code",
      "source": [
        "# print tables\n",
        "metadata_obj.tables.keys()"
      ],
      "metadata": {
        "id": "YgypApzTZ94x",
        "colab": {
          "base_uri": "https://localhost:8080/"
        },
        "outputId": "59431372-3e0c-4258-c434-c213618a36a4"
      },
      "execution_count": 68,
      "outputs": [
        {
          "output_type": "execute_result",
          "data": {
            "text/plain": [
              "dict_keys(['city_stats'])"
            ]
          },
          "metadata": {},
          "execution_count": 68
        }
      ]
    },
    {
      "cell_type": "markdown",
      "source": [
        "We introduce some test data into the `city_stats` table"
      ],
      "metadata": {
        "id": "YRsiYD6NaGOO"
      }
    },
    {
      "cell_type": "code",
      "source": [
        "from sqlalchemy import insert\n",
        "\n",
        "rows = [\n",
        "    {\"city_name\": \"Toronto\", \"population\": 2930000, \"country\": \"Canada\"},\n",
        "    {\"city_name\": \"Tokyo\", \"population\": 13960000, \"country\": \"Japan\"},\n",
        "    {\"city_name\": \"Berlin\", \"population\": 3645000, \"country\": \"Germany\"},\n",
        "]\n",
        "for row in rows:\n",
        "    stmt = insert(city_stats_table).values(**row)\n",
        "    with engine.connect() as connection:\n",
        "        cursor = connection.execute(stmt)\n",
        "        connection.commit()"
      ],
      "metadata": {
        "id": "Xivl55K0aHEg"
      },
      "execution_count": 69,
      "outputs": []
    },
    {
      "cell_type": "code",
      "source": [
        "with engine.connect() as connection:\n",
        "    cursor = connection.exec_driver_sql(\"SELECT * FROM city_stats\")\n",
        "    print(cursor.fetchall())"
      ],
      "metadata": {
        "id": "Q9KQHGZKaJ8K",
        "colab": {
          "base_uri": "https://localhost:8080/"
        },
        "outputId": "d993d79e-e62e-448b-e76b-fb8de0fa46cc"
      },
      "execution_count": 70,
      "outputs": [
        {
          "output_type": "stream",
          "name": "stdout",
          "text": [
            "[('Toronto', 2930000, 'Canada'), ('Tokyo', 13960000, 'Japan'), ('Berlin', 3645000, 'Germany')]\n"
          ]
        }
      ]
    },
    {
      "cell_type": "markdown",
      "source": [
        "## Load Data\n",
        "- Lets use the [Wikipedia Loader](https://llamahub.ai/l/wikipedia) from LlamaHub."
      ],
      "metadata": {
        "id": "D0MlCMElaWx3"
      }
    },
    {
      "cell_type": "code",
      "source": [
        "%%capture\n",
        "!pip install wikipedia"
      ],
      "metadata": {
        "id": "IdvKhH3Cf0Dz"
      },
      "execution_count": 71,
      "outputs": []
    },
    {
      "cell_type": "code",
      "source": [
        "from llama_index import download_loader\n",
        "\n",
        "WikipediaReader = download_loader(\"WikipediaReader\")\n",
        "\n",
        "loader = WikipediaReader()\n",
        "cities = [\"Toronto\", \"Berlin\", \"Tokyo\"]\n",
        "wiki_docs = loader.load_data(pages=cities)"
      ],
      "metadata": {
        "id": "9QolASaXaYi6"
      },
      "execution_count": 72,
      "outputs": []
    },
    {
      "cell_type": "code",
      "source": [
        "len(wiki_docs)"
      ],
      "metadata": {
        "colab": {
          "base_uri": "https://localhost:8080/"
        },
        "id": "WlzMBem-dfaO",
        "outputId": "c96ce603-436b-4daf-89c9-2f7f91b953b7"
      },
      "execution_count": 73,
      "outputs": [
        {
          "output_type": "execute_result",
          "data": {
            "text/plain": [
              "3"
            ]
          },
          "metadata": {},
          "execution_count": 73
        }
      ]
    },
    {
      "cell_type": "markdown",
      "source": [
        "## Build SQL Index"
      ],
      "metadata": {
        "id": "iLGpCMRnYNjt"
      }
    },
    {
      "cell_type": "code",
      "source": [
        "sql_database = SQLDatabase(engine, include_tables=[\"city_stats\"])"
      ],
      "metadata": {
        "id": "6TZThBbmXtIf"
      },
      "execution_count": 74,
      "outputs": []
    },
    {
      "cell_type": "code",
      "source": [
        "from llama_index.indices.struct_store.sql_query import NLSQLTableQueryEngine"
      ],
      "metadata": {
        "id": "Z0E3Kvq8YaQn"
      },
      "execution_count": 75,
      "outputs": []
    },
    {
      "cell_type": "code",
      "source": [
        "sql_query_engine = NLSQLTableQueryEngine(\n",
        "    sql_database=sql_database,\n",
        "    tables=[\"city_stats\"],\n",
        ")"
      ],
      "metadata": {
        "id": "Mh2NgVY6Y38e"
      },
      "execution_count": 76,
      "outputs": []
    },
    {
      "cell_type": "markdown",
      "source": [
        "## Build Vector Index"
      ],
      "metadata": {
        "id": "aaZg6hK4Y9zP"
      }
    },
    {
      "cell_type": "code",
      "source": [
        "# Insert documents into vector index\n",
        "# Each document has metadata of the city attached\n",
        "for city, wiki_doc in zip(cities, wiki_docs):\n",
        "    nodes = node_parser.get_nodes_from_documents([wiki_doc])\n",
        "    # add metadata to each node\n",
        "    for node in nodes:\n",
        "        node.metadata = {\"title\": city}\n",
        "    vector_index.insert_nodes(nodes)"
      ],
      "metadata": {
        "colab": {
          "base_uri": "https://localhost:8080/",
          "height": 113,
          "referenced_widgets": [
            "eabe6efa620c4f96a1beed774bf49dbd",
            "c87896da0eb34497b2f967e0b3d46850",
            "cb0d83c95e6b4393b88b91a2a94f1d26",
            "778cdc12ad4a479f9d4b37dab2d7659d",
            "c4641c29e773433786c91ee7ca25abc7",
            "6628a20e0bdc4d2193744ec0830d09fd",
            "3619d0b1a3e7430d98a57ae33ad960df",
            "daa34f9cd61f47d3a8a06ae5756de40a",
            "d4ce9938ae7746d88b8482abfb73e3fe",
            "67b2c8622df241d486688f2d9b14d357",
            "c50084b2be1f41a9a94a09f80b91a701",
            "a0d692e0f1ff424ab4419c7f0a398561",
            "b9493329ff4a4b778723ac0ffad356ce",
            "931580a6c8dd4825abbee2f704bdcff8",
            "900b2fdaa3144efea573534f5f23e89b",
            "ecfeabbbe5f743d1bd672de62c89d0be",
            "3d1275d36ee447ad9e32b1a4379d1c5e",
            "c0ae8d8449c34d9685ccfdf16937716e",
            "ec05ee24c5274141aa6badb1babc38df",
            "e23223bb7ed444f688431d596f3dffc5",
            "7e01563d5eeb45c19cb0c109545cfe80",
            "f3756b14fe3d43648dc99f48f3ee7608",
            "281ef8e2807b4aceae666cf16a33f496",
            "3855504f19284f98b1147ec5db475a6e",
            "ce124267e9ab44139b8730d779ce41fd",
            "0a81de71f9ac49a2abc0405f29530319",
            "4bfbc6af2bc54affac911c6a6811206d",
            "0f9d7bd0466c466ba509ac34c00f8b11",
            "fd045b91670f4383a4dc00f4ec4896db",
            "12af75fd6ebb45a4811881099e86ec4a",
            "d168ba965a2e44da9fcb554a4edb479b",
            "d854956665154cd6af4f822c2d58d3ce",
            "3cb275827f8245e5b3d1ddf8519c2aa4"
          ]
        },
        "id": "s47gJhECZAB9",
        "outputId": "edaf23bc-4d61-493e-ef56-9be5dd00c499"
      },
      "execution_count": 77,
      "outputs": [
        {
          "output_type": "display_data",
          "data": {
            "text/plain": [
              "Upserted vectors:   0%|          | 0/17 [00:00<?, ?it/s]"
            ],
            "application/vnd.jupyter.widget-view+json": {
              "version_major": 2,
              "version_minor": 0,
              "model_id": "eabe6efa620c4f96a1beed774bf49dbd"
            }
          },
          "metadata": {}
        },
        {
          "output_type": "display_data",
          "data": {
            "text/plain": [
              "Upserted vectors:   0%|          | 0/18 [00:00<?, ?it/s]"
            ],
            "application/vnd.jupyter.widget-view+json": {
              "version_major": 2,
              "version_minor": 0,
              "model_id": "a0d692e0f1ff424ab4419c7f0a398561"
            }
          },
          "metadata": {}
        },
        {
          "output_type": "display_data",
          "data": {
            "text/plain": [
              "Upserted vectors:   0%|          | 0/11 [00:00<?, ?it/s]"
            ],
            "application/vnd.jupyter.widget-view+json": {
              "version_major": 2,
              "version_minor": 0,
              "model_id": "281ef8e2807b4aceae666cf16a33f496"
            }
          },
          "metadata": {}
        }
      ]
    },
    {
      "cell_type": "markdown",
      "source": [
        "## Define Query Engines, Set as Tools"
      ],
      "metadata": {
        "id": "zntFQ9bIbkir"
      }
    },
    {
      "cell_type": "code",
      "source": [
        "from llama_index.query_engine import SQLAutoVectorQueryEngine, RetrieverQueryEngine\n",
        "from llama_index.tools.query_engine import QueryEngineTool\n",
        "from llama_index.indices.vector_store import VectorIndexAutoRetriever\n",
        "from llama_index.vector_stores.types import MetadataInfo, VectorStoreInfo"
      ],
      "metadata": {
        "id": "f9n9g7DRblce"
      },
      "execution_count": 78,
      "outputs": []
    },
    {
      "cell_type": "code",
      "source": [
        "vector_store_info = VectorStoreInfo(\n",
        "    content_info=\"articles about different cities\",\n",
        "    metadata_info=[\n",
        "        MetadataInfo(name=\"title\", type=\"str\", description=\"The name of the city\"),\n",
        "    ],\n",
        ")\n",
        "vector_auto_retriever = VectorIndexAutoRetriever(\n",
        "    vector_index, vector_store_info=vector_store_info\n",
        ")\n",
        "\n",
        "retriever_query_engine = RetrieverQueryEngine.from_args(\n",
        "    vector_auto_retriever, service_context=service_context\n",
        ")"
      ],
      "metadata": {
        "id": "s5hPAZn8b2yl"
      },
      "execution_count": 79,
      "outputs": []
    },
    {
      "cell_type": "code",
      "source": [
        "sql_tool = QueryEngineTool.from_defaults(\n",
        "    query_engine=sql_query_engine,\n",
        "    description=(\n",
        "        \"Useful for translating a natural language query into a SQL query over a table containing: \"\n",
        "        \"city_stats, containing the population/country of each city\"\n",
        "    ),\n",
        ")\n",
        "vector_tool = QueryEngineTool.from_defaults(\n",
        "    query_engine=retriever_query_engine,\n",
        "    description=f\"Useful for answering semantic questions about different cities\",\n",
        ")"
      ],
      "metadata": {
        "id": "7Dy7PsbXcK_z"
      },
      "execution_count": 80,
      "outputs": []
    },
    {
      "cell_type": "markdown",
      "source": [
        "## Define `SQLAutoVectorQueryEngine`"
      ],
      "metadata": {
        "id": "H1V5bGZ8ccI3"
      }
    },
    {
      "cell_type": "code",
      "source": [
        "query_engine = SQLAutoVectorQueryEngine(\n",
        "    sql_tool, vector_tool, service_context=service_context\n",
        ")"
      ],
      "metadata": {
        "id": "E3pfh93Cce--"
      },
      "execution_count": null,
      "outputs": []
    },
    {
      "cell_type": "markdown",
      "source": [
        "## Query\n",
        "**The original question, SQL query, SQL response, vector store query, and vector store response are combined into a prompt to synthesize the final answer.**"
      ],
      "metadata": {
        "id": "TEbZV1tBc9MZ"
      }
    },
    {
      "cell_type": "code",
      "source": [
        "response = query_engine.query(\"Can you give me the country corresponding to each city?\")\n",
        "response.response"
      ],
      "metadata": {
        "colab": {
          "base_uri": "https://localhost:8080/",
          "height": 142
        },
        "id": "G5WsUm6LdLQK",
        "outputId": "985a8589-212d-4875-96af-99ffc9dd4f37"
      },
      "execution_count": 29,
      "outputs": [
        {
          "output_type": "stream",
          "name": "stdout",
          "text": [
            "\u001b[1;3;34mQuerying SQL database: The first choice is most relevant because it mentions translating a natural language query into a SQL query over a table containing city_stats, which likely includes information about the country of each city.\n",
            "\u001b[0m\u001b[1;3;33mSQL query: SELECT city_name, country\n",
            "FROM city_stats\n",
            "\u001b[0m\u001b[1;3;33mSQL response: The country corresponding to each city is Canada for Toronto, Japan for Tokyo, and Germany for Berlin.\n",
            "\u001b[0m\u001b[1;3;34mTransformed query given SQL response: None\n",
            "\u001b[0m"
          ]
        },
        {
          "output_type": "execute_result",
          "data": {
            "text/plain": [
              "'The country corresponding to each city is Canada for Toronto, Japan for Tokyo, and Germany for Berlin.'"
            ],
            "application/vnd.google.colaboratory.intrinsic+json": {
              "type": "string"
            }
          },
          "metadata": {},
          "execution_count": 29
        }
      ]
    },
    {
      "cell_type": "code",
      "source": [
        "response.metadata"
      ],
      "metadata": {
        "id": "jr0AdrVKmGcV",
        "colab": {
          "base_uri": "https://localhost:8080/"
        },
        "outputId": "803067d7-7176-463b-ba7a-2dbd4ce8657b"
      },
      "execution_count": 29,
      "outputs": [
        {
          "output_type": "execute_result",
          "data": {
            "text/plain": [
              "{'result': [('Toronto', 'Canada'), ('Tokyo', 'Japan'), ('Berlin', 'Germany')],\n",
              " 'sql_query': 'SELECT city_name, country\\nFROM city_stats'}"
            ]
          },
          "metadata": {},
          "execution_count": 29
        }
      ]
    },
    {
      "cell_type": "code",
      "source": [
        "response = query_engine.query(\"Tell me about the history of Berlin\")\n",
        "response.response"
      ],
      "metadata": {
        "colab": {
          "base_uri": "https://localhost:8080/",
          "height": 194
        },
        "id": "pNmkQl_UdG52",
        "outputId": "4956ac76-71fe-4ad1-cc2f-9062412c6b84"
      },
      "execution_count": 30,
      "outputs": [
        {
          "output_type": "stream",
          "name": "stdout",
          "text": [
            "\u001b[1;3;34mQuerying other query engine: The question is asking for information about the history of a city, which is related to answering semantic questions about different cities.\n",
            "\u001b[0m\u001b[1;3;38;5;200mQuery Engine response: Berlin has a rich and diverse history. It was first settled by Germanic tribes around 500 BC, and later became a center of Slavic settlements and castles in the 8th century AD. The earliest written records of towns in the area date back to the late 12th century, with Spandau mentioned in 1197 and Köpenick in 1209. The central part of Berlin can be traced back to two towns, Cölln and Berlin, which formed close economic and social ties. In 1307, Berlin-Cölln became the capital of the Margraviate of Brandenburg, and the Hohenzollern family ruled in Berlin until 1918. The city experienced significant devastation during the Thirty Years' War in the 17th century, but rebounded under the rule of Frederick William, known as the \"Great Elector\". He initiated policies to promote immigration and religious tolerance, leading to an influx of French Huguenots and immigrants from other regions. Berlin became the capital of the Kingdom of Prussia in 1701 and saw significant growth during the 19th century due to the Industrial Revolution. It became the main railway hub and economic center of Germany, and additional suburbs were incorporated into the city. In the early 20th century, Berlin became a center of the German Expressionist movement and experienced political unrest during the Weimar era. The city also played a prominent role in World War II, with large parts of it being destroyed during Allied air raids and the Battle of Berlin. After the war, Berlin was divided into four sectors by the victorious powers, with West Berlin controlled by the Western Allies and East Berlin by the Soviet Union. The city remained divided until the fall of the Berlin Wall in 1989, which marked the reunification of Germany.\n",
            "\u001b[0m"
          ]
        },
        {
          "output_type": "execute_result",
          "data": {
            "text/plain": [
              "'Berlin has a rich and diverse history. It was first settled by Germanic tribes around 500 BC, and later became a center of Slavic settlements and castles in the 8th century AD. The earliest written records of towns in the area date back to the late 12th century, with Spandau mentioned in 1197 and Köpenick in 1209. The central part of Berlin can be traced back to two towns, Cölln and Berlin, which formed close economic and social ties. In 1307, Berlin-Cölln became the capital of the Margraviate of Brandenburg, and the Hohenzollern family ruled in Berlin until 1918. The city experienced significant devastation during the Thirty Years\\' War in the 17th century, but rebounded under the rule of Frederick William, known as the \"Great Elector\". He initiated policies to promote immigration and religious tolerance, leading to an influx of French Huguenots and immigrants from other regions. Berlin became the capital of the Kingdom of Prussia in 1701 and saw significant growth during the 19th century due to the Industrial Revolution. It became the main railway hub and economic center of Germany, and additional suburbs were incorporated into the city. In the early 20th century, Berlin became a center of the German Expressionist movement and experienced political unrest during the Weimar era. The city also played a prominent role in World War II, with large parts of it being destroyed during Allied air raids and the Battle of Berlin. After the war, Berlin was divided into four sectors by the victorious powers, with West Berlin controlled by the Western Allies and East Berlin by the Soviet Union. The city remained divided until the fall of the Berlin Wall in 1989, which marked the reunification of Germany.'"
            ],
            "application/vnd.google.colaboratory.intrinsic+json": {
              "type": "string"
            }
          },
          "metadata": {},
          "execution_count": 30
        }
      ]
    },
    {
      "cell_type": "code",
      "source": [
        "response.metadata"
      ],
      "metadata": {
        "id": "VW5d3wd9mLXl",
        "colab": {
          "base_uri": "https://localhost:8080/"
        },
        "outputId": "bccd9815-0397-439f-ad7b-d6784b31d5f3"
      },
      "execution_count": 31,
      "outputs": [
        {
          "output_type": "execute_result",
          "data": {
            "text/plain": [
              "{'f86372a2-5739-403b-8934-5d5e65b24ff2': {'title': 'Berlin'},\n",
              " '5cb431cf-dd52-49c6-99c5-4b67e1102726': {'title': 'Berlin'}}"
            ]
          },
          "metadata": {},
          "execution_count": 31
        }
      ]
    },
    {
      "cell_type": "code",
      "source": [
        "response = query_engine.query(\n",
        "    \"Tell me about the arts and culture of the city with the highest population\"\n",
        ")"
      ],
      "metadata": {
        "colab": {
          "base_uri": "https://localhost:8080/"
        },
        "id": "PjgDScSBsbje",
        "outputId": "f2f99b33-5c19-4816-e30d-8e5d555a46bf"
      },
      "execution_count": 32,
      "outputs": [
        {
          "output_type": "stream",
          "name": "stdout",
          "text": [
            "\u001b[1;3;34mQuerying SQL database: The first choice is relevant because it mentions translating a natural language query into a SQL query over a table containing city_stats, which could be used to find the city with the highest population.\n",
            "\u001b[0m\u001b[1;3;33mSQL query: SELECT city_name, population, country\n",
            "FROM city_stats\n",
            "WHERE population = (SELECT MAX(population) FROM city_stats)\n",
            "\u001b[0m\u001b[1;3;33mSQL response: The city with the highest population is Tokyo, Japan. Tokyo is known for its vibrant arts and culture scene. It is home to numerous art galleries, museums, and theaters. The city offers a wide range of cultural experiences, including traditional Japanese arts such as tea ceremonies, calligraphy, and kabuki theater. Additionally, Tokyo is a hub for contemporary art and hosts various international art festivals and exhibitions. The city's rich cultural heritage and modern artistic expressions make it a must-visit destination for art and culture enthusiasts.\n",
            "\u001b[0m\u001b[1;3;34mTransformed query given SQL response: None\n",
            "\u001b[0m"
          ]
        }
      ]
    },
    {
      "cell_type": "code",
      "source": [
        "response.response"
      ],
      "metadata": {
        "colab": {
          "base_uri": "https://localhost:8080/",
          "height": 87
        },
        "id": "1ow2PHYysfdD",
        "outputId": "ee571825-17f1-4061-c199-fca650341719"
      },
      "execution_count": 33,
      "outputs": [
        {
          "output_type": "execute_result",
          "data": {
            "text/plain": [
              "\"The city with the highest population is Tokyo, Japan. Tokyo is known for its vibrant arts and culture scene. It is home to numerous art galleries, museums, and theaters. The city offers a wide range of cultural experiences, including traditional Japanese arts such as tea ceremonies, calligraphy, and kabuki theater. Additionally, Tokyo is a hub for contemporary art and hosts various international art festivals and exhibitions. The city's rich cultural heritage and modern artistic expressions make it a must-visit destination for art and culture enthusiasts.\""
            ],
            "application/vnd.google.colaboratory.intrinsic+json": {
              "type": "string"
            }
          },
          "metadata": {},
          "execution_count": 33
        }
      ]
    },
    {
      "cell_type": "markdown",
      "source": [
        "### GPT-4 is needed for Querying both tool"
      ],
      "metadata": {
        "id": "IuZyYHDZlw06"
      }
    },
    {
      "cell_type": "code",
      "source": [
        "llm = OpenAI(temperature=0.7, model=\"gpt-4\", streaming=True)\n",
        "service_context = ServiceContext.from_defaults(chunk_size=chunk_size, llm=llm)\n",
        "\n",
        "query_engine = SQLAutoVectorQueryEngine(\n",
        "    sql_tool, vector_tool, service_context=service_context\n",
        ")"
      ],
      "metadata": {
        "id": "BfT2KL72iUon"
      },
      "execution_count": 41,
      "outputs": []
    },
    {
      "cell_type": "code",
      "source": [
        "response = query_engine.query(\n",
        "    \"Tell me about the arts and culture of the city with the highest population\"\n",
        ")"
      ],
      "metadata": {
        "colab": {
          "base_uri": "https://localhost:8080/"
        },
        "id": "CL6z0zTAlbY7",
        "outputId": "9fc4cb2f-70e7-4055-a80f-caa9b5759a8d"
      },
      "execution_count": 42,
      "outputs": [
        {
          "output_type": "stream",
          "name": "stdout",
          "text": [
            "\u001b[1;3;34mQuerying SQL database: This choice is about city statistics, which might have information about the city with the highest population. Although it doesn't directly mention arts and culture, it's the closest match between the two choices.\n",
            "\u001b[0m\u001b[1;3;33mSQL query: SELECT city_name, population, country\n",
            "FROM city_stats\n",
            "WHERE population = (SELECT MAX(population) FROM city_stats)\n",
            "\u001b[0m\u001b[1;3;33mSQL response: The city with the highest population is Tokyo, Japan. Tokyo is known for its vibrant arts and culture scene. It is home to numerous art galleries, museums, and theaters. The city offers a wide range of cultural experiences, including traditional Japanese arts such as tea ceremonies, calligraphy, and kabuki theater. Additionally, Tokyo hosts various international art festivals and events throughout the year, attracting artists and art enthusiasts from around the world.\n",
            "\u001b[0m\u001b[1;3;34mTransformed query given SQL response: Can you provide more information on the art festivals and events that Tokyo hosts throughout the year?\n",
            "\u001b[0m\u001b[1;3;38;5;200mquery engine response: Tokyo hosts a variety of festivals and events throughout the year, including several art-related ones. These events showcase traditional and contemporary art forms and attract both locals and tourists. Some notable art festivals and events in Tokyo include the Sannō Festival at Hie Shrine, the Sanja Festival at Asakusa Shrine, and the biennial Kanda Festivals. The Kanda Festivals feature a parade with elaborately decorated floats and thousands of participants. Additionally, Tokyo is known for its cherry blossom viewing parties, where residents gather in parks such as Ueno Park, Inokashira Park, and Shinjuku Gyoen National Garden to enjoy picnics under the blooming cherry blossoms. These events provide opportunities to appreciate the beauty of nature and engage with the local culture.\n",
            "\u001b[0m\u001b[1;3;32mFinal response: The city with the highest population is Tokyo, Japan which is renowned for its dynamic arts and culture scene. Tokyo is home to various art galleries, museums, and theaters and offers a broad array of cultural experiences. These include traditional Japanese arts like tea ceremonies, calligraphy, and kabuki theater. Moreover, Tokyo holds different international art festivals and events annually, drawing artists and art lovers from around the globe.\n",
            "\n",
            "Tokyo hosts numerous festivals and events throughout the year, including several centered on art. These events, showcasing both traditional and contemporary art forms, attract both locals and tourists. Some notable art festivals and events in Tokyo are the Sannō Festival at Hie Shrine, the Sanja Festival at Asakusa Shrine, and the biennial Kanda Festivals. The Kanda Festivals, in particular, feature a parade with elaborately decorated floats and thousands of participants. Tokyo is also famous for its cherry blossom viewing parties. These events, held in parks such as Ueno Park, Inokashira Park, and Shinjuku Gyoen National Garden, allow residents to enjoy picnics under the blooming cherry blossoms, appreciating the beauty of nature and engaging with the local culture.\n",
            "\u001b[0m"
          ]
        }
      ]
    },
    {
      "cell_type": "code",
      "source": [
        "response.response"
      ],
      "metadata": {
        "colab": {
          "base_uri": "https://localhost:8080/",
          "height": 140
        },
        "id": "mOU1AbellebI",
        "outputId": "beac2517-6492-4414-837d-c3630160d249"
      },
      "execution_count": 43,
      "outputs": [
        {
          "output_type": "execute_result",
          "data": {
            "text/plain": [
              "'The city with the highest population is Tokyo, Japan which is renowned for its dynamic arts and culture scene. Tokyo is home to various art galleries, museums, and theaters and offers a broad array of cultural experiences. These include traditional Japanese arts like tea ceremonies, calligraphy, and kabuki theater. Moreover, Tokyo holds different international art festivals and events annually, drawing artists and art lovers from around the globe.\\n\\nTokyo hosts numerous festivals and events throughout the year, including several centered on art. These events, showcasing both traditional and contemporary art forms, attract both locals and tourists. Some notable art festivals and events in Tokyo are the Sannō Festival at Hie Shrine, the Sanja Festival at Asakusa Shrine, and the biennial Kanda Festivals. The Kanda Festivals, in particular, feature a parade with elaborately decorated floats and thousands of participants. Tokyo is also famous for its cherry blossom viewing parties. These events, held in parks such as Ueno Park, Inokashira Park, and Shinjuku Gyoen National Garden, allow residents to enjoy picnics under the blooming cherry blossoms, appreciating the beauty of nature and engaging with the local culture.'"
            ],
            "application/vnd.google.colaboratory.intrinsic+json": {
              "type": "string"
            }
          },
          "metadata": {},
          "execution_count": 43
        }
      ]
    },
    {
      "cell_type": "code",
      "source": [
        "response.metadata"
      ],
      "metadata": {
        "colab": {
          "base_uri": "https://localhost:8080/"
        },
        "id": "iW744K9Yl7Fn",
        "outputId": "9889d009-bab1-4693-841a-9e1649bff7ff"
      },
      "execution_count": 44,
      "outputs": [
        {
          "output_type": "execute_result",
          "data": {
            "text/plain": [
              "{'result': [('Tokyo', 13960000, 'Japan')],\n",
              " 'sql_query': 'SELECT city_name, population, country\\nFROM city_stats\\nWHERE population = (SELECT MAX(population) FROM city_stats)',\n",
              " '6033237d-19e2-4b1f-806e-485811e1df87': {'title': 'Tokyo'},\n",
              " 'b9226539-64a3-44ef-9acf-809bd3ec0249': {'title': 'Tokyo'}}"
            ]
          },
          "metadata": {},
          "execution_count": 44
        }
      ]
    },
    {
      "cell_type": "code",
      "source": [
        "# delete the pinecone index\n",
        "pinecone.delete_index(\"quickstart\")"
      ],
      "metadata": {
        "id": "m0yxr-Bbmzbw"
      },
      "execution_count": 45,
      "outputs": []
    },
    {
      "cell_type": "markdown",
      "source": [
        "## Conclusion\n",
        "- Chunking plays a vital role.\n",
        "- Need to play around with different models to get the right answer.\n",
        "- Trial and error is what it is needed for LLMs."
      ],
      "metadata": {
        "id": "m-H1ncQmmRm6"
      }
    },
    {
      "cell_type": "code",
      "source": [],
      "metadata": {
        "id": "NyGBQ5uFl9MJ"
      },
      "execution_count": null,
      "outputs": []
    }
  ]
}