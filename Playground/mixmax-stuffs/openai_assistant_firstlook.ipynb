{
  "nbformat": 4,
  "nbformat_minor": 0,
  "metadata": {
    "colab": {
      "provenance": [],
      "authorship_tag": "ABX9TyPwV/X3/WePuXCZu1Y/Vvpf",
      "include_colab_link": true
    },
    "kernelspec": {
      "name": "python3",
      "display_name": "Python 3"
    },
    "language_info": {
      "name": "python"
    }
  },
  "cells": [
    {
      "cell_type": "markdown",
      "metadata": {
        "id": "view-in-github",
        "colab_type": "text"
      },
      "source": [
        "<a href=\"https://colab.research.google.com/github/sudarshan-koirala/youtube-stuffs/blob/main/openai_assistant_firstlook.ipynb\" target=\"_parent\"><img src=\"https://colab.research.google.com/assets/colab-badge.svg\" alt=\"Open In Colab\"/></a>"
      ]
    },
    {
      "cell_type": "markdown",
      "source": [
        "## Install the OpenAI Python library"
      ],
      "metadata": {
        "id": "SG9f7mSHqRXX"
      }
    },
    {
      "cell_type": "code",
      "execution_count": 1,
      "metadata": {
        "id": "LwaT552Vp5mB"
      },
      "outputs": [],
      "source": [
        "%%capture\n",
        "!pip install --upgrade openai watermark"
      ]
    },
    {
      "cell_type": "code",
      "source": [
        "#!pip list"
      ],
      "metadata": {
        "id": "XZNdaQZwqJiT"
      },
      "execution_count": 2,
      "outputs": []
    },
    {
      "cell_type": "code",
      "source": [
        "!pip list | grep openai"
      ],
      "metadata": {
        "colab": {
          "base_uri": "https://localhost:8080/"
        },
        "id": "EM5Vjz2HqAmQ",
        "outputId": "c60c75f9-c1ef-4796-ad57-7b5f8e624f8a"
      },
      "execution_count": 3,
      "outputs": [
        {
          "output_type": "stream",
          "name": "stdout",
          "text": [
            "openai                           1.1.1\n"
          ]
        }
      ]
    },
    {
      "cell_type": "code",
      "source": [
        "%load_ext watermark\n",
        "%watermark -a \"Sudarshan Koirala\" -vmp openai"
      ],
      "metadata": {
        "colab": {
          "base_uri": "https://localhost:8080/"
        },
        "id": "IKVWiu-gqrTI",
        "outputId": "913988fe-5f1e-43ee-f9f0-36f73650d3e4"
      },
      "execution_count": 4,
      "outputs": [
        {
          "output_type": "stream",
          "name": "stdout",
          "text": [
            "Author: Sudarshan Koirala\n",
            "\n",
            "Python implementation: CPython\n",
            "Python version       : 3.10.12\n",
            "IPython version      : 7.34.0\n",
            "\n",
            "openai: 1.1.1\n",
            "\n",
            "Compiler    : GCC 11.4.0\n",
            "OS          : Linux\n",
            "Release     : 5.15.120+\n",
            "Machine     : x86_64\n",
            "Processor   : x86_64\n",
            "CPU cores   : 2\n",
            "Architecture: 64bit\n",
            "\n"
          ]
        }
      ]
    },
    {
      "cell_type": "markdown",
      "source": [
        "## Setup Your API key"
      ],
      "metadata": {
        "id": "XKXWyAutqU5b"
      }
    },
    {
      "cell_type": "code",
      "source": [
        "\n",
        "# get your openai api key from https://platform.openai.com/account/api-keys 🔑\n",
        "import openai\n",
        "import os\n",
        "from getpass import getpass\n",
        "\n",
        "OPENAI_API_KEY = getpass()\n",
        "os.environ[\"OPENAI_API_KEY\"] = OPENAI_API_KEY"
      ],
      "metadata": {
        "colab": {
          "base_uri": "https://localhost:8080/"
        },
        "id": "qH-rs2_XqGyY",
        "outputId": "abc85687-ac89-4e7d-d907-edccfb4842f4"
      },
      "execution_count": 5,
      "outputs": [
        {
          "name": "stdout",
          "output_type": "stream",
          "text": [
            "··········\n"
          ]
        }
      ]
    },
    {
      "cell_type": "code",
      "source": [
        "from openai import OpenAI\n",
        "\n",
        "client = OpenAI()"
      ],
      "metadata": {
        "id": "eorBk1kcrQ7N"
      },
      "execution_count": 6,
      "outputs": []
    },
    {
      "cell_type": "markdown",
      "source": [
        "## Create an assistant"
      ],
      "metadata": {
        "id": "zJKDANQDrfWi"
      }
    },
    {
      "cell_type": "code",
      "source": [
        "assistant = client.beta.assistants.create(\n",
        "    name=\"Math Tutor\",\n",
        "    instructions=\"You are a personal math tutor. Write and run code to answer math questions.\",\n",
        "    tools=[{\"type\": \"code_interpreter\"}],\n",
        "    model=\"gpt-4-1106-preview\"\n",
        ")"
      ],
      "metadata": {
        "id": "da24TIF2rcBm"
      },
      "execution_count": 7,
      "outputs": []
    },
    {
      "cell_type": "markdown",
      "source": [
        "## create a Thread\n",
        "- Recommendation is to create one thread per user.\n",
        "- Create messages and pass user-specific context and files in this thread."
      ],
      "metadata": {
        "id": "fJ0oPVs-r8_6"
      }
    },
    {
      "cell_type": "code",
      "source": [
        "thread = client.beta.threads.create()"
      ],
      "metadata": {
        "id": "uT-zh6LPry--"
      },
      "execution_count": 8,
      "outputs": []
    },
    {
      "cell_type": "markdown",
      "source": [
        "## Add message to a thread"
      ],
      "metadata": {
        "id": "ngi_utglsGp5"
      }
    },
    {
      "cell_type": "code",
      "source": [
        "message = client.beta.threads.messages.create(\n",
        "    thread_id=thread.id,\n",
        "    role=\"user\",\n",
        "    content=\"I need to solve the equation `3x + 11 = 14`. Can you help me?\"\n",
        ")"
      ],
      "metadata": {
        "id": "Vh3-XWansBov"
      },
      "execution_count": 9,
      "outputs": []
    },
    {
      "cell_type": "code",
      "source": [
        "message"
      ],
      "metadata": {
        "colab": {
          "base_uri": "https://localhost:8080/"
        },
        "id": "6TKBB7mosL6S",
        "outputId": "1e287970-44a2-408c-cd96-b6a54bfc57de"
      },
      "execution_count": 10,
      "outputs": [
        {
          "output_type": "execute_result",
          "data": {
            "text/plain": [
              "ThreadMessage(id='msg_T0dgrPNN9rJ1OmtXYtJfjN48', assistant_id=None, content=[MessageContentText(text=Text(annotations=[], value='I need to solve the equation `3x + 11 = 14`. Can you help me?'), type='text')], created_at=1699364317, file_ids=[], metadata={}, object='thread.message', role='user', run_id=None, thread_id='thread_o5CnqCoHOmouqYCjtChYLhJp')"
            ]
          },
          "metadata": {},
          "execution_count": 10
        }
      ]
    },
    {
      "cell_type": "markdown",
      "source": [
        "## Run the Assistant\n",
        "- For the Assistant to respond to the user message, you need to create a Run. This makes the Assistant read the Thread and decide whether to call tools or simply use the model to best answer the user query."
      ],
      "metadata": {
        "id": "yLN8edCc5YTu"
      }
    },
    {
      "cell_type": "code",
      "source": [
        "run = client.beta.threads.runs.create(\n",
        "  thread_id=thread.id,\n",
        "  assistant_id=assistant.id,\n",
        "  instructions=\"Please address the user as Sudarshan Koirala.\"\n",
        ")"
      ],
      "metadata": {
        "id": "o-dcc337sVgz"
      },
      "execution_count": 11,
      "outputs": []
    },
    {
      "cell_type": "markdown",
      "source": [
        "## Retrieve the assistant response"
      ],
      "metadata": {
        "id": "DV01AC-R5-wV"
      }
    },
    {
      "cell_type": "code",
      "source": [
        "run = client.beta.threads.runs.retrieve(\n",
        "  thread_id=thread.id,\n",
        "  run_id=run.id\n",
        ")"
      ],
      "metadata": {
        "id": "BzxJ_rX2spCE"
      },
      "execution_count": 12,
      "outputs": []
    },
    {
      "cell_type": "code",
      "source": [
        "messages = client.beta.threads.messages.list(\n",
        "  thread_id=thread.id\n",
        ")"
      ],
      "metadata": {
        "id": "Hy6dQeqsssup"
      },
      "execution_count": 13,
      "outputs": []
    },
    {
      "cell_type": "code",
      "source": [
        "messages"
      ],
      "metadata": {
        "colab": {
          "base_uri": "https://localhost:8080/"
        },
        "id": "EQP8erY9swLo",
        "outputId": "b5818ff7-c32e-4d55-82e8-42d5f50ccf2d"
      },
      "execution_count": 14,
      "outputs": [
        {
          "output_type": "execute_result",
          "data": {
            "text/plain": [
              "SyncCursorPage[ThreadMessage](data=[ThreadMessage(id='msg_T0dgrPNN9rJ1OmtXYtJfjN48', assistant_id=None, content=[MessageContentText(text=Text(annotations=[], value='I need to solve the equation `3x + 11 = 14`. Can you help me?'), type='text')], created_at=1699364317, file_ids=[], metadata={}, object='thread.message', role='user', run_id=None, thread_id='thread_o5CnqCoHOmouqYCjtChYLhJp')], object='list', first_id='msg_T0dgrPNN9rJ1OmtXYtJfjN48', last_id='msg_T0dgrPNN9rJ1OmtXYtJfjN48', has_more=False)"
            ]
          },
          "metadata": {},
          "execution_count": 14
        }
      ]
    },
    {
      "cell_type": "code",
      "source": [
        "# Assuming you have the data in a variable named 'messages'\n",
        "# Access the data list of ThreadMessages\n",
        "data = messages.data\n",
        "\n",
        "if data:\n",
        "    # Extract the first ThreadMessage\n",
        "    first_thread_message = data[0]\n",
        "\n",
        "    # Access the content of the first ThreadMessage\n",
        "    content = first_thread_message.content\n",
        "\n",
        "    if content:\n",
        "        # Access the text from the content\n",
        "        text = content[0].text\n",
        "\n",
        "        # Now, the 'text' variable contains the text from the first ThreadMessage\n",
        "        print(text)\n",
        "    else:\n",
        "        print(\"No content in the first ThreadMessage.\")\n",
        "else:\n",
        "    print(\"No data available.\")\n"
      ],
      "metadata": {
        "colab": {
          "base_uri": "https://localhost:8080/"
        },
        "id": "OPVLraYIsyHJ",
        "outputId": "6d691fcb-a9ea-4651-817b-2e14644f42b9"
      },
      "execution_count": 15,
      "outputs": [
        {
          "output_type": "stream",
          "name": "stdout",
          "text": [
            "Text(annotations=[], value='I need to solve the equation `3x + 11 = 14`. Can you help me?')\n"
          ]
        }
      ]
    },
    {
      "cell_type": "code",
      "source": [
        "run"
      ],
      "metadata": {
        "colab": {
          "base_uri": "https://localhost:8080/"
        },
        "id": "aJ9kJZks8Hfr",
        "outputId": "97cc4f27-dd4a-44bd-9f47-ee1ee0409f1d"
      },
      "execution_count": 16,
      "outputs": [
        {
          "output_type": "execute_result",
          "data": {
            "text/plain": [
              "Run(id='run_70MjRCU8mljdTBWSzRPWMPqK', assistant_id='asst_fMua5Gz2FzofMLT41a1yoQhj', cancelled_at=None, completed_at=None, created_at=1699364318, expires_at=1699364918, failed_at=None, file_ids=[], instructions='Please address the user as Sudarshan Koirala.', last_error=None, metadata={}, model='gpt-4-1106-preview', object='thread.run', required_action=None, started_at=None, status='queued', thread_id='thread_o5CnqCoHOmouqYCjtChYLhJp', tools=[ToolAssistantToolsCode(type='code_interpreter')])"
            ]
          },
          "metadata": {},
          "execution_count": 16
        }
      ]
    },
    {
      "cell_type": "code",
      "source": [
        "run.status"
      ],
      "metadata": {
        "colab": {
          "base_uri": "https://localhost:8080/",
          "height": 35
        },
        "id": "12F9znla863H",
        "outputId": "da4509a7-e25e-4393-bc08-395778672d79"
      },
      "execution_count": 17,
      "outputs": [
        {
          "output_type": "execute_result",
          "data": {
            "text/plain": [
              "'queued'"
            ],
            "application/vnd.google.colaboratory.intrinsic+json": {
              "type": "string"
            }
          },
          "metadata": {},
          "execution_count": 17
        }
      ]
    },
    {
      "cell_type": "code",
      "source": [
        "run = client.beta.threads.runs.retrieve(\n",
        "  thread_id=thread.id,\n",
        "  run_id=run.id\n",
        ")"
      ],
      "metadata": {
        "id": "kKiy4gp-AlAY"
      },
      "execution_count": 18,
      "outputs": []
    },
    {
      "cell_type": "code",
      "source": [
        "run.status"
      ],
      "metadata": {
        "colab": {
          "base_uri": "https://localhost:8080/",
          "height": 35
        },
        "id": "4dXCMc_YAmQj",
        "outputId": "ee8edc65-8280-40c1-d9f1-af91df536cb7"
      },
      "execution_count": 19,
      "outputs": [
        {
          "output_type": "execute_result",
          "data": {
            "text/plain": [
              "'completed'"
            ],
            "application/vnd.google.colaboratory.intrinsic+json": {
              "type": "string"
            }
          },
          "metadata": {},
          "execution_count": 19
        }
      ]
    },
    {
      "cell_type": "code",
      "source": [
        "run"
      ],
      "metadata": {
        "colab": {
          "base_uri": "https://localhost:8080/"
        },
        "id": "yut8-Ul7AngR",
        "outputId": "2fcaea0f-9f9c-4f97-8dd5-2087c08fa41f"
      },
      "execution_count": 20,
      "outputs": [
        {
          "output_type": "execute_result",
          "data": {
            "text/plain": [
              "Run(id='run_70MjRCU8mljdTBWSzRPWMPqK', assistant_id='asst_fMua5Gz2FzofMLT41a1yoQhj', cancelled_at=None, completed_at=1699364323, created_at=1699364318, expires_at=None, failed_at=None, file_ids=[], instructions='Please address the user as Sudarshan Koirala.', last_error=None, metadata={}, model='gpt-4-1106-preview', object='thread.run', required_action=None, started_at=1699364318, status='completed', thread_id='thread_o5CnqCoHOmouqYCjtChYLhJp', tools=[ToolAssistantToolsCode(type='code_interpreter')])"
            ]
          },
          "metadata": {},
          "execution_count": 20
        }
      ]
    },
    {
      "cell_type": "code",
      "source": [
        "messages = client.beta.threads.messages.list(\n",
        "  thread_id=thread.id\n",
        ")"
      ],
      "metadata": {
        "id": "qDHWAcRwApDP"
      },
      "execution_count": 33,
      "outputs": []
    },
    {
      "cell_type": "code",
      "source": [
        "messages"
      ],
      "metadata": {
        "colab": {
          "base_uri": "https://localhost:8080/"
        },
        "id": "MI49SKJuAtrJ",
        "outputId": "363691c8-0b47-4c0b-d5f7-e587326f94fa"
      },
      "execution_count": 34,
      "outputs": [
        {
          "output_type": "execute_result",
          "data": {
            "text/plain": [
              "SyncCursorPage[ThreadMessage](data=[ThreadMessage(id='msg_yuaUln4PJnoAeMIfhTL0Rt4O', assistant_id='asst_fMua5Gz2FzofMLT41a1yoQhj', content=[MessageContentText(text=Text(annotations=[], value='The solution to the equation \\\\(3x + 11 = 14\\\\) is \\\\(x = 1\\\\).'), type='text')], created_at=1699364323, file_ids=[], metadata={}, object='thread.message', role='assistant', run_id='run_70MjRCU8mljdTBWSzRPWMPqK', thread_id='thread_o5CnqCoHOmouqYCjtChYLhJp'), ThreadMessage(id='msg_T0dgrPNN9rJ1OmtXYtJfjN48', assistant_id=None, content=[MessageContentText(text=Text(annotations=[], value='I need to solve the equation `3x + 11 = 14`. Can you help me?'), type='text')], created_at=1699364317, file_ids=[], metadata={}, object='thread.message', role='user', run_id=None, thread_id='thread_o5CnqCoHOmouqYCjtChYLhJp')], object='list', first_id='msg_yuaUln4PJnoAeMIfhTL0Rt4O', last_id='msg_T0dgrPNN9rJ1OmtXYtJfjN48', has_more=False)"
            ]
          },
          "metadata": {},
          "execution_count": 34
        }
      ]
    },
    {
      "cell_type": "code",
      "source": [
        "# Assuming you have the data in a variable named 'messages'\n",
        "# Access the data list of ThreadMessages\n",
        "data = messages.data\n",
        "\n",
        "if data:\n",
        "    # Extract the first ThreadMessage\n",
        "    first_thread_message = data[0]\n",
        "\n",
        "    # Access the content of the first ThreadMessage\n",
        "    content = first_thread_message.content\n",
        "\n",
        "    if content:\n",
        "        # Access the text from the content\n",
        "        text = content[0].text\n",
        "\n",
        "        # Now, the 'text' variable contains the text from the first ThreadMessage\n",
        "        print(text)\n",
        "    else:\n",
        "        print(\"No content in the first ThreadMessage.\")\n",
        "else:\n",
        "    print(\"No data available.\")\n"
      ],
      "metadata": {
        "colab": {
          "base_uri": "https://localhost:8080/"
        },
        "id": "EANh6-ODAukx",
        "outputId": "5cc3c8c8-6a0f-4ef8-cf23-cf8bb16c8df6"
      },
      "execution_count": 35,
      "outputs": [
        {
          "output_type": "stream",
          "name": "stdout",
          "text": [
            "Text(annotations=[], value='The solution to the equation \\\\(3x + 11 = 14\\\\) is \\\\(x = 1\\\\).')\n"
          ]
        }
      ]
    },
    {
      "cell_type": "code",
      "source": [],
      "metadata": {
        "id": "8sV4lnjrDG0x"
      },
      "execution_count": null,
      "outputs": []
    }
  ]
}