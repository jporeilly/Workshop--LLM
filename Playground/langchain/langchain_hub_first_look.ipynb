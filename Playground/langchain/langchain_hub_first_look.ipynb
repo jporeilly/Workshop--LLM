{
  "nbformat": 4,
  "nbformat_minor": 0,
  "metadata": {
    "colab": {
      "provenance": [],
      "authorship_tag": "ABX9TyNPi/MJv9xlC609TKztkmVx",
      "include_colab_link": true
    },
    "kernelspec": {
      "name": "python3",
      "display_name": "Python 3"
    },
    "language_info": {
      "name": "python"
    }
  },
  "cells": [
    {
      "cell_type": "markdown",
      "metadata": {
        "id": "view-in-github",
        "colab_type": "text"
      },
      "source": [
        "<a href=\"https://colab.research.google.com/github/sudarshan-koirala/youtube-stuffs/blob/main/langchain/langchain_hub_first_look.ipynb\" target=\"_parent\"><img src=\"https://colab.research.google.com/assets/colab-badge.svg\" alt=\"Open In Colab\"/></a>"
      ]
    },
    {
      "cell_type": "code",
      "execution_count": 1,
      "metadata": {
        "colab": {
          "base_uri": "https://localhost:8080/"
        },
        "id": "Cp4d3S3-hIse",
        "outputId": "eed5beeb-f63b-4340-b968-a1618260d370"
      },
      "outputs": [
        {
          "output_type": "stream",
          "name": "stdout",
          "text": [
            "Requirement already satisfied: langchain in /usr/local/lib/python3.10/dist-packages (0.0.284)\n",
            "Requirement already satisfied: langchainhub in /usr/local/lib/python3.10/dist-packages (0.1.13)\n",
            "Requirement already satisfied: openai in /usr/local/lib/python3.10/dist-packages (0.28.0)\n",
            "Requirement already satisfied: PyYAML>=5.3 in /usr/local/lib/python3.10/dist-packages (from langchain) (6.0.1)\n",
            "Requirement already satisfied: SQLAlchemy<3,>=1.4 in /usr/local/lib/python3.10/dist-packages (from langchain) (2.0.20)\n",
            "Requirement already satisfied: aiohttp<4.0.0,>=3.8.3 in /usr/local/lib/python3.10/dist-packages (from langchain) (3.8.5)\n",
            "Requirement already satisfied: async-timeout<5.0.0,>=4.0.0 in /usr/local/lib/python3.10/dist-packages (from langchain) (4.0.3)\n",
            "Requirement already satisfied: dataclasses-json<0.6.0,>=0.5.7 in /usr/local/lib/python3.10/dist-packages (from langchain) (0.5.14)\n",
            "Requirement already satisfied: langsmith<0.1.0,>=0.0.21 in /usr/local/lib/python3.10/dist-packages (from langchain) (0.0.33)\n",
            "Requirement already satisfied: numexpr<3.0.0,>=2.8.4 in /usr/local/lib/python3.10/dist-packages (from langchain) (2.8.5)\n",
            "Requirement already satisfied: numpy<2,>=1 in /usr/local/lib/python3.10/dist-packages (from langchain) (1.23.5)\n",
            "Requirement already satisfied: pydantic<3,>=1 in /usr/local/lib/python3.10/dist-packages (from langchain) (2.3.0)\n",
            "Requirement already satisfied: requests<3,>=2 in /usr/local/lib/python3.10/dist-packages (from langchain) (2.31.0)\n",
            "Requirement already satisfied: tenacity<9.0.0,>=8.1.0 in /usr/local/lib/python3.10/dist-packages (from langchain) (8.2.3)\n",
            "Requirement already satisfied: types-requests<3.0.0.0,>=2.31.0.2 in /usr/local/lib/python3.10/dist-packages (from langchainhub) (2.31.0.2)\n",
            "Requirement already satisfied: tqdm in /usr/local/lib/python3.10/dist-packages (from openai) (4.66.1)\n",
            "Requirement already satisfied: attrs>=17.3.0 in /usr/local/lib/python3.10/dist-packages (from aiohttp<4.0.0,>=3.8.3->langchain) (23.1.0)\n",
            "Requirement already satisfied: charset-normalizer<4.0,>=2.0 in /usr/local/lib/python3.10/dist-packages (from aiohttp<4.0.0,>=3.8.3->langchain) (3.2.0)\n",
            "Requirement already satisfied: multidict<7.0,>=4.5 in /usr/local/lib/python3.10/dist-packages (from aiohttp<4.0.0,>=3.8.3->langchain) (6.0.4)\n",
            "Requirement already satisfied: yarl<2.0,>=1.0 in /usr/local/lib/python3.10/dist-packages (from aiohttp<4.0.0,>=3.8.3->langchain) (1.9.2)\n",
            "Requirement already satisfied: frozenlist>=1.1.1 in /usr/local/lib/python3.10/dist-packages (from aiohttp<4.0.0,>=3.8.3->langchain) (1.4.0)\n",
            "Requirement already satisfied: aiosignal>=1.1.2 in /usr/local/lib/python3.10/dist-packages (from aiohttp<4.0.0,>=3.8.3->langchain) (1.3.1)\n",
            "Requirement already satisfied: marshmallow<4.0.0,>=3.18.0 in /usr/local/lib/python3.10/dist-packages (from dataclasses-json<0.6.0,>=0.5.7->langchain) (3.20.1)\n",
            "Requirement already satisfied: typing-inspect<1,>=0.4.0 in /usr/local/lib/python3.10/dist-packages (from dataclasses-json<0.6.0,>=0.5.7->langchain) (0.9.0)\n",
            "Requirement already satisfied: annotated-types>=0.4.0 in /usr/local/lib/python3.10/dist-packages (from pydantic<3,>=1->langchain) (0.5.0)\n",
            "Requirement already satisfied: pydantic-core==2.6.3 in /usr/local/lib/python3.10/dist-packages (from pydantic<3,>=1->langchain) (2.6.3)\n",
            "Requirement already satisfied: typing-extensions>=4.6.1 in /usr/local/lib/python3.10/dist-packages (from pydantic<3,>=1->langchain) (4.7.1)\n",
            "Requirement already satisfied: idna<4,>=2.5 in /usr/local/lib/python3.10/dist-packages (from requests<3,>=2->langchain) (3.4)\n",
            "Requirement already satisfied: urllib3<3,>=1.21.1 in /usr/local/lib/python3.10/dist-packages (from requests<3,>=2->langchain) (2.0.4)\n",
            "Requirement already satisfied: certifi>=2017.4.17 in /usr/local/lib/python3.10/dist-packages (from requests<3,>=2->langchain) (2023.7.22)\n",
            "Requirement already satisfied: greenlet!=0.4.17 in /usr/local/lib/python3.10/dist-packages (from SQLAlchemy<3,>=1.4->langchain) (2.0.2)\n",
            "Requirement already satisfied: types-urllib3 in /usr/local/lib/python3.10/dist-packages (from types-requests<3.0.0.0,>=2.31.0.2->langchainhub) (1.26.25.14)\n",
            "Requirement already satisfied: packaging>=17.0 in /usr/local/lib/python3.10/dist-packages (from marshmallow<4.0.0,>=3.18.0->dataclasses-json<0.6.0,>=0.5.7->langchain) (23.1)\n",
            "Requirement already satisfied: mypy-extensions>=0.3.0 in /usr/local/lib/python3.10/dist-packages (from typing-inspect<1,>=0.4.0->dataclasses-json<0.6.0,>=0.5.7->langchain) (1.0.0)\n"
          ]
        }
      ],
      "source": [
        "%pip install langchain langchainhub openai"
      ]
    },
    {
      "cell_type": "code",
      "source": [
        "from langchain import hub\n",
        "prompt = hub.pull(\"datasciencebasics/aws-s3\")"
      ],
      "metadata": {
        "id": "A8T6hw-ehKZD"
      },
      "execution_count": 2,
      "outputs": []
    },
    {
      "cell_type": "code",
      "source": [
        "prompt"
      ],
      "metadata": {
        "colab": {
          "base_uri": "https://localhost:8080/"
        },
        "id": "buBxuiLjhSKe",
        "outputId": "46bb160f-a7b0-4482-b73a-878cea7ae164"
      },
      "execution_count": 3,
      "outputs": [
        {
          "output_type": "execute_result",
          "data": {
            "text/plain": [
              "ChatPromptTemplate(input_variables=['task', 'lazy_prompt'], output_parser=None, partial_variables={}, messages=[SystemMessagePromptTemplate(prompt=PromptTemplate(input_variables=[], output_parser=None, partial_variables={}, template='You are an expert Prompt Writer for Large Language Models.\\n\\n', template_format='f-string', validate_template=True), additional_kwargs={}), HumanMessagePromptTemplate(prompt=PromptTemplate(input_variables=['task', 'lazy_prompt'], output_parser=None, partial_variables={}, template='Your goal is to improve the prompt given below for {task} :\\n--------------------\\n\\nPrompt: {lazy_prompt}\\n\\n--------------------\\n\\nHere are several tips on writing great prompts:\\n\\n-------\\n\\nStart the prompt by stating that it is an expert in the subject.\\n\\nPut instructions at the beginning of the prompt and use ### or to separate the instruction and context \\n\\nBe specific, descriptive and as detailed as possible about the desired context, outcome, length, format, style, etc \\n\\n---------\\n\\nHere\\'s an example of a great prompt:\\n\\nAs a master YouTube content creator, develop an engaging script that revolves around the theme of \"Exploring Ancient Ruins.\"\\n\\nYour script should encompass exciting discoveries, historical insights, and a sense of adventure.\\n\\nInclude a mix of on-screen narration, engaging visuals, and possibly interactions with co-hosts or experts.\\n\\nThe script should ideally result in a video of around 10-15 minutes, providing viewers with a captivating journey through the secrets of the past.\\n\\nExample:\\n\\n\"Welcome back, fellow history enthusiasts, to our channel! Today, we embark on a thrilling expedition...\"\\n\\n-----\\n\\nNow, improve the prompt.\\n\\nIMPROVED PROMPT:', template_format='f-string', validate_template=True), additional_kwargs={})])"
            ]
          },
          "metadata": {},
          "execution_count": 3
        }
      ]
    },
    {
      "cell_type": "markdown",
      "source": [
        "## Configure, Pull and RUN"
      ],
      "metadata": {
        "id": "J0g-2iMmk_iA"
      }
    },
    {
      "cell_type": "code",
      "source": [
        "import os"
      ],
      "metadata": {
        "id": "fYEiEqNBoQjL"
      },
      "execution_count": 4,
      "outputs": []
    },
    {
      "cell_type": "code",
      "source": [
        "os.environ['OPENAI_API_KEY'] =\"OPENAI_API_KEY\""
      ],
      "metadata": {
        "id": "0VTEJWrghbtc"
      },
      "execution_count": 5,
      "outputs": []
    },
    {
      "cell_type": "code",
      "source": [
        "from langchain import hub\n",
        "import openai\n",
        "\n",
        "# pull a chat prompt\n",
        "prompt = hub.pull(\"datasciencebasics/aws-s3\")\n",
        "\n",
        "# create a model to use it with\n",
        "from langchain.chat_models import ChatOpenAI\n",
        "model = ChatOpenAI()\n",
        "\n",
        "# use it in a runnable\n",
        "runnable = prompt | model\n",
        "runnable.invoke({\n",
        "\t\"task\": \"code generation\",\n",
        "\t\"lazy_prompt\": \"Write a python code to upload data into S3 bucket\",\n",
        "})"
      ],
      "metadata": {
        "colab": {
          "base_uri": "https://localhost:8080/"
        },
        "id": "lbesVc4ulLO5",
        "outputId": "fd7c0dc4-806d-4fb8-8fc5-c8c45749cae4"
      },
      "execution_count": 6,
      "outputs": [
        {
          "output_type": "execute_result",
          "data": {
            "text/plain": [
              "AIMessage(content='As an expert in Python programming, write a detailed Python code that demonstrates how to upload data into an S3 bucket.\\n\\n### Instructions:\\n- Begin by importing the necessary Python libraries for interacting with AWS services.\\n- Set up the AWS credentials and configure the S3 client with the appropriate region.\\n- Specify the name of the S3 bucket where you want to upload the data.\\n- Write a function that takes the local file path as input and uploads the file to the S3 bucket.\\n- Test the function by uploading a sample file to the S3 bucket.\\n- Include comments in your code to explain each step and provide clarity.\\n- Ensure that your code is well-structured and follows best practices.\\n\\n### Context:\\nUploading data to an S3 bucket is a common task when working with AWS and cloud storage. S3 (Simple Storage Service) is an object storage service that allows you to store and retrieve large amounts of data. By uploading data to an S3 bucket, you can securely store files, create backups, or share data with other users.\\n\\n### Outcome:\\nThe Python code you write should successfully upload a file to the specified S3 bucket when executed. The code should handle any necessary authentication and provide appropriate error handling. It should demonstrate your understanding of AWS services and Python programming.\\n\\n### Length:\\nThe Python code should be well-documented and comprehensive. It should include all the necessary steps to upload data to an S3 bucket.\\n\\n### Format:\\nYou can write the Python code as a standalone script or as a function. If writing a script, include any required dependencies or libraries in the code. If writing a function, mention any necessary imports in the code or in a separate comment section.\\n\\n### Style:\\nPlease follow Python coding conventions and best practices while writing the code. Use clear variable names, include comments to explain complex parts, and ensure readability.\\n\\nRemember to test your code and verify that it successfully uploads the data to the specified S3 bucket.', additional_kwargs={}, example=False)"
            ]
          },
          "metadata": {},
          "execution_count": 6
        }
      ]
    },
    {
      "cell_type": "code",
      "source": [
        "from langchain import hub\n",
        "import openai\n",
        "\n",
        "# pull a chat prompt\n",
        "prompt = hub.pull(\"datasciencebasics/aws-s3\")\n",
        "\n",
        "# create a model to use it with\n",
        "from langchain.chat_models import ChatOpenAI\n",
        "model = ChatOpenAI()\n",
        "\n",
        "# use it in a runnable\n",
        "runnable = prompt | model\n",
        "response = runnable.invoke({\n",
        "\t\"task\": \"code generation\",\n",
        "\t\"lazy_prompt\": \"Write a python code to upload data into S3 bucket\",\n",
        "})"
      ],
      "metadata": {
        "id": "XZEcErpXr98h"
      },
      "execution_count": 10,
      "outputs": []
    },
    {
      "cell_type": "code",
      "source": [
        "response.content"
      ],
      "metadata": {
        "colab": {
          "base_uri": "https://localhost:8080/",
          "height": 122
        },
        "id": "QSxhp44unQ3g",
        "outputId": "6c85117f-4f4b-40fd-dd2a-d3e86506887b"
      },
      "execution_count": 11,
      "outputs": [
        {
          "output_type": "execute_result",
          "data": {
            "text/plain": [
              "'As an expert Python developer with extensive knowledge of working with cloud storage, write a Python code snippet that demonstrates how to upload data into an S3 bucket.\\n\\n### Instructions:\\n- Your code should be written in Python.\\n- Use the boto3 library to interact with the AWS S3 service.\\n- Implement a function called `upload_to_s3` that takes the following parameters:\\n  - `file_path` (string): The local file path of the data to be uploaded.\\n  - `bucket_name` (string): The name of the S3 bucket where the data will be uploaded.\\n  - `object_name` (string): The name of the object under which the data will be stored in the S3 bucket.\\n- Your function should upload the data from the specified `file_path` to the specified S3 bucket and object name.\\n- Return a boolean value indicating the success or failure of the upload operation.\\n\\n### Example:\\n```python\\nimport boto3\\n\\ndef upload_to_s3(file_path, bucket_name, object_name):\\n    s3_client = boto3.client(\\'s3\\')\\n    \\n    try:\\n        s3_client.upload_file(file_path, bucket_name, object_name)\\n        return True\\n    except Exception as e:\\n        print(f\"Upload failed: {str(e)}\")\\n        return False\\n\\n# Usage example\\nfile_path = \"/path/to/local/file.txt\"\\nbucket_name = \"my-s3-bucket\"\\nobject_name = \"folder/file.txt\"\\n\\nsuccess = upload_to_s3(file_path, bucket_name, object_name)\\nif success:\\n    print(\"Upload successful\")\\nelse:\\n    print(\"Upload failed\")\\n```\\n\\n### Remember to include any necessary import statements and provide a clear example of how to use the `upload_to_s3` function.'"
            ],
            "application/vnd.google.colaboratory.intrinsic+json": {
              "type": "string"
            }
          },
          "metadata": {},
          "execution_count": 11
        }
      ]
    },
    {
      "cell_type": "code",
      "source": [
        "import re\n",
        "\n",
        "# Extract the content\n",
        "content = response.content\n",
        "\n",
        "# Remove markdown-style formatting\n",
        "formatted_prompt = re.sub(r'\\n#+\\s*([^#]+)\\s*\\n+', r'\\n\\1\\n', content)\n",
        "\n",
        "# Print the formatted content\n",
        "print(formatted_prompt)"
      ],
      "metadata": {
        "colab": {
          "base_uri": "https://localhost:8080/"
        },
        "id": "wpxdyR1RsfTU",
        "outputId": "49eb11d5-256d-4466-c747-f0086cbf1214"
      },
      "execution_count": 12,
      "outputs": [
        {
          "output_type": "stream",
          "name": "stdout",
          "text": [
            "As an expert Python developer with extensive knowledge of working with cloud storage, write a Python code snippet that demonstrates how to upload data into an S3 bucket.\n",
            "\n",
            "Instructions:\n",
            "- Your code should be written in Python.\n",
            "- Use the boto3 library to interact with the AWS S3 service.\n",
            "- Implement a function called `upload_to_s3` that takes the following parameters:\n",
            "  - `file_path` (string): The local file path of the data to be uploaded.\n",
            "  - `bucket_name` (string): The name of the S3 bucket where the data will be uploaded.\n",
            "  - `object_name` (string): The name of the object under which the data will be stored in the S3 bucket.\n",
            "- Your function should upload the data from the specified `file_path` to the specified S3 bucket and object name.\n",
            "- Return a boolean value indicating the success or failure of the upload operation.\n",
            "\n",
            "### Example:\n",
            "```python\n",
            "import boto3\n",
            "\n",
            "def upload_to_s3(file_path, bucket_name, object_name):\n",
            "    s3_client = boto3.client('s3')\n",
            "    \n",
            "    try:\n",
            "        s3_client.upload_file(file_path, bucket_name, object_name)\n",
            "        return True\n",
            "    except Exception as e:\n",
            "        print(f\"Upload failed: {str(e)}\")\n",
            "        return False\n",
            "\n",
            "Usage example\n",
            "file_path = \"/path/to/local/file.txt\"\n",
            "bucket_name = \"my-s3-bucket\"\n",
            "object_name = \"folder/file.txt\"\n",
            "\n",
            "success = upload_to_s3(file_path, bucket_name, object_name)\n",
            "if success:\n",
            "    print(\"Upload successful\")\n",
            "else:\n",
            "    print(\"Upload failed\")\n",
            "```\n",
            "\n",
            "### Remember to include any necessary import statements and provide a clear example of how to use the `upload_to_s3` function.\n"
          ]
        }
      ]
    },
    {
      "cell_type": "markdown",
      "source": [
        "## PUSH a prompt"
      ],
      "metadata": {
        "id": "PDPtLqp3tJ1b"
      }
    },
    {
      "cell_type": "code",
      "source": [
        "os.environ['LANGCHAIN_HUB_API_KEY']=\"LANGCHAIN_HUB_API_KEY\""
      ],
      "metadata": {
        "id": "GMzYPXwMqTOV"
      },
      "execution_count": 8,
      "outputs": []
    },
    {
      "cell_type": "code",
      "source": [
        "from langchain import hub\n",
        "from langchain.prompts.chat import ChatPromptTemplate\n",
        "\n",
        "prompt = ChatPromptTemplate.from_template(\"tell me a joke about {topic}\")\n",
        "\n",
        "hub.push(\"datasciencebasics/topic-joke-generator\", prompt)"
      ],
      "metadata": {
        "colab": {
          "base_uri": "https://localhost:8080/",
          "height": 35
        },
        "id": "jDLO_QMCqWeI",
        "outputId": "56955048-dc17-4126-ee55-98a032b6422a"
      },
      "execution_count": 9,
      "outputs": [
        {
          "output_type": "execute_result",
          "data": {
            "text/plain": [
              "'https://smith.langchain.com/hub/datasciencebasics/topic-joke-generator/57a4ac7e'"
            ],
            "application/vnd.google.colaboratory.intrinsic+json": {
              "type": "string"
            }
          },
          "metadata": {},
          "execution_count": 9
        }
      ]
    },
    {
      "cell_type": "code",
      "source": [],
      "metadata": {
        "id": "2Lavfk9Xqfj6"
      },
      "execution_count": null,
      "outputs": []
    }
  ]
}