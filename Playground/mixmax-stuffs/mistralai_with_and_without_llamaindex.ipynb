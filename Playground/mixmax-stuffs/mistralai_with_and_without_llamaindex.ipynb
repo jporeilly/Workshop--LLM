{
  "cells": [
    {
      "cell_type": "markdown",
      "metadata": {
        "id": "view-in-github",
        "colab_type": "text"
      },
      "source": [
        "<a href=\"https://colab.research.google.com/github/sudarshan-koirala/youtube-stuffs/blob/main/mistralai_with_and_without_llamaindex.ipynb\" target=\"_parent\"><img src=\"https://colab.research.google.com/assets/colab-badge.svg\" alt=\"Open In Colab\"/></a>"
      ]
    },
    {
      "cell_type": "markdown",
      "source": [
        "# MistralAI API Usage\n",
        "- [Console link](https://console.mistral.ai/)"
      ],
      "metadata": {
        "id": "ZIu2ScSvCJx7"
      },
      "id": "ZIu2ScSvCJx7"
    },
    {
      "cell_type": "markdown",
      "source": [
        "- [Mistral Pricing](https://docs.mistral.ai/platform/pricing)\n",
        "- [Openai Pricing](https://openai.com/pricing)"
      ],
      "metadata": {
        "id": "g-YftgbrGSLm"
      },
      "id": "g-YftgbrGSLm"
    },
    {
      "cell_type": "code",
      "execution_count": null,
      "id": "50fc1a30",
      "metadata": {
        "id": "50fc1a30"
      },
      "outputs": [],
      "source": [
        "%%capture\n",
        "!pip install mistralai llama-index watermark"
      ]
    },
    {
      "cell_type": "code",
      "source": [
        "%reload_ext watermark\n",
        "%watermark -a \"Sudarshan Koirala\" -vmp llama_index,mistralai"
      ],
      "metadata": {
        "colab": {
          "base_uri": "https://localhost:8080/"
        },
        "id": "Wf4gkPmv-wWE",
        "outputId": "1430b55a-25b0-46eb-dada-a7b8237c43eb"
      },
      "id": "Wf4gkPmv-wWE",
      "execution_count": 49,
      "outputs": [
        {
          "output_type": "stream",
          "name": "stdout",
          "text": [
            "Author: Sudarshan Koirala\n",
            "\n",
            "Python implementation: CPython\n",
            "Python version       : 3.10.12\n",
            "IPython version      : 7.34.0\n",
            "\n",
            "llama_index: 0.9.15.post2\n",
            "mistralai  : 0.0.8\n",
            "\n",
            "Compiler    : GCC 11.4.0\n",
            "OS          : Linux\n",
            "Release     : 6.1.58+\n",
            "Machine     : x86_64\n",
            "Processor   : x86_64\n",
            "CPU cores   : 2\n",
            "Architecture: 64bit\n",
            "\n"
          ]
        }
      ]
    },
    {
      "cell_type": "code",
      "source": [
        "# get API key -> https://console.mistral.ai/users/api-keys/\n",
        "import os\n",
        "os.environ['MISTRAL_API_KEY'] =\"MISTRAL_API_KEY\"\n",
        "api_key = os.environ[\"MISTRAL_API_KEY\"]"
      ],
      "metadata": {
        "id": "AP3zr5DTwOMJ"
      },
      "id": "AP3zr5DTwOMJ",
      "execution_count": null,
      "outputs": []
    },
    {
      "cell_type": "markdown",
      "source": [
        "[MistralAI Platform](https://docs.mistral.ai/platform/overview)\n",
        "- Client Code\n",
        "- Endpoints\n",
        "- Guardrailing\n",
        "- Pricing"
      ],
      "metadata": {
        "id": "czlzwrwFEva-"
      },
      "id": "czlzwrwFEva-"
    },
    {
      "cell_type": "markdown",
      "source": [
        "## Chat Completions"
      ],
      "metadata": {
        "id": "ov3z_sDwFcxp"
      },
      "id": "ov3z_sDwFcxp"
    },
    {
      "cell_type": "code",
      "source": [
        "from mistralai.client import MistralClient\n",
        "from mistralai.models.chat_completion import ChatMessage\n",
        "\n",
        "model = \"mistral-tiny\"\n",
        "\n",
        "client = MistralClient(api_key=api_key)\n",
        "\n",
        "messages = [\n",
        "    ChatMessage(role=\"user\", content=\"What is the capital of Nepal?\")\n",
        "]\n",
        "\n",
        "# No streaming\n",
        "chat_response = client.chat(\n",
        "    model=model,\n",
        "    messages=messages,\n",
        ")\n",
        "\n",
        "chat_response"
      ],
      "metadata": {
        "id": "ffrF8fvAFRjw",
        "colab": {
          "base_uri": "https://localhost:8080/"
        },
        "outputId": "68ff6b56-5270-4bd3-93a1-6b4c989643c3"
      },
      "id": "ffrF8fvAFRjw",
      "execution_count": 50,
      "outputs": [
        {
          "output_type": "execute_result",
          "data": {
            "text/plain": [
              "ChatCompletionResponse(id='cmpl-44b1a630f3df4239b5ce851f92fe864a', object='chat.completion', created=1702826188, model='mistral-tiny', choices=[ChatCompletionResponseChoice(index=0, message=ChatMessage(role='assistant', content='The capital city of Nepal is Kathmandu. It is the largest city and the political and cultural center of the country. Located in the central part of Nepal, Kathmandu is famous for its rich history, beautiful temples, and vibrant markets. Its metropolitan area has a population of about 1.5 million people.'), finish_reason=<FinishReason.stop: 'stop'>)], usage=UsageInfo(prompt_tokens=16, total_tokens=87, completion_tokens=71))"
            ]
          },
          "metadata": {},
          "execution_count": 50
        }
      ]
    },
    {
      "cell_type": "code",
      "source": [
        "# With streaming\n",
        "for chunk in client.chat_stream(model=model, messages=messages):\n",
        "    print(chunk)"
      ],
      "metadata": {
        "id": "vXWBgu0KFWbn",
        "colab": {
          "base_uri": "https://localhost:8080/"
        },
        "outputId": "5cb4e06f-6386-4a13-c759-7ea71d80fe8f"
      },
      "id": "vXWBgu0KFWbn",
      "execution_count": 51,
      "outputs": [
        {
          "output_type": "stream",
          "name": "stdout",
          "text": [
            "id='cmpl-989ee6a40854409d9e6d9a16fc582563' model='mistral-tiny' choices=[ChatCompletionResponseStreamChoice(index=0, delta=DeltaMessage(role='assistant', content=None), finish_reason=None)] created=None object=None usage=None\n",
            "id='cmpl-989ee6a40854409d9e6d9a16fc582563' model='mistral-tiny' choices=[ChatCompletionResponseStreamChoice(index=0, delta=DeltaMessage(role=None, content='The capital city of Nep'), finish_reason=None)] created=1702826216 object='chat.completion.chunk' usage=None\n",
            "id='cmpl-989ee6a40854409d9e6d9a16fc582563' model='mistral-tiny' choices=[ChatCompletionResponseStreamChoice(index=0, delta=DeltaMessage(role=None, content='al is Kathmandu. It is the largest city and'), finish_reason=None)] created=1702826216 object='chat.completion.chunk' usage=None\n",
            "id='cmpl-989ee6a40854409d9e6d9a16fc582563' model='mistral-tiny' choices=[ChatCompletionResponseStreamChoice(index=0, delta=DeltaMessage(role=None, content=' the political and cultural center of the country. Kathmandu is'), finish_reason=None)] created=1702826216 object='chat.completion.chunk' usage=None\n",
            "id='cmpl-989ee6a40854409d9e6d9a16fc582563' model='mistral-tiny' choices=[ChatCompletionResponseStreamChoice(index=0, delta=DeltaMessage(role=None, content=' located in the central part of Nepal and is home to'), finish_reason=None)] created=1702826216 object='chat.completion.chunk' usage=None\n",
            "id='cmpl-989ee6a40854409d9e6d9a16fc582563' model='mistral-tiny' choices=[ChatCompletionResponseStreamChoice(index=0, delta=DeltaMessage(role=None, content=' several UNESCO World Heritage Sites'), finish_reason=None)] created=1702826216 object='chat.completion.chunk' usage=None\n",
            "id='cmpl-989ee6a40854409d9e6d9a16fc582563' model='mistral-tiny' choices=[ChatCompletionResponseStreamChoice(index=0, delta=DeltaMessage(role=None, content=', including the historic Kath'), finish_reason=None)] created=1702826216 object='chat.completion.chunk' usage=None\n",
            "id='cmpl-989ee6a40854409d9e6d9a16fc582563' model='mistral-tiny' choices=[ChatCompletionResponseStreamChoice(index=0, delta=DeltaMessage(role=None, content='mandu Durbar Square and the sacred Buddhist and Hindu'), finish_reason=None)] created=1702826216 object='chat.completion.chunk' usage=None\n",
            "id='cmpl-989ee6a40854409d9e6d9a16fc582563' model='mistral-tiny' choices=[ChatCompletionResponseStreamChoice(index=0, delta=DeltaMessage(role=None, content=' sites'), finish_reason=None)] created=1702826216 object='chat.completion.chunk' usage=None\n",
            "id='cmpl-989ee6a40854409d9e6d9a16fc582563' model='mistral-tiny' choices=[ChatCompletionResponseStreamChoice(index=0, delta=DeltaMessage(role=None, content=' of Swayambhunath and Pashupatin'), finish_reason=None)] created=1702826216 object='chat.completion.chunk' usage=None\n",
            "id='cmpl-989ee6a40854409d9e6d9a16fc582563' model='mistral-tiny' choices=[ChatCompletionResponseStreamChoice(index=0, delta=DeltaMessage(role=None, content='ath Temple.'), finish_reason=None)] created=1702826216 object='chat.completion.chunk' usage=None\n",
            "id='cmpl-989ee6a40854409d9e6d9a16fc582563' model='mistral-tiny' choices=[ChatCompletionResponseStreamChoice(index=0, delta=DeltaMessage(role=None, content=''), finish_reason=<FinishReason.stop: 'stop'>)] created=1702826216 object='chat.completion.chunk' usage=None\n"
          ]
        }
      ]
    },
    {
      "cell_type": "markdown",
      "source": [
        "## Embeddings"
      ],
      "metadata": {
        "id": "QXYYbOenFVzk"
      },
      "id": "QXYYbOenFVzk"
    },
    {
      "cell_type": "code",
      "source": [
        "from mistralai.client import MistralClient\n",
        "\n",
        "client = MistralClient(api_key=api_key)\n",
        "\n",
        "embeddings_batch_response = client.embeddings(\n",
        "      model=\"mistral-embed\",\n",
        "      input=[\"The capital city of Nepal is Kathmandu.\"],\n",
        "  )"
      ],
      "metadata": {
        "id": "knXPh-fxFjCb"
      },
      "id": "knXPh-fxFjCb",
      "execution_count": 52,
      "outputs": []
    },
    {
      "cell_type": "code",
      "source": [
        "# get the length of embeddings\n",
        "first_embedding = embeddings_batch_response.data[0].embedding\n",
        "length_of_embedding = len(first_embedding)\n",
        "print(length_of_embedding)"
      ],
      "metadata": {
        "colab": {
          "base_uri": "https://localhost:8080/"
        },
        "id": "h3HFeyf_EZcu",
        "outputId": "d945e5c7-5f03-4a20-9efa-c02b982cd892"
      },
      "id": "h3HFeyf_EZcu",
      "execution_count": 53,
      "outputs": [
        {
          "output_type": "stream",
          "name": "stdout",
          "text": [
            "1024\n"
          ]
        }
      ]
    },
    {
      "cell_type": "code",
      "source": [
        "# first 5 dimensions\n",
        "first_embedding[:5]"
      ],
      "metadata": {
        "colab": {
          "base_uri": "https://localhost:8080/"
        },
        "id": "YJdflpb2Exed",
        "outputId": "a5f827d8-ccc3-43f4-84a1-31f6f6d47117"
      },
      "id": "YJdflpb2Exed",
      "execution_count": 54,
      "outputs": [
        {
          "output_type": "execute_result",
          "data": {
            "text/plain": [
              "[-0.0099029541015625,\n",
              " 0.0233001708984375,\n",
              " 0.03973388671875,\n",
              " 0.01375579833984375,\n",
              " 0.038421630859375]"
            ]
          },
          "metadata": {},
          "execution_count": 54
        }
      ]
    },
    {
      "cell_type": "markdown",
      "source": [
        "# [Guardrailing](https://docs.mistral.ai/platform/guardrailing)\n",
        "- Toggling `safe_mode` will prepend your messages with the following system prompt\n",
        "```\n",
        "Always assist with care, respect, and truth. Respond with utmost utility yet securely. Avoid harmful, unethical, prejudiced, or negative content. Ensure replies promote fairness and positivity.\n",
        "```"
      ],
      "metadata": {
        "id": "Gkmzaoi-F8La"
      },
      "id": "Gkmzaoi-F8La"
    },
    {
      "cell_type": "code",
      "source": [
        "client = MistralClient(api_key=api_key)\n",
        "\n",
        "messages = [\n",
        "    ChatMessage(role=\"user\", content=\"What is the capital of Nepal?\")\n",
        "]\n",
        "\n",
        "chat_response = client.chat(\n",
        "    model=\"mistral-tiny\",\n",
        "    messages= messages,\n",
        "    safe_mode=True\n",
        ")\n",
        "\n",
        "chat_response"
      ],
      "metadata": {
        "id": "kuiMTIAEGEfB",
        "colab": {
          "base_uri": "https://localhost:8080/"
        },
        "outputId": "340083f6-5cdd-41ad-e5c0-74746092e2a4"
      },
      "id": "kuiMTIAEGEfB",
      "execution_count": 55,
      "outputs": [
        {
          "output_type": "execute_result",
          "data": {
            "text/plain": [
              "ChatCompletionResponse(id='cmpl-5a6579cd008f4bd1b3c2cbdea070f1a2', object='chat.completion', created=1702826332, model='mistral-tiny', choices=[ChatCompletionResponseChoice(index=0, message=ChatMessage(role='assistant', content='The capital city of Nepal is Kathmandu. It is the largest city and the political and cultural center of the country. Kathmandu is located in the central part of Nepal and is known for its rich history, beautiful temples, and vibrant markets.'), finish_reason=<FinishReason.stop: 'stop'>)], usage=UsageInfo(prompt_tokens=62, total_tokens=117, completion_tokens=55))"
            ]
          },
          "metadata": {},
          "execution_count": 55
        }
      ]
    },
    {
      "cell_type": "code",
      "source": [],
      "metadata": {
        "id": "o4KF9bJ0w5yB"
      },
      "id": "o4KF9bJ0w5yB",
      "execution_count": null,
      "outputs": []
    },
    {
      "cell_type": "markdown",
      "source": [
        "# MistralAI with LlamaIndex"
      ],
      "metadata": {
        "id": "ew3E8xx6wdz6"
      },
      "id": "ew3E8xx6wdz6"
    },
    {
      "cell_type": "markdown",
      "source": [
        "## MistralAI Embedding Model"
      ],
      "metadata": {
        "id": "OQjxYHxLvjRP"
      },
      "id": "OQjxYHxLvjRP"
    },
    {
      "cell_type": "code",
      "source": [
        "from llama_index.embeddings import MistralAIEmbedding"
      ],
      "metadata": {
        "id": "MmX73U3BwDt0"
      },
      "id": "MmX73U3BwDt0",
      "execution_count": 56,
      "outputs": []
    },
    {
      "cell_type": "code",
      "source": [
        "model_name = \"mistral-embed\"\n",
        "embed_model = MistralAIEmbedding(model_name=model_name, api_key=api_key)\n",
        "\n",
        "embeddings = embed_model.get_text_embedding(\"The capital of Nepal is Kathmandu.\")"
      ],
      "metadata": {
        "id": "oHJojUCkwEdN"
      },
      "id": "oHJojUCkwEdN",
      "execution_count": 57,
      "outputs": []
    },
    {
      "cell_type": "code",
      "source": [
        "embeddings[:5]"
      ],
      "metadata": {
        "id": "E4qMW8z2wJ1A",
        "colab": {
          "base_uri": "https://localhost:8080/"
        },
        "outputId": "793e0a6f-cd7a-4723-a684-269f8488f063"
      },
      "id": "E4qMW8z2wJ1A",
      "execution_count": 58,
      "outputs": [
        {
          "output_type": "execute_result",
          "data": {
            "text/plain": [
              "[-0.0015850067138671875,\n",
              " 0.022247314453125,\n",
              " 0.04425048828125,\n",
              " 0.0074310302734375,\n",
              " 0.036407470703125]"
            ]
          },
          "metadata": {},
          "execution_count": 58
        }
      ]
    },
    {
      "cell_type": "markdown",
      "id": "72ed6f61-28a7-4f90-8a45-e3f452f95dbd",
      "metadata": {
        "id": "72ed6f61-28a7-4f90-8a45-e3f452f95dbd"
      },
      "source": [
        "## MistralAI LLMs"
      ]
    },
    {
      "cell_type": "markdown",
      "id": "b81a3ef6-2ee5-460d-9aa4-f73708774014",
      "metadata": {
        "id": "b81a3ef6-2ee5-460d-9aa4-f73708774014"
      },
      "source": [
        "#### Call `complete` with a prompt"
      ]
    },
    {
      "cell_type": "code",
      "execution_count": 59,
      "id": "910b50ad-c55e-487e-8808-5905dfaa78b4",
      "metadata": {
        "id": "910b50ad-c55e-487e-8808-5905dfaa78b4"
      },
      "outputs": [],
      "source": [
        "from llama_index.llms import MistralAI\n",
        "\n",
        "llm = MistralAI(api_key=api_key)\n",
        "resp = llm.complete(\"Paul Graham is \")"
      ]
    },
    {
      "cell_type": "code",
      "source": [
        "resp"
      ],
      "metadata": {
        "colab": {
          "base_uri": "https://localhost:8080/"
        },
        "id": "Vjz2U9wrHyAR",
        "outputId": "466de3f1-297c-4eae-a5d9-47efbf2f511f"
      },
      "id": "Vjz2U9wrHyAR",
      "execution_count": 60,
      "outputs": [
        {
          "output_type": "execute_result",
          "data": {
            "text/plain": [
              "CompletionResponse(text='Paul Graham is a well-known entrepreneur, hacker, and essayist. He co-founded the startup incubator Y Combinator in 2005, which has since become one of the most prominent startups accelerators in the world. Graham is also known for his essays on entrepreneurship, programming, and startups, which have been published on his website, Hacker News, and in various publications. He has been described as a \"pioneer of the startup scene in Silicon Valley\" and a \"leading figure in the Y Combinator startup community.\" Graham\\'s essays have influenced many entrepreneurs and startups, and he is considered a thought leader in the tech industry.', additional_kwargs={}, raw={'id': 'cmpl-b850e1fb78274e88a39b960c8f5fc859', 'object': 'chat.completion', 'created': 1702826448, 'model': 'mistral-tiny', 'choices': [ChatCompletionResponseChoice(index=0, message=ChatMessage(role='assistant', content='Paul Graham is a well-known entrepreneur, hacker, and essayist. He co-founded the startup incubator Y Combinator in 2005, which has since become one of the most prominent startups accelerators in the world. Graham is also known for his essays on entrepreneurship, programming, and startups, which have been published on his website, Hacker News, and in various publications. He has been described as a \"pioneer of the startup scene in Silicon Valley\" and a \"leading figure in the Y Combinator startup community.\" Graham\\'s essays have influenced many entrepreneurs and startups, and he is considered a thought leader in the tech industry.'), finish_reason=<FinishReason.stop: 'stop'>)], 'usage': UsageInfo(prompt_tokens=11, total_tokens=157, completion_tokens=146)}, delta=None)"
            ]
          },
          "metadata": {},
          "execution_count": 60
        }
      ]
    },
    {
      "cell_type": "markdown",
      "id": "d6ad0a98-92dd-48fd-9823-175d701c1ab2",
      "metadata": {
        "id": "d6ad0a98-92dd-48fd-9823-175d701c1ab2"
      },
      "source": [
        "#### Call `chat` with a list of messages"
      ]
    },
    {
      "cell_type": "code",
      "execution_count": 61,
      "id": "5fd3137b-05ce-40a5-bdb0-5ce048f5ca25",
      "metadata": {
        "id": "5fd3137b-05ce-40a5-bdb0-5ce048f5ca25"
      },
      "outputs": [],
      "source": [
        "from llama_index.llms import ChatMessage\n",
        "\n",
        "messages = [\n",
        "    ChatMessage(role=\"system\", content=\"You are CEO of MistralAI.\"),\n",
        "    ChatMessage(role=\"user\", content=\"Tell me the story about La plateforme\"),\n",
        "]\n",
        "resp = llm.chat(messages)"
      ]
    },
    {
      "cell_type": "code",
      "execution_count": 62,
      "id": "0d38e262-c98d-4780-aef0-efc00c251da6",
      "metadata": {
        "id": "0d38e262-c98d-4780-aef0-efc00c251da6",
        "outputId": "e4af653d-0fea-4af3-94ea-b4cd5f2785cc",
        "colab": {
          "base_uri": "https://localhost:8080/"
        }
      },
      "outputs": [
        {
          "output_type": "stream",
          "name": "stdout",
          "text": [
            "assistant: Once upon a time, in the heart of Paris, France, a team of passionate researchers and engineers came together with a bold vision: to build an artificial intelligence (AI) company that would revolutionize the way businesses and organizations create, innovate, and grow. This team formed the core of Mistral AI.\n",
            "\n",
            "La plateforme, as we came to call it, was the flagship project of Mistral AI. It was an ambitious endeavor to build a cutting-edge AI platform that would enable businesses to harness the power of AI and deep learning technologies, without requiring extensive expertise in these fields. Our goal was to make AI accessible to everyone, regardless of their size or industry.\n",
            "\n",
            "The journey to create La plateforme was filled with challenges and breakthroughs. Our team spent countless hours researching, experimenting, and refining our approach. We drew inspiration from the latest advancements in AI and deep learning, as well as the unique needs and challenges of businesses.\n",
            "\n",
            "One of the key breakthroughs came when we developed a novel approach to transfer learning, which allowed our AI models to learn from vast amounts of data and adapt to new tasks more efficiently. This was a game-changer, as it significantly reduced the time and resources required to train AI models for specific business applications.\n",
            "\n",
            "Another major milestone was the development of our user-friendly interface, which made it easy for businesses to interact with our AI models and integrate them into their workflows. We also built a robust set of APIs and SDKs, allowing developers to easily integrate our AI capabilities into their own applications.\n",
            "\n",
            "As we continued to refine and improve La plateforme, we began to attract the attention of businesses and organizations from various industries. They were impressed by our ability to deliver custom AI solutions that could help them streamline their operations, improve customer experiences, and drive innovation.\n",
            "\n",
            "Word of our success spread, and soon, Mistral AI became a leading player in the AI industry. La plateforme was at the heart of our growth, enabling us to help businesses of all sizes and industries unlock the power of AI and deep learning.\n",
            "\n",
            "Today, La plateforme continues to evolve, as we work to stay at the forefront of AI technology and meet the ever-changing needs of our clients. We are proud of what we have achieved so far, but we are even more excited about the future and the limitless possibilities that AI holds for businesses\n"
          ]
        }
      ],
      "source": [
        "print(resp)"
      ]
    },
    {
      "cell_type": "markdown",
      "id": "56a55ce6-08e3-4534-9bae-345686308b3e",
      "metadata": {
        "id": "56a55ce6-08e3-4534-9bae-345686308b3e"
      },
      "source": [
        "## Streaming"
      ]
    },
    {
      "cell_type": "markdown",
      "id": "57901d1c-d1d4-442e-bb91-cd8f054ae2fd",
      "metadata": {
        "id": "57901d1c-d1d4-442e-bb91-cd8f054ae2fd"
      },
      "source": [
        "Using `stream_complete` endpoint"
      ]
    },
    {
      "cell_type": "code",
      "execution_count": 63,
      "id": "cd9e2b22-7e62-4f50-a9af-84453aeda071",
      "metadata": {
        "id": "cd9e2b22-7e62-4f50-a9af-84453aeda071"
      },
      "outputs": [],
      "source": [
        "resp = llm.stream_complete(\"Paul Graham is \")"
      ]
    },
    {
      "cell_type": "code",
      "execution_count": 64,
      "id": "65d68dfc-a97e-4a69-935a-e675fb7b4ed0",
      "metadata": {
        "id": "65d68dfc-a97e-4a69-935a-e675fb7b4ed0",
        "outputId": "9f8baeff-f93b-4ee1-f826-741072989891",
        "colab": {
          "base_uri": "https://localhost:8080/"
        }
      },
      "outputs": [
        {
          "output_type": "stream",
          "name": "stdout",
          "text": [
            "Paul Graham is a well-known entrepreneur, hacker, and essayist. He co-founded the startup incubator Y Combinator in 2005, which has since become one of the most prestigious and successful startup accelerators in the world. Graham is also known for his influential essays on entrepreneurship, programming, and startups, which have been published on his website, Hacker News, and in various publications. He has been described as a \"pioneer of the startup scene in Silicon Valley\" and a \"leading figure in the Y Combinator startup community.\" Graham's essays have inspired and influenced many entrepreneurs and startups, and he is considered a thought leader in the tech industry."
          ]
        }
      ],
      "source": [
        "for r in resp:\n",
        "    print(r.delta, end=\"\")"
      ]
    },
    {
      "cell_type": "code",
      "execution_count": 65,
      "id": "10b63238-8d01-48f7-b2ec-a56d23fec172",
      "metadata": {
        "id": "10b63238-8d01-48f7-b2ec-a56d23fec172"
      },
      "outputs": [],
      "source": [
        "from llama_index.llms.types import ChatMessage\n",
        "\n",
        "messages = [\n",
        "    ChatMessage(role=\"system\", content=\"You are CEO of MistralAI.\"),\n",
        "    ChatMessage(role=\"user\", content=\"Tell me the story about La plateforme\"),\n",
        "]\n",
        "resp = llm.stream_chat(messages)"
      ]
    },
    {
      "cell_type": "code",
      "execution_count": 66,
      "id": "d90ec6f2-8f49-4f96-9290-c7ed9bb8ba45",
      "metadata": {
        "id": "d90ec6f2-8f49-4f96-9290-c7ed9bb8ba45",
        "outputId": "ceb5bee9-44a7-4d08-a7ee-d4bfba914dbb",
        "colab": {
          "base_uri": "https://localhost:8080/"
        }
      },
      "outputs": [
        {
          "output_type": "stream",
          "name": "stdout",
          "text": [
            "As the CEO of MistralAI, I am proud to share the story of our flagship product, La plateforme. La plateforme, which translates to \"The Platform\" in English, is a cutting-edge artificial intelligence (AI) solution designed to revolutionize the way businesses operate and interact with their customers.\n",
            "\n",
            "The idea for La plateforme was born out of a simple yet profound observation: the world was becoming increasingly digital, and businesses needed a powerful, adaptable, and intelligent tool to navigate this new reality. Our team of visionary engineers, data scientists, and business strategists came together with a shared goal: to create an AI platform that could understand and learn from human interactions, provide personalized recommendations, and automate routine tasks.\n",
            "\n",
            "The development of La plateforme was a long and arduous journey. Our team spent countless hours researching the latest AI technologies, experimenting with different architectures, and refining our algorithms. We drew inspiration from the latest advancements in natural language processing, machine learning, and deep learning. We also worked closely with industry experts and early adopters to ensure that our platform was tailored to meet the specific needs of various businesses.\n",
            "\n",
            "La plateforme's core capabilities include:\n",
            "\n",
            "1. Natural Language Understanding: Our AI models can understand and interpret human language, allowing them to engage in meaningful conversations with customers and employees.\n",
            "2. Personalized Recommendations: Based on historical data and real-time interactions, La plateforme can provide personalized product, service, or content recommendations to individual users.\n",
            "3. Automated Tasks: La plateforme can automate routine tasks, such as scheduling appointments, processing orders, and answering frequently asked questions, freeing up valuable time for employees to focus on more complex tasks.\n",
            "4. Continuous Learning: La plateforme's AI models are designed to learn and adapt over time, improving their performance and accuracy with each interaction.\n",
            "\n",
            "The launch of La plateforme was met with great excitement and enthusiasm from the business community. Early adopters reported significant improvements in customer engagement, operational efficiency, and overall productivity. Word of our success spread quickly, and we soon found ourselves working with businesses from a diverse range of industries, including retail, healthcare, finance, and education.\n",
            "\n",
            "Today, La plateforme is a trusted partner to hundreds of businesses around the world, helping them navigate the complexities of the"
          ]
        }
      ],
      "source": [
        "for r in resp:\n",
        "    print(r.delta, end=\"\")"
      ]
    },
    {
      "cell_type": "markdown",
      "id": "d4b6ea50-d777-4174-a326-6e4e57b9ea8b",
      "metadata": {
        "id": "d4b6ea50-d777-4174-a326-6e4e57b9ea8b"
      },
      "source": [
        "## Configure Model"
      ]
    },
    {
      "cell_type": "code",
      "execution_count": 67,
      "id": "1ce3de8d-287e-402d-936f-64a106c8fac2",
      "metadata": {
        "id": "1ce3de8d-287e-402d-936f-64a106c8fac2"
      },
      "outputs": [],
      "source": [
        "llm = MistralAI(model=\"mistral-medium\", api_key=api_key)"
      ]
    },
    {
      "cell_type": "code",
      "execution_count": 68,
      "id": "f1727a8f-7653-42e9-a27b-4826e93ddfe5",
      "metadata": {
        "id": "f1727a8f-7653-42e9-a27b-4826e93ddfe5"
      },
      "outputs": [],
      "source": [
        "resp = llm.stream_complete(\"Paul Graham is \")"
      ]
    },
    {
      "cell_type": "code",
      "execution_count": 69,
      "id": "8b53c20f-bb17-4265-8fd0-8b5921a16495",
      "metadata": {
        "id": "8b53c20f-bb17-4265-8fd0-8b5921a16495",
        "outputId": "b1083691-da5f-4208-873b-168e653e2730",
        "colab": {
          "base_uri": "https://localhost:8080/"
        }
      },
      "outputs": [
        {
          "output_type": "stream",
          "name": "stdout",
          "text": [
            "Paul Graham is a well-known figure in the tech industry. He is a computer programmer, venture capitalist, and essayist. Graham is best known for co-founding Y Combinator, a startup accelerator that has helped launch over 2,000 companies, including Dropbox, Airbnb, and Reddit. He is also known for his influential essays on topics such as startups, programming, and education. Before starting Y Combinator, Graham co-founded Viaweb, an online store builder that was acquired by Yahoo in 1998. He has also written a book, \"Hackers & Painters: Big Ideas from the Computer Age,\" which is a collection of his essays."
          ]
        }
      ],
      "source": [
        "for r in resp:\n",
        "    print(r.delta, end=\"\")"
      ]
    },
    {
      "cell_type": "markdown",
      "id": "5152a2b4-78e6-47a5-933d-f5186ec0f775",
      "metadata": {
        "id": "5152a2b4-78e6-47a5-933d-f5186ec0f775"
      },
      "source": [
        "## Async"
      ]
    },
    {
      "cell_type": "code",
      "execution_count": 70,
      "id": "7df04c0e-43ee-4176-9aad-94781d0ed36d",
      "metadata": {
        "id": "7df04c0e-43ee-4176-9aad-94781d0ed36d"
      },
      "outputs": [],
      "source": [
        "resp = await llm.acomplete(\"Paul Graham is \")"
      ]
    },
    {
      "cell_type": "code",
      "execution_count": 71,
      "id": "be09c52b-604a-4f05-8f93-36e6ea882ff5",
      "metadata": {
        "id": "be09c52b-604a-4f05-8f93-36e6ea882ff5",
        "outputId": "24227683-6518-48a0-ab83-325ba6cc3f44",
        "colab": {
          "base_uri": "https://localhost:8080/"
        }
      },
      "outputs": [
        {
          "output_type": "stream",
          "name": "stdout",
          "text": [
            "Paul Graham is a well-known figure in the technology and startup world. He is a computer scientist, entrepreneur, venture capitalist, and essayist. Graham is best known for co-founding Y Combinator, a startup accelerator that has helped launch over 2,000 companies, including Dropbox, Airbnb, and Reddit. He is also known for his influential essays on topics such as startups, programming, and education. Before co-founding Y Combinator, Graham co-founded Viaweb, an online store builder that was acquired by Yahoo in 1998. He has also written a book, \"Hackers & Painters: Big Ideas from the Computer Age.\"\n"
          ]
        }
      ],
      "source": [
        "print(resp)"
      ]
    },
    {
      "cell_type": "code",
      "source": [],
      "metadata": {
        "id": "qBoICcrYM6nh"
      },
      "id": "qBoICcrYM6nh",
      "execution_count": null,
      "outputs": []
    }
  ],
  "metadata": {
    "kernelspec": {
      "display_name": "Python 3",
      "language": "python",
      "name": "python3"
    },
    "language_info": {
      "codemirror_mode": {
        "name": "ipython",
        "version": 3
      },
      "file_extension": ".py",
      "mimetype": "text/x-python",
      "name": "python",
      "nbconvert_exporter": "python",
      "pygments_lexer": "ipython3"
    },
    "vscode": {
      "interpreter": {
        "hash": "b0fa6594d8f4cbf19f97940f81e996739fb7646882a419484c72d19e05852a7e"
      }
    },
    "colab": {
      "provenance": [],
      "include_colab_link": true
    }
  },
  "nbformat": 4,
  "nbformat_minor": 5
}