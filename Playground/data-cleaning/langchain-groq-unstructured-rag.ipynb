{
 "cells": [
  {
   "cell_type": "markdown",
   "id": "a77e4616-c43b-42d4-88bf-40eeaab5e6cf",
   "metadata": {},
   "source": [
    "# Build Your Own Retrieval Augmented Generation (RAG) Bot\n",
    "\n",
    "### [Youtube video covering this notebook](https://youtu.be/m_3q3XnLlTI?si=rI9mCpNcYpVB5jZF)\n",
    "\n",
    "## Tech used\n",
    "- LangChain [link](https://www.langchain.com/)\n",
    "- Unstructured [link](https://unstructured.io/)\n",
    "- LangSmith [link](https://smith.langchain.com/)\n",
    "- Qdrant Cloud [link](https://cloud.qdrant.io)\n",
    "- Groq API [link](https://console.groq.com/playground)\n",
    "- Llama3 via Groq API\n",
    "- Fastembed [link](https://github.com/qdrant/fastembed)\n",
    "\n",
    "## File type used\n",
    "- PDF\n",
    "- Markdown"
   ]
  },
  {
   "cell_type": "markdown",
   "id": "dc2f9ec6-b56b-444c-9d9f-6f0b39973450",
   "metadata": {},
   "source": [
    "### Some important links\n",
    "- https://unstructured.io/\n",
    "- https://unstructured-io.github.io/unstructured/index.html\n",
    "- https://docs.unstructured.io/api-reference/api-services/python-sdk\n",
    "- https://www.deeplearning.ai/short-courses/preprocessing-unstructured-data-for-llm-applications/"
   ]
  },
  {
   "cell_type": "markdown",
   "id": "282b549f",
   "metadata": {},
   "source": [
    "## Setup"
   ]
  },
  {
   "cell_type": "code",
   "execution_count": 1,
   "id": "2454abe1",
   "metadata": {},
   "outputs": [
    {
     "name": "stdout",
     "output_type": "stream",
     "text": [
      "Requirement already satisfied: unstructured[all-docs] in ./.venv/lib/python3.11/site-packages (0.13.7)\n",
      "Requirement already satisfied: unstructured-client in ./.venv/lib/python3.11/site-packages (0.22.0)\n",
      "Requirement already satisfied: watermark in ./.venv/lib/python3.11/site-packages (2.4.3)\n",
      "Requirement already satisfied: langchain-groq in ./.venv/lib/python3.11/site-packages (0.1.4)\n",
      "Requirement already satisfied: langchain in ./.venv/lib/python3.11/site-packages (0.1.19)\n",
      "Requirement already satisfied: fastembed in ./.venv/lib/python3.11/site-packages (0.2.7)\n",
      "Requirement already satisfied: qdrant_client in ./.venv/lib/python3.11/site-packages (1.9.1)\n",
      "Requirement already satisfied: python-dotenv in ./.venv/lib/python3.11/site-packages (1.0.1)\n",
      "Requirement already satisfied: chardet in ./.venv/lib/python3.11/site-packages (from unstructured[all-docs]) (5.2.0)\n",
      "Requirement already satisfied: filetype in ./.venv/lib/python3.11/site-packages (from unstructured[all-docs]) (1.2.0)\n",
      "Requirement already satisfied: python-magic in ./.venv/lib/python3.11/site-packages (from unstructured[all-docs]) (0.4.27)\n",
      "Requirement already satisfied: lxml in ./.venv/lib/python3.11/site-packages (from unstructured[all-docs]) (5.2.1)\n",
      "Requirement already satisfied: nltk in ./.venv/lib/python3.11/site-packages (from unstructured[all-docs]) (3.8.1)\n",
      "Requirement already satisfied: tabulate in ./.venv/lib/python3.11/site-packages (from unstructured[all-docs]) (0.9.0)\n",
      "Requirement already satisfied: requests in ./.venv/lib/python3.11/site-packages (from unstructured[all-docs]) (2.31.0)\n",
      "Requirement already satisfied: beautifulsoup4 in ./.venv/lib/python3.11/site-packages (from unstructured[all-docs]) (4.12.3)\n",
      "Requirement already satisfied: emoji in ./.venv/lib/python3.11/site-packages (from unstructured[all-docs]) (2.11.1)\n",
      "Requirement already satisfied: dataclasses-json in ./.venv/lib/python3.11/site-packages (from unstructured[all-docs]) (0.6.5)\n",
      "Requirement already satisfied: python-iso639 in ./.venv/lib/python3.11/site-packages (from unstructured[all-docs]) (2024.4.27)\n",
      "Requirement already satisfied: langdetect in ./.venv/lib/python3.11/site-packages (from unstructured[all-docs]) (1.0.9)\n",
      "Requirement already satisfied: numpy in ./.venv/lib/python3.11/site-packages (from unstructured[all-docs]) (1.26.4)\n",
      "Requirement already satisfied: rapidfuzz in ./.venv/lib/python3.11/site-packages (from unstructured[all-docs]) (3.9.0)\n",
      "Requirement already satisfied: backoff in ./.venv/lib/python3.11/site-packages (from unstructured[all-docs]) (2.2.1)\n",
      "Requirement already satisfied: typing-extensions in ./.venv/lib/python3.11/site-packages (from unstructured[all-docs]) (4.11.0)\n",
      "Requirement already satisfied: wrapt in ./.venv/lib/python3.11/site-packages (from unstructured[all-docs]) (1.16.0)\n",
      "Requirement already satisfied: google-cloud-vision in ./.venv/lib/python3.11/site-packages (from unstructured[all-docs]) (2.7.2)\n",
      "Requirement already satisfied: pikepdf in ./.venv/lib/python3.11/site-packages (from unstructured[all-docs]) (8.15.1)\n",
      "Requirement already satisfied: pandas in ./.venv/lib/python3.11/site-packages (from unstructured[all-docs]) (2.2.2)\n",
      "Requirement already satisfied: msg-parser in ./.venv/lib/python3.11/site-packages (from unstructured[all-docs]) (1.2.0)\n",
      "Requirement already satisfied: xlrd in ./.venv/lib/python3.11/site-packages (from unstructured[all-docs]) (2.0.1)\n",
      "Requirement already satisfied: pillow-heif in ./.venv/lib/python3.11/site-packages (from unstructured[all-docs]) (0.16.0)\n",
      "Requirement already satisfied: python-pptx<=0.6.23 in ./.venv/lib/python3.11/site-packages (from unstructured[all-docs]) (0.6.23)\n",
      "Requirement already satisfied: python-docx in ./.venv/lib/python3.11/site-packages (from unstructured[all-docs]) (1.1.2)\n",
      "Requirement already satisfied: networkx in ./.venv/lib/python3.11/site-packages (from unstructured[all-docs]) (3.3)\n",
      "Requirement already satisfied: openpyxl in ./.venv/lib/python3.11/site-packages (from unstructured[all-docs]) (3.1.2)\n",
      "Requirement already satisfied: unstructured.pytesseract>=0.3.12 in ./.venv/lib/python3.11/site-packages (from unstructured[all-docs]) (0.3.12)\n",
      "Requirement already satisfied: pdfminer.six in ./.venv/lib/python3.11/site-packages (from unstructured[all-docs]) (20231228)\n",
      "Requirement already satisfied: pypandoc in ./.venv/lib/python3.11/site-packages (from unstructured[all-docs]) (1.13)\n",
      "Requirement already satisfied: unstructured-inference==0.7.31 in ./.venv/lib/python3.11/site-packages (from unstructured[all-docs]) (0.7.31)\n",
      "Requirement already satisfied: onnx in ./.venv/lib/python3.11/site-packages (from unstructured[all-docs]) (1.16.0)\n",
      "Requirement already satisfied: markdown in ./.venv/lib/python3.11/site-packages (from unstructured[all-docs]) (3.6)\n",
      "Requirement already satisfied: pypdf in ./.venv/lib/python3.11/site-packages (from unstructured[all-docs]) (4.2.0)\n",
      "Requirement already satisfied: pdf2image in ./.venv/lib/python3.11/site-packages (from unstructured[all-docs]) (1.17.0)\n",
      "Requirement already satisfied: layoutparser[layoutmodels,tesseract] in ./.venv/lib/python3.11/site-packages (from unstructured-inference==0.7.31->unstructured[all-docs]) (0.3.4)\n",
      "Requirement already satisfied: python-multipart in ./.venv/lib/python3.11/site-packages (from unstructured-inference==0.7.31->unstructured[all-docs]) (0.0.9)\n",
      "Requirement already satisfied: huggingface-hub in ./.venv/lib/python3.11/site-packages (from unstructured-inference==0.7.31->unstructured[all-docs]) (0.20.3)\n",
      "Requirement already satisfied: opencv-python!=4.7.0.68 in ./.venv/lib/python3.11/site-packages (from unstructured-inference==0.7.31->unstructured[all-docs]) (4.9.0.80)\n",
      "Requirement already satisfied: onnxruntime>=1.17.0 in ./.venv/lib/python3.11/site-packages (from unstructured-inference==0.7.31->unstructured[all-docs]) (1.17.3)\n",
      "Requirement already satisfied: transformers>=4.25.1 in ./.venv/lib/python3.11/site-packages (from unstructured-inference==0.7.31->unstructured[all-docs]) (4.39.3)\n",
      "Requirement already satisfied: certifi>=2023.7.22 in ./.venv/lib/python3.11/site-packages (from unstructured-client) (2024.2.2)\n",
      "Requirement already satisfied: charset-normalizer>=3.2.0 in ./.venv/lib/python3.11/site-packages (from unstructured-client) (3.3.2)\n",
      "Requirement already satisfied: deepdiff>=6.0 in ./.venv/lib/python3.11/site-packages (from unstructured-client) (7.0.1)\n",
      "Requirement already satisfied: idna>=3.4 in ./.venv/lib/python3.11/site-packages (from unstructured-client) (3.7)\n",
      "Requirement already satisfied: jsonpath-python>=1.0.6 in ./.venv/lib/python3.11/site-packages (from unstructured-client) (1.0.6)\n",
      "Requirement already satisfied: marshmallow>=3.19.0 in ./.venv/lib/python3.11/site-packages (from unstructured-client) (3.21.2)\n",
      "Requirement already satisfied: mypy-extensions>=1.0.0 in ./.venv/lib/python3.11/site-packages (from unstructured-client) (1.0.0)\n",
      "Requirement already satisfied: packaging>=23.1 in ./.venv/lib/python3.11/site-packages (from unstructured-client) (23.2)\n",
      "Requirement already satisfied: python-dateutil>=2.8.2 in ./.venv/lib/python3.11/site-packages (from unstructured-client) (2.9.0.post0)\n",
      "Requirement already satisfied: six>=1.16.0 in ./.venv/lib/python3.11/site-packages (from unstructured-client) (1.16.0)\n",
      "Requirement already satisfied: typing-inspect>=0.9.0 in ./.venv/lib/python3.11/site-packages (from unstructured-client) (0.9.0)\n",
      "Requirement already satisfied: urllib3>=1.26.18 in ./.venv/lib/python3.11/site-packages (from unstructured-client) (2.2.1)\n",
      "Requirement already satisfied: ipython>=6.0 in ./.venv/lib/python3.11/site-packages (from watermark) (8.24.0)\n",
      "Requirement already satisfied: importlib-metadata>=1.4 in ./.venv/lib/python3.11/site-packages (from watermark) (7.0.0)\n",
      "Requirement already satisfied: setuptools in ./.venv/lib/python3.11/site-packages (from watermark) (65.5.0)\n",
      "Requirement already satisfied: groq<1,>=0.4.1 in ./.venv/lib/python3.11/site-packages (from langchain-groq) (0.6.0)\n",
      "Requirement already satisfied: langchain-core<0.3,>=0.1.45 in ./.venv/lib/python3.11/site-packages (from langchain-groq) (0.1.52)\n",
      "Requirement already satisfied: PyYAML>=5.3 in ./.venv/lib/python3.11/site-packages (from langchain) (6.0.1)\n",
      "Requirement already satisfied: SQLAlchemy<3,>=1.4 in ./.venv/lib/python3.11/site-packages (from langchain) (2.0.30)\n",
      "Requirement already satisfied: aiohttp<4.0.0,>=3.8.3 in ./.venv/lib/python3.11/site-packages (from langchain) (3.9.5)\n",
      "Requirement already satisfied: langchain-community<0.1,>=0.0.38 in ./.venv/lib/python3.11/site-packages (from langchain) (0.0.38)\n",
      "Requirement already satisfied: langchain-text-splitters<0.1,>=0.0.1 in ./.venv/lib/python3.11/site-packages (from langchain) (0.0.1)\n",
      "Requirement already satisfied: langsmith<0.2.0,>=0.1.17 in ./.venv/lib/python3.11/site-packages (from langchain) (0.1.56)\n",
      "Requirement already satisfied: pydantic<3,>=1 in ./.venv/lib/python3.11/site-packages (from langchain) (2.7.1)\n",
      "Requirement already satisfied: tenacity<9.0.0,>=8.1.0 in ./.venv/lib/python3.11/site-packages (from langchain) (8.3.0)\n",
      "Requirement already satisfied: loguru<0.8.0,>=0.7.2 in ./.venv/lib/python3.11/site-packages (from fastembed) (0.7.2)\n",
      "Requirement already satisfied: tokenizers<0.16,>=0.15 in ./.venv/lib/python3.11/site-packages (from fastembed) (0.15.2)\n",
      "Requirement already satisfied: tqdm<5.0,>=4.66 in ./.venv/lib/python3.11/site-packages (from fastembed) (4.66.4)\n",
      "Requirement already satisfied: grpcio>=1.41.0 in ./.venv/lib/python3.11/site-packages (from qdrant_client) (1.63.0)\n",
      "Requirement already satisfied: grpcio-tools>=1.41.0 in ./.venv/lib/python3.11/site-packages (from qdrant_client) (1.63.0)\n",
      "Requirement already satisfied: httpx[http2]>=0.20.0 in ./.venv/lib/python3.11/site-packages (from qdrant_client) (0.27.0)\n",
      "Requirement already satisfied: portalocker<3.0.0,>=2.7.0 in ./.venv/lib/python3.11/site-packages (from qdrant_client) (2.8.2)\n",
      "Requirement already satisfied: aiosignal>=1.1.2 in ./.venv/lib/python3.11/site-packages (from aiohttp<4.0.0,>=3.8.3->langchain) (1.3.1)\n",
      "Requirement already satisfied: attrs>=17.3.0 in ./.venv/lib/python3.11/site-packages (from aiohttp<4.0.0,>=3.8.3->langchain) (23.2.0)\n",
      "Requirement already satisfied: frozenlist>=1.1.1 in ./.venv/lib/python3.11/site-packages (from aiohttp<4.0.0,>=3.8.3->langchain) (1.4.1)\n",
      "Requirement already satisfied: multidict<7.0,>=4.5 in ./.venv/lib/python3.11/site-packages (from aiohttp<4.0.0,>=3.8.3->langchain) (6.0.5)\n",
      "Requirement already satisfied: yarl<2.0,>=1.0 in ./.venv/lib/python3.11/site-packages (from aiohttp<4.0.0,>=3.8.3->langchain) (1.9.4)\n",
      "Requirement already satisfied: ordered-set<4.2.0,>=4.1.0 in ./.venv/lib/python3.11/site-packages (from deepdiff>=6.0->unstructured-client) (4.1.0)\n",
      "Requirement already satisfied: anyio<5,>=3.5.0 in ./.venv/lib/python3.11/site-packages (from groq<1,>=0.4.1->langchain-groq) (4.3.0)\n",
      "Requirement already satisfied: distro<2,>=1.7.0 in ./.venv/lib/python3.11/site-packages (from groq<1,>=0.4.1->langchain-groq) (1.9.0)\n",
      "Requirement already satisfied: sniffio in ./.venv/lib/python3.11/site-packages (from groq<1,>=0.4.1->langchain-groq) (1.3.1)\n",
      "Requirement already satisfied: protobuf<6.0dev,>=5.26.1 in ./.venv/lib/python3.11/site-packages (from grpcio-tools>=1.41.0->qdrant_client) (5.26.1)\n",
      "Requirement already satisfied: httpcore==1.* in ./.venv/lib/python3.11/site-packages (from httpx[http2]>=0.20.0->qdrant_client) (1.0.5)\n",
      "Requirement already satisfied: h2<5,>=3 in ./.venv/lib/python3.11/site-packages (from httpx[http2]>=0.20.0->qdrant_client) (4.1.0)\n",
      "Requirement already satisfied: h11<0.15,>=0.13 in ./.venv/lib/python3.11/site-packages (from httpcore==1.*->httpx[http2]>=0.20.0->qdrant_client) (0.14.0)\n",
      "Requirement already satisfied: filelock in ./.venv/lib/python3.11/site-packages (from huggingface-hub->unstructured-inference==0.7.31->unstructured[all-docs]) (3.14.0)\n",
      "Requirement already satisfied: fsspec>=2023.5.0 in ./.venv/lib/python3.11/site-packages (from huggingface-hub->unstructured-inference==0.7.31->unstructured[all-docs]) (2024.3.1)\n",
      "Requirement already satisfied: zipp>=0.5 in ./.venv/lib/python3.11/site-packages (from importlib-metadata>=1.4->watermark) (3.18.1)\n",
      "Requirement already satisfied: decorator in ./.venv/lib/python3.11/site-packages (from ipython>=6.0->watermark) (5.1.1)\n",
      "Requirement already satisfied: jedi>=0.16 in ./.venv/lib/python3.11/site-packages (from ipython>=6.0->watermark) (0.19.1)\n",
      "Requirement already satisfied: matplotlib-inline in ./.venv/lib/python3.11/site-packages (from ipython>=6.0->watermark) (0.1.7)\n",
      "Requirement already satisfied: prompt-toolkit<3.1.0,>=3.0.41 in ./.venv/lib/python3.11/site-packages (from ipython>=6.0->watermark) (3.0.43)\n",
      "Requirement already satisfied: pygments>=2.4.0 in ./.venv/lib/python3.11/site-packages (from ipython>=6.0->watermark) (2.18.0)\n",
      "Requirement already satisfied: stack-data in ./.venv/lib/python3.11/site-packages (from ipython>=6.0->watermark) (0.6.3)\n",
      "Requirement already satisfied: traitlets>=5.13.0 in ./.venv/lib/python3.11/site-packages (from ipython>=6.0->watermark) (5.14.3)\n",
      "Requirement already satisfied: pexpect>4.3 in ./.venv/lib/python3.11/site-packages (from ipython>=6.0->watermark) (4.9.0)\n",
      "Requirement already satisfied: jsonpatch<2.0,>=1.33 in ./.venv/lib/python3.11/site-packages (from langchain-core<0.3,>=0.1.45->langchain-groq) (1.33)\n",
      "Requirement already satisfied: orjson<4.0.0,>=3.9.14 in ./.venv/lib/python3.11/site-packages (from langsmith<0.2.0,>=0.1.17->langchain) (3.10.3)\n",
      "Requirement already satisfied: coloredlogs in ./.venv/lib/python3.11/site-packages (from onnxruntime>=1.17.0->unstructured-inference==0.7.31->unstructured[all-docs]) (15.0.1)\n",
      "Requirement already satisfied: flatbuffers in ./.venv/lib/python3.11/site-packages (from onnxruntime>=1.17.0->unstructured-inference==0.7.31->unstructured[all-docs]) (24.3.25)\n",
      "Requirement already satisfied: sympy in ./.venv/lib/python3.11/site-packages (from onnxruntime>=1.17.0->unstructured-inference==0.7.31->unstructured[all-docs]) (1.12)\n",
      "Requirement already satisfied: annotated-types>=0.4.0 in ./.venv/lib/python3.11/site-packages (from pydantic<3,>=1->langchain) (0.6.0)\n",
      "Requirement already satisfied: pydantic-core==2.18.2 in ./.venv/lib/python3.11/site-packages (from pydantic<3,>=1->langchain) (2.18.2)\n",
      "Requirement already satisfied: Pillow>=3.3.2 in ./.venv/lib/python3.11/site-packages (from python-pptx<=0.6.23->unstructured[all-docs]) (10.3.0)\n",
      "Requirement already satisfied: XlsxWriter>=0.5.7 in ./.venv/lib/python3.11/site-packages (from python-pptx<=0.6.23->unstructured[all-docs]) (3.2.0)\n",
      "Requirement already satisfied: soupsieve>1.2 in ./.venv/lib/python3.11/site-packages (from beautifulsoup4->unstructured[all-docs]) (2.5)\n",
      "Requirement already satisfied: google-api-core[grpc]!=2.0.*,!=2.1.*,!=2.2.*,!=2.3.0,<3.0.0dev,>=1.31.5 in ./.venv/lib/python3.11/site-packages (from google-cloud-vision->unstructured[all-docs]) (2.8.0)\n",
      "Requirement already satisfied: proto-plus>=1.15.0 in ./.venv/lib/python3.11/site-packages (from google-cloud-vision->unstructured[all-docs]) (1.20.4)\n",
      "Requirement already satisfied: olefile>=0.46 in ./.venv/lib/python3.11/site-packages (from msg-parser->unstructured[all-docs]) (0.47)\n",
      "Requirement already satisfied: click in ./.venv/lib/python3.11/site-packages (from nltk->unstructured[all-docs]) (8.1.7)\n",
      "Requirement already satisfied: joblib in ./.venv/lib/python3.11/site-packages (from nltk->unstructured[all-docs]) (1.4.2)\n",
      "Requirement already satisfied: regex>=2021.8.3 in ./.venv/lib/python3.11/site-packages (from nltk->unstructured[all-docs]) (2024.5.10)\n",
      "Requirement already satisfied: et-xmlfile in ./.venv/lib/python3.11/site-packages (from openpyxl->unstructured[all-docs]) (1.1.0)\n",
      "Requirement already satisfied: pytz>=2020.1 in ./.venv/lib/python3.11/site-packages (from pandas->unstructured[all-docs]) (2024.1)\n",
      "Requirement already satisfied: tzdata>=2022.7 in ./.venv/lib/python3.11/site-packages (from pandas->unstructured[all-docs]) (2024.1)\n",
      "Requirement already satisfied: cryptography>=36.0.0 in ./.venv/lib/python3.11/site-packages (from pdfminer.six->unstructured[all-docs]) (42.0.7)\n",
      "Requirement already satisfied: Deprecated in ./.venv/lib/python3.11/site-packages (from pikepdf->unstructured[all-docs]) (1.2.14)\n",
      "Requirement already satisfied: cffi>=1.12 in ./.venv/lib/python3.11/site-packages (from cryptography>=36.0.0->pdfminer.six->unstructured[all-docs]) (1.16.0)\n",
      "Requirement already satisfied: googleapis-common-protos<2.0dev,>=1.52.0 in ./.venv/lib/python3.11/site-packages (from google-api-core[grpc]!=2.0.*,!=2.1.*,!=2.2.*,!=2.3.0,<3.0.0dev,>=1.31.5->google-cloud-vision->unstructured[all-docs]) (1.56.1)\n",
      "Requirement already satisfied: google-auth<3.0dev,>=1.25.0 in ./.venv/lib/python3.11/site-packages (from google-api-core[grpc]!=2.0.*,!=2.1.*,!=2.2.*,!=2.3.0,<3.0.0dev,>=1.31.5->google-cloud-vision->unstructured[all-docs]) (2.29.0)\n",
      "Requirement already satisfied: grpcio-status<2.0dev,>=1.33.2 in ./.venv/lib/python3.11/site-packages (from google-api-core[grpc]!=2.0.*,!=2.1.*,!=2.2.*,!=2.3.0,<3.0.0dev,>=1.31.5->google-cloud-vision->unstructured[all-docs]) (1.62.2)\n",
      "Requirement already satisfied: hyperframe<7,>=6.0 in ./.venv/lib/python3.11/site-packages (from h2<5,>=3->httpx[http2]>=0.20.0->qdrant_client) (6.0.1)\n",
      "Requirement already satisfied: hpack<5,>=4.0 in ./.venv/lib/python3.11/site-packages (from h2<5,>=3->httpx[http2]>=0.20.0->qdrant_client) (4.0.0)\n",
      "Requirement already satisfied: parso<0.9.0,>=0.8.3 in ./.venv/lib/python3.11/site-packages (from jedi>=0.16->ipython>=6.0->watermark) (0.8.4)\n",
      "Requirement already satisfied: jsonpointer>=1.9 in ./.venv/lib/python3.11/site-packages (from jsonpatch<2.0,>=1.33->langchain-core<0.3,>=0.1.45->langchain-groq) (2.4)\n",
      "Requirement already satisfied: ptyprocess>=0.5 in ./.venv/lib/python3.11/site-packages (from pexpect>4.3->ipython>=6.0->watermark) (0.7.0)\n",
      "Requirement already satisfied: wcwidth in ./.venv/lib/python3.11/site-packages (from prompt-toolkit<3.1.0,>=3.0.41->ipython>=6.0->watermark) (0.2.13)\n",
      "Requirement already satisfied: safetensors>=0.4.1 in ./.venv/lib/python3.11/site-packages (from transformers>=4.25.1->unstructured-inference==0.7.31->unstructured[all-docs]) (0.4.3)\n",
      "Requirement already satisfied: humanfriendly>=9.1 in ./.venv/lib/python3.11/site-packages (from coloredlogs->onnxruntime>=1.17.0->unstructured-inference==0.7.31->unstructured[all-docs]) (10.0)\n",
      "Requirement already satisfied: scipy in ./.venv/lib/python3.11/site-packages (from layoutparser[layoutmodels,tesseract]->unstructured-inference==0.7.31->unstructured[all-docs]) (1.13.0)\n",
      "Requirement already satisfied: iopath in ./.venv/lib/python3.11/site-packages (from layoutparser[layoutmodels,tesseract]->unstructured-inference==0.7.31->unstructured[all-docs]) (0.1.10)\n",
      "Requirement already satisfied: pdfplumber in ./.venv/lib/python3.11/site-packages (from layoutparser[layoutmodels,tesseract]->unstructured-inference==0.7.31->unstructured[all-docs]) (0.11.0)\n",
      "Requirement already satisfied: torch in ./.venv/lib/python3.11/site-packages (from layoutparser[layoutmodels,tesseract]->unstructured-inference==0.7.31->unstructured[all-docs]) (2.3.0)\n",
      "Requirement already satisfied: torchvision in ./.venv/lib/python3.11/site-packages (from layoutparser[layoutmodels,tesseract]->unstructured-inference==0.7.31->unstructured[all-docs]) (0.18.0)\n",
      "Requirement already satisfied: effdet in ./.venv/lib/python3.11/site-packages (from layoutparser[layoutmodels,tesseract]->unstructured-inference==0.7.31->unstructured[all-docs]) (0.4.1)\n",
      "Requirement already satisfied: pytesseract in ./.venv/lib/python3.11/site-packages (from layoutparser[layoutmodels,tesseract]->unstructured-inference==0.7.31->unstructured[all-docs]) (0.3.10)\n",
      "Requirement already satisfied: executing>=1.2.0 in ./.venv/lib/python3.11/site-packages (from stack-data->ipython>=6.0->watermark) (2.0.1)\n",
      "Requirement already satisfied: asttokens>=2.1.0 in ./.venv/lib/python3.11/site-packages (from stack-data->ipython>=6.0->watermark) (2.4.1)\n",
      "Requirement already satisfied: pure-eval in ./.venv/lib/python3.11/site-packages (from stack-data->ipython>=6.0->watermark) (0.2.2)\n",
      "Requirement already satisfied: mpmath>=0.19 in ./.venv/lib/python3.11/site-packages (from sympy->onnxruntime>=1.17.0->unstructured-inference==0.7.31->unstructured[all-docs]) (1.3.0)\n",
      "Requirement already satisfied: pycparser in ./.venv/lib/python3.11/site-packages (from cffi>=1.12->cryptography>=36.0.0->pdfminer.six->unstructured[all-docs]) (2.22)\n",
      "Requirement already satisfied: cachetools<6.0,>=2.0.0 in ./.venv/lib/python3.11/site-packages (from google-auth<3.0dev,>=1.25.0->google-api-core[grpc]!=2.0.*,!=2.1.*,!=2.2.*,!=2.3.0,<3.0.0dev,>=1.31.5->google-cloud-vision->unstructured[all-docs]) (5.3.3)\n",
      "Requirement already satisfied: pyasn1-modules>=0.2.1 in ./.venv/lib/python3.11/site-packages (from google-auth<3.0dev,>=1.25.0->google-api-core[grpc]!=2.0.*,!=2.1.*,!=2.2.*,!=2.3.0,<3.0.0dev,>=1.31.5->google-cloud-vision->unstructured[all-docs]) (0.4.0)\n",
      "Requirement already satisfied: rsa<5,>=3.1.4 in ./.venv/lib/python3.11/site-packages (from google-auth<3.0dev,>=1.25.0->google-api-core[grpc]!=2.0.*,!=2.1.*,!=2.2.*,!=2.3.0,<3.0.0dev,>=1.31.5->google-cloud-vision->unstructured[all-docs]) (4.9)\n",
      "Requirement already satisfied: timm>=0.9.2 in ./.venv/lib/python3.11/site-packages (from effdet->layoutparser[layoutmodels,tesseract]->unstructured-inference==0.7.31->unstructured[all-docs]) (0.9.16)\n",
      "Requirement already satisfied: pycocotools>=2.0.2 in ./.venv/lib/python3.11/site-packages (from effdet->layoutparser[layoutmodels,tesseract]->unstructured-inference==0.7.31->unstructured[all-docs]) (2.0.7)\n",
      "Requirement already satisfied: omegaconf>=2.0 in ./.venv/lib/python3.11/site-packages (from effdet->layoutparser[layoutmodels,tesseract]->unstructured-inference==0.7.31->unstructured[all-docs]) (2.3.0)\n",
      "Requirement already satisfied: jinja2 in ./.venv/lib/python3.11/site-packages (from torch->layoutparser[layoutmodels,tesseract]->unstructured-inference==0.7.31->unstructured[all-docs]) (3.1.4)\n",
      "Requirement already satisfied: pypdfium2>=4.18.0 in ./.venv/lib/python3.11/site-packages (from pdfplumber->layoutparser[layoutmodels,tesseract]->unstructured-inference==0.7.31->unstructured[all-docs]) (4.30.0)\n",
      "Requirement already satisfied: antlr4-python3-runtime==4.9.* in ./.venv/lib/python3.11/site-packages (from omegaconf>=2.0->effdet->layoutparser[layoutmodels,tesseract]->unstructured-inference==0.7.31->unstructured[all-docs]) (4.9.3)\n",
      "Requirement already satisfied: pyasn1<0.7.0,>=0.4.6 in ./.venv/lib/python3.11/site-packages (from pyasn1-modules>=0.2.1->google-auth<3.0dev,>=1.25.0->google-api-core[grpc]!=2.0.*,!=2.1.*,!=2.2.*,!=2.3.0,<3.0.0dev,>=1.31.5->google-cloud-vision->unstructured[all-docs]) (0.6.0)\n",
      "Requirement already satisfied: matplotlib>=2.1.0 in ./.venv/lib/python3.11/site-packages (from pycocotools>=2.0.2->effdet->layoutparser[layoutmodels,tesseract]->unstructured-inference==0.7.31->unstructured[all-docs]) (3.8.4)\n",
      "Requirement already satisfied: MarkupSafe>=2.0 in ./.venv/lib/python3.11/site-packages (from jinja2->torch->layoutparser[layoutmodels,tesseract]->unstructured-inference==0.7.31->unstructured[all-docs]) (2.1.5)\n",
      "Requirement already satisfied: contourpy>=1.0.1 in ./.venv/lib/python3.11/site-packages (from matplotlib>=2.1.0->pycocotools>=2.0.2->effdet->layoutparser[layoutmodels,tesseract]->unstructured-inference==0.7.31->unstructured[all-docs]) (1.2.1)\n",
      "Requirement already satisfied: cycler>=0.10 in ./.venv/lib/python3.11/site-packages (from matplotlib>=2.1.0->pycocotools>=2.0.2->effdet->layoutparser[layoutmodels,tesseract]->unstructured-inference==0.7.31->unstructured[all-docs]) (0.12.1)\n",
      "Requirement already satisfied: fonttools>=4.22.0 in ./.venv/lib/python3.11/site-packages (from matplotlib>=2.1.0->pycocotools>=2.0.2->effdet->layoutparser[layoutmodels,tesseract]->unstructured-inference==0.7.31->unstructured[all-docs]) (4.51.0)\n",
      "Requirement already satisfied: kiwisolver>=1.3.1 in ./.venv/lib/python3.11/site-packages (from matplotlib>=2.1.0->pycocotools>=2.0.2->effdet->layoutparser[layoutmodels,tesseract]->unstructured-inference==0.7.31->unstructured[all-docs]) (1.4.5)\n",
      "Requirement already satisfied: pyparsing>=2.3.1 in ./.venv/lib/python3.11/site-packages (from matplotlib>=2.1.0->pycocotools>=2.0.2->effdet->layoutparser[layoutmodels,tesseract]->unstructured-inference==0.7.31->unstructured[all-docs]) (3.1.2)\n",
      "\n",
      "\u001b[1m[\u001b[0m\u001b[34;49mnotice\u001b[0m\u001b[1;39;49m]\u001b[0m\u001b[39;49m A new release of pip available: \u001b[0m\u001b[31;49m22.3\u001b[0m\u001b[39;49m -> \u001b[0m\u001b[32;49m24.0\u001b[0m\n",
      "\u001b[1m[\u001b[0m\u001b[34;49mnotice\u001b[0m\u001b[1;39;49m]\u001b[0m\u001b[39;49m To update, run: \u001b[0m\u001b[32;49mpip install --upgrade pip\u001b[0m\n",
      "Note: you may need to restart the kernel to use updated packages.\n"
     ]
    }
   ],
   "source": [
    "#%%capture\n",
    "%pip install \"unstructured[all-docs]\" unstructured-client watermark langchain-groq langchain fastembed qdrant_client python-dotenv"
   ]
  },
  {
   "cell_type": "code",
   "execution_count": 2,
   "id": "44c93749",
   "metadata": {},
   "outputs": [],
   "source": [
    "%load_ext watermark"
   ]
  },
  {
   "cell_type": "code",
   "execution_count": 3,
   "id": "30697566-ee92-47f1-a8eb-c17848e9a03b",
   "metadata": {},
   "outputs": [],
   "source": [
    "# Warning control\n",
    "import warnings\n",
    "warnings.filterwarnings('ignore')"
   ]
  },
  {
   "cell_type": "code",
   "execution_count": 4,
   "id": "916a2cac-7bc8-4cd8-ae26-3d1076e8384b",
   "metadata": {},
   "outputs": [],
   "source": [
    "from unstructured.chunking.title import chunk_by_title\n",
    "from unstructured.partition.md import partition_md\n",
    "from unstructured.partition.pdf import partition_pdf\n",
    "from unstructured.staging.base import dict_to_elements"
   ]
  },
  {
   "cell_type": "code",
   "execution_count": 8,
   "id": "edc87392",
   "metadata": {},
   "outputs": [],
   "source": [
    "#import langchain, groq, fastembed, qdrant_client, unstructured"
   ]
  },
  {
   "cell_type": "code",
   "execution_count": 9,
   "id": "2a74718c",
   "metadata": {},
   "outputs": [
    {
     "name": "stdout",
     "output_type": "stream",
     "text": [
      "langchain    : 0.1.19\n",
      "qdrant_client: 1.9.1\n",
      "unstructured : 0.13.7\n",
      "fastembed    : 0.2.7\n",
      "groq         : 0.6.0\n",
      "\n"
     ]
    }
   ],
   "source": [
    "%watermark --iversions"
   ]
  },
  {
   "cell_type": "code",
   "execution_count": 93,
   "id": "6588244d",
   "metadata": {},
   "outputs": [
    {
     "name": "stdout",
     "output_type": "stream",
     "text": [
      "Help on package unstructured.partition in unstructured:\n",
      "\n",
      "NAME\n",
      "    unstructured.partition\n",
      "\n",
      "PACKAGE CONTENTS\n",
      "    api\n",
      "    auto\n",
      "    common\n",
      "    csv\n",
      "    doc\n",
      "    docx\n",
      "    email\n",
      "    epub\n",
      "    html\n",
      "    image\n",
      "    json\n",
      "    lang\n",
      "    md\n",
      "    model_init\n",
      "    msg\n",
      "    odt\n",
      "    org\n",
      "    pdf\n",
      "    pdf_image (package)\n",
      "    ppt\n",
      "    pptx\n",
      "    rst\n",
      "    rtf\n",
      "    strategies\n",
      "    text\n",
      "    text_type\n",
      "    tsv\n",
      "    utils (package)\n",
      "    xlsx\n",
      "    xml\n",
      "\n",
      "FILE\n",
      "    /Users/sudarshan/Documents/yt-code/youtube-stuffs/data-cleaning/.venv/lib/python3.11/site-packages/unstructured/partition/__init__.py\n",
      "\n",
      "\n"
     ]
    }
   ],
   "source": [
    "import unstructured.partition\n",
    "\n",
    "help(unstructured.partition)"
   ]
  },
  {
   "cell_type": "markdown",
   "id": "76132dfe-7360-4147-a5b1-0e571917e08b",
   "metadata": {},
   "source": [
    "## Preprocess the PDF"
   ]
  },
  {
   "cell_type": "code",
   "execution_count": 10,
   "id": "7be519e2",
   "metadata": {},
   "outputs": [
    {
     "name": "stdout",
     "output_type": "stream",
     "text": [
      "\u001b[0;31mSignature:\u001b[0m\n",
      "\u001b[0mpartition_pdf\u001b[0m\u001b[0;34m(\u001b[0m\u001b[0;34m\u001b[0m\n",
      "\u001b[0;34m\u001b[0m    \u001b[0mfilename\u001b[0m\u001b[0;34m:\u001b[0m \u001b[0;34m'str'\u001b[0m \u001b[0;34m=\u001b[0m \u001b[0;34m''\u001b[0m\u001b[0;34m,\u001b[0m\u001b[0;34m\u001b[0m\n",
      "\u001b[0;34m\u001b[0m    \u001b[0mfile\u001b[0m\u001b[0;34m:\u001b[0m \u001b[0;34m'Optional[IO[bytes]]'\u001b[0m \u001b[0;34m=\u001b[0m \u001b[0;32mNone\u001b[0m\u001b[0;34m,\u001b[0m\u001b[0;34m\u001b[0m\n",
      "\u001b[0;34m\u001b[0m    \u001b[0minclude_page_breaks\u001b[0m\u001b[0;34m:\u001b[0m \u001b[0;34m'bool'\u001b[0m \u001b[0;34m=\u001b[0m \u001b[0;32mFalse\u001b[0m\u001b[0;34m,\u001b[0m\u001b[0;34m\u001b[0m\n",
      "\u001b[0;34m\u001b[0m    \u001b[0mstrategy\u001b[0m\u001b[0;34m:\u001b[0m \u001b[0;34m'str'\u001b[0m \u001b[0;34m=\u001b[0m \u001b[0;34m'auto'\u001b[0m\u001b[0;34m,\u001b[0m\u001b[0;34m\u001b[0m\n",
      "\u001b[0;34m\u001b[0m    \u001b[0minfer_table_structure\u001b[0m\u001b[0;34m:\u001b[0m \u001b[0;34m'bool'\u001b[0m \u001b[0;34m=\u001b[0m \u001b[0;32mFalse\u001b[0m\u001b[0;34m,\u001b[0m\u001b[0;34m\u001b[0m\n",
      "\u001b[0;34m\u001b[0m    \u001b[0mocr_languages\u001b[0m\u001b[0;34m:\u001b[0m \u001b[0;34m'Optional[str]'\u001b[0m \u001b[0;34m=\u001b[0m \u001b[0;32mNone\u001b[0m\u001b[0;34m,\u001b[0m\u001b[0;34m\u001b[0m\n",
      "\u001b[0;34m\u001b[0m    \u001b[0mlanguages\u001b[0m\u001b[0;34m:\u001b[0m \u001b[0;34m'Optional[list[str]]'\u001b[0m \u001b[0;34m=\u001b[0m \u001b[0;32mNone\u001b[0m\u001b[0;34m,\u001b[0m\u001b[0;34m\u001b[0m\n",
      "\u001b[0;34m\u001b[0m    \u001b[0minclude_metadata\u001b[0m\u001b[0;34m:\u001b[0m \u001b[0;34m'bool'\u001b[0m \u001b[0;34m=\u001b[0m \u001b[0;32mTrue\u001b[0m\u001b[0;34m,\u001b[0m\u001b[0;34m\u001b[0m\n",
      "\u001b[0;34m\u001b[0m    \u001b[0mmetadata_filename\u001b[0m\u001b[0;34m:\u001b[0m \u001b[0;34m'Optional[str]'\u001b[0m \u001b[0;34m=\u001b[0m \u001b[0;32mNone\u001b[0m\u001b[0;34m,\u001b[0m\u001b[0;34m\u001b[0m\n",
      "\u001b[0;34m\u001b[0m    \u001b[0mmetadata_last_modified\u001b[0m\u001b[0;34m:\u001b[0m \u001b[0;34m'Optional[str]'\u001b[0m \u001b[0;34m=\u001b[0m \u001b[0;32mNone\u001b[0m\u001b[0;34m,\u001b[0m\u001b[0;34m\u001b[0m\n",
      "\u001b[0;34m\u001b[0m    \u001b[0mchunking_strategy\u001b[0m\u001b[0;34m:\u001b[0m \u001b[0;34m'Optional[str]'\u001b[0m \u001b[0;34m=\u001b[0m \u001b[0;32mNone\u001b[0m\u001b[0;34m,\u001b[0m\u001b[0;34m\u001b[0m\n",
      "\u001b[0;34m\u001b[0m    \u001b[0mlinks\u001b[0m\u001b[0;34m:\u001b[0m \u001b[0;34m'Sequence[Link]'\u001b[0m \u001b[0;34m=\u001b[0m \u001b[0;34m[\u001b[0m\u001b[0;34m]\u001b[0m\u001b[0;34m,\u001b[0m\u001b[0;34m\u001b[0m\n",
      "\u001b[0;34m\u001b[0m    \u001b[0mhi_res_model_name\u001b[0m\u001b[0;34m:\u001b[0m \u001b[0;34m'Optional[str]'\u001b[0m \u001b[0;34m=\u001b[0m \u001b[0;32mNone\u001b[0m\u001b[0;34m,\u001b[0m\u001b[0;34m\u001b[0m\n",
      "\u001b[0;34m\u001b[0m    \u001b[0mextract_images_in_pdf\u001b[0m\u001b[0;34m:\u001b[0m \u001b[0;34m'bool'\u001b[0m \u001b[0;34m=\u001b[0m \u001b[0;32mFalse\u001b[0m\u001b[0;34m,\u001b[0m\u001b[0;34m\u001b[0m\n",
      "\u001b[0;34m\u001b[0m    \u001b[0mextract_image_block_types\u001b[0m\u001b[0;34m:\u001b[0m \u001b[0;34m'Optional[list[str]]'\u001b[0m \u001b[0;34m=\u001b[0m \u001b[0;32mNone\u001b[0m\u001b[0;34m,\u001b[0m\u001b[0;34m\u001b[0m\n",
      "\u001b[0;34m\u001b[0m    \u001b[0mextract_image_block_output_dir\u001b[0m\u001b[0;34m:\u001b[0m \u001b[0;34m'Optional[str]'\u001b[0m \u001b[0;34m=\u001b[0m \u001b[0;32mNone\u001b[0m\u001b[0;34m,\u001b[0m\u001b[0;34m\u001b[0m\n",
      "\u001b[0;34m\u001b[0m    \u001b[0mextract_image_block_to_payload\u001b[0m\u001b[0;34m:\u001b[0m \u001b[0;34m'bool'\u001b[0m \u001b[0;34m=\u001b[0m \u001b[0;32mFalse\u001b[0m\u001b[0;34m,\u001b[0m\u001b[0;34m\u001b[0m\n",
      "\u001b[0;34m\u001b[0m    \u001b[0mdate_from_file_object\u001b[0m\u001b[0;34m:\u001b[0m \u001b[0;34m'bool'\u001b[0m \u001b[0;34m=\u001b[0m \u001b[0;32mFalse\u001b[0m\u001b[0;34m,\u001b[0m\u001b[0;34m\u001b[0m\n",
      "\u001b[0;34m\u001b[0m    \u001b[0mstarting_page_number\u001b[0m\u001b[0;34m:\u001b[0m \u001b[0;34m'int'\u001b[0m \u001b[0;34m=\u001b[0m \u001b[0;36m1\u001b[0m\u001b[0;34m,\u001b[0m\u001b[0;34m\u001b[0m\n",
      "\u001b[0;34m\u001b[0m    \u001b[0;34m**\u001b[0m\u001b[0mkwargs\u001b[0m\u001b[0;34m:\u001b[0m \u001b[0;34m'Any'\u001b[0m\u001b[0;34m,\u001b[0m\u001b[0;34m\u001b[0m\n",
      "\u001b[0;34m\u001b[0m\u001b[0;34m)\u001b[0m \u001b[0;34m->\u001b[0m \u001b[0;34m'list[Element]'\u001b[0m\u001b[0;34m\u001b[0m\u001b[0;34m\u001b[0m\u001b[0m\n",
      "\u001b[0;31mDocstring:\u001b[0m\n",
      "Parses a pdf document into a list of interpreted elements.\n",
      "    Parameters\n",
      "    ----------\n",
      "    filename\n",
      "        A string defining the target filename path.\n",
      "    file\n",
      "        A file-like object as bytes --> open(filename, \"rb\").\n",
      "    strategy\n",
      "        The strategy to use for partitioning the PDF. Valid strategies are \"hi_res\",\n",
      "        \"ocr_only\", and \"fast\". When using the \"hi_res\" strategy, the function uses\n",
      "        a layout detection model to identify document elements. When using the\n",
      "        \"ocr_only\" strategy, partition_pdf simply extracts the text from the\n",
      "        document using OCR and processes it. If the \"fast\" strategy is used, the text\n",
      "        is extracted directly from the PDF. The default strategy `auto` will determine\n",
      "        when a page can be extracted using `fast` mode, otherwise it will fall back to `hi_res`.\n",
      "    infer_table_structure\n",
      "        Only applicable if `strategy=hi_res`.\n",
      "        If True, any Table elements that are extracted will also have a metadata field\n",
      "        named \"text_as_html\" where the table's text content is rendered into an html string.\n",
      "        I.e., rows and cells are preserved.\n",
      "        Whether True or False, the \"text\" field is always present in any Table element\n",
      "        and is the text content of the table (no structure).\n",
      "    languages\n",
      "        The languages present in the document, for use in partitioning and/or OCR. To use a language\n",
      "        with Tesseract, you'll first need to install the appropriate Tesseract language pack.\n",
      "    metadata_last_modified\n",
      "        The last modified date for the document.\n",
      "    hi_res_model_name\n",
      "        The layout detection model used when partitioning strategy is set to `hi_res`.\n",
      "    extract_images_in_pdf\n",
      "        Only applicable if `strategy=hi_res`.\n",
      "        If True, any detected images will be saved in the path specified by\n",
      "        'extract_image_block_output_dir' or stored as base64 encoded data within metadata fields.\n",
      "        Deprecation Note: This parameter is marked for deprecation. Future versions will use\n",
      "        'extract_image_block_types' for broader extraction capabilities.\n",
      "    extract_image_block_types\n",
      "        Only applicable if `strategy=hi_res`.\n",
      "        Images of the element type(s) specified in this list (e.g., [\"Image\", \"Table\"]) will be\n",
      "        saved in the path specified by 'extract_image_block_output_dir' or stored as base64\n",
      "        encoded data within metadata fields.\n",
      "    extract_image_block_to_payload\n",
      "        Only applicable if `strategy=hi_res`.\n",
      "        If True, images of the element type(s) defined in 'extract_image_block_types' will be\n",
      "        encoded as base64 data and stored in two metadata fields: 'image_base64' and\n",
      "        'image_mime_type'.\n",
      "        This parameter facilitates the inclusion of element data directly within the payload,\n",
      "        especially for web-based applications or APIs.\n",
      "    extract_image_block_output_dir\n",
      "        Only applicable if `strategy=hi_res` and `extract_image_block_to_payload=False`.\n",
      "        The filesystem path for saving images of the element type(s)\n",
      "        specified in 'extract_image_block_types'.\n",
      "    date_from_file_object\n",
      "        Applies only when providing file via `file` parameter. If this option is True, attempt\n",
      "        infer last_modified metadata from bytes, otherwise set it to None.\n",
      "    \n",
      "chunking_strategy\n",
      "        Strategy used for chunking text into larger or smaller elements.\n",
      "        Defaults to `None` with optional arg of 'basic' or 'by_title'.\n",
      "        Additional Parameters:\n",
      "                multipage_sections\n",
      "                        If True, sections can span multiple pages. Defaults to True.\n",
      "                combine_text_under_n_chars\n",
      "                        Combines elements (for example a series of titles) until a section\n",
      "                        reaches a length of n characters. Only applies to 'by_title' strategy.\n",
      "                new_after_n_chars\n",
      "                        Cuts off chunks once they reach a length of n characters; a soft max.\n",
      "                max_characters\n",
      "                        Chunks elements text and text_as_html (if present) into chunks\n",
      "                        of length n characters, a hard max.\n",
      "        include_metadata:\n",
      "                Determines whether or not metadata is included in the metadata\n",
      "                    attribute on the elements in the output.\n",
      "\u001b[0;31mSource:\u001b[0m   \n",
      "\u001b[0;34m@\u001b[0m\u001b[0mprocess_metadata\u001b[0m\u001b[0;34m(\u001b[0m\u001b[0;34m)\u001b[0m\u001b[0;34m\u001b[0m\n",
      "\u001b[0;34m\u001b[0m\u001b[0;34m@\u001b[0m\u001b[0madd_metadata_with_filetype\u001b[0m\u001b[0;34m(\u001b[0m\u001b[0mFileType\u001b[0m\u001b[0;34m.\u001b[0m\u001b[0mPDF\u001b[0m\u001b[0;34m)\u001b[0m\u001b[0;34m\u001b[0m\n",
      "\u001b[0;34m\u001b[0m\u001b[0;34m@\u001b[0m\u001b[0madd_chunking_strategy\u001b[0m\u001b[0;34m\u001b[0m\n",
      "\u001b[0;34m\u001b[0m\u001b[0;32mdef\u001b[0m \u001b[0mpartition_pdf\u001b[0m\u001b[0;34m(\u001b[0m\u001b[0;34m\u001b[0m\n",
      "\u001b[0;34m\u001b[0m    \u001b[0mfilename\u001b[0m\u001b[0;34m:\u001b[0m \u001b[0mstr\u001b[0m \u001b[0;34m=\u001b[0m \u001b[0;34m\"\"\u001b[0m\u001b[0;34m,\u001b[0m\u001b[0;34m\u001b[0m\n",
      "\u001b[0;34m\u001b[0m    \u001b[0mfile\u001b[0m\u001b[0;34m:\u001b[0m \u001b[0mOptional\u001b[0m\u001b[0;34m[\u001b[0m\u001b[0mIO\u001b[0m\u001b[0;34m[\u001b[0m\u001b[0mbytes\u001b[0m\u001b[0;34m]\u001b[0m\u001b[0;34m]\u001b[0m \u001b[0;34m=\u001b[0m \u001b[0;32mNone\u001b[0m\u001b[0;34m,\u001b[0m\u001b[0;34m\u001b[0m\n",
      "\u001b[0;34m\u001b[0m    \u001b[0minclude_page_breaks\u001b[0m\u001b[0;34m:\u001b[0m \u001b[0mbool\u001b[0m \u001b[0;34m=\u001b[0m \u001b[0;32mFalse\u001b[0m\u001b[0;34m,\u001b[0m\u001b[0;34m\u001b[0m\n",
      "\u001b[0;34m\u001b[0m    \u001b[0mstrategy\u001b[0m\u001b[0;34m:\u001b[0m \u001b[0mstr\u001b[0m \u001b[0;34m=\u001b[0m \u001b[0mPartitionStrategy\u001b[0m\u001b[0;34m.\u001b[0m\u001b[0mAUTO\u001b[0m\u001b[0;34m,\u001b[0m\u001b[0;34m\u001b[0m\n",
      "\u001b[0;34m\u001b[0m    \u001b[0minfer_table_structure\u001b[0m\u001b[0;34m:\u001b[0m \u001b[0mbool\u001b[0m \u001b[0;34m=\u001b[0m \u001b[0;32mFalse\u001b[0m\u001b[0;34m,\u001b[0m\u001b[0;34m\u001b[0m\n",
      "\u001b[0;34m\u001b[0m    \u001b[0mocr_languages\u001b[0m\u001b[0;34m:\u001b[0m \u001b[0mOptional\u001b[0m\u001b[0;34m[\u001b[0m\u001b[0mstr\u001b[0m\u001b[0;34m]\u001b[0m \u001b[0;34m=\u001b[0m \u001b[0;32mNone\u001b[0m\u001b[0;34m,\u001b[0m  \u001b[0;31m# changing to optional for deprecation\u001b[0m\u001b[0;34m\u001b[0m\n",
      "\u001b[0;34m\u001b[0m    \u001b[0mlanguages\u001b[0m\u001b[0;34m:\u001b[0m \u001b[0mOptional\u001b[0m\u001b[0;34m[\u001b[0m\u001b[0mlist\u001b[0m\u001b[0;34m[\u001b[0m\u001b[0mstr\u001b[0m\u001b[0;34m]\u001b[0m\u001b[0;34m]\u001b[0m \u001b[0;34m=\u001b[0m \u001b[0;32mNone\u001b[0m\u001b[0;34m,\u001b[0m\u001b[0;34m\u001b[0m\n",
      "\u001b[0;34m\u001b[0m    \u001b[0minclude_metadata\u001b[0m\u001b[0;34m:\u001b[0m \u001b[0mbool\u001b[0m \u001b[0;34m=\u001b[0m \u001b[0;32mTrue\u001b[0m\u001b[0;34m,\u001b[0m  \u001b[0;31m# used by decorator\u001b[0m\u001b[0;34m\u001b[0m\n",
      "\u001b[0;34m\u001b[0m    \u001b[0mmetadata_filename\u001b[0m\u001b[0;34m:\u001b[0m \u001b[0mOptional\u001b[0m\u001b[0;34m[\u001b[0m\u001b[0mstr\u001b[0m\u001b[0;34m]\u001b[0m \u001b[0;34m=\u001b[0m \u001b[0;32mNone\u001b[0m\u001b[0;34m,\u001b[0m  \u001b[0;31m# used by decorator\u001b[0m\u001b[0;34m\u001b[0m\n",
      "\u001b[0;34m\u001b[0m    \u001b[0mmetadata_last_modified\u001b[0m\u001b[0;34m:\u001b[0m \u001b[0mOptional\u001b[0m\u001b[0;34m[\u001b[0m\u001b[0mstr\u001b[0m\u001b[0;34m]\u001b[0m \u001b[0;34m=\u001b[0m \u001b[0;32mNone\u001b[0m\u001b[0;34m,\u001b[0m\u001b[0;34m\u001b[0m\n",
      "\u001b[0;34m\u001b[0m    \u001b[0mchunking_strategy\u001b[0m\u001b[0;34m:\u001b[0m \u001b[0mOptional\u001b[0m\u001b[0;34m[\u001b[0m\u001b[0mstr\u001b[0m\u001b[0;34m]\u001b[0m \u001b[0;34m=\u001b[0m \u001b[0;32mNone\u001b[0m\u001b[0;34m,\u001b[0m  \u001b[0;31m# used by decorator\u001b[0m\u001b[0;34m\u001b[0m\n",
      "\u001b[0;34m\u001b[0m    \u001b[0mlinks\u001b[0m\u001b[0;34m:\u001b[0m \u001b[0mSequence\u001b[0m\u001b[0;34m[\u001b[0m\u001b[0mLink\u001b[0m\u001b[0;34m]\u001b[0m \u001b[0;34m=\u001b[0m \u001b[0;34m[\u001b[0m\u001b[0;34m]\u001b[0m\u001b[0;34m,\u001b[0m\u001b[0;34m\u001b[0m\n",
      "\u001b[0;34m\u001b[0m    \u001b[0mhi_res_model_name\u001b[0m\u001b[0;34m:\u001b[0m \u001b[0mOptional\u001b[0m\u001b[0;34m[\u001b[0m\u001b[0mstr\u001b[0m\u001b[0;34m]\u001b[0m \u001b[0;34m=\u001b[0m \u001b[0;32mNone\u001b[0m\u001b[0;34m,\u001b[0m\u001b[0;34m\u001b[0m\n",
      "\u001b[0;34m\u001b[0m    \u001b[0mextract_images_in_pdf\u001b[0m\u001b[0;34m:\u001b[0m \u001b[0mbool\u001b[0m \u001b[0;34m=\u001b[0m \u001b[0;32mFalse\u001b[0m\u001b[0;34m,\u001b[0m\u001b[0;34m\u001b[0m\n",
      "\u001b[0;34m\u001b[0m    \u001b[0mextract_image_block_types\u001b[0m\u001b[0;34m:\u001b[0m \u001b[0mOptional\u001b[0m\u001b[0;34m[\u001b[0m\u001b[0mlist\u001b[0m\u001b[0;34m[\u001b[0m\u001b[0mstr\u001b[0m\u001b[0;34m]\u001b[0m\u001b[0;34m]\u001b[0m \u001b[0;34m=\u001b[0m \u001b[0;32mNone\u001b[0m\u001b[0;34m,\u001b[0m\u001b[0;34m\u001b[0m\n",
      "\u001b[0;34m\u001b[0m    \u001b[0mextract_image_block_output_dir\u001b[0m\u001b[0;34m:\u001b[0m \u001b[0mOptional\u001b[0m\u001b[0;34m[\u001b[0m\u001b[0mstr\u001b[0m\u001b[0;34m]\u001b[0m \u001b[0;34m=\u001b[0m \u001b[0;32mNone\u001b[0m\u001b[0;34m,\u001b[0m\u001b[0;34m\u001b[0m\n",
      "\u001b[0;34m\u001b[0m    \u001b[0mextract_image_block_to_payload\u001b[0m\u001b[0;34m:\u001b[0m \u001b[0mbool\u001b[0m \u001b[0;34m=\u001b[0m \u001b[0;32mFalse\u001b[0m\u001b[0;34m,\u001b[0m\u001b[0;34m\u001b[0m\n",
      "\u001b[0;34m\u001b[0m    \u001b[0mdate_from_file_object\u001b[0m\u001b[0;34m:\u001b[0m \u001b[0mbool\u001b[0m \u001b[0;34m=\u001b[0m \u001b[0;32mFalse\u001b[0m\u001b[0;34m,\u001b[0m\u001b[0;34m\u001b[0m\n",
      "\u001b[0;34m\u001b[0m    \u001b[0mstarting_page_number\u001b[0m\u001b[0;34m:\u001b[0m \u001b[0mint\u001b[0m \u001b[0;34m=\u001b[0m \u001b[0;36m1\u001b[0m\u001b[0;34m,\u001b[0m\u001b[0;34m\u001b[0m\n",
      "\u001b[0;34m\u001b[0m    \u001b[0;34m**\u001b[0m\u001b[0mkwargs\u001b[0m\u001b[0;34m:\u001b[0m \u001b[0mAny\u001b[0m\u001b[0;34m,\u001b[0m\u001b[0;34m\u001b[0m\n",
      "\u001b[0;34m\u001b[0m\u001b[0;34m)\u001b[0m \u001b[0;34m->\u001b[0m \u001b[0mlist\u001b[0m\u001b[0;34m[\u001b[0m\u001b[0mElement\u001b[0m\u001b[0;34m]\u001b[0m\u001b[0;34m:\u001b[0m\u001b[0;34m\u001b[0m\n",
      "\u001b[0;34m\u001b[0m    \u001b[0;34m\"\"\"Parses a pdf document into a list of interpreted elements.\u001b[0m\n",
      "\u001b[0;34m    Parameters\u001b[0m\n",
      "\u001b[0;34m    ----------\u001b[0m\n",
      "\u001b[0;34m    filename\u001b[0m\n",
      "\u001b[0;34m        A string defining the target filename path.\u001b[0m\n",
      "\u001b[0;34m    file\u001b[0m\n",
      "\u001b[0;34m        A file-like object as bytes --> open(filename, \"rb\").\u001b[0m\n",
      "\u001b[0;34m    strategy\u001b[0m\n",
      "\u001b[0;34m        The strategy to use for partitioning the PDF. Valid strategies are \"hi_res\",\u001b[0m\n",
      "\u001b[0;34m        \"ocr_only\", and \"fast\". When using the \"hi_res\" strategy, the function uses\u001b[0m\n",
      "\u001b[0;34m        a layout detection model to identify document elements. When using the\u001b[0m\n",
      "\u001b[0;34m        \"ocr_only\" strategy, partition_pdf simply extracts the text from the\u001b[0m\n",
      "\u001b[0;34m        document using OCR and processes it. If the \"fast\" strategy is used, the text\u001b[0m\n",
      "\u001b[0;34m        is extracted directly from the PDF. The default strategy `auto` will determine\u001b[0m\n",
      "\u001b[0;34m        when a page can be extracted using `fast` mode, otherwise it will fall back to `hi_res`.\u001b[0m\n",
      "\u001b[0;34m    infer_table_structure\u001b[0m\n",
      "\u001b[0;34m        Only applicable if `strategy=hi_res`.\u001b[0m\n",
      "\u001b[0;34m        If True, any Table elements that are extracted will also have a metadata field\u001b[0m\n",
      "\u001b[0;34m        named \"text_as_html\" where the table's text content is rendered into an html string.\u001b[0m\n",
      "\u001b[0;34m        I.e., rows and cells are preserved.\u001b[0m\n",
      "\u001b[0;34m        Whether True or False, the \"text\" field is always present in any Table element\u001b[0m\n",
      "\u001b[0;34m        and is the text content of the table (no structure).\u001b[0m\n",
      "\u001b[0;34m    languages\u001b[0m\n",
      "\u001b[0;34m        The languages present in the document, for use in partitioning and/or OCR. To use a language\u001b[0m\n",
      "\u001b[0;34m        with Tesseract, you'll first need to install the appropriate Tesseract language pack.\u001b[0m\n",
      "\u001b[0;34m    metadata_last_modified\u001b[0m\n",
      "\u001b[0;34m        The last modified date for the document.\u001b[0m\n",
      "\u001b[0;34m    hi_res_model_name\u001b[0m\n",
      "\u001b[0;34m        The layout detection model used when partitioning strategy is set to `hi_res`.\u001b[0m\n",
      "\u001b[0;34m    extract_images_in_pdf\u001b[0m\n",
      "\u001b[0;34m        Only applicable if `strategy=hi_res`.\u001b[0m\n",
      "\u001b[0;34m        If True, any detected images will be saved in the path specified by\u001b[0m\n",
      "\u001b[0;34m        'extract_image_block_output_dir' or stored as base64 encoded data within metadata fields.\u001b[0m\n",
      "\u001b[0;34m        Deprecation Note: This parameter is marked for deprecation. Future versions will use\u001b[0m\n",
      "\u001b[0;34m        'extract_image_block_types' for broader extraction capabilities.\u001b[0m\n",
      "\u001b[0;34m    extract_image_block_types\u001b[0m\n",
      "\u001b[0;34m        Only applicable if `strategy=hi_res`.\u001b[0m\n",
      "\u001b[0;34m        Images of the element type(s) specified in this list (e.g., [\"Image\", \"Table\"]) will be\u001b[0m\n",
      "\u001b[0;34m        saved in the path specified by 'extract_image_block_output_dir' or stored as base64\u001b[0m\n",
      "\u001b[0;34m        encoded data within metadata fields.\u001b[0m\n",
      "\u001b[0;34m    extract_image_block_to_payload\u001b[0m\n",
      "\u001b[0;34m        Only applicable if `strategy=hi_res`.\u001b[0m\n",
      "\u001b[0;34m        If True, images of the element type(s) defined in 'extract_image_block_types' will be\u001b[0m\n",
      "\u001b[0;34m        encoded as base64 data and stored in two metadata fields: 'image_base64' and\u001b[0m\n",
      "\u001b[0;34m        'image_mime_type'.\u001b[0m\n",
      "\u001b[0;34m        This parameter facilitates the inclusion of element data directly within the payload,\u001b[0m\n",
      "\u001b[0;34m        especially for web-based applications or APIs.\u001b[0m\n",
      "\u001b[0;34m    extract_image_block_output_dir\u001b[0m\n",
      "\u001b[0;34m        Only applicable if `strategy=hi_res` and `extract_image_block_to_payload=False`.\u001b[0m\n",
      "\u001b[0;34m        The filesystem path for saving images of the element type(s)\u001b[0m\n",
      "\u001b[0;34m        specified in 'extract_image_block_types'.\u001b[0m\n",
      "\u001b[0;34m    date_from_file_object\u001b[0m\n",
      "\u001b[0;34m        Applies only when providing file via `file` parameter. If this option is True, attempt\u001b[0m\n",
      "\u001b[0;34m        infer last_modified metadata from bytes, otherwise set it to None.\u001b[0m\n",
      "\u001b[0;34m    \"\"\"\u001b[0m\u001b[0;34m\u001b[0m\n",
      "\u001b[0;34m\u001b[0m\u001b[0;34m\u001b[0m\n",
      "\u001b[0;34m\u001b[0m    \u001b[0mexactly_one\u001b[0m\u001b[0;34m(\u001b[0m\u001b[0mfilename\u001b[0m\u001b[0;34m=\u001b[0m\u001b[0mfilename\u001b[0m\u001b[0;34m,\u001b[0m \u001b[0mfile\u001b[0m\u001b[0;34m=\u001b[0m\u001b[0mfile\u001b[0m\u001b[0;34m)\u001b[0m\u001b[0;34m\u001b[0m\n",
      "\u001b[0;34m\u001b[0m\u001b[0;34m\u001b[0m\n",
      "\u001b[0;34m\u001b[0m    \u001b[0mlanguages\u001b[0m \u001b[0;34m=\u001b[0m \u001b[0mcheck_language_args\u001b[0m\u001b[0;34m(\u001b[0m\u001b[0mlanguages\u001b[0m \u001b[0;32mor\u001b[0m \u001b[0;34m[\u001b[0m\u001b[0;34m]\u001b[0m\u001b[0;34m,\u001b[0m \u001b[0mocr_languages\u001b[0m\u001b[0;34m)\u001b[0m \u001b[0;32mor\u001b[0m \u001b[0;34m[\u001b[0m\u001b[0;34m\"eng\"\u001b[0m\u001b[0;34m]\u001b[0m\u001b[0;34m\u001b[0m\n",
      "\u001b[0;34m\u001b[0m\u001b[0;34m\u001b[0m\n",
      "\u001b[0;34m\u001b[0m    \u001b[0;32mreturn\u001b[0m \u001b[0mpartition_pdf_or_image\u001b[0m\u001b[0;34m(\u001b[0m\u001b[0;34m\u001b[0m\n",
      "\u001b[0;34m\u001b[0m        \u001b[0mfilename\u001b[0m\u001b[0;34m=\u001b[0m\u001b[0mfilename\u001b[0m\u001b[0;34m,\u001b[0m\u001b[0;34m\u001b[0m\n",
      "\u001b[0;34m\u001b[0m        \u001b[0mfile\u001b[0m\u001b[0;34m=\u001b[0m\u001b[0mfile\u001b[0m\u001b[0;34m,\u001b[0m\u001b[0;34m\u001b[0m\n",
      "\u001b[0;34m\u001b[0m        \u001b[0minclude_page_breaks\u001b[0m\u001b[0;34m=\u001b[0m\u001b[0minclude_page_breaks\u001b[0m\u001b[0;34m,\u001b[0m\u001b[0;34m\u001b[0m\n",
      "\u001b[0;34m\u001b[0m        \u001b[0mstrategy\u001b[0m\u001b[0;34m=\u001b[0m\u001b[0mstrategy\u001b[0m\u001b[0;34m,\u001b[0m\u001b[0;34m\u001b[0m\n",
      "\u001b[0;34m\u001b[0m        \u001b[0minfer_table_structure\u001b[0m\u001b[0;34m=\u001b[0m\u001b[0minfer_table_structure\u001b[0m\u001b[0;34m,\u001b[0m\u001b[0;34m\u001b[0m\n",
      "\u001b[0;34m\u001b[0m        \u001b[0mlanguages\u001b[0m\u001b[0;34m=\u001b[0m\u001b[0mlanguages\u001b[0m\u001b[0;34m,\u001b[0m\u001b[0;34m\u001b[0m\n",
      "\u001b[0;34m\u001b[0m        \u001b[0mmetadata_last_modified\u001b[0m\u001b[0;34m=\u001b[0m\u001b[0mmetadata_last_modified\u001b[0m\u001b[0;34m,\u001b[0m\u001b[0;34m\u001b[0m\n",
      "\u001b[0;34m\u001b[0m        \u001b[0mhi_res_model_name\u001b[0m\u001b[0;34m=\u001b[0m\u001b[0mhi_res_model_name\u001b[0m\u001b[0;34m,\u001b[0m\u001b[0;34m\u001b[0m\n",
      "\u001b[0;34m\u001b[0m        \u001b[0mextract_images_in_pdf\u001b[0m\u001b[0;34m=\u001b[0m\u001b[0mextract_images_in_pdf\u001b[0m\u001b[0;34m,\u001b[0m\u001b[0;34m\u001b[0m\n",
      "\u001b[0;34m\u001b[0m        \u001b[0mextract_image_block_types\u001b[0m\u001b[0;34m=\u001b[0m\u001b[0mextract_image_block_types\u001b[0m\u001b[0;34m,\u001b[0m\u001b[0;34m\u001b[0m\n",
      "\u001b[0;34m\u001b[0m        \u001b[0mextract_image_block_output_dir\u001b[0m\u001b[0;34m=\u001b[0m\u001b[0mextract_image_block_output_dir\u001b[0m\u001b[0;34m,\u001b[0m\u001b[0;34m\u001b[0m\n",
      "\u001b[0;34m\u001b[0m        \u001b[0mextract_image_block_to_payload\u001b[0m\u001b[0;34m=\u001b[0m\u001b[0mextract_image_block_to_payload\u001b[0m\u001b[0;34m,\u001b[0m\u001b[0;34m\u001b[0m\n",
      "\u001b[0;34m\u001b[0m        \u001b[0mdate_from_file_object\u001b[0m\u001b[0;34m=\u001b[0m\u001b[0mdate_from_file_object\u001b[0m\u001b[0;34m,\u001b[0m\u001b[0;34m\u001b[0m\n",
      "\u001b[0;34m\u001b[0m        \u001b[0mstarting_page_number\u001b[0m\u001b[0;34m=\u001b[0m\u001b[0mstarting_page_number\u001b[0m\u001b[0;34m,\u001b[0m\u001b[0;34m\u001b[0m\n",
      "\u001b[0;34m\u001b[0m        \u001b[0;34m**\u001b[0m\u001b[0mkwargs\u001b[0m\u001b[0;34m,\u001b[0m\u001b[0;34m\u001b[0m\n",
      "\u001b[0;34m\u001b[0m    \u001b[0;34m)\u001b[0m\u001b[0;34m\u001b[0m\u001b[0;34m\u001b[0m\u001b[0m\n",
      "\u001b[0;31mFile:\u001b[0m      ~/Documents/yt-code/youtube-stuffs/data-cleaning/.venv/lib/python3.11/site-packages/unstructured/partition/pdf.py\n",
      "\u001b[0;31mType:\u001b[0m      function"
     ]
    }
   ],
   "source": [
    "partition_pdf??"
   ]
  },
  {
   "cell_type": "code",
   "execution_count": 11,
   "id": "9b75d977-7d80-427d-9b24-4fcf1384fc7f",
   "metadata": {},
   "outputs": [
    {
     "name": "stderr",
     "output_type": "stream",
     "text": [
      "Some weights of the model checkpoint at microsoft/table-transformer-structure-recognition were not used when initializing TableTransformerForObjectDetection: ['model.backbone.conv_encoder.model.layer2.0.downsample.1.num_batches_tracked', 'model.backbone.conv_encoder.model.layer3.0.downsample.1.num_batches_tracked', 'model.backbone.conv_encoder.model.layer4.0.downsample.1.num_batches_tracked']\n",
      "- This IS expected if you are initializing TableTransformerForObjectDetection from the checkpoint of a model trained on another task or with another architecture (e.g. initializing a BertForSequenceClassification model from a BertForPreTraining model).\n",
      "- This IS NOT expected if you are initializing TableTransformerForObjectDetection from the checkpoint of a model that you expect to be exactly identical (initializing a BertForSequenceClassification model from a BertForSequenceClassification model).\n"
     ]
    }
   ],
   "source": [
    "from unstructured.partition.pdf import partition_pdf\n",
    "\n",
    "# Specify the path to your PDF file\n",
    "filename = \"data/gpt4all.pdf\"\n",
    "#path = \"images\"\n",
    "\n",
    "# Extract images, tables, and chunk text\n",
    "pdf_elements = partition_pdf(\n",
    "    filename=filename,\n",
    "    extract_images_in_pdf=False,\n",
    "    strategy = \"hi_res\",\n",
    "    hi_res_model_name=\"yolox\",\n",
    "    infer_table_structure=True,\n",
    "    chunking_strategy=\"by_title\",\n",
    "    max_characters=3000,\n",
    "    #new_after_n_chars=3800,\n",
    "    combine_text_under_n_chars=200,\n",
    "    #extract_image_block_output_dir=path,\n",
    ")"
   ]
  },
  {
   "cell_type": "code",
   "execution_count": 12,
   "id": "2b035bac",
   "metadata": {},
   "outputs": [
    {
     "data": {
      "text/plain": [
       "{\"<class 'unstructured.documents.elements.CompositeElement'>\": 15,\n",
       " \"<class 'unstructured.documents.elements.TableChunk'>\": 2}"
      ]
     },
     "execution_count": 12,
     "metadata": {},
     "output_type": "execute_result"
    }
   ],
   "source": [
    "# Create a dictionary to store counts of each type\n",
    "category_counts = {}\n",
    "\n",
    "for element in pdf_elements:\n",
    "    category = str(type(element))\n",
    "    if category in category_counts:\n",
    "        category_counts[category] += 1\n",
    "    else:\n",
    "        category_counts[category] = 1\n",
    "\n",
    "# Unique_categories will have unique elements\n",
    "unique_categories = set(category_counts.keys())\n",
    "category_counts"
   ]
  },
  {
   "cell_type": "code",
   "execution_count": 13,
   "id": "e196d030",
   "metadata": {},
   "outputs": [
    {
     "name": "stdout",
     "output_type": "stream",
     "text": [
      "{'Table', 'CompositeElement'}\n"
     ]
    }
   ],
   "source": [
    "element_dict = [el.to_dict() for el in pdf_elements]\n",
    "\n",
    "unique_types = set()\n",
    "\n",
    "for item in element_dict:\n",
    "    unique_types.add(item['type'])\n",
    "\n",
    "print(unique_types)"
   ]
  },
  {
   "cell_type": "code",
   "execution_count": 14,
   "id": "0cda6772",
   "metadata": {},
   "outputs": [
    {
     "name": "stdout",
     "output_type": "stream",
     "text": [
      "{\"<class 'unstructured.documents.elements.CompositeElement'>\": 15, \"<class 'unstructured.documents.elements.TableChunk'>\": 2, \"<class 'unstructured.documents.elements.Text'>\": 11, \"<class 'unstructured.documents.elements.Header'>\": 1, \"<class 'unstructured.documents.elements.Title'>\": 22, \"<class 'unstructured.documents.elements.NarrativeText'>\": 32, \"<class 'unstructured.documents.elements.Footer'>\": 1, \"<class 'unstructured.documents.elements.Image'>\": 6, \"<class 'unstructured.documents.elements.FigureCaption'>\": 2, \"<class 'unstructured.documents.elements.Table'>\": 1, \"<class 'unstructured.documents.elements.ListItem'>\": 29}\n",
      "{'Title', 'UncategorizedText', 'Footer', 'Table', 'FigureCaption', 'NarrativeText', 'ListItem', 'Header', 'Image'}\n"
     ]
    }
   ],
   "source": [
    "# Extract images, tables, and chunk text\n",
    "pdf_elements = partition_pdf(\n",
    "    filename=filename,\n",
    "    extract_images_in_pdf=False,\n",
    "    strategy = \"hi_res\",\n",
    "    hi_res_model_name=\"yolox\",\n",
    "    infer_table_structure=True,\n",
    "    #chunking_strategy=\"by_title\",\n",
    "    max_characters=3000,\n",
    "    #new_after_n_chars=3800,\n",
    "    combine_text_under_n_chars=200,\n",
    "    #extract_image_block_output_dir=path,\n",
    ")\n",
    "\n",
    "for element in pdf_elements:\n",
    "    category = str(type(element))\n",
    "    if category in category_counts:\n",
    "        category_counts[category] += 1\n",
    "    else:\n",
    "        category_counts[category] = 1\n",
    "\n",
    "# Unique_categories will have unique elements\n",
    "unique_categories = set(category_counts.keys())\n",
    "print(category_counts)\n",
    "\n",
    "element_dict = [el.to_dict() for el in pdf_elements]\n",
    "\n",
    "unique_types = set()\n",
    "\n",
    "for item in element_dict:\n",
    "    unique_types.add(item['type'])\n",
    "\n",
    "print(unique_types)"
   ]
  },
  {
   "cell_type": "code",
   "execution_count": 15,
   "id": "8ed8e92e-5d85-4d9e-9867-6ed8a190b9d5",
   "metadata": {},
   "outputs": [
    {
     "data": {
      "text/plain": [
       "{'type': 'UncategorizedText',\n",
       " 'element_id': 'b0c5cfcf93a217591e27d5c97845f59b',\n",
       " 'text': '3 2 0 2',\n",
       " 'metadata': {'coordinates': {'points': ((45.388888888888886,\n",
       "     732.8055555555557),\n",
       "    (45.388888888888886, 843.9166666666669),\n",
       "    (100.94444444444446, 843.9166666666669),\n",
       "    (100.94444444444446, 732.8055555555557)),\n",
       "   'system': 'PixelSpace',\n",
       "   'layout_width': 1654,\n",
       "   'layout_height': 2339},\n",
       "  'last_modified': '2024-05-03T13:31:00',\n",
       "  'filetype': 'application/pdf',\n",
       "  'languages': ['eng'],\n",
       "  'page_number': 1,\n",
       "  'file_directory': 'data',\n",
       "  'filename': 'gpt4all.pdf'}}"
      ]
     },
     "execution_count": 15,
     "metadata": {},
     "output_type": "execute_result"
    }
   ],
   "source": [
    "pdf_elements[0].to_dict()"
   ]
  },
  {
   "cell_type": "code",
   "execution_count": 16,
   "id": "f50942e5-33e4-43d9-ad89-a3840a944ed8",
   "metadata": {},
   "outputs": [],
   "source": [
    "tables = [el for el in pdf_elements if el.category == \"Table\"]"
   ]
  },
  {
   "cell_type": "code",
   "execution_count": 17,
   "id": "a733c9d8-d6a5-4bad-8ba0-b1393165b6e7",
   "metadata": {},
   "outputs": [],
   "source": [
    "table_html = tables[0].metadata.text_as_html"
   ]
  },
  {
   "cell_type": "code",
   "execution_count": 18,
   "id": "27481fdb-e8d1-430d-8919-46205765c044",
   "metadata": {},
   "outputs": [
    {
     "name": "stdout",
     "output_type": "stream",
     "text": [
      "<table>\n",
      "  <thead>\n",
      "    <th>Model</th>\n",
      "    <th>BoolQ</th>\n",
      "    <th>PIQA</th>\n",
      "    <th>HellaSwag</th>\n",
      "    <th>WinoG.</th>\n",
      "    <th>ARC-e</th>\n",
      "    <th>ARC-c</th>\n",
      "    <th>OBQA</th>\n",
      "    <th>Avg.</th>\n",
      "  </thead>\n",
      "  <tr>\n",
      "    <td>GPT4AII-J 6B v1.0*</td>\n",
      "    <td>73.4</td>\n",
      "    <td>74.8</td>\n",
      "    <td>63.4</td>\n",
      "    <td>64.7</td>\n",
      "    <td>54.9</td>\n",
      "    <td>36</td>\n",
      "    <td>40.2</td>\n",
      "    <td>58.2</td>\n",
      "  </tr>\n",
      "  <tr>\n",
      "    <td>GPT4AIl-J v1.1-breezy*</td>\n",
      "    <td>74</td>\n",
      "    <td>75.1</td>\n",
      "    <td>63.2</td>\n",
      "    <td>63.6</td>\n",
      "    <td>55.4</td>\n",
      "    <td>34.9</td>\n",
      "    <td>38.4</td>\n",
      "    <td>57.8</td>\n",
      "  </tr>\n",
      "  <tr>\n",
      "    <td>GPT4AII-J v1.2-jazzy*</td>\n",
      "    <td>74.8</td>\n",
      "    <td>74.9</td>\n",
      "    <td>63.6</td>\n",
      "    <td>63.8</td>\n",
      "    <td>56.6</td>\n",
      "    <td>35.3</td>\n",
      "    <td>41</td>\n",
      "    <td>58.6</td>\n",
      "  </tr>\n",
      "  <tr>\n",
      "    <td>GPT4AII-J v1.3-groovy*</td>\n",
      "    <td>73.6</td>\n",
      "    <td>74.3</td>\n",
      "    <td>63.8</td>\n",
      "    <td>63.5</td>\n",
      "    <td>57.7</td>\n",
      "    <td>35</td>\n",
      "    <td>38.8</td>\n",
      "    <td>58.1</td>\n",
      "  </tr>\n",
      "  <tr>\n",
      "    <td>GPT4AII-J Lora 6B*</td>\n",
      "    <td>68.6</td>\n",
      "    <td>75.8</td>\n",
      "    <td>66.2</td>\n",
      "    <td>63.5</td>\n",
      "    <td>56.4</td>\n",
      "    <td>35.7</td>\n",
      "    <td>40.2</td>\n",
      "    <td>58.1</td>\n",
      "  </tr>\n",
      "  <tr>\n",
      "    <td>GPT4All LLaMa Lora 7B*</td>\n",
      "    <td>73.1</td>\n",
      "    <td>771.6</td>\n",
      "    <td>72.1</td>\n",
      "    <td>67.8</td>\n",
      "    <td>S11</td>\n",
      "    <td>40.4</td>\n",
      "    <td>40.2</td>\n",
      "    <td>60.3</td>\n",
      "  </tr>\n",
      "  <tr>\n",
      "    <td>GPT4AIl 13B snoozy*</td>\n",
      "    <td>83.3</td>\n",
      "    <td>79.2</td>\n",
      "    <td>75</td>\n",
      "    <td>71.3</td>\n",
      "    <td>60.9</td>\n",
      "    <td>44.2</td>\n",
      "    <td>43.4</td>\n",
      "    <td>65.3</td>\n",
      "  </tr>\n",
      "  <tr>\n",
      "    <td>GPT4All Falcon</td>\n",
      "    <td>771.6</td>\n",
      "    <td>79.8</td>\n",
      "    <td>74.9</td>\n",
      "    <td>70.1</td>\n",
      "    <td>67.9</td>\n",
      "    <td>43.4</td>\n",
      "    <td>42.6</td>\n",
      "    <td>65.2</td>\n",
      "  </tr>\n",
      "  <tr>\n",
      "    <td>Nous-Hermes (Nous-Research, 2023b)</td>\n",
      "    <td>79.5</td>\n",
      "    <td>78.9</td>\n",
      "    <td>80</td>\n",
      "    <td>71.9</td>\n",
      "    <td>74.2</td>\n",
      "    <td>50.9</td>\n",
      "    <td>46.4</td>\n",
      "    <td>68.8</td>\n",
      "  </tr>\n",
      "  <tr>\n",
      "    <td>Nous-Hermes2 (Nous-Research, 2023c)</td>\n",
      "    <td>83.9</td>\n",
      "    <td>80.7</td>\n",
      "    <td>80.1</td>\n",
      "    <td>71.3</td>\n",
      "    <td>75.7</td>\n",
      "    <td>52.1</td>\n",
      "    <td>46.2</td>\n",
      "    <td>70.0</td>\n",
      "  </tr>\n",
      "  <tr>\n",
      "    <td>Nous-Puffin (Nous-Research, 2023d)</td>\n",
      "    <td>81.5</td>\n",
      "    <td>80.7</td>\n",
      "    <td>80.4</td>\n",
      "    <td>72.5</td>\n",
      "    <td>77.6</td>\n",
      "    <td>50.7</td>\n",
      "    <td>45.6</td>\n",
      "    <td>69.9</td>\n",
      "  </tr>\n",
      "  <tr>\n",
      "    <td>6B* (Conover et al., 2023a)</td>\n",
      "    <td>68.8</td>\n",
      "    <td>77.3</td>\n",
      "    <td/>\n",
      "    <td>63.9</td>\n",
      "    <td>62.9</td>\n",
      "    <td>38.7</td>\n",
      "    <td>412</td>\n",
      "    <td>60.1</td>\n",
      "  </tr>\n",
      "  <tr>\n",
      "    <td>Dolly</td>\n",
      "    <td/>\n",
      "    <td/>\n",
      "    <td/>\n",
      "    <td/>\n",
      "    <td/>\n",
      "    <td/>\n",
      "    <td/>\n",
      "    <td/>\n",
      "  </tr>\n",
      "  <tr>\n",
      "    <td>Dolly 12B* (Conover et al., 2023b)</td>\n",
      "    <td>56.7</td>\n",
      "    <td>75.4</td>\n",
      "    <td/>\n",
      "    <td>62.2</td>\n",
      "    <td>64.6</td>\n",
      "    <td>38.5</td>\n",
      "    <td>40.4</td>\n",
      "    <td>58.4</td>\n",
      "  </tr>\n",
      "  <tr>\n",
      "    <td>Alpaca 7B* (Taori et al., 2023)</td>\n",
      "    <td>73.9</td>\n",
      "    <td>77.2</td>\n",
      "    <td/>\n",
      "    <td>66.1</td>\n",
      "    <td>59.8</td>\n",
      "    <td>43.3</td>\n",
      "    <td>43.4</td>\n",
      "    <td>62.5</td>\n",
      "  </tr>\n",
      "  <tr>\n",
      "    <td>Alpaca Lora 7B* (Wang, 2023)</td>\n",
      "    <td>74.3</td>\n",
      "    <td>79.3</td>\n",
      "    <td/>\n",
      "    <td>68.8</td>\n",
      "    <td>56.6</td>\n",
      "    <td>43.9</td>\n",
      "    <td>42.6</td>\n",
      "    <td>62.8</td>\n",
      "  </tr>\n",
      "  <tr>\n",
      "    <td>GPT-J* 6.7B and Komatsuzaki,</td>\n",
      "    <td>65.4</td>\n",
      "    <td>76.2</td>\n",
      "    <td/>\n",
      "    <td>64.1</td>\n",
      "    <td>62.2</td>\n",
      "    <td>36.6</td>\n",
      "    <td>38.2</td>\n",
      "    <td>58.4</td>\n",
      "  </tr>\n",
      "  <tr>\n",
      "    <td>(Wang 2021)</td>\n",
      "    <td/>\n",
      "    <td/>\n",
      "    <td/>\n",
      "    <td/>\n",
      "    <td/>\n",
      "    <td/>\n",
      "    <td/>\n",
      "    <td/>\n",
      "  </tr>\n",
      "  <tr>\n",
      "    <td>LLama 7B* (Touvron et al., 2023)</td>\n",
      "    <td>73.1</td>\n",
      "    <td>714</td>\n",
      "    <td/>\n",
      "    <td>66.9</td>\n",
      "    <td>52.5</td>\n",
      "    <td>41.4</td>\n",
      "    <td>42.4</td>\n",
      "    <td>61.0</td>\n",
      "  </tr>\n",
      "  <tr>\n",
      "    <td>LLama 13B* (Touvron et al., 2023)</td>\n",
      "    <td>68.5</td>\n",
      "    <td>79.1</td>\n",
      "    <td/>\n",
      "    <td>70.1</td>\n",
      "    <td>60</td>\n",
      "    <td>44.6</td>\n",
      "    <td>42.2</td>\n",
      "    <td>63.0</td>\n",
      "  </tr>\n",
      "  <tr>\n",
      "    <td>Pythia 6.7B* (Biderman et al., 2023)</td>\n",
      "    <td>63.5</td>\n",
      "    <td>76.3</td>\n",
      "    <td/>\n",
      "    <td>61.1</td>\n",
      "    <td>61.3</td>\n",
      "    <td>35.2</td>\n",
      "    <td>37.2</td>\n",
      "    <td>56.9</td>\n",
      "  </tr>\n",
      "  <tr>\n",
      "    <td>Pythia 12B* (Biderman et al., 2023)</td>\n",
      "    <td>67.7</td>\n",
      "    <td>76.6</td>\n",
      "    <td/>\n",
      "    <td>63.8</td>\n",
      "    <td>63.9</td>\n",
      "    <td>34.8</td>\n",
      "    <td>38</td>\n",
      "    <td>58.9</td>\n",
      "  </tr>\n",
      "  <tr>\n",
      "    <td>Fastchat T5* (Zheng et al., 2023)</td>\n",
      "    <td>81.5</td>\n",
      "    <td>64.6</td>\n",
      "    <td/>\n",
      "    <td>61.8</td>\n",
      "    <td>49.3</td>\n",
      "    <td>33.3</td>\n",
      "    <td>39.4</td>\n",
      "    <td>53.7</td>\n",
      "  </tr>\n",
      "  <tr>\n",
      "    <td>Fastchat Vicufia* 7B (Zheng et al., 2023)</td>\n",
      "    <td>76.6</td>\n",
      "    <td>77.2</td>\n",
      "    <td/>\n",
      "    <td>67.3</td>\n",
      "    <td>53.5</td>\n",
      "    <td>41.2</td>\n",
      "    <td>40.8</td>\n",
      "    <td>61.0</td>\n",
      "  </tr>\n",
      "  <tr>\n",
      "    <td>Fastchat Vicufia 13B* et al., 2023)</td>\n",
      "    <td>81.5</td>\n",
      "    <td>76.8</td>\n",
      "    <td/>\n",
      "    <td>66.7</td>\n",
      "    <td>57.4</td>\n",
      "    <td>42.7</td>\n",
      "    <td>43.6</td>\n",
      "    <td>63.1</td>\n",
      "  </tr>\n",
      "  <tr>\n",
      "    <td>(Zheng</td>\n",
      "    <td/>\n",
      "    <td/>\n",
      "    <td/>\n",
      "    <td/>\n",
      "    <td/>\n",
      "    <td/>\n",
      "    <td/>\n",
      "    <td/>\n",
      "  </tr>\n",
      "  <tr>\n",
      "    <td>StableVicufia RLHF* (Stability-AI, 2023)</td>\n",
      "    <td>82.3</td>\n",
      "    <td>78.6</td>\n",
      "    <td/>\n",
      "    <td>70.9</td>\n",
      "    <td>61</td>\n",
      "    <td>43.5</td>\n",
      "    <td>44.4</td>\n",
      "    <td>65.0</td>\n",
      "  </tr>\n",
      "  <tr>\n",
      "    <td>StableLM Tuned* (Stability-AI, 2023)</td>\n",
      "    <td>62.5</td>\n",
      "    <td>71.2</td>\n",
      "    <td/>\n",
      "    <td>54.8</td>\n",
      "    <td>52.4</td>\n",
      "    <td>31.1</td>\n",
      "    <td>33.4</td>\n",
      "    <td>51.3</td>\n",
      "  </tr>\n",
      "  <tr>\n",
      "    <td>StableLM Base* (Stability-AI, 2023)</td>\n",
      "    <td>60.1</td>\n",
      "    <td>67.4</td>\n",
      "    <td/>\n",
      "    <td>50.1</td>\n",
      "    <td>44.9</td>\n",
      "    <td>27</td>\n",
      "    <td>32</td>\n",
      "    <td>46.1</td>\n",
      "  </tr>\n",
      "  <tr>\n",
      "    <td>Koala 13B* (Geng et al., 2023)</td>\n",
      "    <td>76.5</td>\n",
      "    <td>7719</td>\n",
      "    <td/>\n",
      "    <td>68.8</td>\n",
      "    <td>54.3</td>\n",
      "    <td>4l</td>\n",
      "    <td>42.8</td>\n",
      "    <td>62.0</td>\n",
      "  </tr>\n",
      "  <tr>\n",
      "    <td>Open Assistant Pythia 12B*</td>\n",
      "    <td>67.9</td>\n",
      "    <td>78</td>\n",
      "    <td/>\n",
      "    <td>65</td>\n",
      "    <td>64.2</td>\n",
      "    <td>40.4</td>\n",
      "    <td>43.2</td>\n",
      "    <td>61.0</td>\n",
      "  </tr>\n",
      "  <tr>\n",
      "    <td>Mosaic MPT7B (MosaicML-Team, 2023)</td>\n",
      "    <td>74.8</td>\n",
      "    <td>79.3</td>\n",
      "    <td/>\n",
      "    <td>68.6</td>\n",
      "    <td>70</td>\n",
      "    <td>42.2</td>\n",
      "    <td>42.6</td>\n",
      "    <td>64.8</td>\n",
      "  </tr>\n",
      "  <tr>\n",
      "    <td>Mosaic mpt-instruct (MosaicML-Team, 2023)</td>\n",
      "    <td>74.3</td>\n",
      "    <td>80.4</td>\n",
      "    <td/>\n",
      "    <td>67.8</td>\n",
      "    <td>72.2</td>\n",
      "    <td>44.6</td>\n",
      "    <td>4B</td>\n",
      "    <td>65.6</td>\n",
      "  </tr>\n",
      "  <tr>\n",
      "    <td>Mosaic mpt-chat (MosaicML-Team, 2023)</td>\n",
      "    <td>771</td>\n",
      "    <td>78.2</td>\n",
      "    <td/>\n",
      "    <td>67.5</td>\n",
      "    <td>69.4</td>\n",
      "    <td>43.3</td>\n",
      "    <td>44.2</td>\n",
      "    <td>64.9</td>\n",
      "  </tr>\n",
      "  <tr>\n",
      "    <td>Wizard 7B (Xu et al., 2023)</td>\n",
      "    <td>78.4</td>\n",
      "    <td>77.2</td>\n",
      "    <td/>\n",
      "    <td>66.5</td>\n",
      "    <td>56.8</td>\n",
      "    <td>40.5</td>\n",
      "    <td>42.6</td>\n",
      "    <td>61.7</td>\n",
      "  </tr>\n",
      "  <tr>\n",
      "    <td>Wizard 7B Uncensored (Xu et al., 2023)</td>\n",
      "    <td>777</td>\n",
      "    <td>74.2</td>\n",
      "    <td/>\n",
      "    <td>65.2</td>\n",
      "    <td>53.5</td>\n",
      "    <td>38.7</td>\n",
      "    <td>41.6</td>\n",
      "    <td>59.8</td>\n",
      "  </tr>\n",
      "  <tr>\n",
      "    <td>Wizard 13B Uncensored (Xu et al., 2023)</td>\n",
      "    <td>78.4</td>\n",
      "    <td>75.5</td>\n",
      "    <td/>\n",
      "    <td>69.5</td>\n",
      "    <td>57.5</td>\n",
      "    <td>40.4</td>\n",
      "    <td>44</td>\n",
      "    <td>62.5</td>\n",
      "  </tr>\n",
      "  <tr>\n",
      "    <td>GPT4-x-Vicuna-13b (Nous-Research, 2023a)</td>\n",
      "    <td>81.3</td>\n",
      "    <td>75</td>\n",
      "    <td/>\n",
      "    <td>65</td>\n",
      "    <td>58.7</td>\n",
      "    <td>43.9</td>\n",
      "    <td>43.6</td>\n",
      "    <td>63.2</td>\n",
      "  </tr>\n",
      "  <tr>\n",
      "    <td>Falcon 7b (Almazrouei et al., 2023)</td>\n",
      "    <td>73.6</td>\n",
      "    <td>80.7</td>\n",
      "    <td/>\n",
      "    <td>67.3</td>\n",
      "    <td>71</td>\n",
      "    <td>43.3</td>\n",
      "    <td>44.4</td>\n",
      "    <td>65.2</td>\n",
      "  </tr>\n",
      "  <tr>\n",
      "    <td>Falcon 7b instruct (Almazrouei et al., 2023)</td>\n",
      "    <td>70.9</td>\n",
      "    <td>78.6</td>\n",
      "    <td/>\n",
      "    <td>66.7</td>\n",
      "    <td>67.9</td>\n",
      "    <td>42.7</td>\n",
      "    <td>412</td>\n",
      "    <td>62.5</td>\n",
      "  </tr>\n",
      "</table>\n",
      "\n"
     ]
    }
   ],
   "source": [
    "from io import StringIO \n",
    "from lxml import etree\n",
    "\n",
    "parser = etree.XMLParser(remove_blank_text=True)\n",
    "file_obj = StringIO(table_html)\n",
    "tree = etree.parse(file_obj, parser)\n",
    "print(etree.tostring(tree, pretty_print=True).decode())"
   ]
  },
  {
   "cell_type": "code",
   "execution_count": 19,
   "id": "ffd80c89-5c09-4b89-b36b-9017d334499a",
   "metadata": {},
   "outputs": [],
   "source": [
    "# Find the element with text \"References\" and category \"Title\"\n",
    "reference_title = [\n",
    "    el for el in pdf_elements\n",
    "    if el.text == \"References\"\n",
    "    and el.category == \"Title\"\n",
    "][0]"
   ]
  },
  {
   "cell_type": "code",
   "execution_count": 20,
   "id": "7c16d2b4-2039-4f08-ac63-9a4f27d0bc1f",
   "metadata": {},
   "outputs": [
    {
     "data": {
      "text/plain": [
       "{'type': 'Title',\n",
       " 'element_id': 'd3f115969fa159c8ae83287b2de7a62e',\n",
       " 'text': 'References',\n",
       " 'metadata': {'detection_class_prob': 0.8571382164955139,\n",
       "  'coordinates': {'points': ((196.85, 199.78396606445312),\n",
       "    (196.85, 235.40411376953125),\n",
       "    (351.13720722222223, 235.40411376953125),\n",
       "    (351.13720722222223, 199.78396606445312)),\n",
       "   'system': 'PixelSpace',\n",
       "   'layout_width': 1654,\n",
       "   'layout_height': 2339},\n",
       "  'last_modified': '2024-05-03T13:31:00',\n",
       "  'filetype': 'application/pdf',\n",
       "  'languages': ['eng'],\n",
       "  'page_number': 5,\n",
       "  'file_directory': 'data',\n",
       "  'filename': 'gpt4all.pdf'}}"
      ]
     },
     "execution_count": 20,
     "metadata": {},
     "output_type": "execute_result"
    }
   ],
   "source": [
    "reference_title.to_dict()"
   ]
  },
  {
   "cell_type": "code",
   "execution_count": 21,
   "id": "303b9220-6367-4acc-a301-72e90620ed6f",
   "metadata": {},
   "outputs": [],
   "source": [
    "# Get the ID of the reference title element\n",
    "references_id = reference_title.id"
   ]
  },
  {
   "cell_type": "code",
   "execution_count": 22,
   "id": "2b1b9656-0018-4936-a9c9-3beac7a7c610",
   "metadata": {},
   "outputs": [
    {
     "name": "stdout",
     "output_type": "stream",
     "text": [
      "Nomic AI. 2023. Atlas. https://atlas.nomic.ai/.\n"
     ]
    }
   ],
   "source": [
    "for element in pdf_elements:\n",
    "    if element.metadata.parent_id == references_id:\n",
    "        print(element)\n",
    "        break"
   ]
  },
  {
   "cell_type": "code",
   "execution_count": 23,
   "id": "c7c9c2ce-433c-493f-8d01-3d257bf1eff1",
   "metadata": {},
   "outputs": [],
   "source": [
    "# Filter out elements with a parent_id matching references_id\n",
    "pdf_elements = [el for el in pdf_elements if el.metadata.parent_id != references_id]"
   ]
  },
  {
   "cell_type": "markdown",
   "id": "b3495de3-1ad8-4f81-b979-d67de01bd8d2",
   "metadata": {},
   "source": [
    "### Filter out headers"
   ]
  },
  {
   "cell_type": "code",
   "execution_count": 24,
   "id": "29593c8d-a579-454f-872f-9001caa5613c",
   "metadata": {},
   "outputs": [],
   "source": [
    "headers = [el for el in pdf_elements if el.category == \"Header\"]"
   ]
  },
  {
   "cell_type": "code",
   "execution_count": 25,
   "id": "7d7e6a38",
   "metadata": {},
   "outputs": [
    {
     "data": {
      "text/plain": [
       "1"
      ]
     },
     "execution_count": 25,
     "metadata": {},
     "output_type": "execute_result"
    }
   ],
   "source": [
    "len(headers)"
   ]
  },
  {
   "cell_type": "code",
   "execution_count": 26,
   "id": "2e2a006f-9125-4c13-a2ee-a86452b59b2b",
   "metadata": {},
   "outputs": [
    {
     "data": {
      "text/plain": [
       "{'type': 'Header',\n",
       " 'element_id': '4bff1bcde9e4a6e875fb8a8fc7b79e19',\n",
       " 'text': 'v o N 6 ] L C . s c [',\n",
       " 'metadata': {'detection_class_prob': 0.5846725702285767,\n",
       "  'coordinates': {'points': ((45.388888888888886, 816.0743408203125),\n",
       "    (45.388888888888886, 1539.7510986328125),\n",
       "    (100.94444444444446, 1539.7510986328125),\n",
       "    (100.94444444444446, 816.0743408203125)),\n",
       "   'system': 'PixelSpace',\n",
       "   'layout_width': 1654,\n",
       "   'layout_height': 2339},\n",
       "  'last_modified': '2024-05-03T13:31:00',\n",
       "  'filetype': 'application/pdf',\n",
       "  'languages': ['eng'],\n",
       "  'page_number': 1,\n",
       "  'file_directory': 'data',\n",
       "  'filename': 'gpt4all.pdf'}}"
      ]
     },
     "execution_count": 26,
     "metadata": {},
     "output_type": "execute_result"
    }
   ],
   "source": [
    "headers[0].to_dict()"
   ]
  },
  {
   "cell_type": "code",
   "execution_count": 27,
   "id": "4c40d66a-4be5-4051-8226-5be421118ab3",
   "metadata": {},
   "outputs": [],
   "source": [
    "# Filters out elements from the `pdf_elements` list that have the category \"Header\".\n",
    "pdf_elements = [el for el in pdf_elements if el.category != \"Header\"]"
   ]
  },
  {
   "cell_type": "code",
   "execution_count": 28,
   "id": "3b88af65",
   "metadata": {},
   "outputs": [
    {
     "data": {
      "text/plain": [
       "72"
      ]
     },
     "execution_count": 28,
     "metadata": {},
     "output_type": "execute_result"
    }
   ],
   "source": [
    "len(pdf_elements)"
   ]
  },
  {
   "cell_type": "code",
   "execution_count": 29,
   "id": "81dcbbc3",
   "metadata": {},
   "outputs": [
    {
     "data": {
      "text/plain": [
       "{'type': 'Title',\n",
       " 'element_id': '12c1dd0555bedb5ccc2a4d6366af96c7',\n",
       " 'text': '3 From a Model to an Ecosystem',\n",
       " 'metadata': {'detection_class_prob': 0.8266856670379639,\n",
       "  'coordinates': {'points': ((193.63523864746094, 1666.2607421875),\n",
       "    (193.63523864746094, 1700.904488611111),\n",
       "    (686.5115356445312, 1700.904488611111),\n",
       "    (686.5115356445312, 1666.2607421875)),\n",
       "   'system': 'PixelSpace',\n",
       "   'layout_width': 1654,\n",
       "   'layout_height': 2339},\n",
       "  'last_modified': '2024-05-03T13:31:00',\n",
       "  'filetype': 'application/pdf',\n",
       "  'languages': ['eng'],\n",
       "  'page_number': 2,\n",
       "  'file_directory': 'data',\n",
       "  'filename': 'gpt4all.pdf'}}"
      ]
     },
     "execution_count": 29,
     "metadata": {},
     "output_type": "execute_result"
    }
   ],
   "source": [
    "# lets again see some random index\n",
    "pdf_elements[33].to_dict()"
   ]
  },
  {
   "cell_type": "markdown",
   "id": "527495ff-0e84-400e-b6a6-982a5288f2f5",
   "metadata": {},
   "source": [
    "## Preprocess the README"
   ]
  },
  {
   "cell_type": "code",
   "execution_count": 30,
   "id": "b2e35d92-78bc-46be-985e-6baba4830b12",
   "metadata": {},
   "outputs": [],
   "source": [
    "filename_md = \"data/uber_10q_march_2022.md\""
   ]
  },
  {
   "cell_type": "code",
   "execution_count": 31,
   "id": "946d2081-9070-423b-99f0-ce260e9a6491",
   "metadata": {},
   "outputs": [],
   "source": [
    "md_elements = partition_md(filename=filename_md)"
   ]
  },
  {
   "cell_type": "code",
   "execution_count": 32,
   "id": "9eee4f04",
   "metadata": {},
   "outputs": [
    {
     "data": {
      "text/plain": [
       "({'type': 'Title',\n",
       "  'element_id': 'd7e7b8d880ae1ff8fd2f389fd1f21329',\n",
       "  'text': 'PART I - FINANCIAL INFORMATION',\n",
       "  'metadata': {'last_modified': '2024-03-23T21:26:32',\n",
       "   'languages': ['eng'],\n",
       "   'filetype': 'text/markdown',\n",
       "   'file_directory': 'data',\n",
       "   'filename': 'uber_10q_march_2022.md'}},\n",
       " {'type': 'Title',\n",
       "  'element_id': '12c1dd0555bedb5ccc2a4d6366af96c7',\n",
       "  'text': '3 From a Model to an Ecosystem',\n",
       "  'metadata': {'detection_class_prob': 0.8266856670379639,\n",
       "   'coordinates': {'points': ((193.63523864746094, 1666.2607421875),\n",
       "     (193.63523864746094, 1700.904488611111),\n",
       "     (686.5115356445312, 1700.904488611111),\n",
       "     (686.5115356445312, 1666.2607421875)),\n",
       "    'system': 'PixelSpace',\n",
       "    'layout_width': 1654,\n",
       "    'layout_height': 2339},\n",
       "   'last_modified': '2024-05-03T13:31:00',\n",
       "   'filetype': 'application/pdf',\n",
       "   'languages': ['eng'],\n",
       "   'page_number': 2,\n",
       "   'file_directory': 'data',\n",
       "   'filename': 'gpt4all.pdf'}})"
      ]
     },
     "execution_count": 32,
     "metadata": {},
     "output_type": "execute_result"
    }
   ],
   "source": [
    "# lets again see some random index\n",
    "md_elements[33].to_dict(), pdf_elements[33].to_dict()"
   ]
  },
  {
   "cell_type": "markdown",
   "id": "b5533a29-62fe-432b-bfa0-499d4029fdbf",
   "metadata": {},
   "source": [
    "#### Let's still do some more exploration"
   ]
  },
  {
   "cell_type": "code",
   "execution_count": 33,
   "id": "b00b8c11",
   "metadata": {},
   "outputs": [
    {
     "data": {
      "text/plain": [
       "(72, 1506)"
      ]
     },
     "execution_count": 33,
     "metadata": {},
     "output_type": "execute_result"
    }
   ],
   "source": [
    "len(pdf_elements), len(md_elements)"
   ]
  },
  {
   "cell_type": "code",
   "execution_count": 34,
   "id": "6b739a36-8f61-46ac-861b-641f56b140f0",
   "metadata": {},
   "outputs": [],
   "source": [
    "elements = chunk_by_title(pdf_elements + md_elements) # you can play around with the chunk_by_title arguments"
   ]
  },
  {
   "cell_type": "code",
   "execution_count": 35,
   "id": "2df9e6ae",
   "metadata": {},
   "outputs": [
    {
     "data": {
      "text/plain": [
       "731"
      ]
     },
     "execution_count": 35,
     "metadata": {},
     "output_type": "execute_result"
    }
   ],
   "source": [
    "len(elements)"
   ]
  },
  {
   "cell_type": "code",
   "execution_count": 36,
   "id": "3d69d3d0",
   "metadata": {},
   "outputs": [
    {
     "data": {
      "text/plain": [
       "{'type': 'UncategorizedText',\n",
       " 'element_id': 'b0c5cfcf93a217591e27d5c97845f59b',\n",
       " 'text': '3 2 0 2',\n",
       " 'metadata': {'coordinates': {'points': ((45.388888888888886,\n",
       "     732.8055555555557),\n",
       "    (45.388888888888886, 843.9166666666669),\n",
       "    (100.94444444444446, 843.9166666666669),\n",
       "    (100.94444444444446, 732.8055555555557)),\n",
       "   'system': 'PixelSpace',\n",
       "   'layout_width': 1654,\n",
       "   'layout_height': 2339},\n",
       "  'last_modified': '2024-05-03T13:31:00',\n",
       "  'filetype': 'application/pdf',\n",
       "  'languages': ['eng'],\n",
       "  'page_number': 1,\n",
       "  'file_directory': 'data',\n",
       "  'filename': 'gpt4all.pdf'}}"
      ]
     },
     "execution_count": 36,
     "metadata": {},
     "output_type": "execute_result"
    }
   ],
   "source": [
    "pdf_elements[0].to_dict()"
   ]
  },
  {
   "cell_type": "code",
   "execution_count": 37,
   "id": "b2789bb8",
   "metadata": {},
   "outputs": [
    {
     "data": {
      "text/plain": [
       "{'type': 'UncategorizedText',\n",
       " 'element_id': '07edc40df2508eb1259212408427c16f',\n",
       " 'text': '1 v 1 3 9 4 0 . 1 1 3 2 : v i X r a',\n",
       " 'metadata': {'coordinates': {'points': ((45.388888888888886,\n",
       "     1218.8611111111109),\n",
       "    (45.388888888888886, 1680.25),\n",
       "    (100.94444444444446, 1680.25),\n",
       "    (100.94444444444446, 1218.8611111111109)),\n",
       "   'system': 'PixelSpace',\n",
       "   'layout_width': 1654,\n",
       "   'layout_height': 2339},\n",
       "  'last_modified': '2024-05-03T13:31:00',\n",
       "  'filetype': 'application/pdf',\n",
       "  'languages': ['eng'],\n",
       "  'page_number': 1,\n",
       "  'parent_id': '4bff1bcde9e4a6e875fb8a8fc7b79e19',\n",
       "  'file_directory': 'data',\n",
       "  'filename': 'gpt4all.pdf'}}"
      ]
     },
     "execution_count": 37,
     "metadata": {},
     "output_type": "execute_result"
    }
   ],
   "source": [
    "pdf_elements[1].to_dict()"
   ]
  },
  {
   "cell_type": "code",
   "execution_count": 38,
   "id": "ab0af605",
   "metadata": {},
   "outputs": [
    {
     "data": {
      "text/plain": [
       "{'type': 'CompositeElement',\n",
       " 'element_id': 'de7552d5-35e4-4f67-9e92-8bb73a59f958',\n",
       " 'text': '3 2 0 2\\n\\n1 v 1 3 9 4 0 . 1 1 3 2 : v i X r a\\n\\nGPT4All: An Ecosystem of Open Source Compressed Language Models\\n\\nYuvanesh Anand Nomic AI yuvanesh@nomic.ai\\n\\nZach Nussbaum Nomic AI zach@nomic.ai\\n\\nAdam Treat Nomic AI adam@nomic.ai\\n\\nAaron Miller Nomic AI aaron@nomic.ai\\n\\nRichard Guo Nomic AI richard@nomic.ai\\n\\nBen Schmidt Nomic AI ben@nomic.ai\\n\\nGPT4All Community Planet Earth\\n\\nBrandon Duderstadt∗ Nomic AI brandon@nomic.ai\\n\\nAndriy Mulyar∗ Nomic AI andriy@nomic.ai',\n",
       " 'metadata': {'file_directory': 'data',\n",
       "  'filename': 'gpt4all.pdf',\n",
       "  'filetype': 'application/pdf',\n",
       "  'languages': ['eng'],\n",
       "  'last_modified': '2024-05-03T13:31:00',\n",
       "  'page_number': 1,\n",
       "  'orig_elements': 'eJzlWNtuGzcQ/RVCz86W94uf6rRBUKBJg8YF2rqBwMvQWmAvwmqVRgny75292FZiubEL6MH1k3QOh1guz+FwZi8+LaCCGpp+WabFKVkEGlXMMTvhOTPKMeAmqeiMlSorFxYnZFFD75PvPcZ/WsS27VLZ+B42I678rt32yxWUl6seGS6Ewzkz/XeZ+hWyTCuJ7Lotm36Yd3EhVYGMEbyw707IDK0UhRsgo7Rwt/EUjsRis9v0UA9v8Kb8ANXbtY+w+IwDuaxgmcoOYt92uyFgXPo80vgaBu5y3UtfVcU65auhfrceh/x6XZXR92XbfDcPV7653PrL8Y0vFtBcLt6N7KZf1m0qcwnjXnLK5TOqnlFxzsSpYKeUDrPXOHPZbOsA3bATwyJ7+DDs1UIQTijhQ9TV439r8Nlw2XblR0jnQxxO+Fo1aiBFSVPmiloIjCvHGZfUSm4i0/nIqjHO7KTLjLWlBd/T6TYxzXjcyo1Md6OCDDmzEBM4kF6DNSoH622OJhgHzC32pWbkPWFEEEckSl7g/wFxcop8SX4nHfEPtoF30qYA3GfDldXeZ0s9c1qppDgP5mg24IwW6oRgxphO7xVWpjCj6lLYQhwixhn/aoMEPToANVxG1GmzXHdtwDBaSMsV+9/75OWbc3lWVafkrCEvYjttE2kz+WUNDXnbbrsI5Ie2Xnew2UAiP88rJ6/aBNVm30PnZV/BQd+ADMxkIVQU3KJ4uCZGM+VWGpZkOppvmGOFPSGCqsk3M5ZMz+nEyILdxlP8E04ef2zf+wY2KzSFbxJ53dZlJGc/kd3Mf98MTOHLe8lvWbBRM9BeOOYd2KBUoMZb6xE5ejT5FV4Xbk/+GV/LbYwqzG385OX/08cVeb3dbILf1jfqf0T6YconlDnpQH1STAtnEhfGgzHORO+th6Mpb6384uDP+FppNtQJ5gDx5LU/S74m5x34/kZ41Kd+4JF3jnPnTRSSowmC8CxIaWjikguw+ngZn1M7lAY3KX8mJBaEeioNJCvoAeIe0t9ZK3AlrXyM3vjmCf3CG75rG/KqrCro9twxsAft8dp3Hb7Ke7iroExRUxtjFJCUMkZ4pXgMwdKYXPL5eDbhxo0esKwQY0E5YWxrCjndFLLQt/EU/4Szw69lXPkukZfb9sYA3UQ+LENE4SRlnGNu4DYGEbSxQoHlWeug1fFqQsPZWARcST9j5cSUMBwfO4ev8T2kv7uTwPfUj9Eb3zyf+954PvQLcVXjzt94I8B/TA1UgWE6K4vWdABRS66jsYplllJO8ng3CLVubAquDHJFKCVnAq07fIa4RTz59DA3k0O/WG+bst+RN7g46MkL3+F23ycv4EkxFMsyzrISFH8jzykYrfEM4SOP+IGQiuEK0EpMos7YaFvQMU9QdwhP8U9Y8+cdtohYFvy4TdBtUJj+ry3nzOzlgCniYfcDliGGqcS48Ci+SdRSE7F6DNpmF7w9mg+cscNZvvbBjAfd5VRQ4oVADxD3cMKdNwQ2xoo/Rqt887h+UT82qSt35NW22vnua5f4cfA+l8W7fwDSHD2i'}}"
      ]
     },
     "execution_count": 38,
     "metadata": {},
     "output_type": "execute_result"
    }
   ],
   "source": [
    "elements[0].to_dict()"
   ]
  },
  {
   "cell_type": "code",
   "execution_count": 39,
   "id": "c63851b7",
   "metadata": {},
   "outputs": [
    {
     "name": "stdout",
     "output_type": "stream",
     "text": [
      "\u001b[0;31mSignature:\u001b[0m\n",
      "\u001b[0mchunk_by_title\u001b[0m\u001b[0;34m(\u001b[0m\u001b[0;34m\u001b[0m\n",
      "\u001b[0;34m\u001b[0m    \u001b[0melements\u001b[0m\u001b[0;34m:\u001b[0m \u001b[0;34m'Iterable[Element]'\u001b[0m\u001b[0;34m,\u001b[0m\u001b[0;34m\u001b[0m\n",
      "\u001b[0;34m\u001b[0m    \u001b[0;34m*\u001b[0m\u001b[0;34m,\u001b[0m\u001b[0;34m\u001b[0m\n",
      "\u001b[0;34m\u001b[0m    \u001b[0mcombine_text_under_n_chars\u001b[0m\u001b[0;34m:\u001b[0m \u001b[0;34m'Optional[int]'\u001b[0m \u001b[0;34m=\u001b[0m \u001b[0;32mNone\u001b[0m\u001b[0;34m,\u001b[0m\u001b[0;34m\u001b[0m\n",
      "\u001b[0;34m\u001b[0m    \u001b[0minclude_orig_elements\u001b[0m\u001b[0;34m:\u001b[0m \u001b[0;34m'Optional[bool]'\u001b[0m \u001b[0;34m=\u001b[0m \u001b[0;32mNone\u001b[0m\u001b[0;34m,\u001b[0m\u001b[0;34m\u001b[0m\n",
      "\u001b[0;34m\u001b[0m    \u001b[0mmax_characters\u001b[0m\u001b[0;34m:\u001b[0m \u001b[0;34m'Optional[int]'\u001b[0m \u001b[0;34m=\u001b[0m \u001b[0;32mNone\u001b[0m\u001b[0;34m,\u001b[0m\u001b[0;34m\u001b[0m\n",
      "\u001b[0;34m\u001b[0m    \u001b[0mmultipage_sections\u001b[0m\u001b[0;34m:\u001b[0m \u001b[0;34m'Optional[bool]'\u001b[0m \u001b[0;34m=\u001b[0m \u001b[0;32mNone\u001b[0m\u001b[0;34m,\u001b[0m\u001b[0;34m\u001b[0m\n",
      "\u001b[0;34m\u001b[0m    \u001b[0mnew_after_n_chars\u001b[0m\u001b[0;34m:\u001b[0m \u001b[0;34m'Optional[int]'\u001b[0m \u001b[0;34m=\u001b[0m \u001b[0;32mNone\u001b[0m\u001b[0;34m,\u001b[0m\u001b[0;34m\u001b[0m\n",
      "\u001b[0;34m\u001b[0m    \u001b[0moverlap\u001b[0m\u001b[0;34m:\u001b[0m \u001b[0;34m'Optional[int]'\u001b[0m \u001b[0;34m=\u001b[0m \u001b[0;32mNone\u001b[0m\u001b[0;34m,\u001b[0m\u001b[0;34m\u001b[0m\n",
      "\u001b[0;34m\u001b[0m    \u001b[0moverlap_all\u001b[0m\u001b[0;34m:\u001b[0m \u001b[0;34m'Optional[bool]'\u001b[0m \u001b[0;34m=\u001b[0m \u001b[0;32mNone\u001b[0m\u001b[0;34m,\u001b[0m\u001b[0;34m\u001b[0m\n",
      "\u001b[0;34m\u001b[0m\u001b[0;34m)\u001b[0m \u001b[0;34m->\u001b[0m \u001b[0;34m'list[Element]'\u001b[0m\u001b[0;34m\u001b[0m\u001b[0;34m\u001b[0m\u001b[0m\n",
      "\u001b[0;31mSource:\u001b[0m   \n",
      "\u001b[0;32mdef\u001b[0m \u001b[0mchunk_by_title\u001b[0m\u001b[0;34m(\u001b[0m\u001b[0;34m\u001b[0m\n",
      "\u001b[0;34m\u001b[0m    \u001b[0melements\u001b[0m\u001b[0;34m:\u001b[0m \u001b[0mIterable\u001b[0m\u001b[0;34m[\u001b[0m\u001b[0mElement\u001b[0m\u001b[0;34m]\u001b[0m\u001b[0;34m,\u001b[0m\u001b[0;34m\u001b[0m\n",
      "\u001b[0;34m\u001b[0m    \u001b[0;34m*\u001b[0m\u001b[0;34m,\u001b[0m\u001b[0;34m\u001b[0m\n",
      "\u001b[0;34m\u001b[0m    \u001b[0mcombine_text_under_n_chars\u001b[0m\u001b[0;34m:\u001b[0m \u001b[0mOptional\u001b[0m\u001b[0;34m[\u001b[0m\u001b[0mint\u001b[0m\u001b[0;34m]\u001b[0m \u001b[0;34m=\u001b[0m \u001b[0;32mNone\u001b[0m\u001b[0;34m,\u001b[0m\u001b[0;34m\u001b[0m\n",
      "\u001b[0;34m\u001b[0m    \u001b[0minclude_orig_elements\u001b[0m\u001b[0;34m:\u001b[0m \u001b[0mOptional\u001b[0m\u001b[0;34m[\u001b[0m\u001b[0mbool\u001b[0m\u001b[0;34m]\u001b[0m \u001b[0;34m=\u001b[0m \u001b[0;32mNone\u001b[0m\u001b[0;34m,\u001b[0m\u001b[0;34m\u001b[0m\n",
      "\u001b[0;34m\u001b[0m    \u001b[0mmax_characters\u001b[0m\u001b[0;34m:\u001b[0m \u001b[0mOptional\u001b[0m\u001b[0;34m[\u001b[0m\u001b[0mint\u001b[0m\u001b[0;34m]\u001b[0m \u001b[0;34m=\u001b[0m \u001b[0;32mNone\u001b[0m\u001b[0;34m,\u001b[0m\u001b[0;34m\u001b[0m\n",
      "\u001b[0;34m\u001b[0m    \u001b[0mmultipage_sections\u001b[0m\u001b[0;34m:\u001b[0m \u001b[0mOptional\u001b[0m\u001b[0;34m[\u001b[0m\u001b[0mbool\u001b[0m\u001b[0;34m]\u001b[0m \u001b[0;34m=\u001b[0m \u001b[0;32mNone\u001b[0m\u001b[0;34m,\u001b[0m\u001b[0;34m\u001b[0m\n",
      "\u001b[0;34m\u001b[0m    \u001b[0mnew_after_n_chars\u001b[0m\u001b[0;34m:\u001b[0m \u001b[0mOptional\u001b[0m\u001b[0;34m[\u001b[0m\u001b[0mint\u001b[0m\u001b[0;34m]\u001b[0m \u001b[0;34m=\u001b[0m \u001b[0;32mNone\u001b[0m\u001b[0;34m,\u001b[0m\u001b[0;34m\u001b[0m\n",
      "\u001b[0;34m\u001b[0m    \u001b[0moverlap\u001b[0m\u001b[0;34m:\u001b[0m \u001b[0mOptional\u001b[0m\u001b[0;34m[\u001b[0m\u001b[0mint\u001b[0m\u001b[0;34m]\u001b[0m \u001b[0;34m=\u001b[0m \u001b[0;32mNone\u001b[0m\u001b[0;34m,\u001b[0m\u001b[0;34m\u001b[0m\n",
      "\u001b[0;34m\u001b[0m    \u001b[0moverlap_all\u001b[0m\u001b[0;34m:\u001b[0m \u001b[0mOptional\u001b[0m\u001b[0;34m[\u001b[0m\u001b[0mbool\u001b[0m\u001b[0;34m]\u001b[0m \u001b[0;34m=\u001b[0m \u001b[0;32mNone\u001b[0m\u001b[0;34m,\u001b[0m\u001b[0;34m\u001b[0m\n",
      "\u001b[0;34m\u001b[0m\u001b[0;34m)\u001b[0m \u001b[0;34m->\u001b[0m \u001b[0mlist\u001b[0m\u001b[0;34m[\u001b[0m\u001b[0mElement\u001b[0m\u001b[0;34m]\u001b[0m\u001b[0;34m:\u001b[0m\u001b[0;34m\u001b[0m\n",
      "\u001b[0;34m\u001b[0m    \u001b[0;34m\"\"\"Uses title elements to identify sections within the document for chunking.\u001b[0m\n",
      "\u001b[0;34m\u001b[0m\n",
      "\u001b[0;34m    Splits off into a new CompositeElement when a title is detected or if metadata changes, which\u001b[0m\n",
      "\u001b[0;34m    happens when page numbers or sections change. Cuts off sections once they have exceeded a\u001b[0m\n",
      "\u001b[0;34m    character length of max_characters.\u001b[0m\n",
      "\u001b[0;34m\u001b[0m\n",
      "\u001b[0;34m    Parameters\u001b[0m\n",
      "\u001b[0;34m    ----------\u001b[0m\n",
      "\u001b[0;34m    elements\u001b[0m\n",
      "\u001b[0;34m        A list of unstructured elements. Usually the output of a partition function.\u001b[0m\n",
      "\u001b[0;34m    combine_text_under_n_chars\u001b[0m\n",
      "\u001b[0;34m        Combines elements (for example a series of titles) until a section reaches a length of\u001b[0m\n",
      "\u001b[0;34m        n characters. Defaults to `max_characters` which combines chunks whenever space allows.\u001b[0m\n",
      "\u001b[0;34m        Specifying 0 for this argument suppresses combining of small chunks. Note this value is\u001b[0m\n",
      "\u001b[0;34m        \"capped\" at the `new_after_n_chars` value since a value higher than that would not change\u001b[0m\n",
      "\u001b[0;34m        this parameter's effect.\u001b[0m\n",
      "\u001b[0;34m    include_orig_elements\u001b[0m\n",
      "\u001b[0;34m        When `True` (default), add elements from pre-chunk to the `.metadata.orig_elements` field\u001b[0m\n",
      "\u001b[0;34m        of the chunk(s) formed from that pre-chunk. Among other things, this allows access to\u001b[0m\n",
      "\u001b[0;34m        original-element metadata that cannot be consolidated and is dropped in the course of\u001b[0m\n",
      "\u001b[0;34m        chunking.\u001b[0m\n",
      "\u001b[0;34m    max_characters\u001b[0m\n",
      "\u001b[0;34m        Chunks elements text and text_as_html (if present) into chunks of length\u001b[0m\n",
      "\u001b[0;34m        n characters (hard max)\u001b[0m\n",
      "\u001b[0;34m    multipage_sections\u001b[0m\n",
      "\u001b[0;34m        If True, sections can span multiple pages. Defaults to True.\u001b[0m\n",
      "\u001b[0;34m    new_after_n_chars\u001b[0m\n",
      "\u001b[0;34m        Cuts off new sections once they reach a length of n characters (soft max). Defaults to\u001b[0m\n",
      "\u001b[0;34m        `max_characters` when not specified, which effectively disables any soft window.\u001b[0m\n",
      "\u001b[0;34m        Specifying 0 for this argument causes each element to appear in a chunk by itself (although\u001b[0m\n",
      "\u001b[0;34m        an element with text longer than `max_characters` will be still be split into two or more\u001b[0m\n",
      "\u001b[0;34m        chunks).\u001b[0m\n",
      "\u001b[0;34m    overlap\u001b[0m\n",
      "\u001b[0;34m        Specifies the length of a string (\"tail\") to be drawn from each chunk and prefixed to the\u001b[0m\n",
      "\u001b[0;34m        next chunk as a context-preserving mechanism. By default, this only applies to split-chunks\u001b[0m\n",
      "\u001b[0;34m        where an oversized element is divided into multiple chunks by text-splitting.\u001b[0m\n",
      "\u001b[0;34m    overlap_all\u001b[0m\n",
      "\u001b[0;34m        Default: `False`. When `True`, apply overlap between \"normal\" chunks formed from whole\u001b[0m\n",
      "\u001b[0;34m        elements and not subject to text-splitting. Use this with caution as it entails a certain\u001b[0m\n",
      "\u001b[0;34m        level of \"pollution\" of otherwise clean semantic chunk boundaries.\u001b[0m\n",
      "\u001b[0;34m    \"\"\"\u001b[0m\u001b[0;34m\u001b[0m\n",
      "\u001b[0;34m\u001b[0m    \u001b[0mopts\u001b[0m \u001b[0;34m=\u001b[0m \u001b[0m_ByTitleChunkingOptions\u001b[0m\u001b[0;34m.\u001b[0m\u001b[0mnew\u001b[0m\u001b[0;34m(\u001b[0m\u001b[0;34m\u001b[0m\n",
      "\u001b[0;34m\u001b[0m        \u001b[0mcombine_text_under_n_chars\u001b[0m\u001b[0;34m=\u001b[0m\u001b[0mcombine_text_under_n_chars\u001b[0m\u001b[0;34m,\u001b[0m\u001b[0;34m\u001b[0m\n",
      "\u001b[0;34m\u001b[0m        \u001b[0minclude_orig_elements\u001b[0m\u001b[0;34m=\u001b[0m\u001b[0minclude_orig_elements\u001b[0m\u001b[0;34m,\u001b[0m\u001b[0;34m\u001b[0m\n",
      "\u001b[0;34m\u001b[0m        \u001b[0mmax_characters\u001b[0m\u001b[0;34m=\u001b[0m\u001b[0mmax_characters\u001b[0m\u001b[0;34m,\u001b[0m\u001b[0;34m\u001b[0m\n",
      "\u001b[0;34m\u001b[0m        \u001b[0mmultipage_sections\u001b[0m\u001b[0;34m=\u001b[0m\u001b[0mmultipage_sections\u001b[0m\u001b[0;34m,\u001b[0m\u001b[0;34m\u001b[0m\n",
      "\u001b[0;34m\u001b[0m        \u001b[0mnew_after_n_chars\u001b[0m\u001b[0;34m=\u001b[0m\u001b[0mnew_after_n_chars\u001b[0m\u001b[0;34m,\u001b[0m\u001b[0;34m\u001b[0m\n",
      "\u001b[0;34m\u001b[0m        \u001b[0moverlap\u001b[0m\u001b[0;34m=\u001b[0m\u001b[0moverlap\u001b[0m\u001b[0;34m,\u001b[0m\u001b[0;34m\u001b[0m\n",
      "\u001b[0;34m\u001b[0m        \u001b[0moverlap_all\u001b[0m\u001b[0;34m=\u001b[0m\u001b[0moverlap_all\u001b[0m\u001b[0;34m,\u001b[0m\u001b[0;34m\u001b[0m\n",
      "\u001b[0;34m\u001b[0m    \u001b[0;34m)\u001b[0m\u001b[0;34m\u001b[0m\n",
      "\u001b[0;34m\u001b[0m    \u001b[0;32mreturn\u001b[0m \u001b[0m_chunk_by_title\u001b[0m\u001b[0;34m(\u001b[0m\u001b[0melements\u001b[0m\u001b[0;34m,\u001b[0m \u001b[0mopts\u001b[0m\u001b[0;34m)\u001b[0m\u001b[0;34m\u001b[0m\u001b[0;34m\u001b[0m\u001b[0m\n",
      "\u001b[0;31mFile:\u001b[0m      ~/Documents/yt-code/youtube-stuffs/data-cleaning/.venv/lib/python3.11/site-packages/unstructured/chunking/title.py\n",
      "\u001b[0;31mType:\u001b[0m      function"
     ]
    }
   ],
   "source": [
    "chunk_by_title??"
   ]
  },
  {
   "cell_type": "code",
   "execution_count": 40,
   "id": "5def9454",
   "metadata": {},
   "outputs": [],
   "source": [
    "#chunk_elements = chunk_by_title((pdf_elements + md_elements),combine_text_under_n_chars=100,max_characters=3000)\n",
    "#len(chunk_elements)"
   ]
  },
  {
   "cell_type": "markdown",
   "id": "178d0ac3",
   "metadata": {},
   "source": [
    "## Load the Documents into the Vector DB"
   ]
  },
  {
   "cell_type": "code",
   "execution_count": 41,
   "id": "a87e5924-6c42-47ab-8cd1-2c22caed71c6",
   "metadata": {},
   "outputs": [],
   "source": [
    "import os\n",
    "from langchain_core.documents import Document\n",
    "from langchain_community.embeddings.fastembed import FastEmbedEmbeddings\n",
    "from langchain_community.vectorstores import Qdrant"
   ]
  },
  {
   "cell_type": "code",
   "execution_count": 42,
   "id": "9af0f348-0697-4bed-8f97-a0ee03475ffe",
   "metadata": {},
   "outputs": [],
   "source": [
    "documents = []\n",
    "for element in elements:\n",
    "    metadata = element.metadata.to_dict()\n",
    "    del metadata[\"languages\"]\n",
    "    metadata[\"source\"] = metadata[\"filename\"]\n",
    "    documents.append(Document(page_content=element.text, metadata=metadata))"
   ]
  },
  {
   "cell_type": "code",
   "execution_count": 94,
   "id": "187514ca",
   "metadata": {},
   "outputs": [
    {
     "data": {
      "text/plain": [
       "731"
      ]
     },
     "execution_count": 94,
     "metadata": {},
     "output_type": "execute_result"
    }
   ],
   "source": [
    "len(documents)"
   ]
  },
  {
   "cell_type": "code",
   "execution_count": 43,
   "id": "cbd8d9e9",
   "metadata": {},
   "outputs": [
    {
     "data": {
      "text/plain": [
       "True"
      ]
     },
     "execution_count": 43,
     "metadata": {},
     "output_type": "execute_result"
    }
   ],
   "source": [
    "from dotenv import load_dotenv\n",
    "load_dotenv()"
   ]
  },
  {
   "cell_type": "code",
   "execution_count": 44,
   "id": "e5502d16",
   "metadata": {},
   "outputs": [],
   "source": [
    "qdrant_url = os.getenv(\"QDRANT_URL\")\n",
    "qdrant_api_key = os.getenv(\"QDRANT_API_KEY\")\n",
    "groq_api_key = os.getenv(\"GROQ_API_KEY\")"
   ]
  },
  {
   "cell_type": "code",
   "execution_count": 45,
   "id": "43ce7dc4-a23f-4024-b647-1eae469efc77",
   "metadata": {},
   "outputs": [
    {
     "name": "stderr",
     "output_type": "stream",
     "text": [
      "Fetching 5 files: 100%|██████████| 5/5 [00:00<00:00, 78251.94it/s]\n"
     ]
    }
   ],
   "source": [
    "embeddings = FastEmbedEmbeddings()"
   ]
  },
  {
   "cell_type": "code",
   "execution_count": 46,
   "id": "b2bc691d-18e8-4833-9009-e13f7fa13e0e",
   "metadata": {},
   "outputs": [],
   "source": [
    "# this will take some time, patience is the key :)\n",
    "vectorstore = Qdrant.from_documents(documents=documents,\n",
    "                                    embedding = embeddings,\n",
    "                                    url = qdrant_url,\n",
    "                                    collection_name=\"rag\",\n",
    "                                    api_key=qdrant_api_key)"
   ]
  },
  {
   "cell_type": "code",
   "execution_count": 47,
   "id": "a775b466-16af-4bf1-94d5-c96563ce50d0",
   "metadata": {},
   "outputs": [],
   "source": [
    "retriever = vectorstore.as_retriever(\n",
    "    search_type=\"similarity\",\n",
    "    search_kwargs={\"k\": 3}\n",
    ")"
   ]
  },
  {
   "cell_type": "markdown",
   "id": "61aadbc2",
   "metadata": {},
   "source": [
    "## Let's create RAG (Qdrant, Groq, LangChain, Llama3)"
   ]
  },
  {
   "cell_type": "code",
   "execution_count": 48,
   "id": "6b3a5fa6-7169-4f1f-aabd-15eec4da8f53",
   "metadata": {},
   "outputs": [],
   "source": [
    "from langchain.prompts.prompt import PromptTemplate\n",
    "from langchain_groq import ChatGroq\n",
    "from langchain.chains import chat_history_aware_retriever\n",
    "from langchain.chains.qa_with_sources import load_qa_with_sources_chain"
   ]
  },
  {
   "cell_type": "code",
   "execution_count": 59,
   "id": "238ea8c4-c099-490a-877c-2050b65fd2b0",
   "metadata": {},
   "outputs": [],
   "source": [
    "template = \"\"\"You are an AI assistant for answering questions about the GPT4All paper and Quarterly Report Pursuant to Section 13 or 15(d) of the Securities Exchange Act of 1934 for the quarterly period ended March 31, 2022.\n",
    "You are given the following extracted parts of a long document and a question. Provide a conversational answer.\n",
    "If you don't know the answer, just say \"Hmm, I'm not sure.\" Don't try to make up an answer.\n",
    "Question: {question}\n",
    "=========\n",
    "{context}\n",
    "=========\n",
    "Answer in Markdown:\"\"\"\n",
    "prompt = PromptTemplate(template=template, input_variables=[\"question\", \"context\"])"
   ]
  },
  {
   "cell_type": "code",
   "execution_count": 60,
   "id": "42096f06-ae93-4d5d-acb6-02b760745b9e",
   "metadata": {},
   "outputs": [],
   "source": [
    "llm = ChatGroq(temperature=0,model_name=\"llama3-8b-8192\")\n",
    "\n",
    "doc_chain = load_qa_with_sources_chain(llm, chain_type=\"map_reduce\")\n",
    "question_generator_chain = LLMChain(llm=llm, prompt=prompt)\n",
    "qa_chain = ConversationalRetrievalChain(\n",
    "    retriever=retriever,\n",
    "    question_generator=question_generator_chain,\n",
    "    combine_docs_chain=doc_chain,\n",
    ")"
   ]
  },
  {
   "cell_type": "code",
   "execution_count": 61,
   "id": "d9329374-1a3f-44aa-8cd0-14a6d8bcae7e",
   "metadata": {},
   "outputs": [
    {
     "data": {
      "text/plain": [
       "'The net loss including non-controlling interests of Uber in 2021 was $(122) million.\\nSOURCES: uber_10q_march_2022.md'"
      ]
     },
     "execution_count": 61,
     "metadata": {},
     "output_type": "execute_result"
    }
   ],
   "source": [
    "qa_chain.invoke({\n",
    "    \"question\": \"What was the net loss including non-controlling interests of Uber in 2021\", #line 533\n",
    "    \"chat_history\": []\n",
    "})[\"answer\"]"
   ]
  },
  {
   "cell_type": "code",
   "execution_count": 87,
   "id": "c2f3d9ab-9cb4-4b64-8ed6-db3467f2a548",
   "metadata": {},
   "outputs": [],
   "source": [
    "# hybrid search in action\n",
    "filter_retriever = vectorstore.as_retriever(\n",
    "    search_type=\"similarity\",\n",
    "    search_kwargs={\"k\": 1, \"filter\": {\"source\": \"gpt4all.pdf\"}}\n",
    ")"
   ]
  },
  {
   "cell_type": "code",
   "execution_count": 88,
   "id": "ebca3607-5cc0-46e3-9f1e-ef60955d3abd",
   "metadata": {},
   "outputs": [],
   "source": [
    "filter_chain = ConversationalRetrievalChain(\n",
    "    retriever=filter_retriever,\n",
    "    question_generator=question_generator_chain,\n",
    "    combine_docs_chain=doc_chain,\n",
    ")"
   ]
  },
  {
   "cell_type": "code",
   "execution_count": 92,
   "id": "67c0ff39-291e-4cd1-9aef-b2db960a728b",
   "metadata": {},
   "outputs": [
    {
     "data": {
      "text/plain": [
       "\"I'm happy to help!\\n\\nFINAL ANSWER: The president did not mention Michael Jackson.\\nSOURCES:\\n\\nFINAL ANSWER: This Agreement is governed by English law.\\nSOURCES: 28-pl\\n\\nFINAL ANSWER: The president did not mention Michael Jackson.\\nSOURCES:\\n\\nFINAL ANSWER: GPT4All-Snoozy was developed using roughly the same procedure as the previous GPT4All models, but with a few key modifications.\\nSOURCES: gpt4all.pdf\""
      ]
     },
     "execution_count": 92,
     "metadata": {},
     "output_type": "execute_result"
    }
   ],
   "source": [
    "filter_chain.invoke({\n",
    "    \"question\": \"How was GPT4All-Snoozy developed ?\",\n",
    "    \"chat_history\": [],\n",
    "    \"filter\": filter,\n",
    "})[\"answer\"]"
   ]
  },
  {
   "cell_type": "code",
   "execution_count": null,
   "id": "64114f95-ca0e-4de8-a335-fa8a4849da96",
   "metadata": {},
   "outputs": [],
   "source": []
  }
 ],
 "metadata": {
  "kernelspec": {
   "display_name": "Python 3 (ipykernel)",
   "language": "python",
   "name": "python3"
  },
  "language_info": {
   "codemirror_mode": {
    "name": "ipython",
    "version": 3
   },
   "file_extension": ".py",
   "mimetype": "text/x-python",
   "name": "python",
   "nbconvert_exporter": "python",
   "pygments_lexer": "ipython3",
   "version": "3.11.0"
  }
 },
 "nbformat": 4,
 "nbformat_minor": 5
}
