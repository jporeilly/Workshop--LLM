{
  "cells": [
    {
      "cell_type": "markdown",
      "metadata": {
        "id": "view-in-github",
        "colab_type": "text"
      },
      "source": [
        "<a href=\"https://colab.research.google.com/github/sudarshan-koirala/youtube-stuffs/blob/main/llamaindex/perplexity%2Bllamaindex.ipynb\" target=\"_parent\"><img src=\"https://colab.research.google.com/assets/colab-badge.svg\" alt=\"Open In Colab\"/></a>"
      ]
    },
    {
      "cell_type": "markdown",
      "metadata": {
        "id": "eRCyG7yssDk9"
      },
      "source": [
        "# Perplexity with LlamaIndex\n",
        "\n",
        "## [Youtube Video Covering this Notebook](https://youtu.be/PHEZ6AHR57w?si=hUIkRIhV17YA0w9W)\n",
        "\n",
        "Before we get started, make sure you install llama_index"
      ]
    },
    {
      "cell_type": "code",
      "execution_count": null,
      "metadata": {
        "id": "LpC8SU21sDk_"
      },
      "outputs": [],
      "source": [
        "%%capture\n",
        "!pip install llama-index watermark gradio"
      ]
    },
    {
      "cell_type": "code",
      "source": [
        "%load_ext watermark\n",
        "%watermark -a \"Sudarshan Koirala\" -vmp llama_index,openai,gradio"
      ],
      "metadata": {
        "colab": {
          "base_uri": "https://localhost:8080/"
        },
        "id": "um5NM3vNv-zb",
        "outputId": "165f0993-0640-4065-ce21-2099eb574ad7"
      },
      "execution_count": null,
      "outputs": [
        {
          "output_type": "stream",
          "name": "stdout",
          "text": [
            "Author: Sudarshan Koirala\n",
            "\n",
            "Python implementation: CPython\n",
            "Python version       : 3.10.12\n",
            "IPython version      : 7.34.0\n",
            "\n",
            "llama_index: 0.9.3.post1\n",
            "openai     : 1.3.3\n",
            "gradio     : 4.4.1\n",
            "\n",
            "Compiler    : GCC 11.4.0\n",
            "OS          : Linux\n",
            "Release     : 5.15.120+\n",
            "Machine     : x86_64\n",
            "Processor   : x86_64\n",
            "CPU cores   : 2\n",
            "Architecture: 64bit\n",
            "\n"
          ]
        }
      ]
    },
    {
      "cell_type": "markdown",
      "metadata": {
        "id": "iEaZEoXesDlA"
      },
      "source": [
        "## Setup LLM\n",
        "\n",
        "As of Nov 14, 2023 - the following models are supported with the Perplexity LLM class in LLaMa Index:\n",
        "\n",
        "| Model | Context Length | Model Type |\n",
        "|-------|----------------|------------|\n",
        "| codellama-34b-instruct | 16384 | Chat Completion |\n",
        "| llama-2-13b-chat | 4096 | Chat Completion |\n",
        "| llama-2-70b-chat | 4096 | Chat Completion |\n",
        "| mistral-7b-instruct | 4096 [1] | Chat Completion |\n",
        "| openhermes-2-mistral-7b | 4096 [1] | Chat Completion |\n",
        "| openhermes-2.5-mistral-7b | 4096 [1] | Chat Completion |\n",
        "| replit-code-v1.5-3b | 4096 | Text Completion |\n",
        "| pplx-7b-chat-alpha | 4096 | Chat Completion |\n",
        "| pplx-70b-chat-alpha | 4096 | Chat Completion |\n",
        "\n",
        "[1] Context length of mistral-7b-instruct and openhermes-2-mistral-7b will be increased to 32k tokens (see perplexity roadmap).\n",
        "\n",
        "You can find the latest supported models here - https://docs.perplexity.ai/docs/model-cards \\\n",
        "Rate limits are found here - https://docs.perplexity.ai/docs/rate-limits"
      ]
    },
    {
      "cell_type": "markdown",
      "source": [
        "## Without LlamaIndex\n",
        "- [perplexity blog link](https://blog.perplexity.ai/blog/introducing-pplx-api)"
      ],
      "metadata": {
        "id": "G7QcAHKBu6bG"
      }
    },
    {
      "cell_type": "markdown",
      "source": [
        "## With Llama-Index"
      ],
      "metadata": {
        "id": "3apab2KrxTYi"
      }
    },
    {
      "cell_type": "code",
      "source": [
        "#perplexity api key\n",
        "pplx_api_key = \"your_pplx_api_key\""
      ],
      "metadata": {
        "id": "o0nASr7ozEqU"
      },
      "execution_count": null,
      "outputs": []
    },
    {
      "cell_type": "code",
      "source": [
        "#Perplexity??"
      ],
      "metadata": {
        "id": "uSFGEUd9J_Gw"
      },
      "execution_count": null,
      "outputs": []
    },
    {
      "cell_type": "code",
      "execution_count": null,
      "metadata": {
        "id": "vfwHIexbsDlA"
      },
      "outputs": [],
      "source": [
        "from llama_index.llms import Perplexity\n",
        "\n",
        "llm = Perplexity(\n",
        "    api_key=pplx_api_key, model=\"mistral-7b-instruct\", temperature=0.5\n",
        ")"
      ]
    },
    {
      "cell_type": "code",
      "execution_count": null,
      "metadata": {
        "id": "WLJwSt24sDlB"
      },
      "outputs": [],
      "source": [
        "from llama_index.llms.base import ChatMessage\n",
        "\n",
        "messages_dict = [\n",
        "    {\"role\": \"system\", \"content\": \"Be precise and concise.\"},\n",
        "    {\"role\": \"user\", \"content\": \"Tell me 5 sentences about Sam Altman.\"},\n",
        "]\n",
        "messages = [ChatMessage(**msg) for msg in messages_dict]"
      ]
    },
    {
      "cell_type": "markdown",
      "metadata": {
        "id": "U7Evf8RDsDlB"
      },
      "source": [
        "## Chat"
      ]
    },
    {
      "cell_type": "code",
      "execution_count": null,
      "metadata": {
        "colab": {
          "base_uri": "https://localhost:8080/"
        },
        "id": "Vl7_4iAIsDlB",
        "outputId": "7878ef3b-bd43-458a-a286-a02480c3446c"
      },
      "outputs": [
        {
          "output_type": "stream",
          "name": "stdout",
          "text": [
            "assistant: 1. Sam Altman is an American entrepreneur and investor, known for co-founding Y Combinator, a startup accelerator.\n",
            "2. He has also served as CEO of Y Combinator and as a general partner at Y Combinator Ventures.\n",
            "3. Altman has invested in numerous successful startups, including Reddit, Airbnb, and Stripe.\n",
            "4. He is also a prominent figure in the field of artificial intelligence and has founded several AI-related companies, including DeepMind, which was sold to Alphabet in 2014.\n",
            "5. Altman has been recognized for his contributions to the tech industry and has received numerous awards, including the National Medal of Technology and the Presidential Rank Award.\n"
          ]
        }
      ],
      "source": [
        "response = llm.chat(messages)\n",
        "print(response)"
      ]
    },
    {
      "cell_type": "markdown",
      "metadata": {
        "id": "gCUeWHmAsDlC"
      },
      "source": [
        "## Async Chat"
      ]
    },
    {
      "cell_type": "code",
      "execution_count": null,
      "metadata": {
        "colab": {
          "base_uri": "https://localhost:8080/"
        },
        "id": "uY3uvavJsDlC",
        "outputId": "3754ed46-9d3f-4a33-eb82-45e2f0be5465"
      },
      "outputs": [
        {
          "output_type": "stream",
          "name": "stdout",
          "text": [
            "assistant: 1. Sam Altman is the co-founder and CEO of OpenAI, a non-profit organization focused on artificial intelligence.\n",
            "2. He is also a co-founder of Y Combinator, a startup accelerator and venture fund.\n",
            "3. Altman has been involved in the development of several successful startups, including Reddit and LoopNet.\n",
            "4. He is a prominent figure in the tech industry and has been recognized for his contributions to the field.\n",
            "5. Altman has also been involved in various philanthropic efforts, including supporting research into artificial intelligence and space exploration.\n"
          ]
        }
      ],
      "source": [
        "response = await llm.achat(messages)\n",
        "print(response)"
      ]
    },
    {
      "cell_type": "markdown",
      "metadata": {
        "id": "-qHoaC8ZsDlC"
      },
      "source": [
        "## Stream Chat"
      ]
    },
    {
      "cell_type": "code",
      "execution_count": null,
      "metadata": {
        "colab": {
          "base_uri": "https://localhost:8080/"
        },
        "id": "FMbQ1RLXsDlC",
        "outputId": "2ca7fbbe-c7f9-42ab-bcd2-29fe68b017cd"
      },
      "outputs": [
        {
          "output_type": "stream",
          "name": "stdout",
          "text": [
            "1. Sam Altman is an American entrepreneur and investor.\n",
            "2. He is the co-founder and CEO of Y Combinator, a startup accelerator.\n",
            "3. Altman is also the co-founder of several other companies, including LoopNet and Max Levchin.\n",
            "4. He has invested in numerous successful startups, including Reddit, Twitter, and Stripe.\n",
            "5. Altman is known for his involvement in the tech industry and his support of entrepreneurship."
          ]
        }
      ],
      "source": [
        "resp = llm.stream_chat(messages)\n",
        "for r in resp:\n",
        "    print(r.delta, end=\"\")"
      ]
    },
    {
      "cell_type": "markdown",
      "metadata": {
        "id": "qngCTn7HsDlC"
      },
      "source": [
        "## Async Stream Chat"
      ]
    },
    {
      "cell_type": "code",
      "execution_count": null,
      "metadata": {
        "colab": {
          "base_uri": "https://localhost:8080/"
        },
        "id": "iulLDkuNsDlC",
        "outputId": "b0845bce-e82e-4d4a-a8bb-47468a0df5a9"
      },
      "outputs": [
        {
          "output_type": "stream",
          "name": "stdout",
          "text": [
            "1. Sam Altman is the co-founder and CEO of OpenAI, a leading AI research and development company.\n",
            "2. He is also the co-founder of Y Combinator, a startup incubator and venture capital firm.\n",
            "3. Altman has been involved in the development of several other successful startups, including LoopNet, which was acquired by Autodesk for $800 million.\n",
            "4. He is a strong advocate for the development of safe and beneficial artificial intelligence, and has written extensively on the subject.\n",
            "5. In addition to his work in the tech industry, Altman is also involved in several other areas, including education and space exploration."
          ]
        }
      ],
      "source": [
        "resp = await llm.astream_chat(messages)\n",
        "async for delta in resp:\n",
        "    print(delta.delta, end=\"\")"
      ]
    },
    {
      "cell_type": "markdown",
      "source": [
        "## Conclusion\n",
        "- Synchronous chat calls block the program until a response is received.\n",
        "- Asynchronous chat calls enable the program to continue executing other tasks while waiting for the response, thus improving efficiency and responsiveness."
      ],
      "metadata": {
        "id": "E5K_yr80tjUH"
      }
    },
    {
      "cell_type": "markdown",
      "source": [
        "## Simple Gradio app"
      ],
      "metadata": {
        "id": "r9KycpfHiQRg"
      }
    },
    {
      "cell_type": "code",
      "source": [
        "import gradio as gr"
      ],
      "metadata": {
        "id": "pNks4mbwtHGY"
      },
      "execution_count": null,
      "outputs": []
    },
    {
      "cell_type": "code",
      "source": [
        "def chat_with_pplx_model(user_input):\n",
        "\n",
        "    messages_dict = [\n",
        "    {\"role\": \"system\", \"content\": \"Be precise and concise.\"},\n",
        "    {\"role\": \"user\", \"content\": user_input}\n",
        "]\n",
        "    messages = [ChatMessage(**msg) for msg in messages_dict]\n",
        "\n",
        "    llm = Perplexity(\n",
        "    api_key=pplx_api_key, model=\"mistral-7b-instruct\", temperature=0.5\n",
        ")\n",
        "    response = llm.chat(messages)\n",
        "    return response"
      ],
      "metadata": {
        "id": "KZtohWwGd-cR"
      },
      "execution_count": null,
      "outputs": []
    },
    {
      "cell_type": "code",
      "source": [
        "iface = gr.Interface(fn=chat_with_pplx_model, inputs=\"text\", outputs=\"text\")\n",
        "iface.launch()"
      ],
      "metadata": {
        "colab": {
          "base_uri": "https://localhost:8080/",
          "height": 646
        },
        "id": "HwUflUwJd-5F",
        "outputId": "1c0d7fd6-9bea-4281-b16d-7d46da31184e"
      },
      "execution_count": null,
      "outputs": [
        {
          "output_type": "stream",
          "name": "stdout",
          "text": [
            "Setting queue=True in a Colab notebook requires sharing enabled. Setting `share=True` (you can turn this off by setting `share=False` in `launch()` explicitly).\n",
            "\n",
            "Colab notebook detected. To show errors in colab notebook, set debug=True in launch()\n",
            "Running on public URL: https://333c10e92db1fcbb51.gradio.live\n",
            "\n",
            "This share link expires in 72 hours. For free permanent hosting and GPU upgrades, run `gradio deploy` from Terminal to deploy to Spaces (https://huggingface.co/spaces)\n"
          ]
        },
        {
          "output_type": "display_data",
          "data": {
            "text/plain": [
              "<IPython.core.display.HTML object>"
            ],
            "text/html": [
              "<div><iframe src=\"https://333c10e92db1fcbb51.gradio.live\" width=\"100%\" height=\"500\" allow=\"autoplay; camera; microphone; clipboard-read; clipboard-write;\" frameborder=\"0\" allowfullscreen></iframe></div>"
            ]
          },
          "metadata": {}
        },
        {
          "output_type": "execute_result",
          "data": {
            "text/plain": []
          },
          "metadata": {},
          "execution_count": 41
        }
      ]
    },
    {
      "cell_type": "code",
      "source": [],
      "metadata": {
        "id": "VyoghCIkjJAh"
      },
      "execution_count": null,
      "outputs": []
    }
  ],
  "metadata": {
    "kernelspec": {
      "display_name": "llama-index",
      "language": "python",
      "name": "python3"
    },
    "language_info": {
      "codemirror_mode": {
        "name": "ipython",
        "version": 3
      },
      "file_extension": ".py",
      "mimetype": "text/x-python",
      "name": "python",
      "nbconvert_exporter": "python",
      "pygments_lexer": "ipython3"
    },
    "colab": {
      "provenance": [],
      "include_colab_link": true
    }
  },
  "nbformat": 4,
  "nbformat_minor": 0
}