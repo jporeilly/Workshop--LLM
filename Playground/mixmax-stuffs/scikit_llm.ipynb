{
  "nbformat": 4,
  "nbformat_minor": 0,
  "metadata": {
    "colab": {
      "provenance": [],
      "collapsed_sections": [
        "-QwqxJQv9oHP",
        "BHejodOG-vEY",
        "4u4PwvJ5hCTN",
        "vopE-AGM2WPd",
        "4FY7eYJCIcH3"
      ],
      "toc_visible": true,
      "authorship_tag": "ABX9TyPKKmkAeOZLZqZSJI5bAVUb",
      "include_colab_link": true
    },
    "kernelspec": {
      "name": "python3",
      "display_name": "Python 3"
    },
    "language_info": {
      "name": "python"
    }
  },
  "cells": [
    {
      "cell_type": "markdown",
      "metadata": {
        "id": "view-in-github",
        "colab_type": "text"
      },
      "source": [
        "<a href=\"https://colab.research.google.com/github/sudarshan-koirala/youtube-stuffs/blob/main/scikit_llm.ipynb\" target=\"_parent\"><img src=\"https://colab.research.google.com/assets/colab-badge.svg\" alt=\"Open In Colab\"/></a>"
      ]
    },
    {
      "cell_type": "markdown",
      "source": [
        "# SCIKIT-LLM\n",
        "\n",
        "## Why this library?\n",
        "- Seamlessly integrate powerful language models like ChatGPT into scikit-learn for enhanced text analysis tasks.\n",
        "\n",
        "- Similar APIs as scikit-learn, like .fit(), .fit_transform(), and.predict().\n",
        "\n",
        "- Combine estimators from the scikit-llm library in a Sklearn pipeline."
      ],
      "metadata": {
        "id": "5YJdZ3XV9fdC"
      }
    },
    {
      "cell_type": "markdown",
      "source": [
        "# SETUP"
      ],
      "metadata": {
        "id": "-QwqxJQv9oHP"
      }
    },
    {
      "cell_type": "code",
      "execution_count": 1,
      "metadata": {
        "id": "Kjy6Ak6G9d4w"
      },
      "outputs": [],
      "source": [
        "%%capture\n",
        "!pip install scikit-llm watermark\n"
      ]
    },
    {
      "cell_type": "code",
      "source": [
        "%load_ext watermark\n",
        "%watermark -a \"Sudarshan Koirala\" -vmp scikit-llm"
      ],
      "metadata": {
        "colab": {
          "base_uri": "https://localhost:8080/"
        },
        "id": "zdLQDCQo9tYi",
        "outputId": "5d2e91a3-0b22-49b2-c40f-e5a14bbc8617"
      },
      "execution_count": 2,
      "outputs": [
        {
          "output_type": "stream",
          "name": "stdout",
          "text": [
            "Author: Sudarshan Koirala\n",
            "\n",
            "Python implementation: CPython\n",
            "Python version       : 3.10.12\n",
            "IPython version      : 7.34.0\n",
            "\n",
            "scikit-llm: not installed\n",
            "\n",
            "Compiler    : GCC 9.4.0\n",
            "OS          : Linux\n",
            "Release     : 5.15.107+\n",
            "Machine     : x86_64\n",
            "Processor   : x86_64\n",
            "CPU cores   : 2\n",
            "Architecture: 64bit\n",
            "\n"
          ]
        }
      ]
    },
    {
      "cell_type": "markdown",
      "source": [
        "[OpenAI API keys](https://platform.openai.com/account/api-keys)  \n",
        "[OpenAI Organzation Id](https://platform.openai.com/account/org-settings)"
      ],
      "metadata": {
        "id": "c_pZHOH0LJni"
      }
    },
    {
      "cell_type": "code",
      "source": [
        "# importing SKLLMConfig to configure OpenAI API (key and Name)\n",
        "from skllm.config import SKLLMConfig\n",
        "\n",
        "OPENAI_API_KEY = \"sk-***\"\n",
        "OPENAI_ORG_ID = \"org-***\"\n",
        "\n",
        "# Set your OpenAI API key\n",
        "SKLLMConfig.set_openai_key(OPENAI_API_KEY )\n",
        "\n",
        "# Set your OpenAI organization\n",
        "SKLLMConfig.set_openai_org(OPENAI_ORG_ID)"
      ],
      "metadata": {
        "id": "TNCLfOSY97Rb"
      },
      "execution_count": 31,
      "outputs": []
    },
    {
      "cell_type": "markdown",
      "source": [
        "# OPENAI\n",
        "- Using OpenAI model is not free. Although, the API cost is not that hard, this is just a reminder."
      ],
      "metadata": {
        "id": "P07_-J5i-mpO"
      }
    },
    {
      "cell_type": "markdown",
      "source": [
        "## Zero-Shot Text Classification\n",
        "One of the powerful ChatGPT features is the ability to perform text classification without being re-trained. All it requires is just the descriptive labels.\n",
        "\n",
        "ZeroShotGPTClassifier allows to create such a model as a regular scikit-learn classifier."
      ],
      "metadata": {
        "id": "BHejodOG-vEY"
      }
    },
    {
      "cell_type": "markdown",
      "source": [
        "### Training as a regular classifier"
      ],
      "metadata": {
        "id": "VOHPymuC_KVO"
      }
    },
    {
      "cell_type": "code",
      "source": [
        "# importing zeroshotgptclassifier module and classification dataset\n",
        "from skllm import ZeroShotGPTClassifier\n",
        "from skllm.datasets import get_classification_dataset"
      ],
      "metadata": {
        "id": "TIgu_hJs_nZd"
      },
      "execution_count": 4,
      "outputs": []
    },
    {
      "cell_type": "code",
      "source": [
        "# sentiment analysis dataset\n",
        "# labels: positive, negative, neutral\n",
        "X, y = get_classification_dataset()"
      ],
      "metadata": {
        "id": "Vx4jVpfo_9hi"
      },
      "execution_count": 5,
      "outputs": []
    },
    {
      "cell_type": "code",
      "source": [
        "len(X)"
      ],
      "metadata": {
        "colab": {
          "base_uri": "https://localhost:8080/"
        },
        "id": "3MoOIYSgAtAk",
        "outputId": "4a04cd56-fc01-460a-953f-ec8f8ab3174d"
      },
      "execution_count": 6,
      "outputs": [
        {
          "output_type": "execute_result",
          "data": {
            "text/plain": [
              "30"
            ]
          },
          "metadata": {},
          "execution_count": 6
        }
      ]
    },
    {
      "cell_type": "code",
      "source": [
        "X"
      ],
      "metadata": {
        "colab": {
          "base_uri": "https://localhost:8080/"
        },
        "id": "E3ApicG9BQ1h",
        "outputId": "543ff4bf-8be8-41ac-bcee-3b283621da2c"
      },
      "execution_count": 7,
      "outputs": [
        {
          "output_type": "execute_result",
          "data": {
            "text/plain": [
              "[\"I was absolutely blown away by the performances in 'Summer's End'. The acting was top-notch, and the plot had me gripped from start to finish. A truly captivating cinematic experience that I would highly recommend.\",\n",
              " \"The special effects in 'Star Battles: Nebula Conflict' were out of this world. I felt like I was actually in space. The storyline was incredibly engaging and left me wanting more. Excellent film.\",\n",
              " \"'The Lost Symphony' was a masterclass in character development and storytelling. The score was hauntingly beautiful and complimented the intense, emotional scenes perfectly. Kudos to the director and cast for creating such a masterpiece.\",\n",
              " \"I was pleasantly surprised by 'Love in the Time of Cholera'. The romantic storyline was heartwarming and the characters were incredibly realistic. The cinematography was also top-notch. A must-watch for all romance lovers.\",\n",
              " \"I went into 'Marble Street' with low expectations, but I was pleasantly surprised. The suspense was well-maintained throughout, and the twist at the end was something I did not see coming. Bravo!\",\n",
              " \"'The Great Plains' is a touching portrayal of life in rural America. The performances were heartfelt and the scenery was breathtaking. I was moved to tears by the end. It's a story that will stay with me for a long time.\",\n",
              " \"The screenwriting in 'Under the Willow Tree' was superb. The dialogue felt real and the characters were well-rounded. The performances were also fantastic. I haven't enjoyed a movie this much in a while.\",\n",
              " \"'Nightshade' is a brilliant take on the superhero genre. The protagonist was relatable and the villain was genuinely scary. The action sequences were thrilling and the storyline was engaging. I can't wait for the sequel.\",\n",
              " \"The cinematography in 'Awakening' was nothing short of spectacular. The visuals alone are worth the ticket price. The storyline was unique and the performances were solid. An overall fantastic film.\",\n",
              " \"'Eternal Embers' was a cinematic delight. The storytelling was original and the performances were exceptional. The director's vision was truly brought to life on the big screen. A must-see for all movie lovers.\",\n",
              " \"I was thoroughly disappointed with 'Silver Shadows'. The plot was confusing and the performances were lackluster. I wouldn't recommend wasting your time on this one.\",\n",
              " \"'The Darkened Path' was a disaster. The storyline was unoriginal, the acting was wooden and the special effects were laughably bad. Save your money and skip this one.\",\n",
              " \"I had high hopes for 'The Final Frontier', but it failed to deliver. The plot was full of holes and the characters were poorly developed. It was a disappointing experience.\",\n",
              " \"'The Fall of the Phoenix' was a letdown. The storyline was confusing and the characters were one-dimensional. I found myself checking my watch multiple times throughout the movie.\",\n",
              " \"I regret wasting my time on 'Emerald City'. The plot was nonsensical and the performances were uninspired. It was a major disappointment.\",\n",
              " \"I found 'Hollow Echoes' to be a complete mess. The plot was non-existent, the performances were overdone, and the pacing was all over the place. Definitely not worth the hype.\",\n",
              " \"'Underneath the Stars' was a huge disappointment. The storyline was predictable and the acting was mediocre at best. I was expecting so much more.\",\n",
              " \"I was left unimpressed by 'River's Edge'. The plot was convoluted, the characters were uninteresting, and the ending was unsatisfying. It's a pass for me.\",\n",
              " \"The acting in 'Desert Mirage' was subpar, and the plot was boring. I found myself yawning multiple times throughout the movie. Save your time and skip this one.\",\n",
              " \"'Crimson Dawn' was a major letdown. The plot was cliched and the characters were flat. The special effects were also poorly executed. I wouldn't recommend it.\",\n",
              " \"'Remember the Days' was utterly forgettable. The storyline was dull, the performances were bland, and the dialogue was cringeworthy. A big disappointment.\",\n",
              " \"'The Last Frontier' was simply okay. The plot was decent and the performances were acceptable. However, it lacked a certain spark to make it truly memorable.\",\n",
              " \"'Through the Storm' was not bad, but it wasn't great either. The storyline was somewhat predictable, and the characters were somewhat stereotypical. It was an average movie at best.\",\n",
              " \"I found 'After the Rain' to be pretty average. The plot was okay and the performances were decent, but it didn't leave a lasting impression on me.\",\n",
              " \"'Beyond the Horizon' was neither good nor bad. The plot was interesting enough, but the characters were not very well developed. It was an okay watch.\",\n",
              " \"'The Silent Echo' was a mediocre movie. The storyline was passable and the performances were fair, but it didn't stand out in any way.\",\n",
              " \"I thought 'The Scent of Roses' was pretty average. The plot was somewhat engaging, and the performances were okay, but it didn't live up to my expectations.\",\n",
              " \"'Under the Same Sky' was an okay movie. The plot was decent, and the performances were fine, but it lacked depth and originality. It's not a movie I would watch again.\",\n",
              " \"'Chasing Shadows' was fairly average. The plot was not bad, and the performances were passable, but it lacked a certain spark. It was just okay.\",\n",
              " \"'Beneath the Surface' was pretty run-of-the-mill. The plot was decent, the performances were okay, but it wasn't particularly memorable. It was an okay movie.\"]"
            ]
          },
          "metadata": {},
          "execution_count": 7
        }
      ]
    },
    {
      "cell_type": "code",
      "source": [
        "y"
      ],
      "metadata": {
        "colab": {
          "base_uri": "https://localhost:8080/"
        },
        "id": "lRedcCi1A2uf",
        "outputId": "39b80c54-24af-4295-b4b9-8b11f62bca54"
      },
      "execution_count": 8,
      "outputs": [
        {
          "output_type": "execute_result",
          "data": {
            "text/plain": [
              "['positive',\n",
              " 'positive',\n",
              " 'positive',\n",
              " 'positive',\n",
              " 'positive',\n",
              " 'positive',\n",
              " 'positive',\n",
              " 'positive',\n",
              " 'positive',\n",
              " 'positive',\n",
              " 'negative',\n",
              " 'negative',\n",
              " 'negative',\n",
              " 'negative',\n",
              " 'negative',\n",
              " 'negative',\n",
              " 'negative',\n",
              " 'negative',\n",
              " 'negative',\n",
              " 'negative',\n",
              " 'neutral',\n",
              " 'neutral',\n",
              " 'neutral',\n",
              " 'neutral',\n",
              " 'neutral',\n",
              " 'neutral',\n",
              " 'neutral',\n",
              " 'neutral',\n",
              " 'neutral',\n",
              " 'neutral']"
            ]
          },
          "metadata": {},
          "execution_count": 8
        }
      ]
    },
    {
      "cell_type": "code",
      "source": [
        "# to notice: indexing starts at 0\n",
        "def training_data(data):\n",
        "    subset_1 = data[:8]  # First 8 elements from 1-10\n",
        "    subset_2 = data[10:18]  # First 8 elements from 11-20\n",
        "    subset_3 = data[20:28]  # First 8 elements from rest of the data\n",
        "\n",
        "    combined_data = subset_1 + subset_2 + subset_3\n",
        "    return combined_data"
      ],
      "metadata": {
        "id": "Q7xY-JKB__5F"
      },
      "execution_count": 9,
      "outputs": []
    },
    {
      "cell_type": "code",
      "source": [
        "# to notice: indexing starts at 0\n",
        "def testing_data(data):\n",
        "    subset_1 = data[8:10]  # Last 2 elements from 1-10\n",
        "    subset_2 = data[18:20]  # Last 2 elements from 11-20\n",
        "    subset_3 = data[28:30]  # Last 2 elements from rest of the data\n",
        "\n",
        "    combined_data = subset_1 + subset_2 + subset_3\n",
        "    return combined_data"
      ],
      "metadata": {
        "id": "c3rNGGh0d2E-"
      },
      "execution_count": 10,
      "outputs": []
    },
    {
      "cell_type": "code",
      "source": [
        "X_train = training_data(X)\n",
        "print(len(X_train))\n",
        "X_train"
      ],
      "metadata": {
        "colab": {
          "base_uri": "https://localhost:8080/"
        },
        "id": "Z9kKjUNsAzPP",
        "outputId": "d2b2d3e9-ad92-475a-a98a-b6ff6dc89fe3"
      },
      "execution_count": 11,
      "outputs": [
        {
          "output_type": "stream",
          "name": "stdout",
          "text": [
            "24\n"
          ]
        },
        {
          "output_type": "execute_result",
          "data": {
            "text/plain": [
              "[\"I was absolutely blown away by the performances in 'Summer's End'. The acting was top-notch, and the plot had me gripped from start to finish. A truly captivating cinematic experience that I would highly recommend.\",\n",
              " \"The special effects in 'Star Battles: Nebula Conflict' were out of this world. I felt like I was actually in space. The storyline was incredibly engaging and left me wanting more. Excellent film.\",\n",
              " \"'The Lost Symphony' was a masterclass in character development and storytelling. The score was hauntingly beautiful and complimented the intense, emotional scenes perfectly. Kudos to the director and cast for creating such a masterpiece.\",\n",
              " \"I was pleasantly surprised by 'Love in the Time of Cholera'. The romantic storyline was heartwarming and the characters were incredibly realistic. The cinematography was also top-notch. A must-watch for all romance lovers.\",\n",
              " \"I went into 'Marble Street' with low expectations, but I was pleasantly surprised. The suspense was well-maintained throughout, and the twist at the end was something I did not see coming. Bravo!\",\n",
              " \"'The Great Plains' is a touching portrayal of life in rural America. The performances were heartfelt and the scenery was breathtaking. I was moved to tears by the end. It's a story that will stay with me for a long time.\",\n",
              " \"The screenwriting in 'Under the Willow Tree' was superb. The dialogue felt real and the characters were well-rounded. The performances were also fantastic. I haven't enjoyed a movie this much in a while.\",\n",
              " \"'Nightshade' is a brilliant take on the superhero genre. The protagonist was relatable and the villain was genuinely scary. The action sequences were thrilling and the storyline was engaging. I can't wait for the sequel.\",\n",
              " \"I was thoroughly disappointed with 'Silver Shadows'. The plot was confusing and the performances were lackluster. I wouldn't recommend wasting your time on this one.\",\n",
              " \"'The Darkened Path' was a disaster. The storyline was unoriginal, the acting was wooden and the special effects were laughably bad. Save your money and skip this one.\",\n",
              " \"I had high hopes for 'The Final Frontier', but it failed to deliver. The plot was full of holes and the characters were poorly developed. It was a disappointing experience.\",\n",
              " \"'The Fall of the Phoenix' was a letdown. The storyline was confusing and the characters were one-dimensional. I found myself checking my watch multiple times throughout the movie.\",\n",
              " \"I regret wasting my time on 'Emerald City'. The plot was nonsensical and the performances were uninspired. It was a major disappointment.\",\n",
              " \"I found 'Hollow Echoes' to be a complete mess. The plot was non-existent, the performances were overdone, and the pacing was all over the place. Definitely not worth the hype.\",\n",
              " \"'Underneath the Stars' was a huge disappointment. The storyline was predictable and the acting was mediocre at best. I was expecting so much more.\",\n",
              " \"I was left unimpressed by 'River's Edge'. The plot was convoluted, the characters were uninteresting, and the ending was unsatisfying. It's a pass for me.\",\n",
              " \"'Remember the Days' was utterly forgettable. The storyline was dull, the performances were bland, and the dialogue was cringeworthy. A big disappointment.\",\n",
              " \"'The Last Frontier' was simply okay. The plot was decent and the performances were acceptable. However, it lacked a certain spark to make it truly memorable.\",\n",
              " \"'Through the Storm' was not bad, but it wasn't great either. The storyline was somewhat predictable, and the characters were somewhat stereotypical. It was an average movie at best.\",\n",
              " \"I found 'After the Rain' to be pretty average. The plot was okay and the performances were decent, but it didn't leave a lasting impression on me.\",\n",
              " \"'Beyond the Horizon' was neither good nor bad. The plot was interesting enough, but the characters were not very well developed. It was an okay watch.\",\n",
              " \"'The Silent Echo' was a mediocre movie. The storyline was passable and the performances were fair, but it didn't stand out in any way.\",\n",
              " \"I thought 'The Scent of Roses' was pretty average. The plot was somewhat engaging, and the performances were okay, but it didn't live up to my expectations.\",\n",
              " \"'Under the Same Sky' was an okay movie. The plot was decent, and the performances were fine, but it lacked depth and originality. It's not a movie I would watch again.\"]"
            ]
          },
          "metadata": {},
          "execution_count": 11
        }
      ]
    },
    {
      "cell_type": "code",
      "source": [
        "y_train = training_data(y)\n",
        "print(len(y_train))\n",
        "y_train"
      ],
      "metadata": {
        "colab": {
          "base_uri": "https://localhost:8080/"
        },
        "id": "NTW3Bo5KAIhD",
        "outputId": "15064391-7658-43b9-d7bb-4280a94cdecf"
      },
      "execution_count": 12,
      "outputs": [
        {
          "output_type": "stream",
          "name": "stdout",
          "text": [
            "24\n"
          ]
        },
        {
          "output_type": "execute_result",
          "data": {
            "text/plain": [
              "['positive',\n",
              " 'positive',\n",
              " 'positive',\n",
              " 'positive',\n",
              " 'positive',\n",
              " 'positive',\n",
              " 'positive',\n",
              " 'positive',\n",
              " 'negative',\n",
              " 'negative',\n",
              " 'negative',\n",
              " 'negative',\n",
              " 'negative',\n",
              " 'negative',\n",
              " 'negative',\n",
              " 'negative',\n",
              " 'neutral',\n",
              " 'neutral',\n",
              " 'neutral',\n",
              " 'neutral',\n",
              " 'neutral',\n",
              " 'neutral',\n",
              " 'neutral',\n",
              " 'neutral']"
            ]
          },
          "metadata": {},
          "execution_count": 12
        }
      ]
    },
    {
      "cell_type": "code",
      "source": [
        "X_test = testing_data(X)\n",
        "print(len(X_test))\n",
        "X_test"
      ],
      "metadata": {
        "colab": {
          "base_uri": "https://localhost:8080/"
        },
        "id": "IYduHnf5bedi",
        "outputId": "cbacb7a4-35e2-4264-eca7-e695567d4057"
      },
      "execution_count": 13,
      "outputs": [
        {
          "output_type": "stream",
          "name": "stdout",
          "text": [
            "6\n"
          ]
        },
        {
          "output_type": "execute_result",
          "data": {
            "text/plain": [
              "[\"The cinematography in 'Awakening' was nothing short of spectacular. The visuals alone are worth the ticket price. The storyline was unique and the performances were solid. An overall fantastic film.\",\n",
              " \"'Eternal Embers' was a cinematic delight. The storytelling was original and the performances were exceptional. The director's vision was truly brought to life on the big screen. A must-see for all movie lovers.\",\n",
              " \"The acting in 'Desert Mirage' was subpar, and the plot was boring. I found myself yawning multiple times throughout the movie. Save your time and skip this one.\",\n",
              " \"'Crimson Dawn' was a major letdown. The plot was cliched and the characters were flat. The special effects were also poorly executed. I wouldn't recommend it.\",\n",
              " \"'Chasing Shadows' was fairly average. The plot was not bad, and the performances were passable, but it lacked a certain spark. It was just okay.\",\n",
              " \"'Beneath the Surface' was pretty run-of-the-mill. The plot was decent, the performances were okay, but it wasn't particularly memorable. It was an okay movie.\"]"
            ]
          },
          "metadata": {},
          "execution_count": 13
        }
      ]
    },
    {
      "cell_type": "code",
      "source": [
        "y_test = testing_data(y)\n",
        "print(len(y_test))\n",
        "y_test"
      ],
      "metadata": {
        "colab": {
          "base_uri": "https://localhost:8080/"
        },
        "id": "ApW4-Otqc5Aa",
        "outputId": "3a926809-1a9a-4f16-f43e-bab4e503b4aa"
      },
      "execution_count": 14,
      "outputs": [
        {
          "output_type": "stream",
          "name": "stdout",
          "text": [
            "6\n"
          ]
        },
        {
          "output_type": "execute_result",
          "data": {
            "text/plain": [
              "['positive', 'positive', 'negative', 'negative', 'neutral', 'neutral']"
            ]
          },
          "metadata": {},
          "execution_count": 14
        }
      ]
    },
    {
      "cell_type": "code",
      "source": [
        "# defining the openai model to use\n",
        "clf = ZeroShotGPTClassifier(openai_model=\"gpt-3.5-turbo\")\n",
        "\n",
        "# fitting the data\n",
        "clf.fit(X_train, y_train)"
      ],
      "metadata": {
        "colab": {
          "base_uri": "https://localhost:8080/",
          "height": 75
        },
        "id": "gGUNxOvc-J0w",
        "outputId": "70ee16a1-e1a4-43c0-9e52-4da1aeef2c84"
      },
      "execution_count": 32,
      "outputs": [
        {
          "output_type": "execute_result",
          "data": {
            "text/plain": [
              "ZeroShotGPTClassifier()"
            ],
            "text/html": [
              "<style>#sk-container-id-1 {color: black;background-color: white;}#sk-container-id-1 pre{padding: 0;}#sk-container-id-1 div.sk-toggleable {background-color: white;}#sk-container-id-1 label.sk-toggleable__label {cursor: pointer;display: block;width: 100%;margin-bottom: 0;padding: 0.3em;box-sizing: border-box;text-align: center;}#sk-container-id-1 label.sk-toggleable__label-arrow:before {content: \"▸\";float: left;margin-right: 0.25em;color: #696969;}#sk-container-id-1 label.sk-toggleable__label-arrow:hover:before {color: black;}#sk-container-id-1 div.sk-estimator:hover label.sk-toggleable__label-arrow:before {color: black;}#sk-container-id-1 div.sk-toggleable__content {max-height: 0;max-width: 0;overflow: hidden;text-align: left;background-color: #f0f8ff;}#sk-container-id-1 div.sk-toggleable__content pre {margin: 0.2em;color: black;border-radius: 0.25em;background-color: #f0f8ff;}#sk-container-id-1 input.sk-toggleable__control:checked~div.sk-toggleable__content {max-height: 200px;max-width: 100%;overflow: auto;}#sk-container-id-1 input.sk-toggleable__control:checked~label.sk-toggleable__label-arrow:before {content: \"▾\";}#sk-container-id-1 div.sk-estimator input.sk-toggleable__control:checked~label.sk-toggleable__label {background-color: #d4ebff;}#sk-container-id-1 div.sk-label input.sk-toggleable__control:checked~label.sk-toggleable__label {background-color: #d4ebff;}#sk-container-id-1 input.sk-hidden--visually {border: 0;clip: rect(1px 1px 1px 1px);clip: rect(1px, 1px, 1px, 1px);height: 1px;margin: -1px;overflow: hidden;padding: 0;position: absolute;width: 1px;}#sk-container-id-1 div.sk-estimator {font-family: monospace;background-color: #f0f8ff;border: 1px dotted black;border-radius: 0.25em;box-sizing: border-box;margin-bottom: 0.5em;}#sk-container-id-1 div.sk-estimator:hover {background-color: #d4ebff;}#sk-container-id-1 div.sk-parallel-item::after {content: \"\";width: 100%;border-bottom: 1px solid gray;flex-grow: 1;}#sk-container-id-1 div.sk-label:hover label.sk-toggleable__label {background-color: #d4ebff;}#sk-container-id-1 div.sk-serial::before {content: \"\";position: absolute;border-left: 1px solid gray;box-sizing: border-box;top: 0;bottom: 0;left: 50%;z-index: 0;}#sk-container-id-1 div.sk-serial {display: flex;flex-direction: column;align-items: center;background-color: white;padding-right: 0.2em;padding-left: 0.2em;position: relative;}#sk-container-id-1 div.sk-item {position: relative;z-index: 1;}#sk-container-id-1 div.sk-parallel {display: flex;align-items: stretch;justify-content: center;background-color: white;position: relative;}#sk-container-id-1 div.sk-item::before, #sk-container-id-1 div.sk-parallel-item::before {content: \"\";position: absolute;border-left: 1px solid gray;box-sizing: border-box;top: 0;bottom: 0;left: 50%;z-index: -1;}#sk-container-id-1 div.sk-parallel-item {display: flex;flex-direction: column;z-index: 1;position: relative;background-color: white;}#sk-container-id-1 div.sk-parallel-item:first-child::after {align-self: flex-end;width: 50%;}#sk-container-id-1 div.sk-parallel-item:last-child::after {align-self: flex-start;width: 50%;}#sk-container-id-1 div.sk-parallel-item:only-child::after {width: 0;}#sk-container-id-1 div.sk-dashed-wrapped {border: 1px dashed gray;margin: 0 0.4em 0.5em 0.4em;box-sizing: border-box;padding-bottom: 0.4em;background-color: white;}#sk-container-id-1 div.sk-label label {font-family: monospace;font-weight: bold;display: inline-block;line-height: 1.2em;}#sk-container-id-1 div.sk-label-container {text-align: center;}#sk-container-id-1 div.sk-container {/* jupyter's `normalize.less` sets `[hidden] { display: none; }` but bootstrap.min.css set `[hidden] { display: none !important; }` so we also need the `!important` here to be able to override the default hidden behavior on the sphinx rendered scikit-learn.org. See: https://github.com/scikit-learn/scikit-learn/issues/21755 */display: inline-block !important;position: relative;}#sk-container-id-1 div.sk-text-repr-fallback {display: none;}</style><div id=\"sk-container-id-1\" class=\"sk-top-container\"><div class=\"sk-text-repr-fallback\"><pre>ZeroShotGPTClassifier()</pre><b>In a Jupyter environment, please rerun this cell to show the HTML representation or trust the notebook. <br />On GitHub, the HTML representation is unable to render, please try loading this page with nbviewer.org.</b></div><div class=\"sk-container\" hidden><div class=\"sk-item\"><div class=\"sk-estimator sk-toggleable\"><input class=\"sk-toggleable__control sk-hidden--visually\" id=\"sk-estimator-id-1\" type=\"checkbox\" checked><label for=\"sk-estimator-id-1\" class=\"sk-toggleable__label sk-toggleable__label-arrow\">ZeroShotGPTClassifier</label><div class=\"sk-toggleable__content\"><pre>ZeroShotGPTClassifier()</pre></div></div></div></div></div>"
            ]
          },
          "metadata": {},
          "execution_count": 32
        }
      ]
    },
    {
      "cell_type": "code",
      "source": [
        "%%time\n",
        "# predicting the data\n",
        "predicted_labels = clf.predict(X_test)"
      ],
      "metadata": {
        "colab": {
          "base_uri": "https://localhost:8080/"
        },
        "id": "rnaeVckm_XLn",
        "outputId": "c56704e0-e5f8-420e-a6cf-2a6a8f04a086"
      },
      "execution_count": 34,
      "outputs": [
        {
          "output_type": "stream",
          "name": "stderr",
          "text": [
            "100%|██████████| 6/6 [00:11<00:00,  1.85s/it]"
          ]
        },
        {
          "output_type": "stream",
          "name": "stdout",
          "text": [
            "CPU times: user 77.6 ms, sys: 10.6 ms, total: 88.2 ms\n",
            "Wall time: 11.1 s\n"
          ]
        },
        {
          "output_type": "stream",
          "name": "stderr",
          "text": [
            "\n"
          ]
        }
      ]
    },
    {
      "cell_type": "code",
      "source": [
        "for review, sentiment in zip(X_test, predicted_labels):\n",
        "    print(f\"Review: {review}\\nPredicted Sentiment: {sentiment}\\n\\n\")"
      ],
      "metadata": {
        "colab": {
          "base_uri": "https://localhost:8080/"
        },
        "id": "G5hVeoeEEhDZ",
        "outputId": "546ff21c-147b-4d94-96d2-2569d5522268"
      },
      "execution_count": 35,
      "outputs": [
        {
          "output_type": "stream",
          "name": "stdout",
          "text": [
            "Review: The cinematography in 'Awakening' was nothing short of spectacular. The visuals alone are worth the ticket price. The storyline was unique and the performances were solid. An overall fantastic film.\n",
            "Predicted Sentiment: positive\n",
            "\n",
            "\n",
            "Review: 'Eternal Embers' was a cinematic delight. The storytelling was original and the performances were exceptional. The director's vision was truly brought to life on the big screen. A must-see for all movie lovers.\n",
            "Predicted Sentiment: positive\n",
            "\n",
            "\n",
            "Review: The acting in 'Desert Mirage' was subpar, and the plot was boring. I found myself yawning multiple times throughout the movie. Save your time and skip this one.\n",
            "Predicted Sentiment: negative\n",
            "\n",
            "\n",
            "Review: 'Crimson Dawn' was a major letdown. The plot was cliched and the characters were flat. The special effects were also poorly executed. I wouldn't recommend it.\n",
            "Predicted Sentiment: negative\n",
            "\n",
            "\n",
            "Review: 'Chasing Shadows' was fairly average. The plot was not bad, and the performances were passable, but it lacked a certain spark. It was just okay.\n",
            "Predicted Sentiment: neutral\n",
            "\n",
            "\n",
            "Review: 'Beneath the Surface' was pretty run-of-the-mill. The plot was decent, the performances were okay, but it wasn't particularly memorable. It was an okay movie.\n",
            "Predicted Sentiment: neutral\n",
            "\n",
            "\n"
          ]
        }
      ]
    },
    {
      "cell_type": "markdown",
      "source": [
        "- Scikit-LLM will automatically query the OpenAI API and transform the response into a regular list of labels.\n",
        "- Scikit-LLM will ensure that the obtained response contains a valid label. If this is not the case, a label will be selected randomly (label probabilities are proportional to label occurrences in the training set)."
      ],
      "metadata": {
        "id": "nDCVZhllFCzn"
      }
    },
    {
      "cell_type": "code",
      "source": [
        "from sklearn.metrics import accuracy_score"
      ],
      "metadata": {
        "id": "_nTxfWcCfi3R"
      },
      "execution_count": 36,
      "outputs": []
    },
    {
      "cell_type": "code",
      "source": [
        "print(f\"Accuracy: {accuracy_score(y_test, predicted_labels):.2f}\")"
      ],
      "metadata": {
        "colab": {
          "base_uri": "https://localhost:8080/"
        },
        "id": "xmAC7NQIfnfx",
        "outputId": "628b47a4-9b53-478a-ef46-da6d431423ee"
      },
      "execution_count": 37,
      "outputs": [
        {
          "output_type": "stream",
          "name": "stdout",
          "text": [
            "Accuracy: 1.00\n"
          ]
        }
      ]
    },
    {
      "cell_type": "markdown",
      "source": [
        "### Training without label (What if you don't have labelled data ??)\n",
        "- you don’t even need labeled data to train the model."
      ],
      "metadata": {
        "id": "0XASZFNdEUpB"
      }
    },
    {
      "cell_type": "code",
      "source": [
        "# defining the model\n",
        "clf_no_label = ZeroShotGPTClassifier()\n",
        "\n",
        "# No training so passing the labels only for prediction\n",
        "clf_no_label.fit(None, ['positive', 'negative', 'neutral'])\n",
        "\n",
        "# predicting the labels\n",
        "predicted_labels_without_training_data = clf_no_label.predict(X_test)\n",
        "predicted_labels_without_training_data"
      ],
      "metadata": {
        "colab": {
          "base_uri": "https://localhost:8080/"
        },
        "id": "Ubt5-oqg_aXg",
        "outputId": "2523b7ed-0a71-4d94-b4c8-bd5ce7ce2e28"
      },
      "execution_count": 38,
      "outputs": [
        {
          "output_type": "stream",
          "name": "stderr",
          "text": [
            "100%|██████████| 6/6 [00:10<00:00,  1.76s/it]\n"
          ]
        },
        {
          "output_type": "execute_result",
          "data": {
            "text/plain": [
              "['positive', 'positive', 'negative', 'negative', 'neutral', 'neutral']"
            ]
          },
          "metadata": {},
          "execution_count": 38
        }
      ]
    },
    {
      "cell_type": "code",
      "source": [
        "for review, sentiment in zip(X_test, predicted_labels_without_training_data):\n",
        "    print(f\"Review: {review}\\nPredicted Sentiment: {sentiment}\\n\\n\")"
      ],
      "metadata": {
        "colab": {
          "base_uri": "https://localhost:8080/"
        },
        "id": "ad7U_cbdgemI",
        "outputId": "f670320c-dc61-4d80-db25-43af1e670467"
      },
      "execution_count": 39,
      "outputs": [
        {
          "output_type": "stream",
          "name": "stdout",
          "text": [
            "Review: The cinematography in 'Awakening' was nothing short of spectacular. The visuals alone are worth the ticket price. The storyline was unique and the performances were solid. An overall fantastic film.\n",
            "Predicted Sentiment: positive\n",
            "\n",
            "\n",
            "Review: 'Eternal Embers' was a cinematic delight. The storytelling was original and the performances were exceptional. The director's vision was truly brought to life on the big screen. A must-see for all movie lovers.\n",
            "Predicted Sentiment: positive\n",
            "\n",
            "\n",
            "Review: The acting in 'Desert Mirage' was subpar, and the plot was boring. I found myself yawning multiple times throughout the movie. Save your time and skip this one.\n",
            "Predicted Sentiment: negative\n",
            "\n",
            "\n",
            "Review: 'Crimson Dawn' was a major letdown. The plot was cliched and the characters were flat. The special effects were also poorly executed. I wouldn't recommend it.\n",
            "Predicted Sentiment: negative\n",
            "\n",
            "\n",
            "Review: 'Chasing Shadows' was fairly average. The plot was not bad, and the performances were passable, but it lacked a certain spark. It was just okay.\n",
            "Predicted Sentiment: neutral\n",
            "\n",
            "\n",
            "Review: 'Beneath the Surface' was pretty run-of-the-mill. The plot was decent, the performances were okay, but it wasn't particularly memorable. It was an okay movie.\n",
            "Predicted Sentiment: neutral\n",
            "\n",
            "\n"
          ]
        }
      ]
    },
    {
      "cell_type": "code",
      "source": [
        "print(f\"Accuracy: {accuracy_score(y_test, predicted_labels_without_training_data):.2f}\")"
      ],
      "metadata": {
        "colab": {
          "base_uri": "https://localhost:8080/"
        },
        "id": "0lvjnaZ8glby",
        "outputId": "f35e0405-0e37-41fb-de78-1e67c39659c2"
      },
      "execution_count": 40,
      "outputs": [
        {
          "output_type": "stream",
          "name": "stdout",
          "text": [
            "Accuracy: 1.00\n"
          ]
        }
      ]
    },
    {
      "cell_type": "markdown",
      "source": [
        "- You can train a classifier without explicitly labeled data, simply by specifying the potential labels.\n",
        "- Label has to be expressed in natural language, be descriptive and self-explanatory"
      ],
      "metadata": {
        "id": "ToORG6N0HGP5"
      }
    },
    {
      "cell_type": "markdown",
      "source": [
        "## Multi-Label Zero-shot Text Classification\n",
        "<font color=\"orange\">What if you have multi-labels case ?? There is Multi-Label Zero-shot Text Classification. In this case also you can go with and without providing labelled data.</font>"
      ],
      "metadata": {
        "id": "38UjJSY2H6HA"
      }
    },
    {
      "cell_type": "markdown",
      "source": [
        "## Text Vectorization (inputs to ML model)\n",
        "- Scikit-LLM provides `GPTVectorizer` class to convert the input text into a fixed-dimensional vector representation.\n",
        "- Each resulting vector is an array of floating numbers, which is a representation of the corresponding sentence.\n",
        "- A class that uses OPEN AI embedding model that converts text to GPT embeddings. (Defaults to `text-embedding-ada-002`)"
      ],
      "metadata": {
        "id": "4u4PwvJ5hCTN"
      }
    },
    {
      "cell_type": "code",
      "source": [
        "from skllm.preprocessing import GPTVectorizer\n",
        "\n",
        "X = [\n",
        "    \"Scikit-llm is fantastic library.\",\n",
        "    \"You need to learn machine learning.\",\n",
        "    \"Learn scikit learn for more information.\"\n",
        "]\n",
        "\n",
        "vectorizer = GPTVectorizer()\n",
        "\n",
        "vectors = vectorizer.fit_transform(X)\n",
        "\n",
        "print(vectors)"
      ],
      "metadata": {
        "id": "vhubB-nVGuqX",
        "colab": {
          "base_uri": "https://localhost:8080/"
        },
        "outputId": "1b68f0b9-9b19-4280-cebb-2c93ec89a410"
      },
      "execution_count": 42,
      "outputs": [
        {
          "output_type": "stream",
          "name": "stderr",
          "text": [
            "100%|██████████| 3/3 [00:01<00:00,  2.33it/s]"
          ]
        },
        {
          "output_type": "stream",
          "name": "stdout",
          "text": [
            "1536\n",
            "[[-0.02586892  0.02396249  0.00046008 ... -0.01282313 -0.02209782\n",
            "  -0.04567068]\n",
            " [-0.02056578  0.00380191  0.01963336 ...  0.00560766 -0.00964596\n",
            "  -0.01989601]\n",
            " [-0.00847352  0.01418481  0.02235141 ... -0.00341943 -0.01489205\n",
            "  -0.03827095]]\n"
          ]
        },
        {
          "output_type": "stream",
          "name": "stderr",
          "text": [
            "\n"
          ]
        }
      ]
    },
    {
      "cell_type": "code",
      "source": [
        "# embeddings dimensions of OpenAI text-embedding-ada-002\n",
        "len(vectors[0])"
      ],
      "metadata": {
        "colab": {
          "base_uri": "https://localhost:8080/"
        },
        "id": "f2jbAPsW19xW",
        "outputId": "5e3ed73c-9693-4946-aed1-654e13e4d2ec"
      },
      "execution_count": 43,
      "outputs": [
        {
          "output_type": "execute_result",
          "data": {
            "text/plain": [
              "1536"
            ]
          },
          "metadata": {},
          "execution_count": 43
        }
      ]
    },
    {
      "cell_type": "markdown",
      "source": [
        "## 😎 Lets use `scikit-llm` within a `scikit-learn` pipeline"
      ],
      "metadata": {
        "id": "vopE-AGM2WPd"
      }
    },
    {
      "cell_type": "code",
      "source": [
        "from sklearn.pipeline import Pipeline\n",
        "from sklearn.preprocessing import LabelEncoder\n",
        "from skllm.preprocessing import GPTVectorizer\n",
        "from xgboost import XGBClassifier"
      ],
      "metadata": {
        "id": "4jAlfb4i2ibp"
      },
      "execution_count": 44,
      "outputs": []
    },
    {
      "cell_type": "code",
      "source": [
        "# Encode labels\n",
        "le = LabelEncoder()\n",
        "y_train_encoded = le.fit_transform(y_train)\n",
        "y_test_encoded = le.transform(y_test)"
      ],
      "metadata": {
        "id": "kc_y8tnY2j6Q"
      },
      "execution_count": 46,
      "outputs": []
    },
    {
      "cell_type": "code",
      "source": [
        "y_train_encoded, y_test_encoded"
      ],
      "metadata": {
        "colab": {
          "base_uri": "https://localhost:8080/"
        },
        "id": "6iry_6Gm2-lz",
        "outputId": "37836680-6121-4795-9219-a20bc7e0a1ea"
      },
      "execution_count": 47,
      "outputs": [
        {
          "output_type": "execute_result",
          "data": {
            "text/plain": [
              "(array([2, 2, 2, 2, 2, 2, 2, 2, 0, 0, 0, 0, 0, 0, 0, 0, 1, 1, 1, 1, 1, 1,\n",
              "        1, 1]),\n",
              " array([2, 2, 0, 0, 1, 1]))"
            ]
          },
          "metadata": {},
          "execution_count": 47
        }
      ]
    },
    {
      "cell_type": "code",
      "source": [
        "# Use a scikit-learn pipeline\n",
        "steps = [(\"GPT\", GPTVectorizer()), (\"Clf\", XGBClassifier())]\n",
        "clf = Pipeline(steps)\n",
        "\n",
        "clf.fit(X_train, y_train_encoded)"
      ],
      "metadata": {
        "colab": {
          "base_uri": "https://localhost:8080/",
          "height": 144
        },
        "id": "sl2CuFVI2y82",
        "outputId": "e280b7ab-e2ac-4ae1-a840-5b8aab44fc7a"
      },
      "execution_count": 48,
      "outputs": [
        {
          "output_type": "stream",
          "name": "stderr",
          "text": [
            "100%|██████████| 24/24 [00:26<00:00,  1.09s/it]\n"
          ]
        },
        {
          "output_type": "execute_result",
          "data": {
            "text/plain": [
              "Pipeline(steps=[('GPT', GPTVectorizer()),\n",
              "                ('Clf',\n",
              "                 XGBClassifier(base_score=None, booster=None, callbacks=None,\n",
              "                               colsample_bylevel=None, colsample_bynode=None,\n",
              "                               colsample_bytree=None,\n",
              "                               early_stopping_rounds=None,\n",
              "                               enable_categorical=False, eval_metric=None,\n",
              "                               feature_types=None, gamma=None, gpu_id=None,\n",
              "                               grow_policy=None, importance_type=None,\n",
              "                               interaction_constraints=None, learning_rate=None,\n",
              "                               max_bin=None, max_cat_threshold=None,\n",
              "                               max_cat_to_onehot=None, max_delta_step=None,\n",
              "                               max_depth=None, max_leaves=None,\n",
              "                               min_child_weight=None, missing=nan,\n",
              "                               monotone_constraints=None, n_estimators=100,\n",
              "                               n_jobs=None, num_parallel_tree=None,\n",
              "                               objective='multi:softprob', predictor=None, ...))])"
            ],
            "text/html": [
              "<style>#sk-container-id-2 {color: black;background-color: white;}#sk-container-id-2 pre{padding: 0;}#sk-container-id-2 div.sk-toggleable {background-color: white;}#sk-container-id-2 label.sk-toggleable__label {cursor: pointer;display: block;width: 100%;margin-bottom: 0;padding: 0.3em;box-sizing: border-box;text-align: center;}#sk-container-id-2 label.sk-toggleable__label-arrow:before {content: \"▸\";float: left;margin-right: 0.25em;color: #696969;}#sk-container-id-2 label.sk-toggleable__label-arrow:hover:before {color: black;}#sk-container-id-2 div.sk-estimator:hover label.sk-toggleable__label-arrow:before {color: black;}#sk-container-id-2 div.sk-toggleable__content {max-height: 0;max-width: 0;overflow: hidden;text-align: left;background-color: #f0f8ff;}#sk-container-id-2 div.sk-toggleable__content pre {margin: 0.2em;color: black;border-radius: 0.25em;background-color: #f0f8ff;}#sk-container-id-2 input.sk-toggleable__control:checked~div.sk-toggleable__content {max-height: 200px;max-width: 100%;overflow: auto;}#sk-container-id-2 input.sk-toggleable__control:checked~label.sk-toggleable__label-arrow:before {content: \"▾\";}#sk-container-id-2 div.sk-estimator input.sk-toggleable__control:checked~label.sk-toggleable__label {background-color: #d4ebff;}#sk-container-id-2 div.sk-label input.sk-toggleable__control:checked~label.sk-toggleable__label {background-color: #d4ebff;}#sk-container-id-2 input.sk-hidden--visually {border: 0;clip: rect(1px 1px 1px 1px);clip: rect(1px, 1px, 1px, 1px);height: 1px;margin: -1px;overflow: hidden;padding: 0;position: absolute;width: 1px;}#sk-container-id-2 div.sk-estimator {font-family: monospace;background-color: #f0f8ff;border: 1px dotted black;border-radius: 0.25em;box-sizing: border-box;margin-bottom: 0.5em;}#sk-container-id-2 div.sk-estimator:hover {background-color: #d4ebff;}#sk-container-id-2 div.sk-parallel-item::after {content: \"\";width: 100%;border-bottom: 1px solid gray;flex-grow: 1;}#sk-container-id-2 div.sk-label:hover label.sk-toggleable__label {background-color: #d4ebff;}#sk-container-id-2 div.sk-serial::before {content: \"\";position: absolute;border-left: 1px solid gray;box-sizing: border-box;top: 0;bottom: 0;left: 50%;z-index: 0;}#sk-container-id-2 div.sk-serial {display: flex;flex-direction: column;align-items: center;background-color: white;padding-right: 0.2em;padding-left: 0.2em;position: relative;}#sk-container-id-2 div.sk-item {position: relative;z-index: 1;}#sk-container-id-2 div.sk-parallel {display: flex;align-items: stretch;justify-content: center;background-color: white;position: relative;}#sk-container-id-2 div.sk-item::before, #sk-container-id-2 div.sk-parallel-item::before {content: \"\";position: absolute;border-left: 1px solid gray;box-sizing: border-box;top: 0;bottom: 0;left: 50%;z-index: -1;}#sk-container-id-2 div.sk-parallel-item {display: flex;flex-direction: column;z-index: 1;position: relative;background-color: white;}#sk-container-id-2 div.sk-parallel-item:first-child::after {align-self: flex-end;width: 50%;}#sk-container-id-2 div.sk-parallel-item:last-child::after {align-self: flex-start;width: 50%;}#sk-container-id-2 div.sk-parallel-item:only-child::after {width: 0;}#sk-container-id-2 div.sk-dashed-wrapped {border: 1px dashed gray;margin: 0 0.4em 0.5em 0.4em;box-sizing: border-box;padding-bottom: 0.4em;background-color: white;}#sk-container-id-2 div.sk-label label {font-family: monospace;font-weight: bold;display: inline-block;line-height: 1.2em;}#sk-container-id-2 div.sk-label-container {text-align: center;}#sk-container-id-2 div.sk-container {/* jupyter's `normalize.less` sets `[hidden] { display: none; }` but bootstrap.min.css set `[hidden] { display: none !important; }` so we also need the `!important` here to be able to override the default hidden behavior on the sphinx rendered scikit-learn.org. See: https://github.com/scikit-learn/scikit-learn/issues/21755 */display: inline-block !important;position: relative;}#sk-container-id-2 div.sk-text-repr-fallback {display: none;}</style><div id=\"sk-container-id-2\" class=\"sk-top-container\"><div class=\"sk-text-repr-fallback\"><pre>Pipeline(steps=[(&#x27;GPT&#x27;, GPTVectorizer()),\n",
              "                (&#x27;Clf&#x27;,\n",
              "                 XGBClassifier(base_score=None, booster=None, callbacks=None,\n",
              "                               colsample_bylevel=None, colsample_bynode=None,\n",
              "                               colsample_bytree=None,\n",
              "                               early_stopping_rounds=None,\n",
              "                               enable_categorical=False, eval_metric=None,\n",
              "                               feature_types=None, gamma=None, gpu_id=None,\n",
              "                               grow_policy=None, importance_type=None,\n",
              "                               interaction_constraints=None, learning_rate=None,\n",
              "                               max_bin=None, max_cat_threshold=None,\n",
              "                               max_cat_to_onehot=None, max_delta_step=None,\n",
              "                               max_depth=None, max_leaves=None,\n",
              "                               min_child_weight=None, missing=nan,\n",
              "                               monotone_constraints=None, n_estimators=100,\n",
              "                               n_jobs=None, num_parallel_tree=None,\n",
              "                               objective=&#x27;multi:softprob&#x27;, predictor=None, ...))])</pre><b>In a Jupyter environment, please rerun this cell to show the HTML representation or trust the notebook. <br />On GitHub, the HTML representation is unable to render, please try loading this page with nbviewer.org.</b></div><div class=\"sk-container\" hidden><div class=\"sk-item sk-dashed-wrapped\"><div class=\"sk-label-container\"><div class=\"sk-label sk-toggleable\"><input class=\"sk-toggleable__control sk-hidden--visually\" id=\"sk-estimator-id-2\" type=\"checkbox\" ><label for=\"sk-estimator-id-2\" class=\"sk-toggleable__label sk-toggleable__label-arrow\">Pipeline</label><div class=\"sk-toggleable__content\"><pre>Pipeline(steps=[(&#x27;GPT&#x27;, GPTVectorizer()),\n",
              "                (&#x27;Clf&#x27;,\n",
              "                 XGBClassifier(base_score=None, booster=None, callbacks=None,\n",
              "                               colsample_bylevel=None, colsample_bynode=None,\n",
              "                               colsample_bytree=None,\n",
              "                               early_stopping_rounds=None,\n",
              "                               enable_categorical=False, eval_metric=None,\n",
              "                               feature_types=None, gamma=None, gpu_id=None,\n",
              "                               grow_policy=None, importance_type=None,\n",
              "                               interaction_constraints=None, learning_rate=None,\n",
              "                               max_bin=None, max_cat_threshold=None,\n",
              "                               max_cat_to_onehot=None, max_delta_step=None,\n",
              "                               max_depth=None, max_leaves=None,\n",
              "                               min_child_weight=None, missing=nan,\n",
              "                               monotone_constraints=None, n_estimators=100,\n",
              "                               n_jobs=None, num_parallel_tree=None,\n",
              "                               objective=&#x27;multi:softprob&#x27;, predictor=None, ...))])</pre></div></div></div><div class=\"sk-serial\"><div class=\"sk-item\"><div class=\"sk-estimator sk-toggleable\"><input class=\"sk-toggleable__control sk-hidden--visually\" id=\"sk-estimator-id-3\" type=\"checkbox\" ><label for=\"sk-estimator-id-3\" class=\"sk-toggleable__label sk-toggleable__label-arrow\">GPTVectorizer</label><div class=\"sk-toggleable__content\"><pre>GPTVectorizer()</pre></div></div></div><div class=\"sk-item\"><div class=\"sk-estimator sk-toggleable\"><input class=\"sk-toggleable__control sk-hidden--visually\" id=\"sk-estimator-id-4\" type=\"checkbox\" ><label for=\"sk-estimator-id-4\" class=\"sk-toggleable__label sk-toggleable__label-arrow\">XGBClassifier</label><div class=\"sk-toggleable__content\"><pre>XGBClassifier(base_score=None, booster=None, callbacks=None,\n",
              "              colsample_bylevel=None, colsample_bynode=None,\n",
              "              colsample_bytree=None, early_stopping_rounds=None,\n",
              "              enable_categorical=False, eval_metric=None, feature_types=None,\n",
              "              gamma=None, gpu_id=None, grow_policy=None, importance_type=None,\n",
              "              interaction_constraints=None, learning_rate=None, max_bin=None,\n",
              "              max_cat_threshold=None, max_cat_to_onehot=None,\n",
              "              max_delta_step=None, max_depth=None, max_leaves=None,\n",
              "              min_child_weight=None, missing=nan, monotone_constraints=None,\n",
              "              n_estimators=100, n_jobs=None, num_parallel_tree=None,\n",
              "              objective=&#x27;multi:softprob&#x27;, predictor=None, ...)</pre></div></div></div></div></div></div></div>"
            ]
          },
          "metadata": {},
          "execution_count": 48
        }
      ]
    },
    {
      "cell_type": "code",
      "source": [
        "y_pred_encoded = clf.predict(X_test)"
      ],
      "metadata": {
        "colab": {
          "base_uri": "https://localhost:8080/"
        },
        "id": "53aDHo_g3N6o",
        "outputId": "dff378c5-8696-4366-a781-518ffd588d58"
      },
      "execution_count": 49,
      "outputs": [
        {
          "output_type": "stream",
          "name": "stderr",
          "text": [
            "100%|██████████| 6/6 [00:05<00:00,  1.01it/s]\n"
          ]
        }
      ]
    },
    {
      "cell_type": "code",
      "source": [
        "# Revert the encoded labels to actual labels\n",
        "y_pred = le.inverse_transform(y_pred_encoded)"
      ],
      "metadata": {
        "id": "_ASzSeJs3Uye"
      },
      "execution_count": 52,
      "outputs": []
    },
    {
      "cell_type": "code",
      "source": [
        "print(f\"\\nEncoded labels (train set): {y_train_encoded}\\n\")\n",
        "print(f\"Actual Labels (train set): {y_train}\")\n",
        "\n",
        "print(f\"Predicted labels (encoded): {y_test_encoded}\\n\")\n",
        "\n",
        "print(\"------------------\\nEvaluate the performance of XGBoost Classifier:\\n\")\n",
        "for test_review, actual_label, predicted_label in zip(X_test, y_test, y_pred):\n",
        "    print(f\"Review: {test_review}\\nActual Label: {actual_label}\\nPredicted Label: {predicted_label}\\n\")"
      ],
      "metadata": {
        "colab": {
          "base_uri": "https://localhost:8080/"
        },
        "id": "0TjbIYJI3fNC",
        "outputId": "5fbc6094-cc4d-42de-eee6-169202173195"
      },
      "execution_count": 53,
      "outputs": [
        {
          "output_type": "stream",
          "name": "stdout",
          "text": [
            "\n",
            "Encoded labels (train set): [2 2 2 2 2 2 2 2 0 0 0 0 0 0 0 0 1 1 1 1 1 1 1 1]\n",
            "\n",
            "Actual Labels (train set): ['positive', 'positive', 'positive', 'positive', 'positive', 'positive', 'positive', 'positive', 'negative', 'negative', 'negative', 'negative', 'negative', 'negative', 'negative', 'negative', 'neutral', 'neutral', 'neutral', 'neutral', 'neutral', 'neutral', 'neutral', 'neutral']\n",
            "Predicted labels (encoded): [2 2 0 0 1 1]\n",
            "\n",
            "------------------\n",
            "Evaluate the performance of XGBoost Classifier:\n",
            "\n",
            "Review: The cinematography in 'Awakening' was nothing short of spectacular. The visuals alone are worth the ticket price. The storyline was unique and the performances were solid. An overall fantastic film.\n",
            "Actual Label: positive\n",
            "Predicted Label: neutral\n",
            "\n",
            "Review: 'Eternal Embers' was a cinematic delight. The storytelling was original and the performances were exceptional. The director's vision was truly brought to life on the big screen. A must-see for all movie lovers.\n",
            "Actual Label: positive\n",
            "Predicted Label: positive\n",
            "\n",
            "Review: The acting in 'Desert Mirage' was subpar, and the plot was boring. I found myself yawning multiple times throughout the movie. Save your time and skip this one.\n",
            "Actual Label: negative\n",
            "Predicted Label: negative\n",
            "\n",
            "Review: 'Crimson Dawn' was a major letdown. The plot was cliched and the characters were flat. The special effects were also poorly executed. I wouldn't recommend it.\n",
            "Actual Label: negative\n",
            "Predicted Label: positive\n",
            "\n",
            "Review: 'Chasing Shadows' was fairly average. The plot was not bad, and the performances were passable, but it lacked a certain spark. It was just okay.\n",
            "Actual Label: neutral\n",
            "Predicted Label: neutral\n",
            "\n",
            "Review: 'Beneath the Surface' was pretty run-of-the-mill. The plot was decent, the performances were okay, but it wasn't particularly memorable. It was an okay movie.\n",
            "Actual Label: neutral\n",
            "Predicted Label: neutral\n",
            "\n"
          ]
        }
      ]
    },
    {
      "cell_type": "code",
      "source": [
        "print(f\"Accuracy: {accuracy_score(y_test, y_pred):.2f}\")"
      ],
      "metadata": {
        "colab": {
          "base_uri": "https://localhost:8080/"
        },
        "id": "pgO0NJmL4AeH",
        "outputId": "3ec1e1d6-7675-4e44-ce18-d2cc042c4ec3"
      },
      "execution_count": 54,
      "outputs": [
        {
          "output_type": "stream",
          "name": "stdout",
          "text": [
            "Accuracy: 0.67\n"
          ]
        }
      ]
    },
    {
      "cell_type": "markdown",
      "source": [
        "# GPT4ALL\n",
        "- Same data with one of the model from gpt4all\n",
        "- When running the first time, the model will be downloaded automatically.\n",
        "- Need to restart runtime."
      ],
      "metadata": {
        "id": "4FY7eYJCIcH3"
      }
    },
    {
      "cell_type": "code",
      "source": [
        "%%capture\n",
        "!pip install \"scikit-llm[gpt4all]\""
      ],
      "metadata": {
        "id": "RGMmiF3vIUVq"
      },
      "execution_count": 1,
      "outputs": []
    },
    {
      "cell_type": "markdown",
      "source": [
        "- In order to switch from OpenAI to GPT4ALL model, simply provide a string of the format `gpt4all::<model_name>` as an argument.\n",
        "- While the model runs completely locally, the estimator still treats it as an OpenAI endpoint and will try to check that the API key is present. - You can provide any string as a key."
      ],
      "metadata": {
        "id": "E262KBV6MB8R"
      }
    },
    {
      "cell_type": "code",
      "source": [
        "from skllm.config import SKLLMConfig\n",
        "\n",
        "SKLLMConfig.set_openai_key(\"any string\")\n",
        "SKLLMConfig.set_openai_org(\"any string\")\n",
        "\n",
        "from skllm import ZeroShotGPTClassifier\n",
        "clf_gpt4all = ZeroShotGPTClassifier(openai_model=\"gpt4all::ggml-gpt4all-j-v1.3-groovy\")"
      ],
      "metadata": {
        "id": "I-1TNzSaKbb_"
      },
      "execution_count": 2,
      "outputs": []
    },
    {
      "cell_type": "markdown",
      "source": [
        "### Go back and take train, test data from above."
      ],
      "metadata": {
        "id": "dQkHBehq5mYS"
      }
    },
    {
      "cell_type": "code",
      "source": [
        "# fitting the data\n",
        "clf_gpt4all.fit(X_train, y_train)"
      ],
      "metadata": {
        "colab": {
          "base_uri": "https://localhost:8080/",
          "height": 75
        },
        "id": "DFpRHIgSImvB",
        "outputId": "53a7d563-9d1f-46dc-c9aa-d8a3c3ce3fa6"
      },
      "execution_count": 15,
      "outputs": [
        {
          "output_type": "execute_result",
          "data": {
            "text/plain": [
              "ZeroShotGPTClassifier(openai_model='gpt4all::ggml-gpt4all-j-v1.3-groovy')"
            ],
            "text/html": [
              "<style>#sk-container-id-1 {color: black;background-color: white;}#sk-container-id-1 pre{padding: 0;}#sk-container-id-1 div.sk-toggleable {background-color: white;}#sk-container-id-1 label.sk-toggleable__label {cursor: pointer;display: block;width: 100%;margin-bottom: 0;padding: 0.3em;box-sizing: border-box;text-align: center;}#sk-container-id-1 label.sk-toggleable__label-arrow:before {content: \"▸\";float: left;margin-right: 0.25em;color: #696969;}#sk-container-id-1 label.sk-toggleable__label-arrow:hover:before {color: black;}#sk-container-id-1 div.sk-estimator:hover label.sk-toggleable__label-arrow:before {color: black;}#sk-container-id-1 div.sk-toggleable__content {max-height: 0;max-width: 0;overflow: hidden;text-align: left;background-color: #f0f8ff;}#sk-container-id-1 div.sk-toggleable__content pre {margin: 0.2em;color: black;border-radius: 0.25em;background-color: #f0f8ff;}#sk-container-id-1 input.sk-toggleable__control:checked~div.sk-toggleable__content {max-height: 200px;max-width: 100%;overflow: auto;}#sk-container-id-1 input.sk-toggleable__control:checked~label.sk-toggleable__label-arrow:before {content: \"▾\";}#sk-container-id-1 div.sk-estimator input.sk-toggleable__control:checked~label.sk-toggleable__label {background-color: #d4ebff;}#sk-container-id-1 div.sk-label input.sk-toggleable__control:checked~label.sk-toggleable__label {background-color: #d4ebff;}#sk-container-id-1 input.sk-hidden--visually {border: 0;clip: rect(1px 1px 1px 1px);clip: rect(1px, 1px, 1px, 1px);height: 1px;margin: -1px;overflow: hidden;padding: 0;position: absolute;width: 1px;}#sk-container-id-1 div.sk-estimator {font-family: monospace;background-color: #f0f8ff;border: 1px dotted black;border-radius: 0.25em;box-sizing: border-box;margin-bottom: 0.5em;}#sk-container-id-1 div.sk-estimator:hover {background-color: #d4ebff;}#sk-container-id-1 div.sk-parallel-item::after {content: \"\";width: 100%;border-bottom: 1px solid gray;flex-grow: 1;}#sk-container-id-1 div.sk-label:hover label.sk-toggleable__label {background-color: #d4ebff;}#sk-container-id-1 div.sk-serial::before {content: \"\";position: absolute;border-left: 1px solid gray;box-sizing: border-box;top: 0;bottom: 0;left: 50%;z-index: 0;}#sk-container-id-1 div.sk-serial {display: flex;flex-direction: column;align-items: center;background-color: white;padding-right: 0.2em;padding-left: 0.2em;position: relative;}#sk-container-id-1 div.sk-item {position: relative;z-index: 1;}#sk-container-id-1 div.sk-parallel {display: flex;align-items: stretch;justify-content: center;background-color: white;position: relative;}#sk-container-id-1 div.sk-item::before, #sk-container-id-1 div.sk-parallel-item::before {content: \"\";position: absolute;border-left: 1px solid gray;box-sizing: border-box;top: 0;bottom: 0;left: 50%;z-index: -1;}#sk-container-id-1 div.sk-parallel-item {display: flex;flex-direction: column;z-index: 1;position: relative;background-color: white;}#sk-container-id-1 div.sk-parallel-item:first-child::after {align-self: flex-end;width: 50%;}#sk-container-id-1 div.sk-parallel-item:last-child::after {align-self: flex-start;width: 50%;}#sk-container-id-1 div.sk-parallel-item:only-child::after {width: 0;}#sk-container-id-1 div.sk-dashed-wrapped {border: 1px dashed gray;margin: 0 0.4em 0.5em 0.4em;box-sizing: border-box;padding-bottom: 0.4em;background-color: white;}#sk-container-id-1 div.sk-label label {font-family: monospace;font-weight: bold;display: inline-block;line-height: 1.2em;}#sk-container-id-1 div.sk-label-container {text-align: center;}#sk-container-id-1 div.sk-container {/* jupyter's `normalize.less` sets `[hidden] { display: none; }` but bootstrap.min.css set `[hidden] { display: none !important; }` so we also need the `!important` here to be able to override the default hidden behavior on the sphinx rendered scikit-learn.org. See: https://github.com/scikit-learn/scikit-learn/issues/21755 */display: inline-block !important;position: relative;}#sk-container-id-1 div.sk-text-repr-fallback {display: none;}</style><div id=\"sk-container-id-1\" class=\"sk-top-container\"><div class=\"sk-text-repr-fallback\"><pre>ZeroShotGPTClassifier(openai_model=&#x27;gpt4all::ggml-gpt4all-j-v1.3-groovy&#x27;)</pre><b>In a Jupyter environment, please rerun this cell to show the HTML representation or trust the notebook. <br />On GitHub, the HTML representation is unable to render, please try loading this page with nbviewer.org.</b></div><div class=\"sk-container\" hidden><div class=\"sk-item\"><div class=\"sk-estimator sk-toggleable\"><input class=\"sk-toggleable__control sk-hidden--visually\" id=\"sk-estimator-id-1\" type=\"checkbox\" checked><label for=\"sk-estimator-id-1\" class=\"sk-toggleable__label sk-toggleable__label-arrow\">ZeroShotGPTClassifier</label><div class=\"sk-toggleable__content\"><pre>ZeroShotGPTClassifier(openai_model=&#x27;gpt4all::ggml-gpt4all-j-v1.3-groovy&#x27;)</pre></div></div></div></div></div>"
            ]
          },
          "metadata": {},
          "execution_count": 15
        }
      ]
    },
    {
      "cell_type": "code",
      "source": [
        "# predicting the labels\n",
        "y_pred_gpt4all = clf_gpt4all.predict(X_test)"
      ],
      "metadata": {
        "colab": {
          "base_uri": "https://localhost:8080/"
        },
        "id": "rEyTVV8ONCS9",
        "outputId": "f2ff0a8c-b816-4f5c-dbd4-cb30a18c1df5"
      },
      "execution_count": 16,
      "outputs": [
        {
          "output_type": "stream",
          "name": "stderr",
          "text": [
            "  0%|          | 0/6 [00:00<?, ?it/s]\n",
            "  0%|          | 0.00/3.79G [00:00<?, ?iB/s]\u001b[A\n",
            "  0%|          | 7.34M/3.79G [00:00<00:52, 71.7MiB/s]\u001b[A\n",
            "  0%|          | 14.7M/3.79G [00:00<01:11, 52.8MiB/s]\u001b[A\n",
            "  1%|          | 21.0M/3.79G [00:00<01:36, 39.1MiB/s]\u001b[A\n",
            "  1%|          | 26.2M/3.79G [00:00<02:00, 31.2MiB/s]\u001b[A\n",
            "  1%|          | 33.6M/3.79G [00:00<01:35, 39.1MiB/s]\u001b[A\n",
            "  1%|          | 41.9M/3.79G [00:00<01:19, 47.3MiB/s]\u001b[A\n",
            "  1%|▏         | 50.3M/3.79G [00:01<01:32, 40.4MiB/s]\u001b[A\n",
            "  2%|▏         | 59.8M/3.79G [00:01<01:13, 50.8MiB/s]\u001b[A\n",
            "  2%|▏         | 67.1M/3.79G [00:01<01:06, 55.7MiB/s]\u001b[A\n",
            "  2%|▏         | 75.5M/3.79G [00:01<00:59, 61.9MiB/s]\u001b[A\n",
            "  2%|▏         | 83.9M/3.79G [00:01<00:56, 65.3MiB/s]\u001b[A\n",
            "  2%|▏         | 92.3M/3.79G [00:01<00:54, 67.5MiB/s]\u001b[A\n",
            "  3%|▎         | 102M/3.79G [00:01<00:50, 73.3MiB/s] \u001b[A\n",
            "  3%|▎         | 110M/3.79G [00:01<00:52, 69.9MiB/s]\u001b[A\n",
            "  3%|▎         | 118M/3.79G [00:02<01:33, 39.1MiB/s]\u001b[A\n",
            "  3%|▎         | 126M/3.79G [00:02<01:22, 44.5MiB/s]\u001b[A\n",
            "  4%|▎         | 134M/3.79G [00:02<01:12, 50.5MiB/s]\u001b[A\n",
            "  4%|▍         | 143M/3.79G [00:02<01:17, 46.9MiB/s]\u001b[A\n",
            "  4%|▍         | 151M/3.79G [00:02<01:07, 54.0MiB/s]\u001b[A\n",
            "  4%|▍         | 159M/3.79G [00:03<01:00, 59.6MiB/s]\u001b[A\n",
            "  4%|▍         | 168M/3.79G [00:03<00:58, 62.3MiB/s]\u001b[A\n",
            "  5%|▍         | 175M/3.79G [00:03<00:59, 61.1MiB/s]\u001b[A\n",
            "  5%|▍         | 182M/3.79G [00:03<01:35, 37.8MiB/s]\u001b[A\n",
            "  5%|▌         | 191M/3.79G [00:03<01:21, 44.2MiB/s]\u001b[A\n",
            "  5%|▌         | 197M/3.79G [00:03<01:26, 41.4MiB/s]\u001b[A\n",
            "  5%|▌         | 206M/3.79G [00:04<01:23, 42.8MiB/s]\u001b[A\n",
            "  6%|▌         | 218M/3.79G [00:04<01:02, 56.8MiB/s]\u001b[A\n",
            "  6%|▌         | 226M/3.79G [00:04<00:59, 60.2MiB/s]\u001b[A\n",
            "  6%|▋         | 237M/3.79G [00:04<00:51, 69.2MiB/s]\u001b[A\n",
            "  6%|▋         | 245M/3.79G [00:04<00:50, 70.0MiB/s]\u001b[A\n",
            "  7%|▋         | 254M/3.79G [00:04<00:48, 72.5MiB/s]\u001b[A\n",
            "  7%|▋         | 262M/3.79G [00:05<01:53, 31.0MiB/s]\u001b[A\n",
            "  7%|▋         | 268M/3.79G [00:05<02:18, 25.3MiB/s]\u001b[A\n",
            "  7%|▋         | 277M/3.79G [00:05<01:49, 31.9MiB/s]\u001b[A\n",
            "  8%|▊         | 285M/3.79G [00:06<01:31, 38.2MiB/s]\u001b[A\n",
            "  8%|▊         | 294M/3.79G [00:06<01:17, 44.9MiB/s]\u001b[A\n",
            "  8%|▊         | 302M/3.79G [00:06<01:07, 51.6MiB/s]\u001b[A\n",
            "  8%|▊         | 311M/3.79G [00:06<00:58, 59.5MiB/s]\u001b[A\n",
            "  8%|▊         | 320M/3.79G [00:06<00:54, 63.8MiB/s]\u001b[A\n",
            "  9%|▊         | 328M/3.79G [00:07<02:43, 21.2MiB/s]\u001b[A\n",
            "  9%|▉         | 336M/3.79G [00:07<02:24, 23.9MiB/s]\u001b[A\n",
            "  9%|▉         | 345M/3.79G [00:07<01:49, 31.4MiB/s]\u001b[A\n",
            "  9%|▉         | 354M/3.79G [00:07<01:27, 39.1MiB/s]\u001b[A\n",
            " 10%|▉         | 363M/3.79G [00:08<01:14, 46.0MiB/s]\u001b[A\n",
            " 10%|▉         | 371M/3.79G [00:08<01:04, 52.7MiB/s]\u001b[A\n",
            " 10%|█         | 380M/3.79G [00:08<00:58, 58.2MiB/s]\u001b[A\n",
            " 10%|█         | 388M/3.79G [00:08<00:59, 57.0MiB/s]\u001b[A\n",
            " 10%|█         | 395M/3.79G [00:09<03:23, 16.6MiB/s]\u001b[A\n",
            " 11%|█         | 404M/3.79G [00:09<02:33, 22.0MiB/s]\u001b[A\n",
            " 11%|█         | 410M/3.79G [00:09<02:13, 25.2MiB/s]\u001b[A\n",
            " 11%|█         | 419M/3.79G [00:10<01:41, 33.3MiB/s]\u001b[A\n",
            " 11%|█▏        | 428M/3.79G [00:10<01:31, 36.6MiB/s]\u001b[A\n",
            " 11%|█▏        | 434M/3.79G [00:10<01:42, 32.7MiB/s]\u001b[A\n",
            " 12%|█▏        | 442M/3.79G [00:10<01:22, 40.4MiB/s]\u001b[A\n",
            " 12%|█▏        | 449M/3.79G [00:10<01:19, 41.7MiB/s]\u001b[A\n",
            " 12%|█▏        | 455M/3.79G [00:10<01:13, 45.3MiB/s]\u001b[A\n",
            " 12%|█▏        | 462M/3.79G [00:10<01:06, 50.2MiB/s]\u001b[A\n",
            " 12%|█▏        | 470M/3.79G [00:11<01:01, 53.8MiB/s]\u001b[A\n",
            " 13%|█▎        | 478M/3.79G [00:11<00:56, 58.3MiB/s]\u001b[A\n",
            " 13%|█▎        | 487M/3.79G [00:11<00:51, 63.5MiB/s]\u001b[A\n",
            " 13%|█▎        | 495M/3.79G [00:11<00:48, 67.4MiB/s]\u001b[A\n",
            " 13%|█▎        | 504M/3.79G [00:11<00:44, 73.1MiB/s]\u001b[A\n",
            " 14%|█▎        | 513M/3.79G [00:11<00:52, 62.7MiB/s]\u001b[A\n",
            " 14%|█▍        | 521M/3.79G [00:11<00:49, 66.1MiB/s]\u001b[A\n",
            " 14%|█▍        | 528M/3.79G [00:11<00:58, 55.8MiB/s]\u001b[A\n",
            " 14%|█▍        | 536M/3.79G [00:12<00:54, 59.4MiB/s]\u001b[A\n",
            " 14%|█▍        | 543M/3.79G [00:12<00:51, 62.4MiB/s]\u001b[A\n",
            " 15%|█▍        | 551M/3.79G [00:12<00:56, 57.4MiB/s]\u001b[A\n",
            " 15%|█▍        | 558M/3.79G [00:12<00:53, 59.9MiB/s]\u001b[A\n",
            " 15%|█▍        | 564M/3.79G [00:12<00:53, 60.5MiB/s]\u001b[A\n",
            " 15%|█▌        | 570M/3.79G [00:12<00:54, 59.5MiB/s]\u001b[A\n",
            " 15%|█▌        | 578M/3.79G [00:12<00:51, 62.7MiB/s]\u001b[A\n",
            " 15%|█▌        | 585M/3.79G [00:12<00:50, 62.8MiB/s]\u001b[A\n",
            " 16%|█▌        | 592M/3.79G [00:13<00:57, 55.2MiB/s]\u001b[A\n",
            " 16%|█▌        | 604M/3.79G [00:13<00:55, 56.9MiB/s]\u001b[A\n",
            " 16%|█▌        | 611M/3.79G [00:13<00:52, 60.1MiB/s]\u001b[A\n",
            " 16%|█▋        | 621M/3.79G [00:13<00:47, 66.2MiB/s]\u001b[A\n",
            " 17%|█▋        | 630M/3.79G [00:13<00:46, 68.2MiB/s]\u001b[A\n",
            " 17%|█▋        | 639M/3.79G [00:13<00:45, 69.3MiB/s]\u001b[A\n",
            " 17%|█▋        | 646M/3.79G [00:13<00:44, 69.9MiB/s]\u001b[A\n",
            " 17%|█▋        | 654M/3.79G [00:13<00:43, 72.2MiB/s]\u001b[A\n",
            " 17%|█▋        | 662M/3.79G [00:14<00:47, 65.3MiB/s]\u001b[A\n",
            " 18%|█▊        | 669M/3.79G [00:14<00:50, 61.7MiB/s]\u001b[A\n",
            " 18%|█▊        | 676M/3.79G [00:14<00:48, 64.6MiB/s]\u001b[A\n",
            " 18%|█▊        | 685M/3.79G [00:14<00:44, 69.4MiB/s]\u001b[A\n",
            " 18%|█▊        | 693M/3.79G [00:14<00:42, 72.7MiB/s]\u001b[A\n",
            " 19%|█▊        | 701M/3.79G [00:14<00:43, 71.0MiB/s]\u001b[A\n",
            " 19%|█▊        | 709M/3.79G [00:14<00:45, 66.9MiB/s]\u001b[A\n",
            " 19%|█▉        | 716M/3.79G [00:14<00:55, 55.5MiB/s]\u001b[A\n",
            " 19%|█▉        | 726M/3.79G [00:15<00:47, 64.2MiB/s]\u001b[A\n",
            " 19%|█▉        | 733M/3.79G [00:15<00:46, 65.4MiB/s]\u001b[A\n",
            " 20%|█▉        | 740M/3.79G [00:15<00:51, 58.7MiB/s]\u001b[A\n",
            " 20%|█▉        | 747M/3.79G [00:15<00:51, 59.2MiB/s]\u001b[A\n",
            " 20%|█▉        | 755M/3.79G [00:15<00:49, 61.1MiB/s]\u001b[A\n",
            " 20%|██        | 761M/3.79G [00:15<00:52, 57.5MiB/s]\u001b[A\n",
            " 20%|██        | 768M/3.79G [00:18<06:06, 8.23MiB/s]\u001b[A\n",
            " 20%|██        | 776M/3.79G [00:18<04:14, 11.8MiB/s]\u001b[A\n",
            " 21%|██        | 783M/3.79G [00:18<03:10, 15.7MiB/s]\u001b[A\n",
            " 21%|██        | 791M/3.79G [00:18<02:27, 20.3MiB/s]\u001b[A\n",
            " 21%|██        | 797M/3.79G [00:18<02:15, 22.1MiB/s]\u001b[A\n",
            " 21%|██▏       | 806M/3.79G [00:18<01:37, 30.4MiB/s]\u001b[A\n",
            " 22%|██▏       | 816M/3.79G [00:18<01:15, 39.5MiB/s]\u001b[A\n",
            " 22%|██▏       | 825M/3.79G [00:19<01:02, 47.3MiB/s]\u001b[A\n",
            " 22%|██▏       | 835M/3.79G [00:19<00:52, 55.9MiB/s]\u001b[A\n",
            " 22%|██▏       | 843M/3.79G [00:19<00:50, 58.5MiB/s]\u001b[A\n",
            " 22%|██▏       | 851M/3.79G [00:19<00:56, 52.1MiB/s]\u001b[A\n",
            " 23%|██▎       | 862M/3.79G [00:19<00:49, 59.6MiB/s]\u001b[A\n",
            " 23%|██▎       | 871M/3.79G [00:19<00:43, 66.6MiB/s]\u001b[A\n",
            " 23%|██▎       | 881M/3.79G [00:19<00:40, 72.2MiB/s]\u001b[A\n",
            " 23%|██▎       | 889M/3.79G [00:19<00:46, 62.4MiB/s]\u001b[A\n",
            " 24%|██▎       | 898M/3.79G [00:20<01:23, 34.5MiB/s]\u001b[A\n",
            " 24%|██▍       | 904M/3.79G [00:20<01:34, 30.6MiB/s]\u001b[A\n",
            " 24%|██▍       | 909M/3.79G [00:20<01:26, 33.3MiB/s]\u001b[A\n",
            " 24%|██▍       | 915M/3.79G [00:20<01:15, 38.1MiB/s]\u001b[A\n",
            " 24%|██▍       | 923M/3.79G [00:21<01:54, 25.0MiB/s]\u001b[A\n",
            " 24%|██▍       | 927M/3.79G [00:22<03:12, 14.8MiB/s]\u001b[A\n",
            " 25%|██▍       | 930M/3.79G [00:22<03:15, 14.6MiB/s]\u001b[A\n",
            " 25%|██▍       | 933M/3.79G [00:22<03:16, 14.5MiB/s]\u001b[A\n",
            " 25%|██▍       | 940M/3.79G [00:22<02:22, 20.0MiB/s]\u001b[A\n",
            " 25%|██▌       | 948M/3.79G [00:22<01:38, 28.8MiB/s]\u001b[A\n",
            " 25%|██▌       | 955M/3.79G [00:23<01:18, 36.1MiB/s]\u001b[A\n",
            " 25%|██▌       | 962M/3.79G [00:24<03:27, 13.6MiB/s]\u001b[A\n",
            " 26%|██▌       | 970M/3.79G [00:24<02:25, 19.4MiB/s]\u001b[A\n",
            " 26%|██▌       | 978M/3.79G [00:24<01:48, 25.8MiB/s]\u001b[A\n",
            " 26%|██▌       | 985M/3.79G [00:24<01:32, 30.3MiB/s]\u001b[A\n",
            " 26%|██▋       | 995M/3.79G [00:24<01:07, 41.5MiB/s]\u001b[A\n",
            " 27%|██▋       | 1.00G/3.79G [00:24<00:58, 47.7MiB/s]\u001b[A\n",
            " 27%|██▋       | 1.01G/3.79G [00:25<01:16, 36.0MiB/s]\u001b[A\n",
            " 27%|██▋       | 1.02G/3.79G [00:25<01:07, 41.0MiB/s]\u001b[A\n",
            " 27%|██▋       | 1.02G/3.79G [00:25<01:03, 43.5MiB/s]\u001b[A\n",
            " 27%|██▋       | 1.03G/3.79G [00:25<01:04, 43.0MiB/s]\u001b[A\n",
            " 27%|██▋       | 1.04G/3.79G [00:25<01:18, 35.0MiB/s]\u001b[A\n",
            " 28%|██▊       | 1.04G/3.79G [00:25<01:19, 34.6MiB/s]\u001b[A\n",
            " 28%|██▊       | 1.05G/3.79G [00:25<01:13, 37.2MiB/s]\u001b[A\n",
            " 28%|██▊       | 1.05G/3.79G [00:26<01:13, 37.4MiB/s]\u001b[A\n",
            " 28%|██▊       | 1.06G/3.79G [00:26<01:08, 39.6MiB/s]\u001b[A\n",
            " 28%|██▊       | 1.06G/3.79G [00:26<00:57, 47.4MiB/s]\u001b[A\n",
            " 28%|██▊       | 1.07G/3.79G [00:26<00:57, 47.3MiB/s]\u001b[A\n",
            " 28%|██▊       | 1.08G/3.79G [00:26<01:02, 43.5MiB/s]\u001b[A\n",
            " 29%|██▊       | 1.08G/3.79G [00:26<00:59, 45.1MiB/s]\u001b[A\n",
            " 29%|██▊       | 1.09G/3.79G [00:26<01:04, 41.8MiB/s]\u001b[A\n",
            " 29%|██▉       | 1.09G/3.79G [00:26<01:02, 43.3MiB/s]\u001b[A\n",
            " 29%|██▉       | 1.10G/3.79G [00:27<00:50, 53.2MiB/s]\u001b[A\n",
            " 29%|██▉       | 1.11G/3.79G [00:27<01:08, 39.1MiB/s]\u001b[A\n",
            " 29%|██▉       | 1.11G/3.79G [00:27<01:06, 40.0MiB/s]\u001b[A\n",
            " 30%|██▉       | 1.12G/3.79G [00:27<00:55, 47.9MiB/s]\u001b[A\n",
            " 30%|██▉       | 1.13G/3.79G [00:27<00:51, 51.4MiB/s]\u001b[A\n",
            " 30%|███       | 1.14G/3.79G [00:27<00:44, 58.9MiB/s]\u001b[A\n",
            " 30%|███       | 1.14G/3.79G [00:27<00:56, 46.7MiB/s]\u001b[A\n",
            " 30%|███       | 1.15G/3.79G [00:28<00:49, 53.3MiB/s]\u001b[A\n",
            " 31%|███       | 1.16G/3.79G [00:28<00:42, 61.4MiB/s]\u001b[A\n",
            " 31%|███       | 1.17G/3.79G [00:28<00:46, 55.7MiB/s]\u001b[A\n",
            " 31%|███       | 1.18G/3.79G [00:28<00:40, 63.9MiB/s]\u001b[A\n",
            " 31%|███▏      | 1.18G/3.79G [00:28<00:41, 63.3MiB/s]\u001b[A\n",
            " 32%|███▏      | 1.20G/3.79G [00:28<00:35, 72.4MiB/s]\u001b[A\n",
            " 32%|███▏      | 1.20G/3.79G [00:28<00:43, 58.8MiB/s]\u001b[A\n",
            " 32%|███▏      | 1.22G/3.79G [00:29<00:33, 77.1MiB/s]\u001b[A\n",
            " 32%|███▏      | 1.23G/3.79G [00:29<00:33, 76.6MiB/s]\u001b[A\n",
            " 33%|███▎      | 1.24G/3.79G [00:29<00:37, 68.7MiB/s]\u001b[A\n",
            " 33%|███▎      | 1.24G/3.79G [00:29<00:36, 69.2MiB/s]\u001b[A\n",
            " 33%|███▎      | 1.26G/3.79G [00:29<00:30, 81.8MiB/s]\u001b[A\n",
            " 34%|███▎      | 1.27G/3.79G [00:29<00:27, 92.3MiB/s]\u001b[A\n",
            " 34%|███▍      | 1.28G/3.79G [00:29<00:24, 101MiB/s] \u001b[A\n",
            " 34%|███▍      | 1.30G/3.79G [00:29<00:23, 108MiB/s]\u001b[A\n",
            " 35%|███▍      | 1.31G/3.79G [00:29<00:24, 101MiB/s]\u001b[A\n",
            " 35%|███▍      | 1.32G/3.79G [00:30<00:25, 96.1MiB/s]\u001b[A\n",
            " 35%|███▌      | 1.33G/3.79G [00:30<00:26, 93.5MiB/s]\u001b[A\n",
            " 35%|███▌      | 1.34G/3.79G [00:30<00:26, 92.2MiB/s]\u001b[A\n",
            " 36%|███▌      | 1.35G/3.79G [00:30<00:27, 89.5MiB/s]\u001b[A\n",
            " 36%|███▌      | 1.36G/3.79G [00:30<00:33, 71.6MiB/s]\u001b[A\n",
            " 36%|███▌      | 1.37G/3.79G [00:30<00:35, 67.4MiB/s]\u001b[A\n",
            " 36%|███▋      | 1.37G/3.79G [00:30<00:37, 64.9MiB/s]\u001b[A\n",
            " 36%|███▋      | 1.38G/3.79G [00:31<00:36, 65.1MiB/s]\u001b[A\n",
            " 37%|███▋      | 1.39G/3.79G [00:31<00:36, 65.6MiB/s]\u001b[A\n",
            " 37%|███▋      | 1.40G/3.79G [00:31<00:38, 62.3MiB/s]\u001b[A\n",
            " 37%|███▋      | 1.40G/3.79G [00:31<00:36, 64.9MiB/s]\u001b[A\n",
            " 37%|███▋      | 1.41G/3.79G [00:31<00:34, 69.2MiB/s]\u001b[A\n",
            " 37%|███▋      | 1.42G/3.79G [00:31<00:34, 68.5MiB/s]\u001b[A\n",
            " 38%|███▊      | 1.43G/3.79G [00:31<00:34, 69.1MiB/s]\u001b[A\n",
            " 38%|███▊      | 1.43G/3.79G [00:31<00:32, 72.0MiB/s]\u001b[A\n",
            " 38%|███▊      | 1.44G/3.79G [00:32<00:41, 56.0MiB/s]\u001b[A\n",
            " 38%|███▊      | 1.45G/3.79G [00:32<00:54, 42.7MiB/s]\u001b[A\n",
            " 38%|███▊      | 1.46G/3.79G [00:32<00:54, 43.0MiB/s]\u001b[A\n",
            " 39%|███▊      | 1.46G/3.79G [00:32<00:45, 50.5MiB/s]\u001b[A\n",
            " 39%|███▉      | 1.47G/3.79G [00:32<00:47, 49.2MiB/s]\u001b[A\n",
            " 39%|███▉      | 1.48G/3.79G [00:32<00:41, 55.7MiB/s]\u001b[A\n",
            " 39%|███▉      | 1.49G/3.79G [00:32<00:41, 56.0MiB/s]\u001b[A\n",
            " 39%|███▉      | 1.49G/3.79G [00:33<00:37, 61.8MiB/s]\u001b[A\n",
            " 40%|███▉      | 1.50G/3.79G [00:33<00:34, 66.6MiB/s]\u001b[A\n",
            " 40%|███▉      | 1.51G/3.79G [00:33<00:31, 72.5MiB/s]\u001b[A\n",
            " 40%|████      | 1.52G/3.79G [00:33<00:29, 75.7MiB/s]\u001b[A\n",
            " 40%|████      | 1.53G/3.79G [00:33<00:28, 80.4MiB/s]\u001b[A\n",
            " 41%|████      | 1.54G/3.79G [00:33<00:28, 79.0MiB/s]\u001b[A\n",
            " 41%|████      | 1.55G/3.79G [00:33<00:34, 64.8MiB/s]\u001b[A\n",
            " 41%|████      | 1.56G/3.79G [00:33<00:33, 66.9MiB/s]\u001b[A\n",
            " 41%|████▏     | 1.57G/3.79G [00:33<00:30, 72.5MiB/s]\u001b[A\n",
            " 42%|████▏     | 1.57G/3.79G [00:34<00:35, 61.8MiB/s]\u001b[A\n",
            " 42%|████▏     | 1.58G/3.79G [00:34<00:34, 64.4MiB/s]\u001b[A\n",
            " 42%|████▏     | 1.59G/3.79G [00:34<00:59, 37.2MiB/s]\u001b[A\n",
            " 42%|████▏     | 1.60G/3.79G [00:34<00:48, 44.7MiB/s]\u001b[A\n",
            " 42%|████▏     | 1.61G/3.79G [00:34<00:40, 53.4MiB/s]\u001b[A\n",
            " 43%|████▎     | 1.62G/3.79G [00:35<00:36, 58.9MiB/s]\u001b[A\n",
            " 43%|████▎     | 1.62G/3.79G [00:35<00:35, 61.2MiB/s]\u001b[A\n",
            " 43%|████▎     | 1.63G/3.79G [00:35<00:33, 65.2MiB/s]\u001b[A\n",
            " 43%|████▎     | 1.64G/3.79G [00:35<00:30, 69.9MiB/s]\u001b[A\n",
            " 44%|████▎     | 1.65G/3.79G [00:35<00:28, 75.5MiB/s]\u001b[A\n",
            " 44%|████▍     | 1.66G/3.79G [00:35<00:27, 77.0MiB/s]\u001b[A\n",
            " 44%|████▍     | 1.67G/3.79G [00:35<00:33, 63.9MiB/s]\u001b[A\n",
            " 44%|████▍     | 1.67G/3.79G [00:35<00:32, 64.8MiB/s]\u001b[A\n",
            " 44%|████▍     | 1.68G/3.79G [00:35<00:30, 69.1MiB/s]\u001b[A\n",
            " 45%|████▍     | 1.69G/3.79G [00:36<00:35, 59.3MiB/s]\u001b[A\n",
            " 45%|████▍     | 1.70G/3.79G [00:36<00:32, 64.8MiB/s]\u001b[A\n",
            " 45%|████▌     | 1.71G/3.79G [00:36<00:30, 69.0MiB/s]\u001b[A\n",
            " 45%|████▌     | 1.71G/3.79G [00:36<00:28, 71.8MiB/s]\u001b[A\n",
            " 46%|████▌     | 1.72G/3.79G [00:36<00:28, 71.4MiB/s]\u001b[A\n",
            " 46%|████▌     | 1.73G/3.79G [00:36<00:35, 58.2MiB/s]\u001b[A\n",
            " 46%|████▌     | 1.74G/3.79G [00:36<00:35, 57.3MiB/s]\u001b[A\n",
            " 46%|████▌     | 1.75G/3.79G [00:36<00:31, 64.0MiB/s]\u001b[A\n",
            " 46%|████▋     | 1.75G/3.79G [00:37<00:31, 63.6MiB/s]\u001b[A\n",
            " 47%|████▋     | 1.76G/3.79G [00:37<00:35, 56.5MiB/s]\u001b[A\n",
            " 47%|████▋     | 1.77G/3.79G [00:37<00:44, 45.5MiB/s]\u001b[A\n",
            " 47%|████▋     | 1.78G/3.79G [00:37<00:39, 50.9MiB/s]\u001b[A\n",
            " 47%|████▋     | 1.78G/3.79G [00:37<00:38, 51.8MiB/s]\u001b[A\n",
            " 47%|████▋     | 1.79G/3.79G [00:37<00:33, 59.0MiB/s]\u001b[A\n",
            " 47%|████▋     | 1.80G/3.79G [00:37<00:36, 54.8MiB/s]\u001b[A\n",
            " 48%|████▊     | 1.80G/3.79G [00:38<00:33, 58.7MiB/s]\u001b[A\n",
            " 48%|████▊     | 1.81G/3.79G [00:38<00:30, 63.9MiB/s]\u001b[A\n",
            " 48%|████▊     | 1.82G/3.79G [00:38<00:31, 62.8MiB/s]\u001b[A\n",
            " 48%|████▊     | 1.83G/3.79G [00:38<00:26, 72.4MiB/s]\u001b[A\n",
            " 49%|████▊     | 1.84G/3.79G [00:38<00:26, 73.9MiB/s]\u001b[A\n",
            " 49%|████▉     | 1.85G/3.79G [00:38<00:24, 78.2MiB/s]\u001b[A\n",
            " 49%|████▉     | 1.86G/3.79G [00:38<00:38, 50.7MiB/s]\u001b[A\n",
            " 49%|████▉     | 1.87G/3.79G [00:39<00:34, 56.0MiB/s]\u001b[A\n",
            " 49%|████▉     | 1.87G/3.79G [00:39<00:38, 49.8MiB/s]\u001b[A\n",
            " 50%|████▉     | 1.88G/3.79G [00:39<00:46, 40.6MiB/s]\u001b[A\n",
            " 50%|████▉     | 1.89G/3.79G [00:39<00:40, 46.4MiB/s]\u001b[A\n",
            " 50%|█████     | 1.89G/3.79G [00:39<00:35, 54.0MiB/s]\u001b[A\n",
            " 50%|█████     | 1.90G/3.79G [00:39<00:31, 60.6MiB/s]\u001b[A\n",
            " 50%|█████     | 1.91G/3.79G [00:39<00:32, 57.0MiB/s]\u001b[A\n",
            " 51%|█████     | 1.92G/3.79G [00:40<00:30, 60.3MiB/s]\u001b[A\n",
            " 51%|█████     | 1.93G/3.79G [00:40<00:28, 64.7MiB/s]\u001b[A\n",
            " 51%|█████     | 1.93G/3.79G [00:40<00:27, 67.6MiB/s]\u001b[A\n",
            " 51%|█████▏    | 1.94G/3.79G [00:40<00:25, 71.1MiB/s]\u001b[A\n",
            " 52%|█████▏    | 1.95G/3.79G [00:40<00:29, 61.9MiB/s]\u001b[A\n",
            " 52%|█████▏    | 1.96G/3.79G [00:40<00:34, 52.6MiB/s]\u001b[A\n",
            " 52%|█████▏    | 1.97G/3.79G [00:40<00:29, 61.7MiB/s]\u001b[A\n",
            " 52%|█████▏    | 1.98G/3.79G [00:41<01:32, 19.5MiB/s]\u001b[A\n",
            " 52%|█████▏    | 1.98G/3.79G [00:41<01:08, 26.4MiB/s]\u001b[A\n",
            " 53%|█████▎    | 1.99G/3.79G [00:42<00:56, 31.9MiB/s]\u001b[A\n",
            " 53%|█████▎    | 2.00G/3.79G [00:42<00:49, 36.2MiB/s]\u001b[A\n",
            " 53%|█████▎    | 2.01G/3.79G [00:42<00:42, 42.0MiB/s]\u001b[A\n",
            " 53%|█████▎    | 2.02G/3.79G [00:42<00:36, 49.0MiB/s]\u001b[A\n",
            " 53%|█████▎    | 2.02G/3.79G [00:42<00:32, 54.6MiB/s]\u001b[A\n",
            " 54%|█████▎    | 2.03G/3.79G [00:42<00:33, 52.9MiB/s]\u001b[A\n",
            " 54%|█████▍    | 2.04G/3.79G [00:42<00:30, 57.2MiB/s]\u001b[A\n",
            " 54%|█████▍    | 2.05G/3.79G [00:42<00:26, 64.7MiB/s]\u001b[A\n",
            " 54%|█████▍    | 2.06G/3.79G [00:43<00:24, 70.7MiB/s]\u001b[A\n",
            " 55%|█████▍    | 2.07G/3.79G [00:43<00:32, 52.6MiB/s]\u001b[A\n",
            " 55%|█████▍    | 2.07G/3.79G [00:43<00:30, 56.2MiB/s]\u001b[A\n",
            " 55%|█████▍    | 2.08G/3.79G [00:43<00:27, 61.2MiB/s]\u001b[A\n",
            " 55%|█████▌    | 2.09G/3.79G [00:43<00:25, 65.4MiB/s]\u001b[A\n",
            " 55%|█████▌    | 2.10G/3.79G [00:43<00:24, 68.9MiB/s]\u001b[A\n",
            " 56%|█████▌    | 2.11G/3.79G [00:43<00:23, 72.7MiB/s]\u001b[A\n",
            " 56%|█████▌    | 2.11G/3.79G [00:43<00:27, 61.3MiB/s]\u001b[A\n",
            " 56%|█████▌    | 2.12G/3.79G [00:44<00:29, 56.9MiB/s]\u001b[A\n",
            " 56%|█████▋    | 2.13G/3.79G [00:44<00:26, 63.0MiB/s]\u001b[A\n",
            " 57%|█████▋    | 2.14G/3.79G [00:44<00:28, 57.6MiB/s]\u001b[A\n",
            " 57%|█████▋    | 2.15G/3.79G [00:44<00:27, 59.6MiB/s]\u001b[A\n",
            " 57%|█████▋    | 2.15G/3.79G [00:44<00:25, 65.0MiB/s]\u001b[A\n",
            " 57%|█████▋    | 2.16G/3.79G [00:44<00:30, 53.2MiB/s]\u001b[A\n",
            " 57%|█████▋    | 2.17G/3.79G [00:44<00:26, 61.4MiB/s]\u001b[A\n",
            " 58%|█████▊    | 2.18G/3.79G [00:45<00:25, 63.1MiB/s]\u001b[A\n",
            " 58%|█████▊    | 2.19G/3.79G [00:45<00:23, 67.5MiB/s]\u001b[A\n",
            " 58%|█████▊    | 2.19G/3.79G [00:45<00:27, 57.2MiB/s]\u001b[A\n",
            " 58%|█████▊    | 2.20G/3.79G [00:46<01:21, 19.5MiB/s]\u001b[A\n",
            " 58%|█████▊    | 2.21G/3.79G [00:46<01:00, 26.0MiB/s]\u001b[A\n",
            " 59%|█████▊    | 2.22G/3.79G [00:46<00:49, 31.8MiB/s]\u001b[A\n",
            " 59%|█████▊    | 2.22G/3.79G [00:46<00:43, 35.6MiB/s]\u001b[A\n",
            " 59%|█████▉    | 2.23G/3.79G [00:46<00:37, 41.0MiB/s]\u001b[A\n",
            " 59%|█████▉    | 2.24G/3.79G [00:46<00:33, 46.4MiB/s]\u001b[A\n",
            " 59%|█████▉    | 2.25G/3.79G [00:46<00:28, 54.3MiB/s]\u001b[A\n",
            " 60%|█████▉    | 2.25G/3.79G [00:47<00:29, 51.3MiB/s]\u001b[A\n",
            " 60%|█████▉    | 2.26G/3.79G [00:47<00:27, 54.5MiB/s]\u001b[A\n",
            " 60%|█████▉    | 2.27G/3.79G [00:47<00:30, 50.5MiB/s]\u001b[A\n",
            " 60%|██████    | 2.27G/3.79G [00:47<00:34, 43.3MiB/s]\u001b[A\n",
            " 60%|██████    | 2.28G/3.79G [00:47<00:29, 51.5MiB/s]\u001b[A\n",
            " 61%|██████    | 2.29G/3.79G [00:47<00:25, 58.5MiB/s]\u001b[A\n",
            " 61%|██████    | 2.30G/3.79G [00:48<00:33, 44.0MiB/s]\u001b[A\n",
            " 61%|██████    | 2.31G/3.79G [00:48<00:23, 63.6MiB/s]\u001b[A\n",
            " 61%|██████▏   | 2.32G/3.79G [00:48<00:20, 71.0MiB/s]\u001b[A\n",
            " 62%|██████▏   | 2.33G/3.79G [00:48<00:19, 75.3MiB/s]\u001b[A\n",
            " 62%|██████▏   | 2.34G/3.79G [00:48<00:18, 76.1MiB/s]\u001b[A\n",
            " 62%|██████▏   | 2.35G/3.79G [00:48<00:20, 70.6MiB/s]\u001b[A\n",
            " 62%|██████▏   | 2.36G/3.79G [00:48<00:19, 72.9MiB/s]\u001b[A\n",
            " 63%|██████▎   | 2.37G/3.79G [00:48<00:20, 70.4MiB/s]\u001b[A\n",
            " 63%|██████▎   | 2.38G/3.79G [00:48<00:19, 72.6MiB/s]\u001b[A\n",
            " 63%|██████▎   | 2.38G/3.79G [00:49<00:26, 52.4MiB/s]\u001b[A\n",
            " 63%|██████▎   | 2.39G/3.79G [00:49<00:23, 58.8MiB/s]\u001b[A\n",
            " 63%|██████▎   | 2.40G/3.79G [00:49<00:22, 61.7MiB/s]\u001b[A\n",
            " 64%|██████▎   | 2.41G/3.79G [00:49<00:23, 59.7MiB/s]\u001b[A\n",
            " 64%|██████▍   | 2.42G/3.79G [00:49<00:24, 55.9MiB/s]\u001b[A\n",
            " 64%|██████▍   | 2.42G/3.79G [00:49<00:21, 62.4MiB/s]\u001b[A\n",
            " 64%|██████▍   | 2.43G/3.79G [00:49<00:19, 69.1MiB/s]\u001b[A\n",
            " 64%|██████▍   | 2.44G/3.79G [00:50<00:19, 67.5MiB/s]\u001b[A\n",
            " 65%|██████▍   | 2.45G/3.79G [00:50<00:18, 72.9MiB/s]\u001b[A\n",
            " 65%|██████▍   | 2.46G/3.79G [00:50<00:19, 67.9MiB/s]\u001b[A\n",
            " 65%|██████▌   | 2.47G/3.79G [00:50<00:18, 69.9MiB/s]\u001b[A\n",
            " 65%|██████▌   | 2.47G/3.79G [00:50<00:23, 56.8MiB/s]\u001b[A\n",
            " 66%|██████▌   | 2.48G/3.79G [00:50<00:21, 60.9MiB/s]\u001b[A\n",
            " 66%|██████▌   | 2.49G/3.79G [00:50<00:20, 62.5MiB/s]\u001b[A\n",
            " 66%|██████▌   | 2.50G/3.79G [00:51<00:20, 61.9MiB/s]\u001b[A\n",
            " 66%|██████▋   | 2.51G/3.79G [00:51<00:19, 66.2MiB/s]\u001b[A\n",
            " 66%|██████▋   | 2.52G/3.79G [00:51<00:18, 67.3MiB/s]\u001b[A\n",
            " 67%|██████▋   | 2.52G/3.79G [00:51<00:17, 72.4MiB/s]\u001b[A\n",
            " 67%|██████▋   | 2.53G/3.79G [00:51<00:16, 76.8MiB/s]\u001b[A\n",
            " 67%|██████▋   | 2.54G/3.79G [00:51<00:17, 71.9MiB/s]\u001b[A\n",
            " 67%|██████▋   | 2.55G/3.79G [00:51<00:31, 39.8MiB/s]\u001b[A\n",
            " 68%|██████▊   | 2.56G/3.79G [00:52<00:26, 46.3MiB/s]\u001b[A\n",
            " 68%|██████▊   | 2.57G/3.79G [00:52<00:23, 51.2MiB/s]\u001b[A\n",
            " 68%|██████▊   | 2.57G/3.79G [00:52<00:22, 52.9MiB/s]\u001b[A\n",
            " 68%|██████▊   | 2.58G/3.79G [00:52<00:20, 58.4MiB/s]\u001b[A\n",
            " 68%|██████▊   | 2.59G/3.79G [00:52<00:19, 60.5MiB/s]\u001b[A\n",
            " 69%|██████▊   | 2.60G/3.79G [00:52<00:18, 63.1MiB/s]\u001b[A\n",
            " 69%|██████▉   | 2.60G/3.79G [00:52<00:19, 59.5MiB/s]\u001b[A\n",
            " 69%|██████▉   | 2.61G/3.79G [00:53<00:56, 20.8MiB/s]\u001b[A\n",
            " 69%|██████▉   | 2.62G/3.79G [00:53<00:46, 25.1MiB/s]\u001b[A\n",
            " 69%|██████▉   | 2.63G/3.79G [00:53<00:38, 30.0MiB/s]\u001b[A\n",
            " 70%|██████▉   | 2.63G/3.79G [00:54<00:31, 36.9MiB/s]\u001b[A\n",
            " 70%|██████▉   | 2.64G/3.79G [00:54<00:26, 43.4MiB/s]\u001b[A\n",
            " 70%|██████▉   | 2.65G/3.79G [00:54<00:24, 46.6MiB/s]\u001b[A\n",
            " 70%|███████   | 2.65G/3.79G [00:54<00:24, 45.3MiB/s]\u001b[A\n",
            " 70%|███████   | 2.66G/3.79G [00:55<00:57, 19.4MiB/s]\u001b[A\n",
            " 71%|███████   | 2.67G/3.79G [00:55<00:44, 25.2MiB/s]\u001b[A\n",
            " 71%|███████   | 2.68G/3.79G [00:55<00:35, 31.5MiB/s]\u001b[A\n",
            " 71%|███████   | 2.68G/3.79G [00:55<00:29, 37.2MiB/s]\u001b[A\n",
            " 71%|███████   | 2.69G/3.79G [00:55<00:23, 45.6MiB/s]\u001b[A\n",
            " 71%|███████▏  | 2.70G/3.79G [00:55<00:21, 51.1MiB/s]\u001b[A\n",
            " 72%|███████▏  | 2.71G/3.79G [00:55<00:19, 54.2MiB/s]\u001b[A\n",
            " 72%|███████▏  | 2.71G/3.79G [00:56<00:29, 36.5MiB/s]\u001b[A\n",
            " 72%|███████▏  | 2.72G/3.79G [00:56<00:26, 40.6MiB/s]\u001b[A\n",
            " 72%|███████▏  | 2.73G/3.79G [00:56<00:21, 48.9MiB/s]\u001b[A\n",
            " 72%|███████▏  | 2.74G/3.79G [00:56<00:20, 51.9MiB/s]\u001b[A\n",
            " 72%|███████▏  | 2.74G/3.79G [00:56<00:20, 50.3MiB/s]\u001b[A\n",
            " 73%|███████▎  | 2.75G/3.79G [00:56<00:18, 57.3MiB/s]\u001b[A\n",
            " 73%|███████▎  | 2.76G/3.79G [00:56<00:17, 59.9MiB/s]\u001b[A\n",
            " 73%|███████▎  | 2.77G/3.79G [00:57<00:16, 61.3MiB/s]\u001b[A\n",
            " 73%|███████▎  | 2.77G/3.79G [00:57<00:33, 30.0MiB/s]\u001b[A\n",
            " 73%|███████▎  | 2.78G/3.79G [00:57<00:28, 35.8MiB/s]\u001b[A\n",
            " 74%|███████▎  | 2.79G/3.79G [00:57<00:23, 43.3MiB/s]\u001b[A\n",
            " 74%|███████▍  | 2.80G/3.79G [00:57<00:17, 56.6MiB/s]\u001b[A\n",
            " 74%|███████▍  | 2.81G/3.79G [00:58<00:14, 66.1MiB/s]\u001b[A\n",
            " 74%|███████▍  | 2.82G/3.79G [00:58<00:14, 68.8MiB/s]\u001b[A\n",
            " 75%|███████▍  | 2.83G/3.79G [00:58<00:15, 61.9MiB/s]\u001b[A\n",
            " 75%|███████▍  | 2.84G/3.79G [00:58<00:13, 67.7MiB/s]\u001b[A\n",
            " 75%|███████▌  | 2.85G/3.79G [00:58<00:13, 70.5MiB/s]\u001b[A\n",
            " 75%|███████▌  | 2.85G/3.79G [00:58<00:13, 67.1MiB/s]\u001b[A\n",
            " 76%|███████▌  | 2.86G/3.79G [00:58<00:13, 70.9MiB/s]\u001b[A\n",
            " 76%|███████▌  | 2.87G/3.79G [00:58<00:13, 69.2MiB/s]\u001b[A\n",
            " 76%|███████▌  | 2.88G/3.79G [00:59<00:12, 70.8MiB/s]\u001b[A\n",
            " 76%|███████▋  | 2.89G/3.79G [00:59<00:16, 55.0MiB/s]\u001b[A\n",
            " 77%|███████▋  | 2.90G/3.79G [00:59<00:14, 62.8MiB/s]\u001b[A\n",
            " 77%|███████▋  | 2.90G/3.79G [00:59<00:13, 66.1MiB/s]\u001b[A\n",
            " 77%|███████▋  | 2.91G/3.79G [00:59<00:14, 60.2MiB/s]\u001b[A\n",
            " 77%|███████▋  | 2.93G/3.79G [00:59<00:10, 79.1MiB/s]\u001b[A\n",
            " 78%|███████▊  | 2.94G/3.79G [00:59<00:11, 75.5MiB/s]\u001b[A\n",
            " 78%|███████▊  | 2.94G/3.79G [00:59<00:11, 74.7MiB/s]\u001b[A\n",
            " 78%|███████▊  | 2.95G/3.79G [01:00<00:13, 63.7MiB/s]\u001b[A\n",
            " 78%|███████▊  | 2.96G/3.79G [01:00<00:12, 67.1MiB/s]\u001b[A\n",
            " 78%|███████▊  | 2.97G/3.79G [01:00<00:12, 67.3MiB/s]\u001b[A\n",
            " 79%|███████▊  | 2.98G/3.79G [01:00<00:12, 64.9MiB/s]\u001b[A\n",
            " 79%|███████▉  | 2.98G/3.79G [01:00<00:13, 60.4MiB/s]\u001b[A\n",
            " 79%|███████▉  | 2.99G/3.79G [01:00<00:13, 58.2MiB/s]\u001b[A\n",
            " 79%|███████▉  | 3.00G/3.79G [01:00<00:13, 58.1MiB/s]\u001b[A\n",
            " 79%|███████▉  | 3.01G/3.79G [01:01<00:11, 65.5MiB/s]\u001b[A\n",
            " 80%|███████▉  | 3.01G/3.79G [01:01<00:11, 66.5MiB/s]\u001b[A\n",
            " 80%|███████▉  | 3.02G/3.79G [01:01<00:16, 45.8MiB/s]\u001b[A\n",
            " 80%|████████  | 3.03G/3.79G [01:01<00:12, 59.2MiB/s]\u001b[A\n",
            " 80%|████████  | 3.04G/3.79G [01:01<00:12, 61.4MiB/s]\u001b[A\n",
            " 81%|████████  | 3.05G/3.79G [01:01<00:11, 63.2MiB/s]\u001b[A\n",
            " 81%|████████  | 3.06G/3.79G [01:01<00:11, 62.7MiB/s]\u001b[A\n",
            " 81%|████████  | 3.06G/3.79G [01:02<00:12, 59.2MiB/s]\u001b[A\n",
            " 81%|████████  | 3.07G/3.79G [01:02<00:10, 66.9MiB/s]\u001b[A\n",
            " 81%|████████▏ | 3.08G/3.79G [01:02<00:09, 72.9MiB/s]\u001b[A\n",
            " 82%|████████▏ | 3.09G/3.79G [01:02<00:09, 73.0MiB/s]\u001b[A\n",
            " 82%|████████▏ | 3.10G/3.79G [01:02<00:09, 73.4MiB/s]\u001b[A\n",
            " 82%|████████▏ | 3.11G/3.79G [01:02<00:10, 66.8MiB/s]\u001b[A\n",
            " 82%|████████▏ | 3.12G/3.79G [01:02<00:09, 68.4MiB/s]\u001b[A\n",
            " 83%|████████▎ | 3.12G/3.79G [01:02<00:09, 70.8MiB/s]\u001b[A\n",
            " 83%|████████▎ | 3.13G/3.79G [01:02<00:10, 64.5MiB/s]\u001b[A\n",
            " 83%|████████▎ | 3.14G/3.79G [01:03<00:09, 64.7MiB/s]\u001b[A\n",
            " 83%|████████▎ | 3.15G/3.79G [01:03<00:10, 62.7MiB/s]\u001b[A\n",
            " 83%|████████▎ | 3.15G/3.79G [01:03<00:10, 58.0MiB/s]\u001b[A\n",
            " 83%|████████▎ | 3.16G/3.79G [01:03<00:10, 59.6MiB/s]\u001b[A\n",
            " 84%|████████▎ | 3.17G/3.79G [01:03<00:09, 61.8MiB/s]\u001b[A\n",
            " 84%|████████▍ | 3.17G/3.79G [01:03<00:12, 48.1MiB/s]\u001b[A\n",
            " 84%|████████▍ | 3.18G/3.79G [01:03<00:10, 55.3MiB/s]\u001b[A\n",
            " 84%|████████▍ | 3.19G/3.79G [01:04<00:10, 55.1MiB/s]\u001b[A\n",
            " 84%|████████▍ | 3.20G/3.79G [01:04<00:10, 53.6MiB/s]\u001b[A\n",
            " 85%|████████▍ | 3.20G/3.79G [01:04<00:10, 54.0MiB/s]\u001b[A\n",
            " 85%|████████▍ | 3.21G/3.79G [01:04<00:11, 51.8MiB/s]\u001b[A\n",
            " 85%|████████▍ | 3.22G/3.79G [01:04<00:10, 55.3MiB/s]\u001b[A\n",
            " 85%|████████▌ | 3.22G/3.79G [01:04<00:08, 62.4MiB/s]\u001b[A\n",
            " 85%|████████▌ | 3.23G/3.79G [01:04<00:08, 67.4MiB/s]\u001b[A\n",
            " 86%|████████▌ | 3.24G/3.79G [01:04<00:09, 60.5MiB/s]\u001b[A\n",
            " 86%|████████▌ | 3.25G/3.79G [01:04<00:08, 62.1MiB/s]\u001b[A\n",
            " 86%|████████▌ | 3.26G/3.79G [01:05<00:07, 71.3MiB/s]\u001b[A\n",
            " 86%|████████▋ | 3.27G/3.79G [01:05<00:07, 68.3MiB/s]\u001b[A\n",
            " 86%|████████▋ | 3.27G/3.79G [01:05<00:08, 62.4MiB/s]\u001b[A\n",
            " 87%|████████▋ | 3.28G/3.79G [01:05<00:07, 69.2MiB/s]\u001b[A\n",
            " 87%|████████▋ | 3.29G/3.79G [01:05<00:07, 70.0MiB/s]\u001b[A\n",
            " 87%|████████▋ | 3.30G/3.79G [01:05<00:06, 69.9MiB/s]\u001b[A\n",
            " 87%|████████▋ | 3.31G/3.79G [01:05<00:06, 73.2MiB/s]\u001b[A\n",
            " 88%|████████▊ | 3.32G/3.79G [01:05<00:06, 74.8MiB/s]\u001b[A\n",
            " 88%|████████▊ | 3.32G/3.79G [01:06<00:06, 76.2MiB/s]\u001b[A\n",
            " 88%|████████▊ | 3.33G/3.79G [01:06<00:06, 75.1MiB/s]\u001b[A\n",
            " 88%|████████▊ | 3.34G/3.79G [01:06<00:05, 77.7MiB/s]\u001b[A\n",
            " 89%|████████▊ | 3.35G/3.79G [01:06<00:05, 80.0MiB/s]\u001b[A\n",
            " 89%|████████▉ | 3.36G/3.79G [01:06<00:09, 45.5MiB/s]\u001b[A\n",
            " 89%|████████▉ | 3.37G/3.79G [01:06<00:08, 50.5MiB/s]\u001b[A\n",
            " 89%|████████▉ | 3.38G/3.79G [01:06<00:07, 56.2MiB/s]\u001b[A\n",
            " 89%|████████▉ | 3.38G/3.79G [01:07<00:06, 61.9MiB/s]\u001b[A\n",
            " 90%|████████▉ | 3.39G/3.79G [01:07<00:05, 67.6MiB/s]\u001b[A\n",
            " 90%|████████▉ | 3.40G/3.79G [01:07<00:05, 75.9MiB/s]\u001b[A\n",
            " 90%|█████████ | 3.41G/3.79G [01:07<00:05, 64.2MiB/s]\u001b[A\n",
            " 90%|█████████ | 3.42G/3.79G [01:07<00:05, 64.2MiB/s]\u001b[A\n",
            " 91%|█████████ | 3.43G/3.79G [01:07<00:05, 62.6MiB/s]\u001b[A\n",
            " 91%|█████████ | 3.44G/3.79G [01:07<00:06, 56.6MiB/s]\u001b[A\n",
            " 91%|█████████ | 3.44G/3.79G [01:08<00:08, 41.0MiB/s]\u001b[A\n",
            " 91%|█████████ | 3.45G/3.79G [01:08<00:07, 45.0MiB/s]\u001b[A\n",
            " 91%|█████████▏| 3.46G/3.79G [01:08<00:06, 54.2MiB/s]\u001b[A\n",
            " 92%|█████████▏| 3.47G/3.79G [01:08<00:05, 62.0MiB/s]\u001b[A\n",
            " 92%|█████████▏| 3.47G/3.79G [01:08<00:04, 66.0MiB/s]\u001b[A\n",
            " 92%|█████████▏| 3.48G/3.79G [01:08<00:07, 38.5MiB/s]\u001b[A\n",
            " 92%|█████████▏| 3.49G/3.79G [01:09<00:11, 24.8MiB/s]\u001b[A\n",
            " 92%|█████████▏| 3.50G/3.79G [01:09<00:09, 30.7MiB/s]\u001b[A\n",
            " 93%|█████████▎| 3.50G/3.79G [01:09<00:07, 35.5MiB/s]\u001b[A\n",
            " 93%|█████████▎| 3.51G/3.79G [01:09<00:06, 42.8MiB/s]\u001b[A\n",
            " 93%|█████████▎| 3.52G/3.79G [01:09<00:05, 45.0MiB/s]\u001b[A\n",
            " 93%|█████████▎| 3.52G/3.79G [01:10<00:05, 49.8MiB/s]\u001b[A\n",
            " 93%|█████████▎| 3.53G/3.79G [01:10<00:04, 51.1MiB/s]\u001b[A\n",
            " 93%|█████████▎| 3.54G/3.79G [01:10<00:05, 45.9MiB/s]\u001b[A\n",
            " 94%|█████████▎| 3.54G/3.79G [01:10<00:05, 40.9MiB/s]\u001b[A\n",
            " 94%|█████████▎| 3.55G/3.79G [01:10<00:07, 30.1MiB/s]\u001b[A\n",
            " 94%|█████████▍| 3.55G/3.79G [01:11<00:17, 13.6MiB/s]\u001b[A\n",
            " 94%|█████████▍| 3.56G/3.79G [01:11<00:17, 13.4MiB/s]\u001b[A\n",
            " 94%|█████████▍| 3.56G/3.79G [01:12<00:12, 17.8MiB/s]\u001b[A\n",
            " 94%|█████████▍| 3.57G/3.79G [01:12<00:13, 16.0MiB/s]\u001b[A\n",
            " 94%|█████████▍| 3.57G/3.79G [01:12<00:09, 22.9MiB/s]\u001b[A\n",
            " 94%|█████████▍| 3.58G/3.79G [01:12<00:08, 25.3MiB/s]\u001b[A\n",
            " 95%|█████████▍| 3.59G/3.79G [01:12<00:05, 34.8MiB/s]\u001b[A\n",
            " 95%|█████████▍| 3.59G/3.79G [01:12<00:04, 44.3MiB/s]\u001b[A\n",
            " 95%|█████████▌| 3.60G/3.79G [01:12<00:03, 49.9MiB/s]\u001b[A\n",
            " 95%|█████████▌| 3.61G/3.79G [01:13<00:03, 49.7MiB/s]\u001b[A\n",
            " 95%|█████████▌| 3.61G/3.79G [01:13<00:03, 51.9MiB/s]\u001b[A\n",
            " 96%|█████████▌| 3.62G/3.79G [01:13<00:04, 39.5MiB/s]\u001b[A\n",
            " 96%|█████████▌| 3.63G/3.79G [01:13<00:03, 45.2MiB/s]\u001b[A\n",
            " 96%|█████████▌| 3.63G/3.79G [01:13<00:03, 43.1MiB/s]\u001b[A\n",
            " 96%|█████████▌| 3.64G/3.79G [01:13<00:02, 50.3MiB/s]\u001b[A\n",
            " 96%|█████████▋| 3.65G/3.79G [01:13<00:02, 53.9MiB/s]\u001b[A\n",
            " 97%|█████████▋| 3.66G/3.79G [01:14<00:02, 51.0MiB/s]\u001b[A\n",
            " 97%|█████████▋| 3.67G/3.79G [01:14<00:02, 56.1MiB/s]\u001b[A\n",
            " 97%|█████████▋| 3.68G/3.79G [01:14<00:01, 63.6MiB/s]\u001b[A\n",
            " 97%|█████████▋| 3.68G/3.79G [01:14<00:01, 65.3MiB/s]\u001b[A\n",
            " 98%|█████████▊| 3.69G/3.79G [01:14<00:01, 66.7MiB/s]\u001b[A\n",
            " 98%|█████████▊| 3.70G/3.79G [01:14<00:01, 64.8MiB/s]\u001b[A\n",
            " 98%|█████████▊| 3.71G/3.79G [01:14<00:01, 53.2MiB/s]\u001b[A\n",
            " 98%|█████████▊| 3.71G/3.79G [01:15<00:01, 56.1MiB/s]\u001b[A\n",
            " 98%|█████████▊| 3.72G/3.79G [01:15<00:01, 55.9MiB/s]\u001b[A\n",
            " 98%|█████████▊| 3.73G/3.79G [01:15<00:01, 43.0MiB/s]\u001b[A\n",
            " 99%|█████████▊| 3.73G/3.79G [01:15<00:01, 46.6MiB/s]\u001b[A\n",
            " 99%|█████████▉| 3.74G/3.79G [01:15<00:00, 45.7MiB/s]\u001b[A\n",
            " 99%|█████████▉| 3.75G/3.79G [01:15<00:00, 53.4MiB/s]\u001b[A\n",
            " 99%|█████████▉| 3.76G/3.79G [01:15<00:00, 57.9MiB/s]\u001b[A\n",
            " 99%|█████████▉| 3.77G/3.79G [01:16<00:00, 64.2MiB/s]\u001b[A\n",
            "100%|█████████▉| 3.77G/3.79G [01:16<00:00, 39.0MiB/s]\u001b[A\n",
            "100%|██████████| 3.79G/3.79G [01:17<00:00, 49.1MiB/s]\n"
          ]
        },
        {
          "output_type": "stream",
          "name": "stdout",
          "text": [
            "Model downloaded at:  /root/.cache/gpt4all/ggml-gpt4all-j-v1.3-groovy.bin\n"
          ]
        },
        {
          "output_type": "stream",
          "name": "stderr",
          "text": [
            "\r 17%|█▋        | 1/6 [04:11<20:59, 251.87s/it]"
          ]
        },
        {
          "output_type": "stream",
          "name": "stdout",
          "text": [
            "\n"
          ]
        },
        {
          "output_type": "stream",
          "name": "stderr",
          "text": [
            "\r 33%|███▎      | 2/6 [06:49<13:05, 196.50s/it]"
          ]
        },
        {
          "output_type": "stream",
          "name": "stdout",
          "text": [
            "\n"
          ]
        },
        {
          "output_type": "stream",
          "name": "stderr",
          "text": [
            "\r 50%|█████     | 3/6 [09:53<09:31, 190.52s/it]"
          ]
        },
        {
          "output_type": "stream",
          "name": "stdout",
          "text": [
            "\n"
          ]
        },
        {
          "output_type": "stream",
          "name": "stderr",
          "text": [
            "\r 67%|██████▋   | 4/6 [13:12<06:28, 194.19s/it]"
          ]
        },
        {
          "output_type": "stream",
          "name": "stdout",
          "text": [
            "\n"
          ]
        },
        {
          "output_type": "stream",
          "name": "stderr",
          "text": [
            "\r 83%|████████▎ | 5/6 [17:03<03:27, 207.20s/it]"
          ]
        },
        {
          "output_type": "stream",
          "name": "stdout",
          "text": [
            "\n"
          ]
        },
        {
          "output_type": "stream",
          "name": "stderr",
          "text": [
            "100%|██████████| 6/6 [21:24<00:00, 214.10s/it]"
          ]
        },
        {
          "output_type": "stream",
          "name": "stdout",
          "text": [
            "\n"
          ]
        },
        {
          "output_type": "stream",
          "name": "stderr",
          "text": [
            "\n"
          ]
        }
      ]
    },
    {
      "cell_type": "code",
      "source": [
        "print(\"------------------\\nEvaluate the performance of GPT4ALL model:\\n\")\n",
        "for test_review, actual_label, predicted_label in zip(X_test, y_test, y_pred_gpt4all):\n",
        "    print(f\"Review: {test_review}\\nActual Label: {actual_label}\\nPredicted Label: {predicted_label}\\n\")"
      ],
      "metadata": {
        "colab": {
          "base_uri": "https://localhost:8080/"
        },
        "id": "9w6zATTP6Kpv",
        "outputId": "ed0a2798-aff3-45cf-efdb-ca9c5bd72126"
      },
      "execution_count": 17,
      "outputs": [
        {
          "output_type": "stream",
          "name": "stdout",
          "text": [
            "------------------\n",
            "Evaluate the performance of GPT4ALL model:\n",
            "\n",
            "Review: The cinematography in 'Awakening' was nothing short of spectacular. The visuals alone are worth the ticket price. The storyline was unique and the performances were solid. An overall fantastic film.\n",
            "Actual Label: positive\n",
            "Predicted Label: positive\n",
            "\n",
            "Review: 'Eternal Embers' was a cinematic delight. The storytelling was original and the performances were exceptional. The director's vision was truly brought to life on the big screen. A must-see for all movie lovers.\n",
            "Actual Label: positive\n",
            "Predicted Label: positive\n",
            "\n",
            "Review: The acting in 'Desert Mirage' was subpar, and the plot was boring. I found myself yawning multiple times throughout the movie. Save your time and skip this one.\n",
            "Actual Label: negative\n",
            "Predicted Label: negative\n",
            "\n",
            "Review: 'Crimson Dawn' was a major letdown. The plot was cliched and the characters were flat. The special effects were also poorly executed. I wouldn't recommend it.\n",
            "Actual Label: negative\n",
            "Predicted Label: negative\n",
            "\n",
            "Review: 'Chasing Shadows' was fairly average. The plot was not bad, and the performances were passable, but it lacked a certain spark. It was just okay.\n",
            "Actual Label: neutral\n",
            "Predicted Label: negative\n",
            "\n",
            "Review: 'Beneath the Surface' was pretty run-of-the-mill. The plot was decent, the performances were okay, but it wasn't particularly memorable. It was an okay movie.\n",
            "Actual Label: neutral\n",
            "Predicted Label: negative\n",
            "\n"
          ]
        }
      ]
    },
    {
      "cell_type": "code",
      "source": [
        "from sklearn.metrics import accuracy_score"
      ],
      "metadata": {
        "id": "VVt2p2j6I9FC"
      },
      "execution_count": 22,
      "outputs": []
    },
    {
      "cell_type": "code",
      "source": [
        "print(f\"Accuracy: {accuracy_score(y_test, y_pred_gpt4all):.2f}\")"
      ],
      "metadata": {
        "colab": {
          "base_uri": "https://localhost:8080/"
        },
        "id": "kf4a0kaNGboV",
        "outputId": "16452ea7-a060-4517-d3ed-bfcdbc8cab1c"
      },
      "execution_count": 23,
      "outputs": [
        {
          "output_type": "stream",
          "name": "stdout",
          "text": [
            "Accuracy: 0.67\n"
          ]
        }
      ]
    },
    {
      "cell_type": "markdown",
      "source": [
        "Now, assuming we don't have labels for the data."
      ],
      "metadata": {
        "id": "FWflixQ5Mo5n"
      }
    },
    {
      "cell_type": "code",
      "source": [
        "# defining the model\n",
        "clf_gpt4all_no_label = ZeroShotGPTClassifier(openai_model=\"gpt4all::ggml-gpt4all-j-v1.3-groovy\")\n",
        "\n",
        "# No training so passing the labels only for prediction\n",
        "clf_gpt4all_no_label.fit(None, ['positive', 'negative', 'neutral'])"
      ],
      "metadata": {
        "id": "D5umxTnNJJLc",
        "outputId": "7a9c4459-2628-4bb9-9321-959bd7a07723",
        "colab": {
          "base_uri": "https://localhost:8080/",
          "height": 75
        }
      },
      "execution_count": 18,
      "outputs": [
        {
          "output_type": "execute_result",
          "data": {
            "text/plain": [
              "ZeroShotGPTClassifier(openai_model='gpt4all::ggml-gpt4all-j-v1.3-groovy')"
            ],
            "text/html": [
              "<style>#sk-container-id-2 {color: black;background-color: white;}#sk-container-id-2 pre{padding: 0;}#sk-container-id-2 div.sk-toggleable {background-color: white;}#sk-container-id-2 label.sk-toggleable__label {cursor: pointer;display: block;width: 100%;margin-bottom: 0;padding: 0.3em;box-sizing: border-box;text-align: center;}#sk-container-id-2 label.sk-toggleable__label-arrow:before {content: \"▸\";float: left;margin-right: 0.25em;color: #696969;}#sk-container-id-2 label.sk-toggleable__label-arrow:hover:before {color: black;}#sk-container-id-2 div.sk-estimator:hover label.sk-toggleable__label-arrow:before {color: black;}#sk-container-id-2 div.sk-toggleable__content {max-height: 0;max-width: 0;overflow: hidden;text-align: left;background-color: #f0f8ff;}#sk-container-id-2 div.sk-toggleable__content pre {margin: 0.2em;color: black;border-radius: 0.25em;background-color: #f0f8ff;}#sk-container-id-2 input.sk-toggleable__control:checked~div.sk-toggleable__content {max-height: 200px;max-width: 100%;overflow: auto;}#sk-container-id-2 input.sk-toggleable__control:checked~label.sk-toggleable__label-arrow:before {content: \"▾\";}#sk-container-id-2 div.sk-estimator input.sk-toggleable__control:checked~label.sk-toggleable__label {background-color: #d4ebff;}#sk-container-id-2 div.sk-label input.sk-toggleable__control:checked~label.sk-toggleable__label {background-color: #d4ebff;}#sk-container-id-2 input.sk-hidden--visually {border: 0;clip: rect(1px 1px 1px 1px);clip: rect(1px, 1px, 1px, 1px);height: 1px;margin: -1px;overflow: hidden;padding: 0;position: absolute;width: 1px;}#sk-container-id-2 div.sk-estimator {font-family: monospace;background-color: #f0f8ff;border: 1px dotted black;border-radius: 0.25em;box-sizing: border-box;margin-bottom: 0.5em;}#sk-container-id-2 div.sk-estimator:hover {background-color: #d4ebff;}#sk-container-id-2 div.sk-parallel-item::after {content: \"\";width: 100%;border-bottom: 1px solid gray;flex-grow: 1;}#sk-container-id-2 div.sk-label:hover label.sk-toggleable__label {background-color: #d4ebff;}#sk-container-id-2 div.sk-serial::before {content: \"\";position: absolute;border-left: 1px solid gray;box-sizing: border-box;top: 0;bottom: 0;left: 50%;z-index: 0;}#sk-container-id-2 div.sk-serial {display: flex;flex-direction: column;align-items: center;background-color: white;padding-right: 0.2em;padding-left: 0.2em;position: relative;}#sk-container-id-2 div.sk-item {position: relative;z-index: 1;}#sk-container-id-2 div.sk-parallel {display: flex;align-items: stretch;justify-content: center;background-color: white;position: relative;}#sk-container-id-2 div.sk-item::before, #sk-container-id-2 div.sk-parallel-item::before {content: \"\";position: absolute;border-left: 1px solid gray;box-sizing: border-box;top: 0;bottom: 0;left: 50%;z-index: -1;}#sk-container-id-2 div.sk-parallel-item {display: flex;flex-direction: column;z-index: 1;position: relative;background-color: white;}#sk-container-id-2 div.sk-parallel-item:first-child::after {align-self: flex-end;width: 50%;}#sk-container-id-2 div.sk-parallel-item:last-child::after {align-self: flex-start;width: 50%;}#sk-container-id-2 div.sk-parallel-item:only-child::after {width: 0;}#sk-container-id-2 div.sk-dashed-wrapped {border: 1px dashed gray;margin: 0 0.4em 0.5em 0.4em;box-sizing: border-box;padding-bottom: 0.4em;background-color: white;}#sk-container-id-2 div.sk-label label {font-family: monospace;font-weight: bold;display: inline-block;line-height: 1.2em;}#sk-container-id-2 div.sk-label-container {text-align: center;}#sk-container-id-2 div.sk-container {/* jupyter's `normalize.less` sets `[hidden] { display: none; }` but bootstrap.min.css set `[hidden] { display: none !important; }` so we also need the `!important` here to be able to override the default hidden behavior on the sphinx rendered scikit-learn.org. See: https://github.com/scikit-learn/scikit-learn/issues/21755 */display: inline-block !important;position: relative;}#sk-container-id-2 div.sk-text-repr-fallback {display: none;}</style><div id=\"sk-container-id-2\" class=\"sk-top-container\"><div class=\"sk-text-repr-fallback\"><pre>ZeroShotGPTClassifier(openai_model=&#x27;gpt4all::ggml-gpt4all-j-v1.3-groovy&#x27;)</pre><b>In a Jupyter environment, please rerun this cell to show the HTML representation or trust the notebook. <br />On GitHub, the HTML representation is unable to render, please try loading this page with nbviewer.org.</b></div><div class=\"sk-container\" hidden><div class=\"sk-item\"><div class=\"sk-estimator sk-toggleable\"><input class=\"sk-toggleable__control sk-hidden--visually\" id=\"sk-estimator-id-2\" type=\"checkbox\" checked><label for=\"sk-estimator-id-2\" class=\"sk-toggleable__label sk-toggleable__label-arrow\">ZeroShotGPTClassifier</label><div class=\"sk-toggleable__content\"><pre>ZeroShotGPTClassifier(openai_model=&#x27;gpt4all::ggml-gpt4all-j-v1.3-groovy&#x27;)</pre></div></div></div></div></div>"
            ]
          },
          "metadata": {},
          "execution_count": 18
        }
      ]
    },
    {
      "cell_type": "code",
      "source": [
        "%%time\n",
        "# predicting the labels\n",
        "y_pred_gpt4all_no_label = clf_gpt4all_no_label.predict(X_test)"
      ],
      "metadata": {
        "id": "7U5hYzcUSHjC",
        "outputId": "7c85a424-0704-40ad-8f7e-064910f98681",
        "colab": {
          "base_uri": "https://localhost:8080/"
        }
      },
      "execution_count": 19,
      "outputs": [
        {
          "output_type": "stream",
          "name": "stderr",
          "text": [
            " 17%|█▋        | 1/6 [11:45<58:47, 705.47s/it]"
          ]
        },
        {
          "output_type": "stream",
          "name": "stdout",
          "text": [
            "\n"
          ]
        },
        {
          "output_type": "stream",
          "name": "stderr",
          "text": [
            "\r 33%|███▎      | 2/6 [15:42<28:38, 429.71s/it]"
          ]
        },
        {
          "output_type": "stream",
          "name": "stdout",
          "text": [
            "\n"
          ]
        },
        {
          "output_type": "stream",
          "name": "stderr",
          "text": [
            "\r 50%|█████     | 3/6 [19:59<17:32, 350.87s/it]"
          ]
        },
        {
          "output_type": "stream",
          "name": "stdout",
          "text": [
            "\n"
          ]
        },
        {
          "output_type": "stream",
          "name": "stderr",
          "text": [
            "\r 67%|██████▋   | 4/6 [31:57<16:32, 496.08s/it]"
          ]
        },
        {
          "output_type": "stream",
          "name": "stdout",
          "text": [
            "\n"
          ]
        },
        {
          "output_type": "stream",
          "name": "stderr",
          "text": [
            "\r 83%|████████▎ | 5/6 [36:15<06:50, 410.11s/it]"
          ]
        },
        {
          "output_type": "stream",
          "name": "stdout",
          "text": [
            "\n"
          ]
        },
        {
          "output_type": "stream",
          "name": "stderr",
          "text": [
            "100%|██████████| 6/6 [40:49<00:00, 408.32s/it]"
          ]
        },
        {
          "output_type": "stream",
          "name": "stdout",
          "text": [
            "\n",
            "CPU times: user 1h 11min 29s, sys: 3.07 s, total: 1h 11min 32s\n",
            "Wall time: 40min 49s\n"
          ]
        },
        {
          "output_type": "stream",
          "name": "stderr",
          "text": [
            "\n"
          ]
        }
      ]
    },
    {
      "cell_type": "code",
      "source": [
        "print(\"------------------\\nEvaluate the performance of GPT4ALL model which has no labels:\\n\")\n",
        "for test_review, actual_label, predicted_label in zip(X_test, y_test, y_pred_gpt4all_no_label):\n",
        "    print(f\"Review: {test_review}\\nActual Label: {actual_label}\\nPredicted Label: {predicted_label}\\n\")"
      ],
      "metadata": {
        "id": "PPVI0FkZSNHm",
        "colab": {
          "base_uri": "https://localhost:8080/"
        },
        "outputId": "6727fba5-2452-41f3-cfee-57e53b3213dc"
      },
      "execution_count": 20,
      "outputs": [
        {
          "output_type": "stream",
          "name": "stdout",
          "text": [
            "------------------\n",
            "Evaluate the performance of GPT4ALL model which has no labels:\n",
            "\n",
            "Review: The cinematography in 'Awakening' was nothing short of spectacular. The visuals alone are worth the ticket price. The storyline was unique and the performances were solid. An overall fantastic film.\n",
            "Actual Label: positive\n",
            "Predicted Label: positive\n",
            "\n",
            "Review: 'Eternal Embers' was a cinematic delight. The storytelling was original and the performances were exceptional. The director's vision was truly brought to life on the big screen. A must-see for all movie lovers.\n",
            "Actual Label: positive\n",
            "Predicted Label: positive\n",
            "\n",
            "Review: The acting in 'Desert Mirage' was subpar, and the plot was boring. I found myself yawning multiple times throughout the movie. Save your time and skip this one.\n",
            "Actual Label: negative\n",
            "Predicted Label: negative\n",
            "\n",
            "Review: 'Crimson Dawn' was a major letdown. The plot was cliched and the characters were flat. The special effects were also poorly executed. I wouldn't recommend it.\n",
            "Actual Label: negative\n",
            "Predicted Label: negative\n",
            "\n",
            "Review: 'Chasing Shadows' was fairly average. The plot was not bad, and the performances were passable, but it lacked a certain spark. It was just okay.\n",
            "Actual Label: neutral\n",
            "Predicted Label: negative\n",
            "\n",
            "Review: 'Beneath the Surface' was pretty run-of-the-mill. The plot was decent, the performances were okay, but it wasn't particularly memorable. It was an okay movie.\n",
            "Actual Label: neutral\n",
            "Predicted Label: negative\n",
            "\n"
          ]
        }
      ]
    },
    {
      "cell_type": "code",
      "source": [
        "print(f\"Accuracy: {accuracy_score(y_test, y_pred_gpt4all_no_label):.2f}\")"
      ],
      "metadata": {
        "colab": {
          "base_uri": "https://localhost:8080/"
        },
        "id": "_zWl4J9x6kUe",
        "outputId": "a9708488-f198-445d-dba4-1f1a8dae2201"
      },
      "execution_count": 24,
      "outputs": [
        {
          "output_type": "stream",
          "name": "stdout",
          "text": [
            "Accuracy: 0.67\n"
          ]
        }
      ]
    },
    {
      "cell_type": "code",
      "source": [],
      "metadata": {
        "id": "UOVUl_ahGkz2"
      },
      "execution_count": null,
      "outputs": []
    }
  ]
}