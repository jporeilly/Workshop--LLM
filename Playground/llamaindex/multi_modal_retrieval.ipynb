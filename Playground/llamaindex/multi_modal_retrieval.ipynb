{
  "cells": [
    {
      "cell_type": "markdown",
      "metadata": {
        "id": "view-in-github",
        "colab_type": "text"
      },
      "source": [
        "<a href=\"https://colab.research.google.com/github/sudarshan-koirala/youtube-stuffs/blob/main/llamaindex/multi_modal_retrieval.ipynb\" target=\"_parent\"><img src=\"https://colab.research.google.com/assets/colab-badge.svg\" alt=\"Open In Colab\"/></a>"
      ]
    },
    {
      "cell_type": "markdown",
      "id": "3bbc9a0e",
      "metadata": {
        "id": "3bbc9a0e"
      },
      "source": [
        "# Multi-Modal Retrieval for Wikipedia Articles\n",
        "Reference: [Notebook link](https://github.com/run-llama/llama_index/blob/main/docs/examples/multi_modal/multi_modal_retrieval.ipynb) from LlamaIndex & [Blog post](https://medium.com/gitconnected/multimodal-retrieval-with-text-embedding-and-clip-image-embedding-for-backyard-birds-599f19057a70) from Wenqi Glantz.\n",
        "\n",
        "\n",
        "\n",
        "Let's build a Multi-Modal retrieval system using LlamaIndex.\n",
        "\n",
        "1. OpenAI CLIP model `ViT-B/32` for image embeddings.\n",
        "2. `BAAI/bge-base-en-v1.5` for text embeddings. (Instead of OpenAI embeddiings) [Massive Text Embedding Benchmark (MTEB) Leaderboard](https://huggingface.co/spaces/mteb/leaderboard)\n",
        "3. `gpt-3.5-turbo` as LLM for text response synthesizing.\n",
        "\n",
        "\n",
        "Steps:\n",
        "1. Download texts and images raw files from Wikipedia articles.\n",
        "2. Index the text using `BAAI/bge-base-en-v1.5` embeddings.\n",
        "3. Index the images using OpenAI [CLIP](https://github.com/openai/CLIP) embeddings.\n",
        "5. Both the text and image embeddings are stored as separate collection in [Qdrant](https://qdrant.tech/).\n",
        "4. During query, retrieve both text and images.\n",
        "\n",
        "**CLIP (Contrastive Language-Image Pre-Training) is a neural network trained on a variety of (image, text) pairs**"
      ]
    },
    {
      "cell_type": "code",
      "execution_count": 1,
      "id": "fc691ca8",
      "metadata": {
        "id": "fc691ca8"
      },
      "outputs": [],
      "source": [
        "%%capture\n",
        "!pip install llama_index ftfy regex tqdm\n",
        "!pip install git+https://github.com/openai/CLIP.git\n",
        "!pip install torch torchvision\n",
        "!pip install matplotlib scikit-image\n",
        "!pip install -U qdrant_client"
      ]
    },
    {
      "cell_type": "markdown",
      "id": "5dbb2fc8",
      "metadata": {
        "id": "5dbb2fc8"
      },
      "source": [
        "## Load and Download Multi-Modal datasets including texts and images from Wikipedia\n",
        "Parse wikipedia articles and save into local folder"
      ]
    },
    {
      "cell_type": "code",
      "execution_count": 2,
      "id": "e4294270",
      "metadata": {
        "id": "e4294270"
      },
      "outputs": [],
      "source": [
        "from pathlib import Path\n",
        "import requests\n",
        "\n",
        "wiki_titles = [\n",
        "    \"Kathmandu\",\n",
        "    \"Helsinki\",\n",
        "    \"iPhone\",\n",
        "    \"Tesla Model S\"\n",
        "]\n",
        "\n",
        "\n",
        "data_path = Path(\"data_wiki\")\n",
        "\n",
        "for title in wiki_titles:\n",
        "    response = requests.get(\n",
        "        \"https://en.wikipedia.org/w/api.php\",\n",
        "        params={\n",
        "            \"action\": \"query\",\n",
        "            \"format\": \"json\",\n",
        "            \"titles\": title,\n",
        "            \"prop\": \"extracts\",\n",
        "            \"explaintext\": True,\n",
        "        },\n",
        "    ).json()\n",
        "    page = next(iter(response[\"query\"][\"pages\"].values()))\n",
        "    wiki_text = page[\"extract\"]\n",
        "\n",
        "    if not data_path.exists():\n",
        "        Path.mkdir(data_path)\n",
        "\n",
        "    with open(data_path / f\"{title}.txt\", \"w\") as fp:\n",
        "        fp.write(wiki_text)"
      ]
    },
    {
      "cell_type": "code",
      "source": [
        "#!rm -rf /content/data_wiki/"
      ],
      "metadata": {
        "id": "2qkDQI9SfbCz"
      },
      "id": "2qkDQI9SfbCz",
      "execution_count": 3,
      "outputs": []
    },
    {
      "cell_type": "code",
      "execution_count": 4,
      "id": "26b31697",
      "metadata": {
        "id": "26b31697"
      },
      "outputs": [],
      "source": [
        "import os\n",
        "# https://platform.openai.com/account/api-keys\n",
        "\n",
        "os.environ[\"OPENAI_API_KEY\"] = \"YOUR_API_KEY\""
      ]
    },
    {
      "cell_type": "markdown",
      "id": "b3040ff8",
      "metadata": {
        "id": "b3040ff8"
      },
      "source": [
        "## Build text index for Vector Store and define the text query engine"
      ]
    },
    {
      "cell_type": "code",
      "source": [
        "%%capture\n",
        "!pip install transformers"
      ],
      "metadata": {
        "id": "NVsZn7yJgj7e"
      },
      "id": "NVsZn7yJgj7e",
      "execution_count": 5,
      "outputs": []
    },
    {
      "cell_type": "code",
      "execution_count": 6,
      "id": "6976c3a7",
      "metadata": {
        "id": "6976c3a7",
        "colab": {
          "base_uri": "https://localhost:8080/",
          "height": 244,
          "referenced_widgets": [
            "b5a12199032b401e85f5ecf13cfc670c",
            "44a44b755d84412296319ac149047cbf",
            "b1f9d6e5e2034eedb13513be36c1492f",
            "7c7d6174ebb144289c34442dce2170ed",
            "b5f46de7c41146798063bbe3c1b0e63d",
            "21c8dcc2063f44469bf56f156b90310e",
            "433e9bc60b784ad2954e1a5e184021a0",
            "295e09e556b04d47aa97830b5b3ecd71",
            "3b941dbf52eb4ede9ae1b9c7431427c2",
            "78178874594443de86b388335abd6b73",
            "fcfdcf6eaf8146b49d8005664ab38af4",
            "241eba6a839440a88a801adf9ada8278",
            "a18bd50b3d674900a025a0602b63c738",
            "9f4898c49ad7415493416bd17671d330",
            "60f8cb49651841d09860ae3515ae6ba4",
            "256862ecf3514ad0b947ef6bee7e1487",
            "88f896b762d0430ea53a0a7eb49f5fea",
            "f66b510d7b974018ae4ee7bbbb6191ae",
            "0c353ab35c214cd28f468d30c47c464a",
            "d1eae80d2f164f13b45b6c6a77ca449d",
            "66c4c2dc1d95417ea860db0b50ba33f1",
            "d40fcad3b65f4be78c8f429bb87015d0",
            "66b178349b874a66ad7d9f1196ef0895",
            "b4dc0551c77a45abab764ccfbade540f",
            "884b4e56408a46118600959a2be9c710",
            "1a389624c8ff4f87b26bab7c73c93044",
            "c8973b5f3f774f80a703d2fdf8d63a0b",
            "cecc073de88f4e958197dae50cd7ddbc",
            "6d47e87c071147e58751859312786a19",
            "2ac102c10f38432196550ec3184a7bab",
            "27402b702dba49eea8b3fb99e161d6df",
            "c179d801fe104554a4b17d737f271796",
            "6722abb1ca8a47ae8b6633a29eb02ae6",
            "1b2691f843534015acd6aad1bea0e5bd",
            "1b4412402eba423980636461db66e1df",
            "683f0bc28745427f8a75d5696ad10cd5",
            "d497cc95a6354bbb8e20ae7be9f3cf2f",
            "cfe0e127b921499484c769d1aa04523a",
            "29c8c54923184ff585ed97bd6d21c82b",
            "a7df0372215140c1b7853cbe5bb1b365",
            "6dbe19b3ad56404cb9fde7f5e7f8911e",
            "8da5222d08b041a28a0b011171ea7e72",
            "4a150ad4b63a4152933c86b71334d872",
            "19d1b0f7186748be942529a746cfd873",
            "3a6ac8dd40ed4cb89e45c8134910c6fa",
            "ab236472c0eb4401988a0c88481da337",
            "8c57fc5aa8c0416782432f648cc5e1cf",
            "597ea89e532247c1a9ab4c7774b05415",
            "3ce3ee31c4c14d12beff64eff3836479",
            "e480a23fca8b4f80be5c2c9d001941a3",
            "de727b29b6dd4e20a0f25d2efc1a2505",
            "41c95fc4aecf49f19b653535384ecf54",
            "bddbfaa326c9489a9411750eb629256e",
            "643f03aef1e04d9fbe4899ed58b2a2f6",
            "b455c17fe825460286958889f86ed4e2",
            "8babddfc06294e10843c3bdd391efb4c",
            "31d3c70c3ef44e83b802a71259bb68cf",
            "c800bb0b5e974688913067bfd9543fbe",
            "8161ba9d78204d22b18371ecf7538a6f",
            "db2d9640b6024d2c83ec915d507bf718",
            "286e49935d2f43bdbb180f8a2ce716e0",
            "87f08aa61bb2426c97e215c2b011d5bd",
            "2c7141ded9224747ba647c3d710ae339",
            "154cd156dbe04e928796cf57ad634c58",
            "90e0691f264d4a9c8e0869ae5a4d4b75",
            "181ac106220d4beebb96bda11b6d22ed"
          ]
        },
        "outputId": "929980c2-7b46-46ed-d891-a8d551078b83"
      },
      "outputs": [
        {
          "data": {
            "application/vnd.jupyter.widget-view+json": {
              "model_id": "b5a12199032b401e85f5ecf13cfc670c",
              "version_major": 2,
              "version_minor": 0
            },
            "text/plain": [
              "Downloading (…)lve/main/config.json:   0%|          | 0.00/777 [00:00<?, ?B/s]"
            ]
          },
          "metadata": {},
          "output_type": "display_data"
        },
        {
          "data": {
            "application/vnd.jupyter.widget-view+json": {
              "model_id": "241eba6a839440a88a801adf9ada8278",
              "version_major": 2,
              "version_minor": 0
            },
            "text/plain": [
              "Downloading pytorch_model.bin:   0%|          | 0.00/438M [00:00<?, ?B/s]"
            ]
          },
          "metadata": {},
          "output_type": "display_data"
        },
        {
          "data": {
            "application/vnd.jupyter.widget-view+json": {
              "model_id": "66b178349b874a66ad7d9f1196ef0895",
              "version_major": 2,
              "version_minor": 0
            },
            "text/plain": [
              "Downloading (…)okenizer_config.json:   0%|          | 0.00/366 [00:00<?, ?B/s]"
            ]
          },
          "metadata": {},
          "output_type": "display_data"
        },
        {
          "data": {
            "application/vnd.jupyter.widget-view+json": {
              "model_id": "1b2691f843534015acd6aad1bea0e5bd",
              "version_major": 2,
              "version_minor": 0
            },
            "text/plain": [
              "Downloading (…)solve/main/vocab.txt:   0%|          | 0.00/232k [00:00<?, ?B/s]"
            ]
          },
          "metadata": {},
          "output_type": "display_data"
        },
        {
          "data": {
            "application/vnd.jupyter.widget-view+json": {
              "model_id": "3a6ac8dd40ed4cb89e45c8134910c6fa",
              "version_major": 2,
              "version_minor": 0
            },
            "text/plain": [
              "Downloading (…)/main/tokenizer.json:   0%|          | 0.00/711k [00:00<?, ?B/s]"
            ]
          },
          "metadata": {},
          "output_type": "display_data"
        },
        {
          "data": {
            "application/vnd.jupyter.widget-view+json": {
              "model_id": "8babddfc06294e10843c3bdd391efb4c",
              "version_major": 2,
              "version_minor": 0
            },
            "text/plain": [
              "Downloading (…)cial_tokens_map.json:   0%|          | 0.00/125 [00:00<?, ?B/s]"
            ]
          },
          "metadata": {},
          "output_type": "display_data"
        },
        {
          "metadata": {
            "tags": null
          },
          "name": "stderr",
          "output_type": "stream",
          "text": [
            "[nltk_data] Downloading package punkt to /tmp/llama_index...\n",
            "[nltk_data]   Unzipping tokenizers/punkt.zip.\n"
          ]
        }
      ],
      "source": [
        "import qdrant_client\n",
        "from llama_index import (\n",
        "    ServiceContext,\n",
        "    SimpleDirectoryReader,\n",
        ")\n",
        "from llama_index.vector_stores.qdrant import QdrantVectorStore\n",
        "from llama_index import VectorStoreIndex, StorageContext\n",
        "from llama_index.llms import OpenAI\n",
        "\n",
        "# create QdrantClient with the location set to \":memory:\", which means the vector db will be stored in memory\n",
        "text_client = qdrant_client.QdrantClient(location=\":memory:\")\n",
        "\n",
        "# load Text documents from the data_wiki directory\n",
        "text_documents = SimpleDirectoryReader(\"./data_wiki\").load_data()\n",
        "\n",
        "# define llm and embedding model in ServiceContext\n",
        "service_context = ServiceContext.from_defaults(\n",
        "    llm=OpenAI(model=\"gpt-3.5-turbo\", temperature=0.1),\n",
        "    embed_model=\"local:BAAI/bge-base-en-v1.5\" # downloads the embedding model to my Colab notebook\n",
        ")\n",
        "\n",
        "# create QdrantVectorStore using QdrantClient and the collection name \"widipedia_text\"\n",
        "text_vector_store = QdrantVectorStore(\n",
        "    client=text_client, collection_name=\"wikipedia_text\"\n",
        ")\n",
        "\n",
        "# create StorageContext object using the QdrantVectorStore\n",
        "storage_context = StorageContext.from_defaults(vector_store=text_vector_store)\n",
        "\n",
        "# create VectorStoreIndex using the text documents and StorageContext\n",
        "wiki_text_index = VectorStoreIndex.from_documents(\n",
        "    text_documents,\n",
        "    storage_context=storage_context,\n",
        "    service_context=service_context\n",
        ")\n",
        "\n",
        "# define the text query engine\n",
        "text_query_engine = wiki_text_index.as_query_engine()"
      ]
    },
    {
      "cell_type": "code",
      "source": [
        "len(text_documents)"
      ],
      "metadata": {
        "colab": {
          "base_uri": "https://localhost:8080/"
        },
        "id": "DMoXcaxxt-bS",
        "outputId": "2083ddb0-be71-436c-abe0-d2e086764d39"
      },
      "id": "DMoXcaxxt-bS",
      "execution_count": 7,
      "outputs": [
        {
          "data": {
            "text/plain": [
              "4"
            ]
          },
          "execution_count": 7,
          "metadata": {},
          "output_type": "execute_result"
        }
      ]
    },
    {
      "cell_type": "code",
      "source": [
        "%ls /tmp/llama_index"
      ],
      "metadata": {
        "colab": {
          "base_uri": "https://localhost:8080/"
        },
        "id": "1TC23uHFFc4H",
        "outputId": "f5350f7b-1015-4648-83b6-f2c56ac811e1"
      },
      "id": "1TC23uHFFc4H",
      "execution_count": 27,
      "outputs": [
        {
          "output_type": "stream",
          "name": "stdout",
          "text": [
            "\u001b[0m\u001b[01;34mmodels\u001b[0m/  \u001b[01;34mtokenizers\u001b[0m/\n"
          ]
        }
      ]
    },
    {
      "cell_type": "code",
      "source": [
        "%ls /tmp/llama_index/models/"
      ],
      "metadata": {
        "colab": {
          "base_uri": "https://localhost:8080/"
        },
        "id": "B7xWiRvAFi5w",
        "outputId": "cc0e6387-3d6b-4a0b-abce-84df6b06c932"
      },
      "id": "B7xWiRvAFi5w",
      "execution_count": 28,
      "outputs": [
        {
          "output_type": "stream",
          "name": "stdout",
          "text": [
            "\u001b[0m\u001b[01;34mmodels--BAAI--bge-base-en-v1.5\u001b[0m/\n"
          ]
        }
      ]
    },
    {
      "cell_type": "code",
      "source": [
        "%ls /tmp/llama_index/tokenizers/"
      ],
      "metadata": {
        "colab": {
          "base_uri": "https://localhost:8080/"
        },
        "id": "UMtznh2SFrgT",
        "outputId": "6aa8897c-3ce6-4638-d975-38c1463e147b"
      },
      "id": "UMtznh2SFrgT",
      "execution_count": 29,
      "outputs": [
        {
          "output_type": "stream",
          "name": "stdout",
          "text": [
            "\u001b[0m\u001b[01;34mpunkt\u001b[0m/  punkt.zip\n"
          ]
        }
      ]
    },
    {
      "cell_type": "markdown",
      "id": "36d3dc57",
      "metadata": {
        "id": "36d3dc57"
      },
      "source": [
        "## Build image index for vector store using OpenAI CLIP embeddings"
      ]
    },
    {
      "cell_type": "markdown",
      "id": "4479bf64",
      "metadata": {
        "id": "4479bf64"
      },
      "source": [
        "### Load and initialize CLIP model"
      ]
    },
    {
      "cell_type": "code",
      "execution_count": 8,
      "id": "5455d8c6",
      "metadata": {
        "colab": {
          "base_uri": "https://localhost:8080/"
        },
        "id": "5455d8c6",
        "outputId": "59506f32-7d6d-4056-ecd8-1987bdca3834"
      },
      "outputs": [
        {
          "output_type": "stream",
          "name": "stderr",
          "text": [
            "100%|███████████████████████████████████████| 338M/338M [00:09<00:00, 36.2MiB/s]\n"
          ]
        },
        {
          "output_type": "stream",
          "name": "stdout",
          "text": [
            "Model parameters: 151,277,313\n",
            "Input resolution: 224\n",
            "Context length: 77\n",
            "Vocab size: 49408\n"
          ]
        }
      ],
      "source": [
        "import torch\n",
        "import clip\n",
        "import numpy as np\n",
        "\n",
        "model, preprocess = clip.load(\"ViT-B/32\")\n",
        "input_resolution = model.visual.input_resolution\n",
        "context_length = model.context_length\n",
        "vocab_size = model.vocab_size\n",
        "\n",
        "print(\n",
        "    \"Model parameters:\",\n",
        "    f\"{np.sum([int(np.prod(p.shape)) for p in model.parameters()]):,}\",\n",
        ")\n",
        "print(\"Input resolution:\", input_resolution)\n",
        "print(\"Context length:\", context_length)\n",
        "print(\"Vocab size:\", vocab_size)"
      ]
    },
    {
      "cell_type": "code",
      "source": [
        "%%capture\n",
        "!pip install wikipedia"
      ],
      "metadata": {
        "id": "A9oUTmd9jY11"
      },
      "id": "A9oUTmd9jY11",
      "execution_count": 9,
      "outputs": []
    },
    {
      "cell_type": "markdown",
      "source": [
        "### Download and store images from Wiki pages"
      ],
      "metadata": {
        "id": "3TVPZXwdlun1"
      },
      "id": "3TVPZXwdlun1"
    },
    {
      "cell_type": "code",
      "execution_count": 10,
      "id": "ac60f299",
      "metadata": {
        "colab": {
          "base_uri": "https://localhost:8080/"
        },
        "id": "ac60f299",
        "outputId": "b83735a7-38b9-49db-f050-a8259044780a"
      },
      "outputs": [
        {
          "output_type": "stream",
          "name": "stdout",
          "text": [
            "Kathmandu\n",
            "Helsinki\n",
            "iPhone\n",
            "Tesla Model S\n"
          ]
        }
      ],
      "source": [
        "import wikipedia\n",
        "import urllib.request\n",
        "\n",
        "image_path = Path(\"images_wiki\")\n",
        "image_uuid = 0\n",
        "\n",
        "# image_metadata_dict stores images metadata including image uuid, filename and path\n",
        "image_metadata_dict = {}\n",
        "MAX_IMAGES_PER_WIKI = 20\n",
        "\n",
        "wiki_titles = [\n",
        "    \"Kathmandu\",\n",
        "    \"Helsinki\",\n",
        "    \"iPhone\",\n",
        "    \"Tesla Model S\"\n",
        "]\n",
        "\n",
        "# create folder for images only\n",
        "if not image_path.exists():\n",
        "    Path.mkdir(image_path)\n",
        "\n",
        "\n",
        "# Download images for wiki pages\n",
        "# Assing UUID for each image\n",
        "for title in wiki_titles:\n",
        "    images_per_wiki = 0\n",
        "    print(title)\n",
        "    try:\n",
        "        page_py = wikipedia.page(title)\n",
        "        list_img_urls = page_py.images\n",
        "        for url in list_img_urls:\n",
        "            if url.endswith(\".jpg\") or url.endswith(\".png\"):\n",
        "                image_uuid += 1\n",
        "                image_file_name = title + \"_\" + url.split(\"/\")[-1]\n",
        "\n",
        "                # img_path could be s3 path pointing to the raw image file in the future\n",
        "                image_metadata_dict[image_uuid] = {\n",
        "                    \"filename\": image_file_name,\n",
        "                    \"img_path\": \"./\" + str(image_path / f\"{image_uuid}.jpg\"),\n",
        "                }\n",
        "                urllib.request.urlretrieve(\n",
        "                    url, image_path / f\"{image_uuid}.jpg\"\n",
        "                )\n",
        "                images_per_wiki += 1\n",
        "                # Limit the number of images downloaded per wiki page to 15\n",
        "                if images_per_wiki > MAX_IMAGES_PER_WIKI:\n",
        "                    break\n",
        "    except:\n",
        "        # raise Exception(\"No page found\")\n",
        "        continue"
      ]
    },
    {
      "cell_type": "markdown",
      "id": "6cd665d2",
      "metadata": {
        "id": "6cd665d2"
      },
      "source": [
        "### Show downloaded Images from Wikipedia"
      ]
    },
    {
      "cell_type": "code",
      "execution_count": 11,
      "id": "eca1e93c",
      "metadata": {
        "colab": {
          "base_uri": "https://localhost:8080/",
          "height": 138
        },
        "id": "eca1e93c",
        "outputId": "3ba30d8c-0ead-4b49-e33e-5b2551465f59"
      },
      "outputs": [
        {
          "output_type": "display_data",
          "data": {
            "text/plain": [
              "<Figure size 640x480 with 14 Axes>"
            ],
            "image/png": "[encoded data removed]"
          },
          "metadata": {}
        }
      ],
      "source": [
        "from PIL import Image\n",
        "import matplotlib.pyplot as plt\n",
        "import os\n",
        "\n",
        "\n",
        "def plot_images(image_metadata_dict):\n",
        "    original_images_urls = []\n",
        "    images_shown = 0\n",
        "    for image_id in image_metadata_dict:\n",
        "        img_path = image_metadata_dict[image_id][\"img_path\"]\n",
        "        if os.path.isfile(img_path):\n",
        "            filename = image_metadata_dict[image_id][\"filename\"]\n",
        "            image = Image.open(img_path).convert(\"RGB\")\n",
        "\n",
        "            plt.subplot(8, 8, len(original_images_urls) + 1)\n",
        "            plt.imshow(image)\n",
        "            plt.xticks([])\n",
        "            plt.yticks([])\n",
        "\n",
        "            original_images_urls.append(filename)\n",
        "            images_shown += 1\n",
        "            if images_shown >= 64:\n",
        "                break\n",
        "\n",
        "    plt.tight_layout()\n",
        "\n",
        "\n",
        "plot_images(image_metadata_dict)"
      ]
    },
    {
      "cell_type": "markdown",
      "id": "072fe21e",
      "metadata": {
        "id": "072fe21e"
      },
      "source": [
        "### Generate Clip embedding for each each image"
      ]
    },
    {
      "cell_type": "code",
      "execution_count": 12,
      "id": "5aa0a49b",
      "metadata": {
        "colab": {
          "base_uri": "https://localhost:8080/"
        },
        "id": "5aa0a49b",
        "outputId": "10636413-6a77-46bd-98b0-fe0b16db98ec"
      },
      "outputs": [
        {
          "output_type": "stream",
          "name": "stdout",
          "text": [
            "cpu\n",
            "['RN50', 'RN101', 'RN50x4', 'RN50x16', 'RN50x64', 'ViT-B/32', 'ViT-B/16', 'ViT-L/14', 'ViT-L/14@336px']\n"
          ]
        }
      ],
      "source": [
        "# set the device to use for the CLIP model, either CUDA (GPU) or CPU, depending on availability\n",
        "device = \"cuda\" if torch.cuda.is_available() else \"cpu\"\n",
        "print(device)\n",
        "\n",
        "model, preprocess = clip.load(\"ViT-B/32\", device=device)\n",
        "print(clip.available_models())\n",
        "\n",
        "# img_emb_dict stores image embeddings for each image\n",
        "img_emb_dict = {}\n",
        "with torch.no_grad():\n",
        "\n",
        "    # iterate over the image metadata dictionary and extracts image embeddings for each image\n",
        "    for image_id in image_metadata_dict:\n",
        "        img_file_path = image_metadata_dict[image_id][\"img_path\"]\n",
        "        if os.path.isfile(img_file_path):\n",
        "            image = (\n",
        "                # preprocess the image using the CLIP model's preprocess function\n",
        "                # unsqueeze the image tensor to add a batch dimension\n",
        "                # move the image tensor to the device specified in line 2\n",
        "                preprocess(Image.open(img_file_path)).unsqueeze(0).to(device)\n",
        "            )\n",
        "\n",
        "            # extract image features using the CLIP model's encode_image function\n",
        "            image_features = model.encode_image(image)\n",
        "\n",
        "            # store the image features in the image embedding dictionary\n",
        "            img_emb_dict[image_id] = image_features"
      ]
    },
    {
      "cell_type": "code",
      "source": [
        "len(img_emb_dict) #22 image so 22 img emb"
      ],
      "metadata": {
        "colab": {
          "base_uri": "https://localhost:8080/"
        },
        "id": "vDrL67gguoJ2",
        "outputId": "e61b2e58-9923-4f14-a270-7c8a35e37928"
      },
      "id": "vDrL67gguoJ2",
      "execution_count": 13,
      "outputs": [
        {
          "output_type": "execute_result",
          "data": {
            "text/plain": [
              "14"
            ]
          },
          "metadata": {},
          "execution_count": 13
        }
      ]
    },
    {
      "cell_type": "markdown",
      "id": "56c74e51",
      "metadata": {
        "id": "56c74e51"
      },
      "source": [
        "### Build a separate CLIP image embedding index under a differnt collection `wikipedia_img`"
      ]
    },
    {
      "cell_type": "code",
      "execution_count": 14,
      "id": "84e2e3d4",
      "metadata": {
        "id": "84e2e3d4"
      },
      "outputs": [],
      "source": [
        "from llama_index.schema import ImageDocument\n",
        "\n",
        "# create a list of ImageDocument objects, one for each image in the dataset\n",
        "img_documents = []\n",
        "for image_filename in image_metadata_dict:\n",
        "    # the img_emb_dict dictionary contains the image embeddings\n",
        "    if image_filename in img_emb_dict:\n",
        "        filename = image_metadata_dict[image_filename][\"filename\"]\n",
        "        filepath = image_metadata_dict[image_filename][\"img_path\"]\n",
        "        #print(filepath)\n",
        "\n",
        "        # create an ImageDocument for each image\n",
        "        newImgDoc = ImageDocument(\n",
        "            text=filename, metadata={\"filepath\": filepath}\n",
        "        )\n",
        "\n",
        "        # set image embedding on the ImageDocument\n",
        "        newImgDoc.embedding = img_emb_dict[image_filename].tolist()[0]\n",
        "        img_documents.append(newImgDoc)\n",
        "\n",
        "# create QdrantVectorStore, with collection name \"wikipedia_img\"\n",
        "image_vector_store = QdrantVectorStore(\n",
        "    client=text_client, collection_name=\"wikipedia_img\"\n",
        ")\n",
        "\n",
        "# define storage context\n",
        "storage_context = StorageContext.from_defaults(vector_store=image_vector_store)\n",
        "\n",
        "# define image index\n",
        "image_index = VectorStoreIndex.from_documents(\n",
        "    img_documents,\n",
        "    storage_context=storage_context\n",
        ")"
      ]
    },
    {
      "cell_type": "markdown",
      "source": [
        "### Function for image query\n",
        "\n",
        "- `retrieve_results_from_image_index` takes a text query as input and returns the most similar image from the vector store.\n",
        "- `plot_image_retrieval_results` takes a list of image retrieval results and creates a new figure.\n",
        "- `image_query` is a wrapper function to call the two functions above."
      ],
      "metadata": {
        "id": "KCX12aQ-nqzA"
      },
      "id": "KCX12aQ-nqzA"
    },
    {
      "cell_type": "code",
      "execution_count": 21,
      "id": "746715a0",
      "metadata": {
        "id": "746715a0"
      },
      "outputs": [],
      "source": [
        "from llama_index.vector_stores import VectorStoreQuery\n",
        "\n",
        "\n",
        "def retrieve_results_from_image_index(query):\n",
        "    \"\"\" take a text query as input and return the most similar image from the vector store \"\"\"\n",
        "\n",
        "    # first tokenize the text query and convert it to a tensor\n",
        "    text = clip.tokenize(query).to(device)\n",
        "\n",
        "    # encode the text tensor using the CLIP model to produce a query embedding\n",
        "    query_embedding = model.encode_text(text).tolist()[0]\n",
        "\n",
        "    # create a VectorStoreQuery\n",
        "    image_vector_store_query = VectorStoreQuery(\n",
        "        query_embedding=query_embedding,\n",
        "        similarity_top_k=1, # returns 1 image\n",
        "        mode=\"default\",\n",
        "    )\n",
        "\n",
        "    # execute the query against the image vector store\n",
        "    image_retrieval_results = image_vector_store.query(\n",
        "        image_vector_store_query\n",
        "    )\n",
        "    return image_retrieval_results\n"
      ]
    },
    {
      "cell_type": "code",
      "execution_count": 22,
      "id": "6acc0b06",
      "metadata": {
        "id": "6acc0b06"
      },
      "outputs": [],
      "source": [
        "def plot_image_retrieve_results(image_retrieval_results):\n",
        "    \"\"\" take a list of image retrieval results and create a new figure\"\"\"\n",
        "\n",
        "    plt.figure(figsize=(16, 5))\n",
        "\n",
        "    img_cnt = 0\n",
        "\n",
        "    # iterate over the image retrieval results, and for each result, display the corresponding image and its score in a subplot.\n",
        "    # The title of the subplot is the score of the image, formatted to four decimal places.\n",
        "\n",
        "    for returned_image, score in zip(\n",
        "        image_retrieval_results.nodes, image_retrieval_results.similarities\n",
        "    ):\n",
        "        img_name = returned_image.text\n",
        "        img_path = returned_image.metadata[\"filepath\"]\n",
        "        image = Image.open(img_path).convert(\"RGB\")\n",
        "\n",
        "        plt.subplot(2, 3, img_cnt + 1)\n",
        "        plt.title(\"{:.4f}\".format(score))\n",
        "\n",
        "        plt.imshow(image)\n",
        "        plt.xticks([])\n",
        "        plt.yticks([])\n",
        "        img_cnt += 1"
      ]
    },
    {
      "cell_type": "code",
      "source": [
        "def image_query(query):\n",
        "    image_retrieval_results = retrieve_results_from_image_index(query)\n",
        "    plot_image_retrieve_results(image_retrieval_results)"
      ],
      "metadata": {
        "id": "r7XZspc8oxhq"
      },
      "id": "r7XZspc8oxhq",
      "execution_count": 23,
      "outputs": []
    },
    {
      "cell_type": "markdown",
      "id": "3ea1e2fb",
      "metadata": {
        "id": "3ea1e2fb"
      },
      "source": [
        "## Get MultiModal retrieval results (both text and images) for some example queries"
      ]
    },
    {
      "cell_type": "code",
      "execution_count": 24,
      "id": "61fdd3a0",
      "metadata": {
        "colab": {
          "base_uri": "https://localhost:8080/",
          "height": 289
        },
        "id": "61fdd3a0",
        "outputId": "38d8cc92-ad42-4145-d070-91657c022fad"
      },
      "outputs": [
        {
          "output_type": "stream",
          "name": "stdout",
          "text": [
            "Text retrieval results: \n",
            "Some of the historical places in Kathmandu include Kathmandu Durbar Square, Patan Durbar Square, Bhaktapur Durbar Square, the former durbar of Kirtipur, Nyatapola, Kumbheshwar, the Krishna temple, and others.\n"
          ]
        },
        {
          "output_type": "display_data",
          "data": {
            "text/plain": [
              "<Figure size 1600x500 with 1 Axes>"
            ],
            "image/png": "[encoded data removed]"
          },
          "metadata": {}
        }
      ],
      "source": [
        "# https://en.wikipedia.org/wiki/Kathmandu\n",
        "query1 = \"What are some of the historical places in Kathmandu?\"\n",
        "# generate image retrieval results\n",
        "image_query(query1)\n",
        "\n",
        "# generate text retrieval results\n",
        "text_retrieval_results = text_query_engine.query(query1)\n",
        "print(\"Text retrieval results: \\n\" + str(text_retrieval_results))"
      ]
    },
    {
      "cell_type": "code",
      "execution_count": 25,
      "id": "08f21c2f",
      "metadata": {
        "colab": {
          "base_uri": "https://localhost:8080/",
          "height": 289
        },
        "id": "08f21c2f",
        "outputId": "711da6b8-c424-49eb-80bb-525b81b8a61c"
      },
      "outputs": [
        {
          "output_type": "stream",
          "name": "stdout",
          "text": [
            "Text retrieval results: \n",
            "Some of the popular tourist attractions in Helsinki include Suomenlinna (Sveaborg) fortress, Korkeasaari Zoo, Seurasaari island, Lauttasaari island, and the Helsinki Central Park.\n"
          ]
        },
        {
          "output_type": "display_data",
          "data": {
            "text/plain": [
              "<Figure size 1600x500 with 1 Axes>"
            ],
            "image/png": "[encoded data removed]"
          },
          "metadata": {}
        }
      ],
      "source": [
        "# https://en.wikipedia.org/wiki/Helsinki\n",
        "query2 = \"What are some of the popular tourist attraction in Helsinki?\"\n",
        "# generate image retrieval results\n",
        "image_query(query2)\n",
        "\n",
        "# generate text retrieval results\n",
        "text_retrieval_results = text_query_engine.query(query2)\n",
        "print(\"Text retrieval results: \\n\" + str(text_retrieval_results))"
      ]
    },
    {
      "cell_type": "code",
      "execution_count": 26,
      "id": "4828d94d",
      "metadata": {
        "colab": {
          "base_uri": "https://localhost:8080/",
          "height": 269
        },
        "id": "4828d94d",
        "outputId": "85e8adc8-18c0-44c7-e1be-7086a23da539"
      },
      "outputs": [
        {
          "output_type": "stream",
          "name": "stdout",
          "text": [
            "Text retrieval results: \n",
            "Tesla, Inc. makes Tesla vehicles.\n"
          ]
        },
        {
          "output_type": "display_data",
          "data": {
            "text/plain": [
              "<Figure size 1600x500 with 1 Axes>"
            ],
            "image/png": "[encoded data removed]"
          },
          "metadata": {}
        }
      ],
      "source": [
        "# https://en.wikipedia.org/wiki/Tesla_Model_S\n",
        "query3 = \"which company makes Tesla ?\"\n",
        "# generate image retrieval results\n",
        "image_query(query3)\n",
        "\n",
        "# generate text retrieval results\n",
        "text_retrieval_results = text_query_engine.query(query3)\n",
        "print(\"Text retrieval results: \\n\" + str(text_retrieval_results))"
      ]
    },
    {
      "cell_type": "markdown",
      "source": [
        "## Happy Retrieving 😎"
      ],
      "metadata": {
        "id": "rW84L544xbBr"
      },
      "id": "rW84L544xbBr"
    },
    {
      "cell_type": "code",
      "source": [],
      "metadata": {
        "id": "hljfyvihwyLC"
      },
      "id": "hljfyvihwyLC",
      "execution_count": 20,
      "outputs": []
    }
  ],
  "metadata": {
    "kernelspec": {
      "display_name": "Python 3",
      "language": "python",
      "name": "python3"
    },
    "language_info": {
      "codemirror_mode": {
        "name": "ipython",
        "version": 3
      },
      "file_extension": ".py",
      "mimetype": "text/x-python",
      "name": "python",
      "nbconvert_exporter": "python",
      "pygments_lexer": "ipython3"
    },
    "colab": {
      "provenance": [],
      "collapsed_sections": [
        "5dbb2fc8",
        "b3040ff8",
        "36d3dc57",
        "3ea1e2fb"
      ],
      "include_colab_link": true
    },
    "widgets": {
      "application/vnd.jupyter.widget-state+json": {
        "b5a12199032b401e85f5ecf13cfc670c": {
          "model_module": "@jupyter-widgets/controls",
          "model_name": "HBoxModel",
          "model_module_version": "1.5.0",
          "state": {
            "_dom_classes": [],
            "_model_module": "@jupyter-widgets/controls",
            "_model_module_version": "1.5.0",
            "_model_name": "HBoxModel",
            "_view_count": null,
            "_view_module": "@jupyter-widgets/controls",
            "_view_module_version": "1.5.0",
            "_view_name": "HBoxView",
            "box_style": "",
            "children": [
              "IPY_MODEL_44a44b755d84412296319ac149047cbf",
              "IPY_MODEL_b1f9d6e5e2034eedb13513be36c1492f",
              "IPY_MODEL_7c7d6174ebb144289c34442dce2170ed"
            ],
            "layout": "IPY_MODEL_b5f46de7c41146798063bbe3c1b0e63d"
          }
        },
        "44a44b755d84412296319ac149047cbf": {
          "model_module": "@jupyter-widgets/controls",
          "model_name": "HTMLModel",
          "model_module_version": "1.5.0",
          "state": {
            "_dom_classes": [],
            "_model_module": "@jupyter-widgets/controls",
            "_model_module_version": "1.5.0",
            "_model_name": "HTMLModel",
            "_view_count": null,
            "_view_module": "@jupyter-widgets/controls",
            "_view_module_version": "1.5.0",
            "_view_name": "HTMLView",
            "description": "",
            "description_tooltip": null,
            "layout": "IPY_MODEL_21c8dcc2063f44469bf56f156b90310e",
            "placeholder": "​",
            "style": "IPY_MODEL_433e9bc60b784ad2954e1a5e184021a0",
            "value": "Downloading (…)lve/main/config.json: 100%"
          }
        },
        "b1f9d6e5e2034eedb13513be36c1492f": {
          "model_module": "@jupyter-widgets/controls",
          "model_name": "FloatProgressModel",
          "model_module_version": "1.5.0",
          "state": {
            "_dom_classes": [],
            "_model_module": "@jupyter-widgets/controls",
            "_model_module_version": "1.5.0",
            "_model_name": "FloatProgressModel",
            "_view_count": null,
            "_view_module": "@jupyter-widgets/controls",
            "_view_module_version": "1.5.0",
            "_view_name": "ProgressView",
            "bar_style": "success",
            "description": "",
            "description_tooltip": null,
            "layout": "IPY_MODEL_295e09e556b04d47aa97830b5b3ecd71",
            "max": 777,
            "min": 0,
            "orientation": "horizontal",
            "style": "IPY_MODEL_3b941dbf52eb4ede9ae1b9c7431427c2",
            "value": 777
          }
        },
        "7c7d6174ebb144289c34442dce2170ed": {
          "model_module": "@jupyter-widgets/controls",
          "model_name": "HTMLModel",
          "model_module_version": "1.5.0",
          "state": {
            "_dom_classes": [],
            "_model_module": "@jupyter-widgets/controls",
            "_model_module_version": "1.5.0",
            "_model_name": "HTMLModel",
            "_view_count": null,
            "_view_module": "@jupyter-widgets/controls",
            "_view_module_version": "1.5.0",
            "_view_name": "HTMLView",
            "description": "",
            "description_tooltip": null,
            "layout": "IPY_MODEL_78178874594443de86b388335abd6b73",
            "placeholder": "​",
            "style": "IPY_MODEL_fcfdcf6eaf8146b49d8005664ab38af4",
            "value": " 777/777 [00:00&lt;00:00, 13.5kB/s]"
          }
        },
        "b5f46de7c41146798063bbe3c1b0e63d": {
          "model_module": "@jupyter-widgets/base",
          "model_name": "LayoutModel",
          "model_module_version": "1.2.0",
          "state": {
            "_model_module": "@jupyter-widgets/base",
            "_model_module_version": "1.2.0",
            "_model_name": "LayoutModel",
            "_view_count": null,
            "_view_module": "@jupyter-widgets/base",
            "_view_module_version": "1.2.0",
            "_view_name": "LayoutView",
            "align_content": null,
            "align_items": null,
            "align_self": null,
            "border": null,
            "bottom": null,
            "display": null,
            "flex": null,
            "flex_flow": null,
            "grid_area": null,
            "grid_auto_columns": null,
            "grid_auto_flow": null,
            "grid_auto_rows": null,
            "grid_column": null,
            "grid_gap": null,
            "grid_row": null,
            "grid_template_areas": null,
            "grid_template_columns": null,
            "grid_template_rows": null,
            "height": null,
            "justify_content": null,
            "justify_items": null,
            "left": null,
            "margin": null,
            "max_height": null,
            "max_width": null,
            "min_height": null,
            "min_width": null,
            "object_fit": null,
            "object_position": null,
            "order": null,
            "overflow": null,
            "overflow_x": null,
            "overflow_y": null,
            "padding": null,
            "right": null,
            "top": null,
            "visibility": null,
            "width": null
          }
        },
        "21c8dcc2063f44469bf56f156b90310e": {
          "model_module": "@jupyter-widgets/base",
          "model_name": "LayoutModel",
          "model_module_version": "1.2.0",
          "state": {
            "_model_module": "@jupyter-widgets/base",
            "_model_module_version": "1.2.0",
            "_model_name": "LayoutModel",
            "_view_count": null,
            "_view_module": "@jupyter-widgets/base",
            "_view_module_version": "1.2.0",
            "_view_name": "LayoutView",
            "align_content": null,
            "align_items": null,
            "align_self": null,
            "border": null,
            "bottom": null,
            "display": null,
            "flex": null,
            "flex_flow": null,
            "grid_area": null,
            "grid_auto_columns": null,
            "grid_auto_flow": null,
            "grid_auto_rows": null,
            "grid_column": null,
            "grid_gap": null,
            "grid_row": null,
            "grid_template_areas": null,
            "grid_template_columns": null,
            "grid_template_rows": null,
            "height": null,
            "justify_content": null,
            "justify_items": null,
            "left": null,
            "margin": null,
            "max_height": null,
            "max_width": null,
            "min_height": null,
            "min_width": null,
            "object_fit": null,
            "object_position": null,
            "order": null,
            "overflow": null,
            "overflow_x": null,
            "overflow_y": null,
            "padding": null,
            "right": null,
            "top": null,
            "visibility": null,
            "width": null
          }
        },
        "433e9bc60b784ad2954e1a5e184021a0": {
          "model_module": "@jupyter-widgets/controls",
          "model_name": "DescriptionStyleModel",
          "model_module_version": "1.5.0",
          "state": {
            "_model_module": "@jupyter-widgets/controls",
            "_model_module_version": "1.5.0",
            "_model_name": "DescriptionStyleModel",
            "_view_count": null,
            "_view_module": "@jupyter-widgets/base",
            "_view_module_version": "1.2.0",
            "_view_name": "StyleView",
            "description_width": ""
          }
        },
        "295e09e556b04d47aa97830b5b3ecd71": {
          "model_module": "@jupyter-widgets/base",
          "model_name": "LayoutModel",
          "model_module_version": "1.2.0",
          "state": {
            "_model_module": "@jupyter-widgets/base",
            "_model_module_version": "1.2.0",
            "_model_name": "LayoutModel",
            "_view_count": null,
            "_view_module": "@jupyter-widgets/base",
            "_view_module_version": "1.2.0",
            "_view_name": "LayoutView",
            "align_content": null,
            "align_items": null,
            "align_self": null,
            "border": null,
            "bottom": null,
            "display": null,
            "flex": null,
            "flex_flow": null,
            "grid_area": null,
            "grid_auto_columns": null,
            "grid_auto_flow": null,
            "grid_auto_rows": null,
            "grid_column": null,
            "grid_gap": null,
            "grid_row": null,
            "grid_template_areas": null,
            "grid_template_columns": null,
            "grid_template_rows": null,
            "height": null,
            "justify_content": null,
            "justify_items": null,
            "left": null,
            "margin": null,
            "max_height": null,
            "max_width": null,
            "min_height": null,
            "min_width": null,
            "object_fit": null,
            "object_position": null,
            "order": null,
            "overflow": null,
            "overflow_x": null,
            "overflow_y": null,
            "padding": null,
            "right": null,
            "top": null,
            "visibility": null,
            "width": null
          }
        },
        "3b941dbf52eb4ede9ae1b9c7431427c2": {
          "model_module": "@jupyter-widgets/controls",
          "model_name": "ProgressStyleModel",
          "model_module_version": "1.5.0",
          "state": {
            "_model_module": "@jupyter-widgets/controls",
            "_model_module_version": "1.5.0",
            "_model_name": "ProgressStyleModel",
            "_view_count": null,
            "_view_module": "@jupyter-widgets/base",
            "_view_module_version": "1.2.0",
            "_view_name": "StyleView",
            "bar_color": null,
            "description_width": ""
          }
        },
        "78178874594443de86b388335abd6b73": {
          "model_module": "@jupyter-widgets/base",
          "model_name": "LayoutModel",
          "model_module_version": "1.2.0",
          "state": {
            "_model_module": "@jupyter-widgets/base",
            "_model_module_version": "1.2.0",
            "_model_name": "LayoutModel",
            "_view_count": null,
            "_view_module": "@jupyter-widgets/base",
            "_view_module_version": "1.2.0",
            "_view_name": "LayoutView",
            "align_content": null,
            "align_items": null,
            "align_self": null,
            "border": null,
            "bottom": null,
            "display": null,
            "flex": null,
            "flex_flow": null,
            "grid_area": null,
            "grid_auto_columns": null,
            "grid_auto_flow": null,
            "grid_auto_rows": null,
            "grid_column": null,
            "grid_gap": null,
            "grid_row": null,
            "grid_template_areas": null,
            "grid_template_columns": null,
            "grid_template_rows": null,
            "height": null,
            "justify_content": null,
            "justify_items": null,
            "left": null,
            "margin": null,
            "max_height": null,
            "max_width": null,
            "min_height": null,
            "min_width": null,
            "object_fit": null,
            "object_position": null,
            "order": null,
            "overflow": null,
            "overflow_x": null,
            "overflow_y": null,
            "padding": null,
            "right": null,
            "top": null,
            "visibility": null,
            "width": null
          }
        },
        "fcfdcf6eaf8146b49d8005664ab38af4": {
          "model_module": "@jupyter-widgets/controls",
          "model_name": "DescriptionStyleModel",
          "model_module_version": "1.5.0",
          "state": {
            "_model_module": "@jupyter-widgets/controls",
            "_model_module_version": "1.5.0",
            "_model_name": "DescriptionStyleModel",
            "_view_count": null,
            "_view_module": "@jupyter-widgets/base",
            "_view_module_version": "1.2.0",
            "_view_name": "StyleView",
            "description_width": ""
          }
        },
        "241eba6a839440a88a801adf9ada8278": {
          "model_module": "@jupyter-widgets/controls",
          "model_name": "HBoxModel",
          "model_module_version": "1.5.0",
          "state": {
            "_dom_classes": [],
            "_model_module": "@jupyter-widgets/controls",
            "_model_module_version": "1.5.0",
            "_model_name": "HBoxModel",
            "_view_count": null,
            "_view_module": "@jupyter-widgets/controls",
            "_view_module_version": "1.5.0",
            "_view_name": "HBoxView",
            "box_style": "",
            "children": [
              "IPY_MODEL_a18bd50b3d674900a025a0602b63c738",
              "IPY_MODEL_9f4898c49ad7415493416bd17671d330",
              "IPY_MODEL_60f8cb49651841d09860ae3515ae6ba4"
            ],
            "layout": "IPY_MODEL_256862ecf3514ad0b947ef6bee7e1487"
          }
        },
        "a18bd50b3d674900a025a0602b63c738": {
          "model_module": "@jupyter-widgets/controls",
          "model_name": "HTMLModel",
          "model_module_version": "1.5.0",
          "state": {
            "_dom_classes": [],
            "_model_module": "@jupyter-widgets/controls",
            "_model_module_version": "1.5.0",
            "_model_name": "HTMLModel",
            "_view_count": null,
            "_view_module": "@jupyter-widgets/controls",
            "_view_module_version": "1.5.0",
            "_view_name": "HTMLView",
            "description": "",
            "description_tooltip": null,
            "layout": "IPY_MODEL_88f896b762d0430ea53a0a7eb49f5fea",
            "placeholder": "​",
            "style": "IPY_MODEL_f66b510d7b974018ae4ee7bbbb6191ae",
            "value": "Downloading pytorch_model.bin: 100%"
          }
        },
        "9f4898c49ad7415493416bd17671d330": {
          "model_module": "@jupyter-widgets/controls",
          "model_name": "FloatProgressModel",
          "model_module_version": "1.5.0",
          "state": {
            "_dom_classes": [],
            "_model_module": "@jupyter-widgets/controls",
            "_model_module_version": "1.5.0",
            "_model_name": "FloatProgressModel",
            "_view_count": null,
            "_view_module": "@jupyter-widgets/controls",
            "_view_module_version": "1.5.0",
            "_view_name": "ProgressView",
            "bar_style": "success",
            "description": "",
            "description_tooltip": null,
            "layout": "IPY_MODEL_0c353ab35c214cd28f468d30c47c464a",
            "max": 437997357,
            "min": 0,
            "orientation": "horizontal",
            "style": "IPY_MODEL_d1eae80d2f164f13b45b6c6a77ca449d",
            "value": 437997357
          }
        },
        "60f8cb49651841d09860ae3515ae6ba4": {
          "model_module": "@jupyter-widgets/controls",
          "model_name": "HTMLModel",
          "model_module_version": "1.5.0",
          "state": {
            "_dom_classes": [],
            "_model_module": "@jupyter-widgets/controls",
            "_model_module_version": "1.5.0",
            "_model_name": "HTMLModel",
            "_view_count": null,
            "_view_module": "@jupyter-widgets/controls",
            "_view_module_version": "1.5.0",
            "_view_name": "HTMLView",
            "description": "",
            "description_tooltip": null,
            "layout": "IPY_MODEL_66c4c2dc1d95417ea860db0b50ba33f1",
            "placeholder": "​",
            "style": "IPY_MODEL_d40fcad3b65f4be78c8f429bb87015d0",
            "value": " 438M/438M [00:05&lt;00:00, 84.6MB/s]"
          }
        },
        "256862ecf3514ad0b947ef6bee7e1487": {
          "model_module": "@jupyter-widgets/base",
          "model_name": "LayoutModel",
          "model_module_version": "1.2.0",
          "state": {
            "_model_module": "@jupyter-widgets/base",
            "_model_module_version": "1.2.0",
            "_model_name": "LayoutModel",
            "_view_count": null,
            "_view_module": "@jupyter-widgets/base",
            "_view_module_version": "1.2.0",
            "_view_name": "LayoutView",
            "align_content": null,
            "align_items": null,
            "align_self": null,
            "border": null,
            "bottom": null,
            "display": null,
            "flex": null,
            "flex_flow": null,
            "grid_area": null,
            "grid_auto_columns": null,
            "grid_auto_flow": null,
            "grid_auto_rows": null,
            "grid_column": null,
            "grid_gap": null,
            "grid_row": null,
            "grid_template_areas": null,
            "grid_template_columns": null,
            "grid_template_rows": null,
            "height": null,
            "justify_content": null,
            "justify_items": null,
            "left": null,
            "margin": null,
            "max_height": null,
            "max_width": null,
            "min_height": null,
            "min_width": null,
            "object_fit": null,
            "object_position": null,
            "order": null,
            "overflow": null,
            "overflow_x": null,
            "overflow_y": null,
            "padding": null,
            "right": null,
            "top": null,
            "visibility": null,
            "width": null
          }
        },
        "88f896b762d0430ea53a0a7eb49f5fea": {
          "model_module": "@jupyter-widgets/base",
          "model_name": "LayoutModel",
          "model_module_version": "1.2.0",
          "state": {
            "_model_module": "@jupyter-widgets/base",
            "_model_module_version": "1.2.0",
            "_model_name": "LayoutModel",
            "_view_count": null,
            "_view_module": "@jupyter-widgets/base",
            "_view_module_version": "1.2.0",
            "_view_name": "LayoutView",
            "align_content": null,
            "align_items": null,
            "align_self": null,
            "border": null,
            "bottom": null,
            "display": null,
            "flex": null,
            "flex_flow": null,
            "grid_area": null,
            "grid_auto_columns": null,
            "grid_auto_flow": null,
            "grid_auto_rows": null,
            "grid_column": null,
            "grid_gap": null,
            "grid_row": null,
            "grid_template_areas": null,
            "grid_template_columns": null,
            "grid_template_rows": null,
            "height": null,
            "justify_content": null,
            "justify_items": null,
            "left": null,
            "margin": null,
            "max_height": null,
            "max_width": null,
            "min_height": null,
            "min_width": null,
            "object_fit": null,
            "object_position": null,
            "order": null,
            "overflow": null,
            "overflow_x": null,
            "overflow_y": null,
            "padding": null,
            "right": null,
            "top": null,
            "visibility": null,
            "width": null
          }
        },
        "f66b510d7b974018ae4ee7bbbb6191ae": {
          "model_module": "@jupyter-widgets/controls",
          "model_name": "DescriptionStyleModel",
          "model_module_version": "1.5.0",
          "state": {
            "_model_module": "@jupyter-widgets/controls",
            "_model_module_version": "1.5.0",
            "_model_name": "DescriptionStyleModel",
            "_view_count": null,
            "_view_module": "@jupyter-widgets/base",
            "_view_module_version": "1.2.0",
            "_view_name": "StyleView",
            "description_width": ""
          }
        },
        "0c353ab35c214cd28f468d30c47c464a": {
          "model_module": "@jupyter-widgets/base",
          "model_name": "LayoutModel",
          "model_module_version": "1.2.0",
          "state": {
            "_model_module": "@jupyter-widgets/base",
            "_model_module_version": "1.2.0",
            "_model_name": "LayoutModel",
            "_view_count": null,
            "_view_module": "@jupyter-widgets/base",
            "_view_module_version": "1.2.0",
            "_view_name": "LayoutView",
            "align_content": null,
            "align_items": null,
            "align_self": null,
            "border": null,
            "bottom": null,
            "display": null,
            "flex": null,
            "flex_flow": null,
            "grid_area": null,
            "grid_auto_columns": null,
            "grid_auto_flow": null,
            "grid_auto_rows": null,
            "grid_column": null,
            "grid_gap": null,
            "grid_row": null,
            "grid_template_areas": null,
            "grid_template_columns": null,
            "grid_template_rows": null,
            "height": null,
            "justify_content": null,
            "justify_items": null,
            "left": null,
            "margin": null,
            "max_height": null,
            "max_width": null,
            "min_height": null,
            "min_width": null,
            "object_fit": null,
            "object_position": null,
            "order": null,
            "overflow": null,
            "overflow_x": null,
            "overflow_y": null,
            "padding": null,
            "right": null,
            "top": null,
            "visibility": null,
            "width": null
          }
        },
        "d1eae80d2f164f13b45b6c6a77ca449d": {
          "model_module": "@jupyter-widgets/controls",
          "model_name": "ProgressStyleModel",
          "model_module_version": "1.5.0",
          "state": {
            "_model_module": "@jupyter-widgets/controls",
            "_model_module_version": "1.5.0",
            "_model_name": "ProgressStyleModel",
            "_view_count": null,
            "_view_module": "@jupyter-widgets/base",
            "_view_module_version": "1.2.0",
            "_view_name": "StyleView",
            "bar_color": null,
            "description_width": ""
          }
        },
        "66c4c2dc1d95417ea860db0b50ba33f1": {
          "model_module": "@jupyter-widgets/base",
          "model_name": "LayoutModel",
          "model_module_version": "1.2.0",
          "state": {
            "_model_module": "@jupyter-widgets/base",
            "_model_module_version": "1.2.0",
            "_model_name": "LayoutModel",
            "_view_count": null,
            "_view_module": "@jupyter-widgets/base",
            "_view_module_version": "1.2.0",
            "_view_name": "LayoutView",
            "align_content": null,
            "align_items": null,
            "align_self": null,
            "border": null,
            "bottom": null,
            "display": null,
            "flex": null,
            "flex_flow": null,
            "grid_area": null,
            "grid_auto_columns": null,
            "grid_auto_flow": null,
            "grid_auto_rows": null,
            "grid_column": null,
            "grid_gap": null,
            "grid_row": null,
            "grid_template_areas": null,
            "grid_template_columns": null,
            "grid_template_rows": null,
            "height": null,
            "justify_content": null,
            "justify_items": null,
            "left": null,
            "margin": null,
            "max_height": null,
            "max_width": null,
            "min_height": null,
            "min_width": null,
            "object_fit": null,
            "object_position": null,
            "order": null,
            "overflow": null,
            "overflow_x": null,
            "overflow_y": null,
            "padding": null,
            "right": null,
            "top": null,
            "visibility": null,
            "width": null
          }
        },
        "d40fcad3b65f4be78c8f429bb87015d0": {
          "model_module": "@jupyter-widgets/controls",
          "model_name": "DescriptionStyleModel",
          "model_module_version": "1.5.0",
          "state": {
            "_model_module": "@jupyter-widgets/controls",
            "_model_module_version": "1.5.0",
            "_model_name": "DescriptionStyleModel",
            "_view_count": null,
            "_view_module": "@jupyter-widgets/base",
            "_view_module_version": "1.2.0",
            "_view_name": "StyleView",
            "description_width": ""
          }
        },
        "66b178349b874a66ad7d9f1196ef0895": {
          "model_module": "@jupyter-widgets/controls",
          "model_name": "HBoxModel",
          "model_module_version": "1.5.0",
          "state": {
            "_dom_classes": [],
            "_model_module": "@jupyter-widgets/controls",
            "_model_module_version": "1.5.0",
            "_model_name": "HBoxModel",
            "_view_count": null,
            "_view_module": "@jupyter-widgets/controls",
            "_view_module_version": "1.5.0",
            "_view_name": "HBoxView",
            "box_style": "",
            "children": [
              "IPY_MODEL_b4dc0551c77a45abab764ccfbade540f",
              "IPY_MODEL_884b4e56408a46118600959a2be9c710",
              "IPY_MODEL_1a389624c8ff4f87b26bab7c73c93044"
            ],
            "layout": "IPY_MODEL_c8973b5f3f774f80a703d2fdf8d63a0b"
          }
        },
        "b4dc0551c77a45abab764ccfbade540f": {
          "model_module": "@jupyter-widgets/controls",
          "model_name": "HTMLModel",
          "model_module_version": "1.5.0",
          "state": {
            "_dom_classes": [],
            "_model_module": "@jupyter-widgets/controls",
            "_model_module_version": "1.5.0",
            "_model_name": "HTMLModel",
            "_view_count": null,
            "_view_module": "@jupyter-widgets/controls",
            "_view_module_version": "1.5.0",
            "_view_name": "HTMLView",
            "description": "",
            "description_tooltip": null,
            "layout": "IPY_MODEL_cecc073de88f4e958197dae50cd7ddbc",
            "placeholder": "​",
            "style": "IPY_MODEL_6d47e87c071147e58751859312786a19",
            "value": "Downloading (…)okenizer_config.json: 100%"
          }
        },
        "884b4e56408a46118600959a2be9c710": {
          "model_module": "@jupyter-widgets/controls",
          "model_name": "FloatProgressModel",
          "model_module_version": "1.5.0",
          "state": {
            "_dom_classes": [],
            "_model_module": "@jupyter-widgets/controls",
            "_model_module_version": "1.5.0",
            "_model_name": "FloatProgressModel",
            "_view_count": null,
            "_view_module": "@jupyter-widgets/controls",
            "_view_module_version": "1.5.0",
            "_view_name": "ProgressView",
            "bar_style": "success",
            "description": "",
            "description_tooltip": null,
            "layout": "IPY_MODEL_2ac102c10f38432196550ec3184a7bab",
            "max": 366,
            "min": 0,
            "orientation": "horizontal",
            "style": "IPY_MODEL_27402b702dba49eea8b3fb99e161d6df",
            "value": 366
          }
        },
        "1a389624c8ff4f87b26bab7c73c93044": {
          "model_module": "@jupyter-widgets/controls",
          "model_name": "HTMLModel",
          "model_module_version": "1.5.0",
          "state": {
            "_dom_classes": [],
            "_model_module": "@jupyter-widgets/controls",
            "_model_module_version": "1.5.0",
            "_model_name": "HTMLModel",
            "_view_count": null,
            "_view_module": "@jupyter-widgets/controls",
            "_view_module_version": "1.5.0",
            "_view_name": "HTMLView",
            "description": "",
            "description_tooltip": null,
            "layout": "IPY_MODEL_c179d801fe104554a4b17d737f271796",
            "placeholder": "​",
            "style": "IPY_MODEL_6722abb1ca8a47ae8b6633a29eb02ae6",
            "value": " 366/366 [00:00&lt;00:00, 14.7kB/s]"
          }
        },
        "c8973b5f3f774f80a703d2fdf8d63a0b": {
          "model_module": "@jupyter-widgets/base",
          "model_name": "LayoutModel",
          "model_module_version": "1.2.0",
          "state": {
            "_model_module": "@jupyter-widgets/base",
            "_model_module_version": "1.2.0",
            "_model_name": "LayoutModel",
            "_view_count": null,
            "_view_module": "@jupyter-widgets/base",
            "_view_module_version": "1.2.0",
            "_view_name": "LayoutView",
            "align_content": null,
            "align_items": null,
            "align_self": null,
            "border": null,
            "bottom": null,
            "display": null,
            "flex": null,
            "flex_flow": null,
            "grid_area": null,
            "grid_auto_columns": null,
            "grid_auto_flow": null,
            "grid_auto_rows": null,
            "grid_column": null,
            "grid_gap": null,
            "grid_row": null,
            "grid_template_areas": null,
            "grid_template_columns": null,
            "grid_template_rows": null,
            "height": null,
            "justify_content": null,
            "justify_items": null,
            "left": null,
            "margin": null,
            "max_height": null,
            "max_width": null,
            "min_height": null,
            "min_width": null,
            "object_fit": null,
            "object_position": null,
            "order": null,
            "overflow": null,
            "overflow_x": null,
            "overflow_y": null,
            "padding": null,
            "right": null,
            "top": null,
            "visibility": null,
            "width": null
          }
        },
        "cecc073de88f4e958197dae50cd7ddbc": {
          "model_module": "@jupyter-widgets/base",
          "model_name": "LayoutModel",
          "model_module_version": "1.2.0",
          "state": {
            "_model_module": "@jupyter-widgets/base",
            "_model_module_version": "1.2.0",
            "_model_name": "LayoutModel",
            "_view_count": null,
            "_view_module": "@jupyter-widgets/base",
            "_view_module_version": "1.2.0",
            "_view_name": "LayoutView",
            "align_content": null,
            "align_items": null,
            "align_self": null,
            "border": null,
            "bottom": null,
            "display": null,
            "flex": null,
            "flex_flow": null,
            "grid_area": null,
            "grid_auto_columns": null,
            "grid_auto_flow": null,
            "grid_auto_rows": null,
            "grid_column": null,
            "grid_gap": null,
            "grid_row": null,
            "grid_template_areas": null,
            "grid_template_columns": null,
            "grid_template_rows": null,
            "height": null,
            "justify_content": null,
            "justify_items": null,
            "left": null,
            "margin": null,
            "max_height": null,
            "max_width": null,
            "min_height": null,
            "min_width": null,
            "object_fit": null,
            "object_position": null,
            "order": null,
            "overflow": null,
            "overflow_x": null,
            "overflow_y": null,
            "padding": null,
            "right": null,
            "top": null,
            "visibility": null,
            "width": null
          }
        },
        "6d47e87c071147e58751859312786a19": {
          "model_module": "@jupyter-widgets/controls",
          "model_name": "DescriptionStyleModel",
          "model_module_version": "1.5.0",
          "state": {
            "_model_module": "@jupyter-widgets/controls",
            "_model_module_version": "1.5.0",
            "_model_name": "DescriptionStyleModel",
            "_view_count": null,
            "_view_module": "@jupyter-widgets/base",
            "_view_module_version": "1.2.0",
            "_view_name": "StyleView",
            "description_width": ""
          }
        },
        "2ac102c10f38432196550ec3184a7bab": {
          "model_module": "@jupyter-widgets/base",
          "model_name": "LayoutModel",
          "model_module_version": "1.2.0",
          "state": {
            "_model_module": "@jupyter-widgets/base",
            "_model_module_version": "1.2.0",
            "_model_name": "LayoutModel",
            "_view_count": null,
            "_view_module": "@jupyter-widgets/base",
            "_view_module_version": "1.2.0",
            "_view_name": "LayoutView",
            "align_content": null,
            "align_items": null,
            "align_self": null,
            "border": null,
            "bottom": null,
            "display": null,
            "flex": null,
            "flex_flow": null,
            "grid_area": null,
            "grid_auto_columns": null,
            "grid_auto_flow": null,
            "grid_auto_rows": null,
            "grid_column": null,
            "grid_gap": null,
            "grid_row": null,
            "grid_template_areas": null,
            "grid_template_columns": null,
            "grid_template_rows": null,
            "height": null,
            "justify_content": null,
            "justify_items": null,
            "left": null,
            "margin": null,
            "max_height": null,
            "max_width": null,
            "min_height": null,
            "min_width": null,
            "object_fit": null,
            "object_position": null,
            "order": null,
            "overflow": null,
            "overflow_x": null,
            "overflow_y": null,
            "padding": null,
            "right": null,
            "top": null,
            "visibility": null,
            "width": null
          }
        },
        "27402b702dba49eea8b3fb99e161d6df": {
          "model_module": "@jupyter-widgets/controls",
          "model_name": "ProgressStyleModel",
          "model_module_version": "1.5.0",
          "state": {
            "_model_module": "@jupyter-widgets/controls",
            "_model_module_version": "1.5.0",
            "_model_name": "ProgressStyleModel",
            "_view_count": null,
            "_view_module": "@jupyter-widgets/base",
            "_view_module_version": "1.2.0",
            "_view_name": "StyleView",
            "bar_color": null,
            "description_width": ""
          }
        },
        "c179d801fe104554a4b17d737f271796": {
          "model_module": "@jupyter-widgets/base",
          "model_name": "LayoutModel",
          "model_module_version": "1.2.0",
          "state": {
            "_model_module": "@jupyter-widgets/base",
            "_model_module_version": "1.2.0",
            "_model_name": "LayoutModel",
            "_view_count": null,
            "_view_module": "@jupyter-widgets/base",
            "_view_module_version": "1.2.0",
            "_view_name": "LayoutView",
            "align_content": null,
            "align_items": null,
            "align_self": null,
            "border": null,
            "bottom": null,
            "display": null,
            "flex": null,
            "flex_flow": null,
            "grid_area": null,
            "grid_auto_columns": null,
            "grid_auto_flow": null,
            "grid_auto_rows": null,
            "grid_column": null,
            "grid_gap": null,
            "grid_row": null,
            "grid_template_areas": null,
            "grid_template_columns": null,
            "grid_template_rows": null,
            "height": null,
            "justify_content": null,
            "justify_items": null,
            "left": null,
            "margin": null,
            "max_height": null,
            "max_width": null,
            "min_height": null,
            "min_width": null,
            "object_fit": null,
            "object_position": null,
            "order": null,
            "overflow": null,
            "overflow_x": null,
            "overflow_y": null,
            "padding": null,
            "right": null,
            "top": null,
            "visibility": null,
            "width": null
          }
        },
        "6722abb1ca8a47ae8b6633a29eb02ae6": {
          "model_module": "@jupyter-widgets/controls",
          "model_name": "DescriptionStyleModel",
          "model_module_version": "1.5.0",
          "state": {
            "_model_module": "@jupyter-widgets/controls",
            "_model_module_version": "1.5.0",
            "_model_name": "DescriptionStyleModel",
            "_view_count": null,
            "_view_module": "@jupyter-widgets/base",
            "_view_module_version": "1.2.0",
            "_view_name": "StyleView",
            "description_width": ""
          }
        },
        "1b2691f843534015acd6aad1bea0e5bd": {
          "model_module": "@jupyter-widgets/controls",
          "model_name": "HBoxModel",
          "model_module_version": "1.5.0",
          "state": {
            "_dom_classes": [],
            "_model_module": "@jupyter-widgets/controls",
            "_model_module_version": "1.5.0",
            "_model_name": "HBoxModel",
            "_view_count": null,
            "_view_module": "@jupyter-widgets/controls",
            "_view_module_version": "1.5.0",
            "_view_name": "HBoxView",
            "box_style": "",
            "children": [
              "IPY_MODEL_1b4412402eba423980636461db66e1df",
              "IPY_MODEL_683f0bc28745427f8a75d5696ad10cd5",
              "IPY_MODEL_d497cc95a6354bbb8e20ae7be9f3cf2f"
            ],
            "layout": "IPY_MODEL_cfe0e127b921499484c769d1aa04523a"
          }
        },
        "1b4412402eba423980636461db66e1df": {
          "model_module": "@jupyter-widgets/controls",
          "model_name": "HTMLModel",
          "model_module_version": "1.5.0",
          "state": {
            "_dom_classes": [],
            "_model_module": "@jupyter-widgets/controls",
            "_model_module_version": "1.5.0",
            "_model_name": "HTMLModel",
            "_view_count": null,
            "_view_module": "@jupyter-widgets/controls",
            "_view_module_version": "1.5.0",
            "_view_name": "HTMLView",
            "description": "",
            "description_tooltip": null,
            "layout": "IPY_MODEL_29c8c54923184ff585ed97bd6d21c82b",
            "placeholder": "​",
            "style": "IPY_MODEL_a7df0372215140c1b7853cbe5bb1b365",
            "value": "Downloading (…)solve/main/vocab.txt: 100%"
          }
        },
        "683f0bc28745427f8a75d5696ad10cd5": {
          "model_module": "@jupyter-widgets/controls",
          "model_name": "FloatProgressModel",
          "model_module_version": "1.5.0",
          "state": {
            "_dom_classes": [],
            "_model_module": "@jupyter-widgets/controls",
            "_model_module_version": "1.5.0",
            "_model_name": "FloatProgressModel",
            "_view_count": null,
            "_view_module": "@jupyter-widgets/controls",
            "_view_module_version": "1.5.0",
            "_view_name": "ProgressView",
            "bar_style": "success",
            "description": "",
            "description_tooltip": null,
            "layout": "IPY_MODEL_6dbe19b3ad56404cb9fde7f5e7f8911e",
            "max": 231508,
            "min": 0,
            "orientation": "horizontal",
            "style": "IPY_MODEL_8da5222d08b041a28a0b011171ea7e72",
            "value": 231508
          }
        },
        "d497cc95a6354bbb8e20ae7be9f3cf2f": {
          "model_module": "@jupyter-widgets/controls",
          "model_name": "HTMLModel",
          "model_module_version": "1.5.0",
          "state": {
            "_dom_classes": [],
            "_model_module": "@jupyter-widgets/controls",
            "_model_module_version": "1.5.0",
            "_model_name": "HTMLModel",
            "_view_count": null,
            "_view_module": "@jupyter-widgets/controls",
            "_view_module_version": "1.5.0",
            "_view_name": "HTMLView",
            "description": "",
            "description_tooltip": null,
            "layout": "IPY_MODEL_4a150ad4b63a4152933c86b71334d872",
            "placeholder": "​",
            "style": "IPY_MODEL_19d1b0f7186748be942529a746cfd873",
            "value": " 232k/232k [00:00&lt;00:00, 2.91MB/s]"
          }
        },
        "cfe0e127b921499484c769d1aa04523a": {
          "model_module": "@jupyter-widgets/base",
          "model_name": "LayoutModel",
          "model_module_version": "1.2.0",
          "state": {
            "_model_module": "@jupyter-widgets/base",
            "_model_module_version": "1.2.0",
            "_model_name": "LayoutModel",
            "_view_count": null,
            "_view_module": "@jupyter-widgets/base",
            "_view_module_version": "1.2.0",
            "_view_name": "LayoutView",
            "align_content": null,
            "align_items": null,
            "align_self": null,
            "border": null,
            "bottom": null,
            "display": null,
            "flex": null,
            "flex_flow": null,
            "grid_area": null,
            "grid_auto_columns": null,
            "grid_auto_flow": null,
            "grid_auto_rows": null,
            "grid_column": null,
            "grid_gap": null,
            "grid_row": null,
            "grid_template_areas": null,
            "grid_template_columns": null,
            "grid_template_rows": null,
            "height": null,
            "justify_content": null,
            "justify_items": null,
            "left": null,
            "margin": null,
            "max_height": null,
            "max_width": null,
            "min_height": null,
            "min_width": null,
            "object_fit": null,
            "object_position": null,
            "order": null,
            "overflow": null,
            "overflow_x": null,
            "overflow_y": null,
            "padding": null,
            "right": null,
            "top": null,
            "visibility": null,
            "width": null
          }
        },
        "29c8c54923184ff585ed97bd6d21c82b": {
          "model_module": "@jupyter-widgets/base",
          "model_name": "LayoutModel",
          "model_module_version": "1.2.0",
          "state": {
            "_model_module": "@jupyter-widgets/base",
            "_model_module_version": "1.2.0",
            "_model_name": "LayoutModel",
            "_view_count": null,
            "_view_module": "@jupyter-widgets/base",
            "_view_module_version": "1.2.0",
            "_view_name": "LayoutView",
            "align_content": null,
            "align_items": null,
            "align_self": null,
            "border": null,
            "bottom": null,
            "display": null,
            "flex": null,
            "flex_flow": null,
            "grid_area": null,
            "grid_auto_columns": null,
            "grid_auto_flow": null,
            "grid_auto_rows": null,
            "grid_column": null,
            "grid_gap": null,
            "grid_row": null,
            "grid_template_areas": null,
            "grid_template_columns": null,
            "grid_template_rows": null,
            "height": null,
            "justify_content": null,
            "justify_items": null,
            "left": null,
            "margin": null,
            "max_height": null,
            "max_width": null,
            "min_height": null,
            "min_width": null,
            "object_fit": null,
            "object_position": null,
            "order": null,
            "overflow": null,
            "overflow_x": null,
            "overflow_y": null,
            "padding": null,
            "right": null,
            "top": null,
            "visibility": null,
            "width": null
          }
        },
        "a7df0372215140c1b7853cbe5bb1b365": {
          "model_module": "@jupyter-widgets/controls",
          "model_name": "DescriptionStyleModel",
          "model_module_version": "1.5.0",
          "state": {
            "_model_module": "@jupyter-widgets/controls",
            "_model_module_version": "1.5.0",
            "_model_name": "DescriptionStyleModel",
            "_view_count": null,
            "_view_module": "@jupyter-widgets/base",
            "_view_module_version": "1.2.0",
            "_view_name": "StyleView",
            "description_width": ""
          }
        },
        "6dbe19b3ad56404cb9fde7f5e7f8911e": {
          "model_module": "@jupyter-widgets/base",
          "model_name": "LayoutModel",
          "model_module_version": "1.2.0",
          "state": {
            "_model_module": "@jupyter-widgets/base",
            "_model_module_version": "1.2.0",
            "_model_name": "LayoutModel",
            "_view_count": null,
            "_view_module": "@jupyter-widgets/base",
            "_view_module_version": "1.2.0",
            "_view_name": "LayoutView",
            "align_content": null,
            "align_items": null,
            "align_self": null,
            "border": null,
            "bottom": null,
            "display": null,
            "flex": null,
            "flex_flow": null,
            "grid_area": null,
            "grid_auto_columns": null,
            "grid_auto_flow": null,
            "grid_auto_rows": null,
            "grid_column": null,
            "grid_gap": null,
            "grid_row": null,
            "grid_template_areas": null,
            "grid_template_columns": null,
            "grid_template_rows": null,
            "height": null,
            "justify_content": null,
            "justify_items": null,
            "left": null,
            "margin": null,
            "max_height": null,
            "max_width": null,
            "min_height": null,
            "min_width": null,
            "object_fit": null,
            "object_position": null,
            "order": null,
            "overflow": null,
            "overflow_x": null,
            "overflow_y": null,
            "padding": null,
            "right": null,
            "top": null,
            "visibility": null,
            "width": null
          }
        },
        "8da5222d08b041a28a0b011171ea7e72": {
          "model_module": "@jupyter-widgets/controls",
          "model_name": "ProgressStyleModel",
          "model_module_version": "1.5.0",
          "state": {
            "_model_module": "@jupyter-widgets/controls",
            "_model_module_version": "1.5.0",
            "_model_name": "ProgressStyleModel",
            "_view_count": null,
            "_view_module": "@jupyter-widgets/base",
            "_view_module_version": "1.2.0",
            "_view_name": "StyleView",
            "bar_color": null,
            "description_width": ""
          }
        },
        "4a150ad4b63a4152933c86b71334d872": {
          "model_module": "@jupyter-widgets/base",
          "model_name": "LayoutModel",
          "model_module_version": "1.2.0",
          "state": {
            "_model_module": "@jupyter-widgets/base",
            "_model_module_version": "1.2.0",
            "_model_name": "LayoutModel",
            "_view_count": null,
            "_view_module": "@jupyter-widgets/base",
            "_view_module_version": "1.2.0",
            "_view_name": "LayoutView",
            "align_content": null,
            "align_items": null,
            "align_self": null,
            "border": null,
            "bottom": null,
            "display": null,
            "flex": null,
            "flex_flow": null,
            "grid_area": null,
            "grid_auto_columns": null,
            "grid_auto_flow": null,
            "grid_auto_rows": null,
            "grid_column": null,
            "grid_gap": null,
            "grid_row": null,
            "grid_template_areas": null,
            "grid_template_columns": null,
            "grid_template_rows": null,
            "height": null,
            "justify_content": null,
            "justify_items": null,
            "left": null,
            "margin": null,
            "max_height": null,
            "max_width": null,
            "min_height": null,
            "min_width": null,
            "object_fit": null,
            "object_position": null,
            "order": null,
            "overflow": null,
            "overflow_x": null,
            "overflow_y": null,
            "padding": null,
            "right": null,
            "top": null,
            "visibility": null,
            "width": null
          }
        },
        "19d1b0f7186748be942529a746cfd873": {
          "model_module": "@jupyter-widgets/controls",
          "model_name": "DescriptionStyleModel",
          "model_module_version": "1.5.0",
          "state": {
            "_model_module": "@jupyter-widgets/controls",
            "_model_module_version": "1.5.0",
            "_model_name": "DescriptionStyleModel",
            "_view_count": null,
            "_view_module": "@jupyter-widgets/base",
            "_view_module_version": "1.2.0",
            "_view_name": "StyleView",
            "description_width": ""
          }
        },
        "3a6ac8dd40ed4cb89e45c8134910c6fa": {
          "model_module": "@jupyter-widgets/controls",
          "model_name": "HBoxModel",
          "model_module_version": "1.5.0",
          "state": {
            "_dom_classes": [],
            "_model_module": "@jupyter-widgets/controls",
            "_model_module_version": "1.5.0",
            "_model_name": "HBoxModel",
            "_view_count": null,
            "_view_module": "@jupyter-widgets/controls",
            "_view_module_version": "1.5.0",
            "_view_name": "HBoxView",
            "box_style": "",
            "children": [
              "IPY_MODEL_ab236472c0eb4401988a0c88481da337",
              "IPY_MODEL_8c57fc5aa8c0416782432f648cc5e1cf",
              "IPY_MODEL_597ea89e532247c1a9ab4c7774b05415"
            ],
            "layout": "IPY_MODEL_3ce3ee31c4c14d12beff64eff3836479"
          }
        },
        "ab236472c0eb4401988a0c88481da337": {
          "model_module": "@jupyter-widgets/controls",
          "model_name": "HTMLModel",
          "model_module_version": "1.5.0",
          "state": {
            "_dom_classes": [],
            "_model_module": "@jupyter-widgets/controls",
            "_model_module_version": "1.5.0",
            "_model_name": "HTMLModel",
            "_view_count": null,
            "_view_module": "@jupyter-widgets/controls",
            "_view_module_version": "1.5.0",
            "_view_name": "HTMLView",
            "description": "",
            "description_tooltip": null,
            "layout": "IPY_MODEL_e480a23fca8b4f80be5c2c9d001941a3",
            "placeholder": "​",
            "style": "IPY_MODEL_de727b29b6dd4e20a0f25d2efc1a2505",
            "value": "Downloading (…)/main/tokenizer.json: 100%"
          }
        },
        "8c57fc5aa8c0416782432f648cc5e1cf": {
          "model_module": "@jupyter-widgets/controls",
          "model_name": "FloatProgressModel",
          "model_module_version": "1.5.0",
          "state": {
            "_dom_classes": [],
            "_model_module": "@jupyter-widgets/controls",
            "_model_module_version": "1.5.0",
            "_model_name": "FloatProgressModel",
            "_view_count": null,
            "_view_module": "@jupyter-widgets/controls",
            "_view_module_version": "1.5.0",
            "_view_name": "ProgressView",
            "bar_style": "success",
            "description": "",
            "description_tooltip": null,
            "layout": "IPY_MODEL_41c95fc4aecf49f19b653535384ecf54",
            "max": 711396,
            "min": 0,
            "orientation": "horizontal",
            "style": "IPY_MODEL_bddbfaa326c9489a9411750eb629256e",
            "value": 711396
          }
        },
        "597ea89e532247c1a9ab4c7774b05415": {
          "model_module": "@jupyter-widgets/controls",
          "model_name": "HTMLModel",
          "model_module_version": "1.5.0",
          "state": {
            "_dom_classes": [],
            "_model_module": "@jupyter-widgets/controls",
            "_model_module_version": "1.5.0",
            "_model_name": "HTMLModel",
            "_view_count": null,
            "_view_module": "@jupyter-widgets/controls",
            "_view_module_version": "1.5.0",
            "_view_name": "HTMLView",
            "description": "",
            "description_tooltip": null,
            "layout": "IPY_MODEL_643f03aef1e04d9fbe4899ed58b2a2f6",
            "placeholder": "​",
            "style": "IPY_MODEL_b455c17fe825460286958889f86ed4e2",
            "value": " 711k/711k [00:00&lt;00:00, 16.6MB/s]"
          }
        },
        "3ce3ee31c4c14d12beff64eff3836479": {
          "model_module": "@jupyter-widgets/base",
          "model_name": "LayoutModel",
          "model_module_version": "1.2.0",
          "state": {
            "_model_module": "@jupyter-widgets/base",
            "_model_module_version": "1.2.0",
            "_model_name": "LayoutModel",
            "_view_count": null,
            "_view_module": "@jupyter-widgets/base",
            "_view_module_version": "1.2.0",
            "_view_name": "LayoutView",
            "align_content": null,
            "align_items": null,
            "align_self": null,
            "border": null,
            "bottom": null,
            "display": null,
            "flex": null,
            "flex_flow": null,
            "grid_area": null,
            "grid_auto_columns": null,
            "grid_auto_flow": null,
            "grid_auto_rows": null,
            "grid_column": null,
            "grid_gap": null,
            "grid_row": null,
            "grid_template_areas": null,
            "grid_template_columns": null,
            "grid_template_rows": null,
            "height": null,
            "justify_content": null,
            "justify_items": null,
            "left": null,
            "margin": null,
            "max_height": null,
            "max_width": null,
            "min_height": null,
            "min_width": null,
            "object_fit": null,
            "object_position": null,
            "order": null,
            "overflow": null,
            "overflow_x": null,
            "overflow_y": null,
            "padding": null,
            "right": null,
            "top": null,
            "visibility": null,
            "width": null
          }
        },
        "e480a23fca8b4f80be5c2c9d001941a3": {
          "model_module": "@jupyter-widgets/base",
          "model_name": "LayoutModel",
          "model_module_version": "1.2.0",
          "state": {
            "_model_module": "@jupyter-widgets/base",
            "_model_module_version": "1.2.0",
            "_model_name": "LayoutModel",
            "_view_count": null,
            "_view_module": "@jupyter-widgets/base",
            "_view_module_version": "1.2.0",
            "_view_name": "LayoutView",
            "align_content": null,
            "align_items": null,
            "align_self": null,
            "border": null,
            "bottom": null,
            "display": null,
            "flex": null,
            "flex_flow": null,
            "grid_area": null,
            "grid_auto_columns": null,
            "grid_auto_flow": null,
            "grid_auto_rows": null,
            "grid_column": null,
            "grid_gap": null,
            "grid_row": null,
            "grid_template_areas": null,
            "grid_template_columns": null,
            "grid_template_rows": null,
            "height": null,
            "justify_content": null,
            "justify_items": null,
            "left": null,
            "margin": null,
            "max_height": null,
            "max_width": null,
            "min_height": null,
            "min_width": null,
            "object_fit": null,
            "object_position": null,
            "order": null,
            "overflow": null,
            "overflow_x": null,
            "overflow_y": null,
            "padding": null,
            "right": null,
            "top": null,
            "visibility": null,
            "width": null
          }
        },
        "de727b29b6dd4e20a0f25d2efc1a2505": {
          "model_module": "@jupyter-widgets/controls",
          "model_name": "DescriptionStyleModel",
          "model_module_version": "1.5.0",
          "state": {
            "_model_module": "@jupyter-widgets/controls",
            "_model_module_version": "1.5.0",
            "_model_name": "DescriptionStyleModel",
            "_view_count": null,
            "_view_module": "@jupyter-widgets/base",
            "_view_module_version": "1.2.0",
            "_view_name": "StyleView",
            "description_width": ""
          }
        },
        "41c95fc4aecf49f19b653535384ecf54": {
          "model_module": "@jupyter-widgets/base",
          "model_name": "LayoutModel",
          "model_module_version": "1.2.0",
          "state": {
            "_model_module": "@jupyter-widgets/base",
            "_model_module_version": "1.2.0",
            "_model_name": "LayoutModel",
            "_view_count": null,
            "_view_module": "@jupyter-widgets/base",
            "_view_module_version": "1.2.0",
            "_view_name": "LayoutView",
            "align_content": null,
            "align_items": null,
            "align_self": null,
            "border": null,
            "bottom": null,
            "display": null,
            "flex": null,
            "flex_flow": null,
            "grid_area": null,
            "grid_auto_columns": null,
            "grid_auto_flow": null,
            "grid_auto_rows": null,
            "grid_column": null,
            "grid_gap": null,
            "grid_row": null,
            "grid_template_areas": null,
            "grid_template_columns": null,
            "grid_template_rows": null,
            "height": null,
            "justify_content": null,
            "justify_items": null,
            "left": null,
            "margin": null,
            "max_height": null,
            "max_width": null,
            "min_height": null,
            "min_width": null,
            "object_fit": null,
            "object_position": null,
            "order": null,
            "overflow": null,
            "overflow_x": null,
            "overflow_y": null,
            "padding": null,
            "right": null,
            "top": null,
            "visibility": null,
            "width": null
          }
        },
        "bddbfaa326c9489a9411750eb629256e": {
          "model_module": "@jupyter-widgets/controls",
          "model_name": "ProgressStyleModel",
          "model_module_version": "1.5.0",
          "state": {
            "_model_module": "@jupyter-widgets/controls",
            "_model_module_version": "1.5.0",
            "_model_name": "ProgressStyleModel",
            "_view_count": null,
            "_view_module": "@jupyter-widgets/base",
            "_view_module_version": "1.2.0",
            "_view_name": "StyleView",
            "bar_color": null,
            "description_width": ""
          }
        },
        "643f03aef1e04d9fbe4899ed58b2a2f6": {
          "model_module": "@jupyter-widgets/base",
          "model_name": "LayoutModel",
          "model_module_version": "1.2.0",
          "state": {
            "_model_module": "@jupyter-widgets/base",
            "_model_module_version": "1.2.0",
            "_model_name": "LayoutModel",
            "_view_count": null,
            "_view_module": "@jupyter-widgets/base",
            "_view_module_version": "1.2.0",
            "_view_name": "LayoutView",
            "align_content": null,
            "align_items": null,
            "align_self": null,
            "border": null,
            "bottom": null,
            "display": null,
            "flex": null,
            "flex_flow": null,
            "grid_area": null,
            "grid_auto_columns": null,
            "grid_auto_flow": null,
            "grid_auto_rows": null,
            "grid_column": null,
            "grid_gap": null,
            "grid_row": null,
            "grid_template_areas": null,
            "grid_template_columns": null,
            "grid_template_rows": null,
            "height": null,
            "justify_content": null,
            "justify_items": null,
            "left": null,
            "margin": null,
            "max_height": null,
            "max_width": null,
            "min_height": null,
            "min_width": null,
            "object_fit": null,
            "object_position": null,
            "order": null,
            "overflow": null,
            "overflow_x": null,
            "overflow_y": null,
            "padding": null,
            "right": null,
            "top": null,
            "visibility": null,
            "width": null
          }
        },
        "b455c17fe825460286958889f86ed4e2": {
          "model_module": "@jupyter-widgets/controls",
          "model_name": "DescriptionStyleModel",
          "model_module_version": "1.5.0",
          "state": {
            "_model_module": "@jupyter-widgets/controls",
            "_model_module_version": "1.5.0",
            "_model_name": "DescriptionStyleModel",
            "_view_count": null,
            "_view_module": "@jupyter-widgets/base",
            "_view_module_version": "1.2.0",
            "_view_name": "StyleView",
            "description_width": ""
          }
        },
        "8babddfc06294e10843c3bdd391efb4c": {
          "model_module": "@jupyter-widgets/controls",
          "model_name": "HBoxModel",
          "model_module_version": "1.5.0",
          "state": {
            "_dom_classes": [],
            "_model_module": "@jupyter-widgets/controls",
            "_model_module_version": "1.5.0",
            "_model_name": "HBoxModel",
            "_view_count": null,
            "_view_module": "@jupyter-widgets/controls",
            "_view_module_version": "1.5.0",
            "_view_name": "HBoxView",
            "box_style": "",
            "children": [
              "IPY_MODEL_31d3c70c3ef44e83b802a71259bb68cf",
              "IPY_MODEL_c800bb0b5e974688913067bfd9543fbe",
              "IPY_MODEL_8161ba9d78204d22b18371ecf7538a6f"
            ],
            "layout": "IPY_MODEL_db2d9640b6024d2c83ec915d507bf718"
          }
        },
        "31d3c70c3ef44e83b802a71259bb68cf": {
          "model_module": "@jupyter-widgets/controls",
          "model_name": "HTMLModel",
          "model_module_version": "1.5.0",
          "state": {
            "_dom_classes": [],
            "_model_module": "@jupyter-widgets/controls",
            "_model_module_version": "1.5.0",
            "_model_name": "HTMLModel",
            "_view_count": null,
            "_view_module": "@jupyter-widgets/controls",
            "_view_module_version": "1.5.0",
            "_view_name": "HTMLView",
            "description": "",
            "description_tooltip": null,
            "layout": "IPY_MODEL_286e49935d2f43bdbb180f8a2ce716e0",
            "placeholder": "​",
            "style": "IPY_MODEL_87f08aa61bb2426c97e215c2b011d5bd",
            "value": "Downloading (…)cial_tokens_map.json: 100%"
          }
        },
        "c800bb0b5e974688913067bfd9543fbe": {
          "model_module": "@jupyter-widgets/controls",
          "model_name": "FloatProgressModel",
          "model_module_version": "1.5.0",
          "state": {
            "_dom_classes": [],
            "_model_module": "@jupyter-widgets/controls",
            "_model_module_version": "1.5.0",
            "_model_name": "FloatProgressModel",
            "_view_count": null,
            "_view_module": "@jupyter-widgets/controls",
            "_view_module_version": "1.5.0",
            "_view_name": "ProgressView",
            "bar_style": "success",
            "description": "",
            "description_tooltip": null,
            "layout": "IPY_MODEL_2c7141ded9224747ba647c3d710ae339",
            "max": 125,
            "min": 0,
            "orientation": "horizontal",
            "style": "IPY_MODEL_154cd156dbe04e928796cf57ad634c58",
            "value": 125
          }
        },
        "8161ba9d78204d22b18371ecf7538a6f": {
          "model_module": "@jupyter-widgets/controls",
          "model_name": "HTMLModel",
          "model_module_version": "1.5.0",
          "state": {
            "_dom_classes": [],
            "_model_module": "@jupyter-widgets/controls",
            "_model_module_version": "1.5.0",
            "_model_name": "HTMLModel",
            "_view_count": null,
            "_view_module": "@jupyter-widgets/controls",
            "_view_module_version": "1.5.0",
            "_view_name": "HTMLView",
            "description": "",
            "description_tooltip": null,
            "layout": "IPY_MODEL_90e0691f264d4a9c8e0869ae5a4d4b75",
            "placeholder": "​",
            "style": "IPY_MODEL_181ac106220d4beebb96bda11b6d22ed",
            "value": " 125/125 [00:00&lt;00:00, 4.58kB/s]"
          }
        },
        "db2d9640b6024d2c83ec915d507bf718": {
          "model_module": "@jupyter-widgets/base",
          "model_name": "LayoutModel",
          "model_module_version": "1.2.0",
          "state": {
            "_model_module": "@jupyter-widgets/base",
            "_model_module_version": "1.2.0",
            "_model_name": "LayoutModel",
            "_view_count": null,
            "_view_module": "@jupyter-widgets/base",
            "_view_module_version": "1.2.0",
            "_view_name": "LayoutView",
            "align_content": null,
            "align_items": null,
            "align_self": null,
            "border": null,
            "bottom": null,
            "display": null,
            "flex": null,
            "flex_flow": null,
            "grid_area": null,
            "grid_auto_columns": null,
            "grid_auto_flow": null,
            "grid_auto_rows": null,
            "grid_column": null,
            "grid_gap": null,
            "grid_row": null,
            "grid_template_areas": null,
            "grid_template_columns": null,
            "grid_template_rows": null,
            "height": null,
            "justify_content": null,
            "justify_items": null,
            "left": null,
            "margin": null,
            "max_height": null,
            "max_width": null,
            "min_height": null,
            "min_width": null,
            "object_fit": null,
            "object_position": null,
            "order": null,
            "overflow": null,
            "overflow_x": null,
            "overflow_y": null,
            "padding": null,
            "right": null,
            "top": null,
            "visibility": null,
            "width": null
          }
        },
        "286e49935d2f43bdbb180f8a2ce716e0": {
          "model_module": "@jupyter-widgets/base",
          "model_name": "LayoutModel",
          "model_module_version": "1.2.0",
          "state": {
            "_model_module": "@jupyter-widgets/base",
            "_model_module_version": "1.2.0",
            "_model_name": "LayoutModel",
            "_view_count": null,
            "_view_module": "@jupyter-widgets/base",
            "_view_module_version": "1.2.0",
            "_view_name": "LayoutView",
            "align_content": null,
            "align_items": null,
            "align_self": null,
            "border": null,
            "bottom": null,
            "display": null,
            "flex": null,
            "flex_flow": null,
            "grid_area": null,
            "grid_auto_columns": null,
            "grid_auto_flow": null,
            "grid_auto_rows": null,
            "grid_column": null,
            "grid_gap": null,
            "grid_row": null,
            "grid_template_areas": null,
            "grid_template_columns": null,
            "grid_template_rows": null,
            "height": null,
            "justify_content": null,
            "justify_items": null,
            "left": null,
            "margin": null,
            "max_height": null,
            "max_width": null,
            "min_height": null,
            "min_width": null,
            "object_fit": null,
            "object_position": null,
            "order": null,
            "overflow": null,
            "overflow_x": null,
            "overflow_y": null,
            "padding": null,
            "right": null,
            "top": null,
            "visibility": null,
            "width": null
          }
        },
        "87f08aa61bb2426c97e215c2b011d5bd": {
          "model_module": "@jupyter-widgets/controls",
          "model_name": "DescriptionStyleModel",
          "model_module_version": "1.5.0",
          "state": {
            "_model_module": "@jupyter-widgets/controls",
            "_model_module_version": "1.5.0",
            "_model_name": "DescriptionStyleModel",
            "_view_count": null,
            "_view_module": "@jupyter-widgets/base",
            "_view_module_version": "1.2.0",
            "_view_name": "StyleView",
            "description_width": ""
          }
        },
        "2c7141ded9224747ba647c3d710ae339": {
          "model_module": "@jupyter-widgets/base",
          "model_name": "LayoutModel",
          "model_module_version": "1.2.0",
          "state": {
            "_model_module": "@jupyter-widgets/base",
            "_model_module_version": "1.2.0",
            "_model_name": "LayoutModel",
            "_view_count": null,
            "_view_module": "@jupyter-widgets/base",
            "_view_module_version": "1.2.0",
            "_view_name": "LayoutView",
            "align_content": null,
            "align_items": null,
            "align_self": null,
            "border": null,
            "bottom": null,
            "display": null,
            "flex": null,
            "flex_flow": null,
            "grid_area": null,
            "grid_auto_columns": null,
            "grid_auto_flow": null,
            "grid_auto_rows": null,
            "grid_column": null,
            "grid_gap": null,
            "grid_row": null,
            "grid_template_areas": null,
            "grid_template_columns": null,
            "grid_template_rows": null,
            "height": null,
            "justify_content": null,
            "justify_items": null,
            "left": null,
            "margin": null,
            "max_height": null,
            "max_width": null,
            "min_height": null,
            "min_width": null,
            "object_fit": null,
            "object_position": null,
            "order": null,
            "overflow": null,
            "overflow_x": null,
            "overflow_y": null,
            "padding": null,
            "right": null,
            "top": null,
            "visibility": null,
            "width": null
          }
        },
        "154cd156dbe04e928796cf57ad634c58": {
          "model_module": "@jupyter-widgets/controls",
          "model_name": "ProgressStyleModel",
          "model_module_version": "1.5.0",
          "state": {
            "_model_module": "@jupyter-widgets/controls",
            "_model_module_version": "1.5.0",
            "_model_name": "ProgressStyleModel",
            "_view_count": null,
            "_view_module": "@jupyter-widgets/base",
            "_view_module_version": "1.2.0",
            "_view_name": "StyleView",
            "bar_color": null,
            "description_width": ""
          }
        },
        "90e0691f264d4a9c8e0869ae5a4d4b75": {
          "model_module": "@jupyter-widgets/base",
          "model_name": "LayoutModel",
          "model_module_version": "1.2.0",
          "state": {
            "_model_module": "@jupyter-widgets/base",
            "_model_module_version": "1.2.0",
            "_model_name": "LayoutModel",
            "_view_count": null,
            "_view_module": "@jupyter-widgets/base",
            "_view_module_version": "1.2.0",
            "_view_name": "LayoutView",
            "align_content": null,
            "align_items": null,
            "align_self": null,
            "border": null,
            "bottom": null,
            "display": null,
            "flex": null,
            "flex_flow": null,
            "grid_area": null,
            "grid_auto_columns": null,
            "grid_auto_flow": null,
            "grid_auto_rows": null,
            "grid_column": null,
            "grid_gap": null,
            "grid_row": null,
            "grid_template_areas": null,
            "grid_template_columns": null,
            "grid_template_rows": null,
            "height": null,
            "justify_content": null,
            "justify_items": null,
            "left": null,
            "margin": null,
            "max_height": null,
            "max_width": null,
            "min_height": null,
            "min_width": null,
            "object_fit": null,
            "object_position": null,
            "order": null,
            "overflow": null,
            "overflow_x": null,
            "overflow_y": null,
            "padding": null,
            "right": null,
            "top": null,
            "visibility": null,
            "width": null
          }
        },
        "181ac106220d4beebb96bda11b6d22ed": {
          "model_module": "@jupyter-widgets/controls",
          "model_name": "DescriptionStyleModel",
          "model_module_version": "1.5.0",
          "state": {
            "_model_module": "@jupyter-widgets/controls",
            "_model_module_version": "1.5.0",
            "_model_name": "DescriptionStyleModel",
            "_view_count": null,
            "_view_module": "@jupyter-widgets/base",
            "_view_module_version": "1.2.0",
            "_view_name": "StyleView",
            "description_width": ""
          }
        }
      }
    }
  },
  "nbformat": 4,
  "nbformat_minor": 5
}