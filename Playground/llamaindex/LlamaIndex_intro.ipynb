{
  "cells": [
    {
      "cell_type": "markdown",
      "metadata": {
        "id": "mlVz3NHxgk0h"
      },
      "source": [
        "# LlamaIndex\n",
        "## [Youtube Video covering this notebook](https://youtu.be/QNKeNiRjtGQ?si=UFH9WL5nXvmj2EM1)\n",
        "- [LlamaIndex Website](https://www.llamaindex.ai/)\n",
        "- [LangChain Website](https://python.langchain.com/docs/get_started/introduction)\n",
        "-[Retrieval-Augmented Generation (RAG)](https://research.ibm.com/blog/retrieval-augmented-generation-RAG)\n"
      ]
    },
    {
      "cell_type": "markdown",
      "metadata": {
        "id": "HoDC_DKkj6Ga"
      },
      "source": [
        "## Install libraries and Env Setup"
      ]
    },
    {
      "cell_type": "code",
      "execution_count": 1,
      "metadata": {
        "id": "nW_0yKusLRWK"
      },
      "outputs": [],
      "source": [
        "%%capture\n",
        "!pip install llama-index openai"
      ]
    },
    {
      "cell_type": "code",
      "execution_count": 2,
      "metadata": {
        "id": "wwiMDG-2Z3je"
      },
      "outputs": [],
      "source": [
        "import os\n",
        "# https://platform.openai.com/account/api-keys\n",
        "os.environ[\"OPENAI_API_KEY\"] = \"YOUR_OPENAI_API_KEY\""
      ]
    },
    {
      "cell_type": "markdown",
      "metadata": {
        "id": "I2UAfS56lZh-"
      },
      "source": [
        "## Implementation"
      ]
    },
    {
      "cell_type": "code",
      "execution_count": 3,
      "metadata": {
        "id": "bwdh1lj6g_pz"
      },
      "outputs": [],
      "source": [
        "# Import necessary packages\n",
        "from llama_index.llms.openai import OpenAI\n",
        "from llama_index.core import VectorStoreIndex,SimpleDirectoryReader\n",
        "from IPython.display import Markdown, display"
      ]
    },
    {
      "cell_type": "code",
      "execution_count": 4,
      "metadata": {
        "id": "l2api1uzlIEj"
      },
      "outputs": [],
      "source": [
        "#VectorStoreIndex??\n",
        "#SimpleDirectoryReader??"
      ]
    },
    {
      "cell_type": "code",
      "execution_count": 5,
      "metadata": {
        "colab": {
          "base_uri": "https://localhost:8080/"
        },
        "id": "1gS480x_lwSx",
        "outputId": "97a538fe-dd99-4e20-d79f-ec87bd30715e"
      },
      "outputs": [
        {
          "name": "stdout",
          "output_type": "stream",
          "text": [
            "PDF downloaded successfully to data\n",
            "PDF renamed to attention-is-all-you-need.pdf\n"
          ]
        }
      ],
      "source": [
        "import os\n",
        "import subprocess\n",
        "\n",
        "# Specify the URL of the PDF file you want to download\n",
        "pdf_url = \"https://browse.arxiv.org/pdf/1706.03762.pdf\"\n",
        "\n",
        "# Specify the directory where you want to save the PDF file\n",
        "download_dir = \"data\"\n",
        "\n",
        "# Specify the desired new name for the downloaded PDF file\n",
        "new_filename = \"attention-is-all-you-need.pdf\"\n",
        "\n",
        "# Create the directory if it doesn't exist\n",
        "if not os.path.exists(download_dir):\n",
        "    os.makedirs(download_dir)\n",
        "\n",
        "# Use wget to download the PDF file into the directory\n",
        "command = f\"wget -P {download_dir} {pdf_url}\"\n",
        "\n",
        "# Execute the wget command using subprocess\n",
        "try:\n",
        "    subprocess.run(command, shell=True, check=True)\n",
        "    print(f\"PDF downloaded successfully to {download_dir}\")\n",
        "\n",
        "    # Rename the downloaded file to the desired name\n",
        "    old_filepath = os.path.join(download_dir, os.path.basename(pdf_url))\n",
        "    new_filepath = os.path.join(download_dir, new_filename)\n",
        "    os.rename(old_filepath, new_filepath)\n",
        "    print(f\"PDF renamed to {new_filename}\")\n",
        "except subprocess.CalledProcessError as e:\n",
        "    print(f\"Error: {e}\")"
      ]
    },
    {
      "cell_type": "code",
      "execution_count": 6,
      "metadata": {
        "id": "QIbKYlKhnMLy"
      },
      "outputs": [],
      "source": [
        "%%capture\n",
        "!pip install pypdf"
      ]
    },
    {
      "cell_type": "markdown",
      "metadata": {
        "id": "3GGPMIiOpF4b"
      },
      "source": [
        "## Load documents and build index"
      ]
    },
    {
      "cell_type": "code",
      "execution_count": 7,
      "metadata": {
        "id": "y0hb-49phJj0"
      },
      "outputs": [],
      "source": [
        "#document loader\n",
        "documents = SimpleDirectoryReader(\"data\").load_data()"
      ]
    },
    {
      "cell_type": "code",
      "execution_count": 8,
      "metadata": {
        "colab": {
          "base_uri": "https://localhost:8080/"
        },
        "id": "2AVyRO7bnSw7",
        "outputId": "aab74492-947f-4fee-eda5-4864904d96c7"
      },
      "outputs": [
        {
          "data": {
            "text/plain": [
              "15"
            ]
          },
          "execution_count": 8,
          "metadata": {},
          "output_type": "execute_result"
        }
      ],
      "source": [
        "len(documents)"
      ]
    },
    {
      "cell_type": "code",
      "execution_count": 9,
      "metadata": {
        "colab": {
          "base_uri": "https://localhost:8080/"
        },
        "id": "c5czlXaU6gPq",
        "outputId": "a3b50014-58fa-4d4a-931e-e8e7b732a21b"
      },
      "outputs": [
        {
          "data": {
            "text/plain": [
              "Document(id_='c3b200c2-1d14-446a-b80b-04ec9d839cb3', embedding=None, metadata={'page_label': '1', 'file_name': 'attention-is-all-you-need.pdf', 'file_path': '/content/data/attention-is-all-you-need.pdf', 'file_type': 'application/pdf', 'file_size': 2215244, 'creation_date': '2024-04-17', 'last_modified_date': '2024-04-12'}, excluded_embed_metadata_keys=['file_name', 'file_type', 'file_size', 'creation_date', 'last_modified_date', 'last_accessed_date'], excluded_llm_metadata_keys=['file_name', 'file_type', 'file_size', 'creation_date', 'last_modified_date', 'last_accessed_date'], relationships={}, text='Provided proper attribution is provided, Google hereby grants permission to\\nreproduce the tables and figures in this paper solely for use in journalistic or\\nscholarly works.\\nAttention Is All You Need\\nAshish Vaswani∗\\nGoogle Brain\\navaswani@google.comNoam Shazeer∗\\nGoogle Brain\\nnoam@google.comNiki Parmar∗\\nGoogle Research\\nnikip@google.comJakob Uszkoreit∗\\nGoogle Research\\nusz@google.com\\nLlion Jones∗\\nGoogle Research\\nllion@google.comAidan N. Gomez∗ †\\nUniversity of Toronto\\naidan@cs.toronto.eduŁukasz Kaiser∗\\nGoogle Brain\\nlukaszkaiser@google.com\\nIllia Polosukhin∗ ‡\\nillia.polosukhin@gmail.com\\nAbstract\\nThe dominant sequence transduction models are based on complex recurrent or\\nconvolutional neural networks that include an encoder and a decoder. The best\\nperforming models also connect the encoder and decoder through an attention\\nmechanism. We propose a new simple network architecture, the Transformer,\\nbased solely on attention mechanisms, dispensing with recurrence and convolutions\\nentirely. Experiments on two machine translation tasks show these models to\\nbe superior in quality while being more parallelizable and requiring significantly\\nless time to train. Our model achieves 28.4 BLEU on the WMT 2014 English-\\nto-German translation task, improving over the existing best results, including\\nensembles, by over 2 BLEU. On the WMT 2014 English-to-French translation task,\\nour model establishes a new single-model state-of-the-art BLEU score of 41.8 after\\ntraining for 3.5 days on eight GPUs, a small fraction of the training costs of the\\nbest models from the literature. We show that the Transformer generalizes well to\\nother tasks by applying it successfully to English constituency parsing both with\\nlarge and limited training data.\\n∗Equal contribution. Listing order is random. Jakob proposed replacing RNNs with self-attention and started\\nthe effort to evaluate this idea. Ashish, with Illia, designed and implemented the first Transformer models and\\nhas been crucially involved in every aspect of this work. Noam proposed scaled dot-product attention, multi-head\\nattention and the parameter-free position representation and became the other person involved in nearly every\\ndetail. Niki designed, implemented, tuned and evaluated countless model variants in our original codebase and\\ntensor2tensor. Llion also experimented with novel model variants, was responsible for our initial codebase, and\\nefficient inference and visualizations. Lukasz and Aidan spent countless long days designing various parts of and\\nimplementing tensor2tensor, replacing our earlier codebase, greatly improving results and massively accelerating\\nour research.\\n†Work performed while at Google Brain.\\n‡Work performed while at Google Research.\\n31st Conference on Neural Information Processing Systems (NIPS 2017), Long Beach, CA, USA.arXiv:1706.03762v7  [cs.CL]  2 Aug 2023', start_char_idx=None, end_char_idx=None, text_template='{metadata_str}\\n\\n{content}', metadata_template='{key}: {value}', metadata_seperator='\\n')"
            ]
          },
          "execution_count": 9,
          "metadata": {},
          "output_type": "execute_result"
        }
      ],
      "source": [
        "documents[0]"
      ]
    },
    {
      "cell_type": "markdown",
      "metadata": {
        "id": "i6-wUOvqocPC"
      },
      "source": [
        "[LlamaIndex Vector Store Index](https://gpt-index.readthedocs.io/en/latest/core_modules/data_modules/index/vector_store_guide.html)"
      ]
    },
    {
      "cell_type": "code",
      "execution_count": 10,
      "metadata": {
        "id": "r7oTIw4YhJqD"
      },
      "outputs": [],
      "source": [
        "# build index/vectorstore (document splitting, embedding, storing embeddings + chunks)\n",
        "index = VectorStoreIndex.from_documents(documents)"
      ]
    },
    {
      "cell_type": "markdown",
      "metadata": {
        "id": "ywx4UsvIo1SL"
      },
      "source": [
        "### Query\n",
        "Start querying by getting the default query engine"
      ]
    },
    {
      "cell_type": "code",
      "execution_count": 11,
      "metadata": {
        "id": "PjC2iTmhhJzU"
      },
      "outputs": [],
      "source": [
        "query_engine = index.as_query_engine() #no history preserved"
      ]
    },
    {
      "cell_type": "code",
      "execution_count": 12,
      "metadata": {
        "id": "UGCwgL2Ng_s1"
      },
      "outputs": [],
      "source": [
        "response = query_engine.query(\"What is the paper about ?\")"
      ]
    },
    {
      "cell_type": "code",
      "execution_count": 13,
      "metadata": {
        "colab": {
          "base_uri": "https://localhost:8080/"
        },
        "id": "ofOJIorbp_aT",
        "outputId": "7dd84207-02ee-4c1b-a429-f26b658e5735"
      },
      "outputs": [
        {
          "data": {
            "text/plain": [
              "Response(response='The paper is about analyzing attention mechanisms in neural networks, specifically focusing on the behavior of attention heads in an encoder self-attention model.', source_nodes=[NodeWithScore(node=TextNode(id_='e865fed4-f1a2-4f0e-af52-0c5bbb4329d2', embedding=None, metadata={'page_label': '14', 'file_name': 'attention-is-all-you-need.pdf', 'file_path': '/content/data/attention-is-all-you-need.pdf', 'file_type': 'application/pdf', 'file_size': 2215244, 'creation_date': '2024-04-17', 'last_modified_date': '2024-04-12'}, excluded_embed_metadata_keys=['file_name', 'file_type', 'file_size', 'creation_date', 'last_modified_date', 'last_accessed_date'], excluded_llm_metadata_keys=['file_name', 'file_type', 'file_size', 'creation_date', 'last_modified_date', 'last_accessed_date'], relationships={<NodeRelationship.SOURCE: '1'>: RelatedNodeInfo(node_id='0ac37785-62f7-4485-b148-d3e797949e23', node_type=<ObjectType.DOCUMENT: '4'>, metadata={'page_label': '14', 'file_name': 'attention-is-all-you-need.pdf', 'file_path': '/content/data/attention-is-all-you-need.pdf', 'file_type': 'application/pdf', 'file_size': 2215244, 'creation_date': '2024-04-17', 'last_modified_date': '2024-04-12'}, hash='2cfc489a902848a8c374ce75d57375ed7801c33296894131f5fb24d270d0cc13'), <NodeRelationship.PREVIOUS: '2'>: RelatedNodeInfo(node_id='2bce2e03-650f-437d-b5d2-d523476a8b61', node_type=<ObjectType.TEXT: '1'>, metadata={'page_label': '13', 'file_name': 'attention-is-all-you-need.pdf', 'file_path': '/content/data/attention-is-all-you-need.pdf', 'file_type': 'application/pdf', 'file_size': 2215244, 'creation_date': '2024-04-17', 'last_modified_date': '2024-04-12'}, hash='8210dd94ffd0b03f430d35a8ca29bea8ce3ae3a20fe213078d78ca88db418008'), <NodeRelationship.NEXT: '3'>: RelatedNodeInfo(node_id='ce5d7d63-79f5-4b0f-bb55-d7afbfd03521', node_type=<ObjectType.TEXT: '1'>, metadata={}, hash='da966f9b328bdeb0efb2e1dd46ae40b06b97f7878e2d931ba2ba77cf7039f059')}, text='Input-Input Layer5\\nThe\\nLaw\\nwill\\nnever\\nbe\\nperfect\\n,\\nbut\\nits\\napplication\\nshould\\nbe\\njust\\n-\\nthis\\nis\\nwhat\\nwe\\nare\\nmissing\\n,\\nin\\nmy\\nopinion\\n.\\n<EOS>\\n<pad>\\nThe\\nLaw\\nwill\\nnever\\nbe\\nperfect\\n,\\nbut\\nits\\napplication\\nshould\\nbe\\njust\\n-\\nthis\\nis\\nwhat\\nwe\\nare\\nmissing\\n,\\nin\\nmy\\nopinion\\n.\\n<EOS>\\n<pad>\\nInput-Input Layer5\\nThe\\nLaw\\nwill\\nnever\\nbe\\nperfect\\n,\\nbut\\nits\\napplication\\nshould\\nbe\\njust\\n-\\nthis\\nis\\nwhat\\nwe\\nare\\nmissing\\n,\\nin\\nmy\\nopinion\\n.\\n<EOS>\\n<pad>\\nThe\\nLaw\\nwill\\nnever\\nbe\\nperfect\\n,\\nbut\\nits\\napplication\\nshould\\nbe\\njust\\n-\\nthis\\nis\\nwhat\\nwe\\nare\\nmissing\\n,\\nin\\nmy\\nopinion\\n.\\n<EOS>\\n<pad>Figure 4: Two attention heads, also in layer 5 of 6, apparently involved in anaphora resolution. Top:\\nFull attentions for head 5. Bottom: Isolated attentions from just the word ‘its’ for attention heads 5\\nand 6. Note that the attentions are very sharp for this word.\\n14', start_char_idx=0, end_char_idx=814, text_template='{metadata_str}\\n\\n{content}', metadata_template='{key}: {value}', metadata_seperator='\\n'), score=0.7630125925232562), NodeWithScore(node=TextNode(id_='ce5d7d63-79f5-4b0f-bb55-d7afbfd03521', embedding=None, metadata={'page_label': '15', 'file_name': 'attention-is-all-you-need.pdf', 'file_path': '/content/data/attention-is-all-you-need.pdf', 'file_type': 'application/pdf', 'file_size': 2215244, 'creation_date': '2024-04-17', 'last_modified_date': '2024-04-12'}, excluded_embed_metadata_keys=['file_name', 'file_type', 'file_size', 'creation_date', 'last_modified_date', 'last_accessed_date'], excluded_llm_metadata_keys=['file_name', 'file_type', 'file_size', 'creation_date', 'last_modified_date', 'last_accessed_date'], relationships={<NodeRelationship.SOURCE: '1'>: RelatedNodeInfo(node_id='069287c1-a4ed-45f6-abec-011612d90425', node_type=<ObjectType.DOCUMENT: '4'>, metadata={'page_label': '15', 'file_name': 'attention-is-all-you-need.pdf', 'file_path': '/content/data/attention-is-all-you-need.pdf', 'file_type': 'application/pdf', 'file_size': 2215244, 'creation_date': '2024-04-17', 'last_modified_date': '2024-04-12'}, hash='b7092cbccc182db6d87a484461fe7ddba3c2ddbea5b0419d8ca0297f275d5a43'), <NodeRelationship.PREVIOUS: '2'>: RelatedNodeInfo(node_id='e865fed4-f1a2-4f0e-af52-0c5bbb4329d2', node_type=<ObjectType.TEXT: '1'>, metadata={'page_label': '14', 'file_name': 'attention-is-all-you-need.pdf', 'file_path': '/content/data/attention-is-all-you-need.pdf', 'file_type': 'application/pdf', 'file_size': 2215244, 'creation_date': '2024-04-17', 'last_modified_date': '2024-04-12'}, hash='2cfc489a902848a8c374ce75d57375ed7801c33296894131f5fb24d270d0cc13')}, text='Input-Input Layer5\\nThe\\nLaw\\nwill\\nnever\\nbe\\nperfect\\n,\\nbut\\nits\\napplication\\nshould\\nbe\\njust\\n-\\nthis\\nis\\nwhat\\nwe\\nare\\nmissing\\n,\\nin\\nmy\\nopinion\\n.\\n<EOS>\\n<pad>\\nThe\\nLaw\\nwill\\nnever\\nbe\\nperfect\\n,\\nbut\\nits\\napplication\\nshould\\nbe\\njust\\n-\\nthis\\nis\\nwhat\\nwe\\nare\\nmissing\\n,\\nin\\nmy\\nopinion\\n.\\n<EOS>\\n<pad>\\nInput-Input Layer5\\nThe\\nLaw\\nwill\\nnever\\nbe\\nperfect\\n,\\nbut\\nits\\napplication\\nshould\\nbe\\njust\\n-\\nthis\\nis\\nwhat\\nwe\\nare\\nmissing\\n,\\nin\\nmy\\nopinion\\n.\\n<EOS>\\n<pad>\\nThe\\nLaw\\nwill\\nnever\\nbe\\nperfect\\n,\\nbut\\nits\\napplication\\nshould\\nbe\\njust\\n-\\nthis\\nis\\nwhat\\nwe\\nare\\nmissing\\n,\\nin\\nmy\\nopinion\\n.\\n<EOS>\\n<pad>Figure 5: Many of the attention heads exhibit behaviour that seems related to the structure of the\\nsentence. We give two such examples above, from two different heads from the encoder self-attention\\nat layer 5 of 6. The heads clearly learned to perform different tasks.\\n15', start_char_idx=0, end_char_idx=817, text_template='{metadata_str}\\n\\n{content}', metadata_template='{key}: {value}', metadata_seperator='\\n'), score=0.7614821880385302)], metadata={'e865fed4-f1a2-4f0e-af52-0c5bbb4329d2': {'page_label': '14', 'file_name': 'attention-is-all-you-need.pdf', 'file_path': '/content/data/attention-is-all-you-need.pdf', 'file_type': 'application/pdf', 'file_size': 2215244, 'creation_date': '2024-04-17', 'last_modified_date': '2024-04-12'}, 'ce5d7d63-79f5-4b0f-bb55-d7afbfd03521': {'page_label': '15', 'file_name': 'attention-is-all-you-need.pdf', 'file_path': '/content/data/attention-is-all-you-need.pdf', 'file_type': 'application/pdf', 'file_size': 2215244, 'creation_date': '2024-04-17', 'last_modified_date': '2024-04-12'}})"
            ]
          },
          "execution_count": 13,
          "metadata": {},
          "output_type": "execute_result"
        }
      ],
      "source": [
        "response"
      ]
    },
    {
      "cell_type": "code",
      "execution_count": 14,
      "metadata": {
        "colab": {
          "base_uri": "https://localhost:8080/",
          "height": 64
        },
        "id": "xF8Yk2-rg_wQ",
        "outputId": "42e70450-f6dd-49be-eaf4-e4f3830473d1"
      },
      "outputs": [
        {
          "data": {
            "text/markdown": [
              "<b>The paper is about analyzing attention mechanisms in neural networks, specifically focusing on the behavior of attention heads in an encoder self-attention model.</b>"
            ],
            "text/plain": [
              "<IPython.core.display.Markdown object>"
            ]
          },
          "metadata": {},
          "output_type": "display_data"
        }
      ],
      "source": [
        "display(Markdown(f\"<b>{response}</b>\"))"
      ]
    },
    {
      "cell_type": "code",
      "execution_count": 14,
      "metadata": {
        "id": "F8_RBy1GqMm5"
      },
      "outputs": [],
      "source": []
    },
    {
      "cell_type": "markdown",
      "metadata": {
        "id": "JNVgRgycmlYv"
      },
      "source": [
        "### Storing and Loading the Index"
      ]
    },
    {
      "cell_type": "code",
      "execution_count": 15,
      "metadata": {
        "id": "3bjDrdRag_3Q"
      },
      "outputs": [],
      "source": [
        "index.storage_context.persist()"
      ]
    },
    {
      "cell_type": "code",
      "execution_count": 16,
      "metadata": {
        "id": "YjcYRoSlhAAS"
      },
      "outputs": [],
      "source": [
        "from llama_index.core import StorageContext, load_index_from_storage\n",
        "\n",
        "storage_context = StorageContext.from_defaults(persist_dir=\"./storage\")\n",
        "index = load_index_from_storage(storage_context=storage_context)"
      ]
    },
    {
      "cell_type": "code",
      "execution_count": 16,
      "metadata": {
        "id": "nTn8d9UGhALZ"
      },
      "outputs": [],
      "source": []
    },
    {
      "cell_type": "markdown",
      "metadata": {
        "id": "jLO4x48IoHTL"
      },
      "source": [
        "## We used the default one,  How to Customize It ??\n",
        "[Customizing LLms within LlamaIndex](https://gpt-index.readthedocs.io/en/latest/core_modules/model_modules/llms/usage_custom.html)"
      ]
    },
    {
      "cell_type": "code",
      "execution_count": 17,
      "metadata": {
        "id": "nfDyiWy1Z3m1"
      },
      "outputs": [],
      "source": [
        "from llama_index.core import ServiceContext, set_global_service_context\n",
        "from llama_index.llms.openai import OpenAI\n",
        "# alternatively\n",
        "# from langchain.llms import ..."
      ]
    },
    {
      "cell_type": "code",
      "execution_count": 18,
      "metadata": {
        "colab": {
          "base_uri": "https://localhost:8080/"
        },
        "id": "q4t_HpOAZ3qL",
        "outputId": "e41666bd-a79a-4a11-abf8-b0a37a825ce4"
      },
      "outputs": [
        {
          "name": "stderr",
          "output_type": "stream",
          "text": [
            "<ipython-input-18-4c9133ed2226>:5: DeprecationWarning: Call to deprecated class method from_defaults. (ServiceContext is deprecated, please use `llama_index.settings.Settings` instead.) -- Deprecated since version 0.10.0.\n",
            "  service_context = ServiceContext.from_defaults(llm=llm, chunk_size=500, chunk_overlap=50)\n"
          ]
        }
      ],
      "source": [
        "#define LLM\n",
        "llm = OpenAI(temperature=0.1, model=\"gpt-3.5-turbo\", max_tokens=512)\n",
        "\n",
        "# configure service context\n",
        "service_context = ServiceContext.from_defaults(llm=llm, chunk_size=500, chunk_overlap=50)\n",
        "\n",
        "# set_global_service_context(service_context)\n",
        "index = VectorStoreIndex.from_documents(documents, service_context=service_context)"
      ]
    },
    {
      "cell_type": "code",
      "execution_count": 19,
      "metadata": {
        "colab": {
          "base_uri": "https://localhost:8080/"
        },
        "id": "xTVyuuZcl7E3",
        "outputId": "3389c09b-72d6-49d6-cb9d-f3b24ad1fd89"
      },
      "outputs": [
        {
          "name": "stdout",
          "output_type": "stream",
          "text": [
            "The paper is about a study on attention mechanisms in neural networks, specifically focusing on the behavior and performance of attention heads in an encoder self-attention model."
          ]
        }
      ],
      "source": [
        "query_engine = index.as_query_engine(streaming=True)\n",
        "response = query_engine.query(\"What is the paper about ?\")\n",
        "response.print_response_stream()"
      ]
    },
    {
      "cell_type": "code",
      "execution_count": 19,
      "metadata": {
        "id": "RdrxRhhPl7IB"
      },
      "outputs": [],
      "source": []
    },
    {
      "cell_type": "markdown",
      "metadata": {
        "id": "7KLRgszMrAT5"
      },
      "source": [
        "## Using LLM From HuggingFace [LINK](https://gpt-index.readthedocs.io/en/latest/core_modules/model_modules/llms/usage_custom.html#example-using-a-huggingface-llm)"
      ]
    },
    {
      "cell_type": "code",
      "execution_count": 20,
      "metadata": {
        "colab": {
          "base_uri": "https://localhost:8080/"
        },
        "id": "pwGYJKFQwXQm",
        "outputId": "f6e31b10-604e-4626-fa05-cef203a06d29"
      },
      "outputs": [
        {
          "name": "stdout",
          "output_type": "stream",
          "text": [
            "Requirement already satisfied: llama-index-embeddings-huggingface in /usr/local/lib/python3.10/dist-packages (0.2.0)\n",
            "Requirement already satisfied: huggingface-hub[inference]>=0.19.0 in /usr/local/lib/python3.10/dist-packages (from llama-index-embeddings-huggingface) (0.20.3)\n",
            "Requirement already satisfied: llama-index-core<0.11.0,>=0.10.1 in /usr/local/lib/python3.10/dist-packages (from llama-index-embeddings-huggingface) (0.10.29)\n",
            "Requirement already satisfied: sentence-transformers<3.0.0,>=2.6.1 in /usr/local/lib/python3.10/dist-packages (from llama-index-embeddings-huggingface) (2.6.1)\n",
            "Requirement already satisfied: filelock in /usr/local/lib/python3.10/dist-packages (from huggingface-hub[inference]>=0.19.0->llama-index-embeddings-huggingface) (3.13.4)\n",
            "Requirement already satisfied: fsspec>=2023.5.0 in /usr/local/lib/python3.10/dist-packages (from huggingface-hub[inference]>=0.19.0->llama-index-embeddings-huggingface) (2023.6.0)\n",
            "Requirement already satisfied: requests in /usr/local/lib/python3.10/dist-packages (from huggingface-hub[inference]>=0.19.0->llama-index-embeddings-huggingface) (2.31.0)\n",
            "Requirement already satisfied: tqdm>=4.42.1 in /usr/local/lib/python3.10/dist-packages (from huggingface-hub[inference]>=0.19.0->llama-index-embeddings-huggingface) (4.66.2)\n",
            "Requirement already satisfied: pyyaml>=5.1 in /usr/local/lib/python3.10/dist-packages (from huggingface-hub[inference]>=0.19.0->llama-index-embeddings-huggingface) (6.0.1)\n",
            "Requirement already satisfied: typing-extensions>=3.7.4.3 in /usr/local/lib/python3.10/dist-packages (from huggingface-hub[inference]>=0.19.0->llama-index-embeddings-huggingface) (4.11.0)\n",
            "Requirement already satisfied: packaging>=20.9 in /usr/local/lib/python3.10/dist-packages (from huggingface-hub[inference]>=0.19.0->llama-index-embeddings-huggingface) (24.0)\n",
            "Requirement already satisfied: aiohttp in /usr/local/lib/python3.10/dist-packages (from huggingface-hub[inference]>=0.19.0->llama-index-embeddings-huggingface) (3.9.3)\n",
            "Requirement already satisfied: pydantic<3.0,>1.1 in /usr/local/lib/python3.10/dist-packages (from huggingface-hub[inference]>=0.19.0->llama-index-embeddings-huggingface) (2.6.4)\n",
            "Requirement already satisfied: SQLAlchemy[asyncio]>=1.4.49 in /usr/local/lib/python3.10/dist-packages (from llama-index-core<0.11.0,>=0.10.1->llama-index-embeddings-huggingface) (2.0.29)\n",
            "Requirement already satisfied: dataclasses-json in /usr/local/lib/python3.10/dist-packages (from llama-index-core<0.11.0,>=0.10.1->llama-index-embeddings-huggingface) (0.6.4)\n",
            "Requirement already satisfied: deprecated>=1.2.9.3 in /usr/local/lib/python3.10/dist-packages (from llama-index-core<0.11.0,>=0.10.1->llama-index-embeddings-huggingface) (1.2.14)\n",
            "Requirement already satisfied: dirtyjson<2.0.0,>=1.0.8 in /usr/local/lib/python3.10/dist-packages (from llama-index-core<0.11.0,>=0.10.1->llama-index-embeddings-huggingface) (1.0.8)\n",
            "Requirement already satisfied: httpx in /usr/local/lib/python3.10/dist-packages (from llama-index-core<0.11.0,>=0.10.1->llama-index-embeddings-huggingface) (0.27.0)\n",
            "Requirement already satisfied: llamaindex-py-client<0.2.0,>=0.1.18 in /usr/local/lib/python3.10/dist-packages (from llama-index-core<0.11.0,>=0.10.1->llama-index-embeddings-huggingface) (0.1.18)\n",
            "Requirement already satisfied: nest-asyncio<2.0.0,>=1.5.8 in /usr/local/lib/python3.10/dist-packages (from llama-index-core<0.11.0,>=0.10.1->llama-index-embeddings-huggingface) (1.6.0)\n",
            "Requirement already satisfied: networkx>=3.0 in /usr/local/lib/python3.10/dist-packages (from llama-index-core<0.11.0,>=0.10.1->llama-index-embeddings-huggingface) (3.3)\n",
            "Requirement already satisfied: nltk<4.0.0,>=3.8.1 in /usr/local/lib/python3.10/dist-packages (from llama-index-core<0.11.0,>=0.10.1->llama-index-embeddings-huggingface) (3.8.1)\n",
            "Requirement already satisfied: numpy in /usr/local/lib/python3.10/dist-packages (from llama-index-core<0.11.0,>=0.10.1->llama-index-embeddings-huggingface) (1.25.2)\n",
            "Requirement already satisfied: openai>=1.1.0 in /usr/local/lib/python3.10/dist-packages (from llama-index-core<0.11.0,>=0.10.1->llama-index-embeddings-huggingface) (1.20.0)\n",
            "Requirement already satisfied: pandas in /usr/local/lib/python3.10/dist-packages (from llama-index-core<0.11.0,>=0.10.1->llama-index-embeddings-huggingface) (2.0.3)\n",
            "Requirement already satisfied: pillow>=9.0.0 in /usr/local/lib/python3.10/dist-packages (from llama-index-core<0.11.0,>=0.10.1->llama-index-embeddings-huggingface) (9.4.0)\n",
            "Requirement already satisfied: tenacity<9.0.0,>=8.2.0 in /usr/local/lib/python3.10/dist-packages (from llama-index-core<0.11.0,>=0.10.1->llama-index-embeddings-huggingface) (8.2.3)\n",
            "Requirement already satisfied: tiktoken>=0.3.3 in /usr/local/lib/python3.10/dist-packages (from llama-index-core<0.11.0,>=0.10.1->llama-index-embeddings-huggingface) (0.6.0)\n",
            "Requirement already satisfied: typing-inspect>=0.8.0 in /usr/local/lib/python3.10/dist-packages (from llama-index-core<0.11.0,>=0.10.1->llama-index-embeddings-huggingface) (0.9.0)\n",
            "Requirement already satisfied: wrapt in /usr/local/lib/python3.10/dist-packages (from llama-index-core<0.11.0,>=0.10.1->llama-index-embeddings-huggingface) (1.14.1)\n",
            "Requirement already satisfied: transformers<5.0.0,>=4.32.0 in /usr/local/lib/python3.10/dist-packages (from sentence-transformers<3.0.0,>=2.6.1->llama-index-embeddings-huggingface) (4.38.2)\n",
            "Requirement already satisfied: torch>=1.11.0 in /usr/local/lib/python3.10/dist-packages (from sentence-transformers<3.0.0,>=2.6.1->llama-index-embeddings-huggingface) (2.2.1+cu121)\n",
            "Requirement already satisfied: scikit-learn in /usr/local/lib/python3.10/dist-packages (from sentence-transformers<3.0.0,>=2.6.1->llama-index-embeddings-huggingface) (1.2.2)\n",
            "Requirement already satisfied: scipy in /usr/local/lib/python3.10/dist-packages (from sentence-transformers<3.0.0,>=2.6.1->llama-index-embeddings-huggingface) (1.11.4)\n",
            "Requirement already satisfied: aiosignal>=1.1.2 in /usr/local/lib/python3.10/dist-packages (from aiohttp->huggingface-hub[inference]>=0.19.0->llama-index-embeddings-huggingface) (1.3.1)\n",
            "Requirement already satisfied: attrs>=17.3.0 in /usr/local/lib/python3.10/dist-packages (from aiohttp->huggingface-hub[inference]>=0.19.0->llama-index-embeddings-huggingface) (23.2.0)\n",
            "Requirement already satisfied: frozenlist>=1.1.1 in /usr/local/lib/python3.10/dist-packages (from aiohttp->huggingface-hub[inference]>=0.19.0->llama-index-embeddings-huggingface) (1.4.1)\n",
            "Requirement already satisfied: multidict<7.0,>=4.5 in /usr/local/lib/python3.10/dist-packages (from aiohttp->huggingface-hub[inference]>=0.19.0->llama-index-embeddings-huggingface) (6.0.5)\n",
            "Requirement already satisfied: yarl<2.0,>=1.0 in /usr/local/lib/python3.10/dist-packages (from aiohttp->huggingface-hub[inference]>=0.19.0->llama-index-embeddings-huggingface) (1.9.4)\n",
            "Requirement already satisfied: async-timeout<5.0,>=4.0 in /usr/local/lib/python3.10/dist-packages (from aiohttp->huggingface-hub[inference]>=0.19.0->llama-index-embeddings-huggingface) (4.0.3)\n",
            "Requirement already satisfied: anyio in /usr/local/lib/python3.10/dist-packages (from httpx->llama-index-core<0.11.0,>=0.10.1->llama-index-embeddings-huggingface) (3.7.1)\n",
            "Requirement already satisfied: certifi in /usr/local/lib/python3.10/dist-packages (from httpx->llama-index-core<0.11.0,>=0.10.1->llama-index-embeddings-huggingface) (2024.2.2)\n",
            "Requirement already satisfied: httpcore==1.* in /usr/local/lib/python3.10/dist-packages (from httpx->llama-index-core<0.11.0,>=0.10.1->llama-index-embeddings-huggingface) (1.0.5)\n",
            "Requirement already satisfied: idna in /usr/local/lib/python3.10/dist-packages (from httpx->llama-index-core<0.11.0,>=0.10.1->llama-index-embeddings-huggingface) (3.6)\n",
            "Requirement already satisfied: sniffio in /usr/local/lib/python3.10/dist-packages (from httpx->llama-index-core<0.11.0,>=0.10.1->llama-index-embeddings-huggingface) (1.3.1)\n",
            "Requirement already satisfied: h11<0.15,>=0.13 in /usr/local/lib/python3.10/dist-packages (from httpcore==1.*->httpx->llama-index-core<0.11.0,>=0.10.1->llama-index-embeddings-huggingface) (0.14.0)\n",
            "Requirement already satisfied: click in /usr/local/lib/python3.10/dist-packages (from nltk<4.0.0,>=3.8.1->llama-index-core<0.11.0,>=0.10.1->llama-index-embeddings-huggingface) (8.1.7)\n",
            "Requirement already satisfied: joblib in /usr/local/lib/python3.10/dist-packages (from nltk<4.0.0,>=3.8.1->llama-index-core<0.11.0,>=0.10.1->llama-index-embeddings-huggingface) (1.4.0)\n",
            "Requirement already satisfied: regex>=2021.8.3 in /usr/local/lib/python3.10/dist-packages (from nltk<4.0.0,>=3.8.1->llama-index-core<0.11.0,>=0.10.1->llama-index-embeddings-huggingface) (2023.12.25)\n",
            "Requirement already satisfied: distro<2,>=1.7.0 in /usr/lib/python3/dist-packages (from openai>=1.1.0->llama-index-core<0.11.0,>=0.10.1->llama-index-embeddings-huggingface) (1.7.0)\n",
            "Requirement already satisfied: annotated-types>=0.4.0 in /usr/local/lib/python3.10/dist-packages (from pydantic<3.0,>1.1->huggingface-hub[inference]>=0.19.0->llama-index-embeddings-huggingface) (0.6.0)\n",
            "Requirement already satisfied: pydantic-core==2.16.3 in /usr/local/lib/python3.10/dist-packages (from pydantic<3.0,>1.1->huggingface-hub[inference]>=0.19.0->llama-index-embeddings-huggingface) (2.16.3)\n",
            "Requirement already satisfied: charset-normalizer<4,>=2 in /usr/local/lib/python3.10/dist-packages (from requests->huggingface-hub[inference]>=0.19.0->llama-index-embeddings-huggingface) (3.3.2)\n",
            "Requirement already satisfied: urllib3<3,>=1.21.1 in /usr/local/lib/python3.10/dist-packages (from requests->huggingface-hub[inference]>=0.19.0->llama-index-embeddings-huggingface) (2.0.7)\n",
            "Requirement already satisfied: greenlet!=0.4.17 in /usr/local/lib/python3.10/dist-packages (from SQLAlchemy[asyncio]>=1.4.49->llama-index-core<0.11.0,>=0.10.1->llama-index-embeddings-huggingface) (3.0.3)\n",
            "Requirement already satisfied: sympy in /usr/local/lib/python3.10/dist-packages (from torch>=1.11.0->sentence-transformers<3.0.0,>=2.6.1->llama-index-embeddings-huggingface) (1.12)\n",
            "Requirement already satisfied: jinja2 in /usr/local/lib/python3.10/dist-packages (from torch>=1.11.0->sentence-transformers<3.0.0,>=2.6.1->llama-index-embeddings-huggingface) (3.1.3)\n",
            "Requirement already satisfied: nvidia-cuda-nvrtc-cu12==12.1.105 in /usr/local/lib/python3.10/dist-packages (from torch>=1.11.0->sentence-transformers<3.0.0,>=2.6.1->llama-index-embeddings-huggingface) (12.1.105)\n",
            "Requirement already satisfied: nvidia-cuda-runtime-cu12==12.1.105 in /usr/local/lib/python3.10/dist-packages (from torch>=1.11.0->sentence-transformers<3.0.0,>=2.6.1->llama-index-embeddings-huggingface) (12.1.105)\n",
            "Requirement already satisfied: nvidia-cuda-cupti-cu12==12.1.105 in /usr/local/lib/python3.10/dist-packages (from torch>=1.11.0->sentence-transformers<3.0.0,>=2.6.1->llama-index-embeddings-huggingface) (12.1.105)\n",
            "Requirement already satisfied: nvidia-cudnn-cu12==8.9.2.26 in /usr/local/lib/python3.10/dist-packages (from torch>=1.11.0->sentence-transformers<3.0.0,>=2.6.1->llama-index-embeddings-huggingface) (8.9.2.26)\n",
            "Requirement already satisfied: nvidia-cublas-cu12==12.1.3.1 in /usr/local/lib/python3.10/dist-packages (from torch>=1.11.0->sentence-transformers<3.0.0,>=2.6.1->llama-index-embeddings-huggingface) (12.1.3.1)\n",
            "Requirement already satisfied: nvidia-cufft-cu12==11.0.2.54 in /usr/local/lib/python3.10/dist-packages (from torch>=1.11.0->sentence-transformers<3.0.0,>=2.6.1->llama-index-embeddings-huggingface) (11.0.2.54)\n",
            "Requirement already satisfied: nvidia-curand-cu12==10.3.2.106 in /usr/local/lib/python3.10/dist-packages (from torch>=1.11.0->sentence-transformers<3.0.0,>=2.6.1->llama-index-embeddings-huggingface) (10.3.2.106)\n",
            "Requirement already satisfied: nvidia-cusolver-cu12==11.4.5.107 in /usr/local/lib/python3.10/dist-packages (from torch>=1.11.0->sentence-transformers<3.0.0,>=2.6.1->llama-index-embeddings-huggingface) (11.4.5.107)\n",
            "Requirement already satisfied: nvidia-cusparse-cu12==12.1.0.106 in /usr/local/lib/python3.10/dist-packages (from torch>=1.11.0->sentence-transformers<3.0.0,>=2.6.1->llama-index-embeddings-huggingface) (12.1.0.106)\n",
            "Requirement already satisfied: nvidia-nccl-cu12==2.19.3 in /usr/local/lib/python3.10/dist-packages (from torch>=1.11.0->sentence-transformers<3.0.0,>=2.6.1->llama-index-embeddings-huggingface) (2.19.3)\n",
            "Requirement already satisfied: nvidia-nvtx-cu12==12.1.105 in /usr/local/lib/python3.10/dist-packages (from torch>=1.11.0->sentence-transformers<3.0.0,>=2.6.1->llama-index-embeddings-huggingface) (12.1.105)\n",
            "Requirement already satisfied: triton==2.2.0 in /usr/local/lib/python3.10/dist-packages (from torch>=1.11.0->sentence-transformers<3.0.0,>=2.6.1->llama-index-embeddings-huggingface) (2.2.0)\n",
            "Requirement already satisfied: nvidia-nvjitlink-cu12 in /usr/local/lib/python3.10/dist-packages (from nvidia-cusolver-cu12==11.4.5.107->torch>=1.11.0->sentence-transformers<3.0.0,>=2.6.1->llama-index-embeddings-huggingface) (12.4.127)\n",
            "Requirement already satisfied: tokenizers<0.19,>=0.14 in /usr/local/lib/python3.10/dist-packages (from transformers<5.0.0,>=4.32.0->sentence-transformers<3.0.0,>=2.6.1->llama-index-embeddings-huggingface) (0.15.2)\n",
            "Requirement already satisfied: safetensors>=0.4.1 in /usr/local/lib/python3.10/dist-packages (from transformers<5.0.0,>=4.32.0->sentence-transformers<3.0.0,>=2.6.1->llama-index-embeddings-huggingface) (0.4.2)\n",
            "Requirement already satisfied: mypy-extensions>=0.3.0 in /usr/local/lib/python3.10/dist-packages (from typing-inspect>=0.8.0->llama-index-core<0.11.0,>=0.10.1->llama-index-embeddings-huggingface) (1.0.0)\n",
            "Requirement already satisfied: marshmallow<4.0.0,>=3.18.0 in /usr/local/lib/python3.10/dist-packages (from dataclasses-json->llama-index-core<0.11.0,>=0.10.1->llama-index-embeddings-huggingface) (3.21.1)\n",
            "Requirement already satisfied: python-dateutil>=2.8.2 in /usr/local/lib/python3.10/dist-packages (from pandas->llama-index-core<0.11.0,>=0.10.1->llama-index-embeddings-huggingface) (2.8.2)\n",
            "Requirement already satisfied: pytz>=2020.1 in /usr/local/lib/python3.10/dist-packages (from pandas->llama-index-core<0.11.0,>=0.10.1->llama-index-embeddings-huggingface) (2023.4)\n",
            "Requirement already satisfied: tzdata>=2022.1 in /usr/local/lib/python3.10/dist-packages (from pandas->llama-index-core<0.11.0,>=0.10.1->llama-index-embeddings-huggingface) (2024.1)\n",
            "Requirement already satisfied: threadpoolctl>=2.0.0 in /usr/local/lib/python3.10/dist-packages (from scikit-learn->sentence-transformers<3.0.0,>=2.6.1->llama-index-embeddings-huggingface) (3.4.0)\n",
            "Requirement already satisfied: exceptiongroup in /usr/local/lib/python3.10/dist-packages (from anyio->httpx->llama-index-core<0.11.0,>=0.10.1->llama-index-embeddings-huggingface) (1.2.0)\n",
            "Requirement already satisfied: six>=1.5 in /usr/local/lib/python3.10/dist-packages (from python-dateutil>=2.8.2->pandas->llama-index-core<0.11.0,>=0.10.1->llama-index-embeddings-huggingface) (1.16.0)\n",
            "Requirement already satisfied: MarkupSafe>=2.0 in /usr/local/lib/python3.10/dist-packages (from jinja2->torch>=1.11.0->sentence-transformers<3.0.0,>=2.6.1->llama-index-embeddings-huggingface) (2.1.5)\n",
            "Requirement already satisfied: mpmath>=0.19 in /usr/local/lib/python3.10/dist-packages (from sympy->torch>=1.11.0->sentence-transformers<3.0.0,>=2.6.1->llama-index-embeddings-huggingface) (1.3.0)\n",
            "Requirement already satisfied: llama-index-llms-huggingface in /usr/local/lib/python3.10/dist-packages (0.1.4)\n",
            "Requirement already satisfied: huggingface-hub<0.21.0,>=0.20.3 in /usr/local/lib/python3.10/dist-packages (from llama-index-llms-huggingface) (0.20.3)\n",
            "Requirement already satisfied: llama-index-core<0.11.0,>=0.10.1 in /usr/local/lib/python3.10/dist-packages (from llama-index-llms-huggingface) (0.10.29)\n",
            "Requirement already satisfied: torch<3.0.0,>=2.1.2 in /usr/local/lib/python3.10/dist-packages (from llama-index-llms-huggingface) (2.2.1+cu121)\n",
            "Requirement already satisfied: transformers[torch]<5.0.0,>=4.37.0 in /usr/local/lib/python3.10/dist-packages (from llama-index-llms-huggingface) (4.38.2)\n",
            "Requirement already satisfied: filelock in /usr/local/lib/python3.10/dist-packages (from huggingface-hub<0.21.0,>=0.20.3->llama-index-llms-huggingface) (3.13.4)\n",
            "Requirement already satisfied: fsspec>=2023.5.0 in /usr/local/lib/python3.10/dist-packages (from huggingface-hub<0.21.0,>=0.20.3->llama-index-llms-huggingface) (2023.6.0)\n",
            "Requirement already satisfied: requests in /usr/local/lib/python3.10/dist-packages (from huggingface-hub<0.21.0,>=0.20.3->llama-index-llms-huggingface) (2.31.0)\n",
            "Requirement already satisfied: tqdm>=4.42.1 in /usr/local/lib/python3.10/dist-packages (from huggingface-hub<0.21.0,>=0.20.3->llama-index-llms-huggingface) (4.66.2)\n",
            "Requirement already satisfied: pyyaml>=5.1 in /usr/local/lib/python3.10/dist-packages (from huggingface-hub<0.21.0,>=0.20.3->llama-index-llms-huggingface) (6.0.1)\n",
            "Requirement already satisfied: typing-extensions>=3.7.4.3 in /usr/local/lib/python3.10/dist-packages (from huggingface-hub<0.21.0,>=0.20.3->llama-index-llms-huggingface) (4.11.0)\n",
            "Requirement already satisfied: packaging>=20.9 in /usr/local/lib/python3.10/dist-packages (from huggingface-hub<0.21.0,>=0.20.3->llama-index-llms-huggingface) (24.0)\n",
            "Requirement already satisfied: SQLAlchemy[asyncio]>=1.4.49 in /usr/local/lib/python3.10/dist-packages (from llama-index-core<0.11.0,>=0.10.1->llama-index-llms-huggingface) (2.0.29)\n",
            "Requirement already satisfied: aiohttp<4.0.0,>=3.8.6 in /usr/local/lib/python3.10/dist-packages (from llama-index-core<0.11.0,>=0.10.1->llama-index-llms-huggingface) (3.9.3)\n",
            "Requirement already satisfied: dataclasses-json in /usr/local/lib/python3.10/dist-packages (from llama-index-core<0.11.0,>=0.10.1->llama-index-llms-huggingface) (0.6.4)\n",
            "Requirement already satisfied: deprecated>=1.2.9.3 in /usr/local/lib/python3.10/dist-packages (from llama-index-core<0.11.0,>=0.10.1->llama-index-llms-huggingface) (1.2.14)\n",
            "Requirement already satisfied: dirtyjson<2.0.0,>=1.0.8 in /usr/local/lib/python3.10/dist-packages (from llama-index-core<0.11.0,>=0.10.1->llama-index-llms-huggingface) (1.0.8)\n",
            "Requirement already satisfied: httpx in /usr/local/lib/python3.10/dist-packages (from llama-index-core<0.11.0,>=0.10.1->llama-index-llms-huggingface) (0.27.0)\n",
            "Requirement already satisfied: llamaindex-py-client<0.2.0,>=0.1.18 in /usr/local/lib/python3.10/dist-packages (from llama-index-core<0.11.0,>=0.10.1->llama-index-llms-huggingface) (0.1.18)\n",
            "Requirement already satisfied: nest-asyncio<2.0.0,>=1.5.8 in /usr/local/lib/python3.10/dist-packages (from llama-index-core<0.11.0,>=0.10.1->llama-index-llms-huggingface) (1.6.0)\n",
            "Requirement already satisfied: networkx>=3.0 in /usr/local/lib/python3.10/dist-packages (from llama-index-core<0.11.0,>=0.10.1->llama-index-llms-huggingface) (3.3)\n",
            "Requirement already satisfied: nltk<4.0.0,>=3.8.1 in /usr/local/lib/python3.10/dist-packages (from llama-index-core<0.11.0,>=0.10.1->llama-index-llms-huggingface) (3.8.1)\n",
            "Requirement already satisfied: numpy in /usr/local/lib/python3.10/dist-packages (from llama-index-core<0.11.0,>=0.10.1->llama-index-llms-huggingface) (1.25.2)\n",
            "Requirement already satisfied: openai>=1.1.0 in /usr/local/lib/python3.10/dist-packages (from llama-index-core<0.11.0,>=0.10.1->llama-index-llms-huggingface) (1.20.0)\n",
            "Requirement already satisfied: pandas in /usr/local/lib/python3.10/dist-packages (from llama-index-core<0.11.0,>=0.10.1->llama-index-llms-huggingface) (2.0.3)\n",
            "Requirement already satisfied: pillow>=9.0.0 in /usr/local/lib/python3.10/dist-packages (from llama-index-core<0.11.0,>=0.10.1->llama-index-llms-huggingface) (9.4.0)\n",
            "Requirement already satisfied: tenacity<9.0.0,>=8.2.0 in /usr/local/lib/python3.10/dist-packages (from llama-index-core<0.11.0,>=0.10.1->llama-index-llms-huggingface) (8.2.3)\n",
            "Requirement already satisfied: tiktoken>=0.3.3 in /usr/local/lib/python3.10/dist-packages (from llama-index-core<0.11.0,>=0.10.1->llama-index-llms-huggingface) (0.6.0)\n",
            "Requirement already satisfied: typing-inspect>=0.8.0 in /usr/local/lib/python3.10/dist-packages (from llama-index-core<0.11.0,>=0.10.1->llama-index-llms-huggingface) (0.9.0)\n",
            "Requirement already satisfied: wrapt in /usr/local/lib/python3.10/dist-packages (from llama-index-core<0.11.0,>=0.10.1->llama-index-llms-huggingface) (1.14.1)\n",
            "Requirement already satisfied: sympy in /usr/local/lib/python3.10/dist-packages (from torch<3.0.0,>=2.1.2->llama-index-llms-huggingface) (1.12)\n",
            "Requirement already satisfied: jinja2 in /usr/local/lib/python3.10/dist-packages (from torch<3.0.0,>=2.1.2->llama-index-llms-huggingface) (3.1.3)\n",
            "Requirement already satisfied: nvidia-cuda-nvrtc-cu12==12.1.105 in /usr/local/lib/python3.10/dist-packages (from torch<3.0.0,>=2.1.2->llama-index-llms-huggingface) (12.1.105)\n",
            "Requirement already satisfied: nvidia-cuda-runtime-cu12==12.1.105 in /usr/local/lib/python3.10/dist-packages (from torch<3.0.0,>=2.1.2->llama-index-llms-huggingface) (12.1.105)\n",
            "Requirement already satisfied: nvidia-cuda-cupti-cu12==12.1.105 in /usr/local/lib/python3.10/dist-packages (from torch<3.0.0,>=2.1.2->llama-index-llms-huggingface) (12.1.105)\n",
            "Requirement already satisfied: nvidia-cudnn-cu12==8.9.2.26 in /usr/local/lib/python3.10/dist-packages (from torch<3.0.0,>=2.1.2->llama-index-llms-huggingface) (8.9.2.26)\n",
            "Requirement already satisfied: nvidia-cublas-cu12==12.1.3.1 in /usr/local/lib/python3.10/dist-packages (from torch<3.0.0,>=2.1.2->llama-index-llms-huggingface) (12.1.3.1)\n",
            "Requirement already satisfied: nvidia-cufft-cu12==11.0.2.54 in /usr/local/lib/python3.10/dist-packages (from torch<3.0.0,>=2.1.2->llama-index-llms-huggingface) (11.0.2.54)\n",
            "Requirement already satisfied: nvidia-curand-cu12==10.3.2.106 in /usr/local/lib/python3.10/dist-packages (from torch<3.0.0,>=2.1.2->llama-index-llms-huggingface) (10.3.2.106)\n",
            "Requirement already satisfied: nvidia-cusolver-cu12==11.4.5.107 in /usr/local/lib/python3.10/dist-packages (from torch<3.0.0,>=2.1.2->llama-index-llms-huggingface) (11.4.5.107)\n",
            "Requirement already satisfied: nvidia-cusparse-cu12==12.1.0.106 in /usr/local/lib/python3.10/dist-packages (from torch<3.0.0,>=2.1.2->llama-index-llms-huggingface) (12.1.0.106)\n",
            "Requirement already satisfied: nvidia-nccl-cu12==2.19.3 in /usr/local/lib/python3.10/dist-packages (from torch<3.0.0,>=2.1.2->llama-index-llms-huggingface) (2.19.3)\n",
            "Requirement already satisfied: nvidia-nvtx-cu12==12.1.105 in /usr/local/lib/python3.10/dist-packages (from torch<3.0.0,>=2.1.2->llama-index-llms-huggingface) (12.1.105)\n",
            "Requirement already satisfied: triton==2.2.0 in /usr/local/lib/python3.10/dist-packages (from torch<3.0.0,>=2.1.2->llama-index-llms-huggingface) (2.2.0)\n",
            "Requirement already satisfied: nvidia-nvjitlink-cu12 in /usr/local/lib/python3.10/dist-packages (from nvidia-cusolver-cu12==11.4.5.107->torch<3.0.0,>=2.1.2->llama-index-llms-huggingface) (12.4.127)\n",
            "Requirement already satisfied: regex!=2019.12.17 in /usr/local/lib/python3.10/dist-packages (from transformers[torch]<5.0.0,>=4.37.0->llama-index-llms-huggingface) (2023.12.25)\n",
            "Requirement already satisfied: tokenizers<0.19,>=0.14 in /usr/local/lib/python3.10/dist-packages (from transformers[torch]<5.0.0,>=4.37.0->llama-index-llms-huggingface) (0.15.2)\n",
            "Requirement already satisfied: safetensors>=0.4.1 in /usr/local/lib/python3.10/dist-packages (from transformers[torch]<5.0.0,>=4.37.0->llama-index-llms-huggingface) (0.4.2)\n",
            "Requirement already satisfied: accelerate>=0.21.0 in /usr/local/lib/python3.10/dist-packages (from transformers[torch]<5.0.0,>=4.37.0->llama-index-llms-huggingface) (0.29.2)\n",
            "Requirement already satisfied: psutil in /usr/local/lib/python3.10/dist-packages (from accelerate>=0.21.0->transformers[torch]<5.0.0,>=4.37.0->llama-index-llms-huggingface) (5.9.5)\n",
            "Requirement already satisfied: aiosignal>=1.1.2 in /usr/local/lib/python3.10/dist-packages (from aiohttp<4.0.0,>=3.8.6->llama-index-core<0.11.0,>=0.10.1->llama-index-llms-huggingface) (1.3.1)\n",
            "Requirement already satisfied: attrs>=17.3.0 in /usr/local/lib/python3.10/dist-packages (from aiohttp<4.0.0,>=3.8.6->llama-index-core<0.11.0,>=0.10.1->llama-index-llms-huggingface) (23.2.0)\n",
            "Requirement already satisfied: frozenlist>=1.1.1 in /usr/local/lib/python3.10/dist-packages (from aiohttp<4.0.0,>=3.8.6->llama-index-core<0.11.0,>=0.10.1->llama-index-llms-huggingface) (1.4.1)\n",
            "Requirement already satisfied: multidict<7.0,>=4.5 in /usr/local/lib/python3.10/dist-packages (from aiohttp<4.0.0,>=3.8.6->llama-index-core<0.11.0,>=0.10.1->llama-index-llms-huggingface) (6.0.5)\n",
            "Requirement already satisfied: yarl<2.0,>=1.0 in /usr/local/lib/python3.10/dist-packages (from aiohttp<4.0.0,>=3.8.6->llama-index-core<0.11.0,>=0.10.1->llama-index-llms-huggingface) (1.9.4)\n",
            "Requirement already satisfied: async-timeout<5.0,>=4.0 in /usr/local/lib/python3.10/dist-packages (from aiohttp<4.0.0,>=3.8.6->llama-index-core<0.11.0,>=0.10.1->llama-index-llms-huggingface) (4.0.3)\n",
            "Requirement already satisfied: pydantic>=1.10 in /usr/local/lib/python3.10/dist-packages (from llamaindex-py-client<0.2.0,>=0.1.18->llama-index-core<0.11.0,>=0.10.1->llama-index-llms-huggingface) (2.6.4)\n",
            "Requirement already satisfied: anyio in /usr/local/lib/python3.10/dist-packages (from httpx->llama-index-core<0.11.0,>=0.10.1->llama-index-llms-huggingface) (3.7.1)\n",
            "Requirement already satisfied: certifi in /usr/local/lib/python3.10/dist-packages (from httpx->llama-index-core<0.11.0,>=0.10.1->llama-index-llms-huggingface) (2024.2.2)\n",
            "Requirement already satisfied: httpcore==1.* in /usr/local/lib/python3.10/dist-packages (from httpx->llama-index-core<0.11.0,>=0.10.1->llama-index-llms-huggingface) (1.0.5)\n",
            "Requirement already satisfied: idna in /usr/local/lib/python3.10/dist-packages (from httpx->llama-index-core<0.11.0,>=0.10.1->llama-index-llms-huggingface) (3.6)\n",
            "Requirement already satisfied: sniffio in /usr/local/lib/python3.10/dist-packages (from httpx->llama-index-core<0.11.0,>=0.10.1->llama-index-llms-huggingface) (1.3.1)\n",
            "Requirement already satisfied: h11<0.15,>=0.13 in /usr/local/lib/python3.10/dist-packages (from httpcore==1.*->httpx->llama-index-core<0.11.0,>=0.10.1->llama-index-llms-huggingface) (0.14.0)\n",
            "Requirement already satisfied: click in /usr/local/lib/python3.10/dist-packages (from nltk<4.0.0,>=3.8.1->llama-index-core<0.11.0,>=0.10.1->llama-index-llms-huggingface) (8.1.7)\n",
            "Requirement already satisfied: joblib in /usr/local/lib/python3.10/dist-packages (from nltk<4.0.0,>=3.8.1->llama-index-core<0.11.0,>=0.10.1->llama-index-llms-huggingface) (1.4.0)\n",
            "Requirement already satisfied: distro<2,>=1.7.0 in /usr/lib/python3/dist-packages (from openai>=1.1.0->llama-index-core<0.11.0,>=0.10.1->llama-index-llms-huggingface) (1.7.0)\n",
            "Requirement already satisfied: charset-normalizer<4,>=2 in /usr/local/lib/python3.10/dist-packages (from requests->huggingface-hub<0.21.0,>=0.20.3->llama-index-llms-huggingface) (3.3.2)\n",
            "Requirement already satisfied: urllib3<3,>=1.21.1 in /usr/local/lib/python3.10/dist-packages (from requests->huggingface-hub<0.21.0,>=0.20.3->llama-index-llms-huggingface) (2.0.7)\n",
            "Requirement already satisfied: greenlet!=0.4.17 in /usr/local/lib/python3.10/dist-packages (from SQLAlchemy[asyncio]>=1.4.49->llama-index-core<0.11.0,>=0.10.1->llama-index-llms-huggingface) (3.0.3)\n",
            "Requirement already satisfied: mypy-extensions>=0.3.0 in /usr/local/lib/python3.10/dist-packages (from typing-inspect>=0.8.0->llama-index-core<0.11.0,>=0.10.1->llama-index-llms-huggingface) (1.0.0)\n",
            "Requirement already satisfied: marshmallow<4.0.0,>=3.18.0 in /usr/local/lib/python3.10/dist-packages (from dataclasses-json->llama-index-core<0.11.0,>=0.10.1->llama-index-llms-huggingface) (3.21.1)\n",
            "Requirement already satisfied: MarkupSafe>=2.0 in /usr/local/lib/python3.10/dist-packages (from jinja2->torch<3.0.0,>=2.1.2->llama-index-llms-huggingface) (2.1.5)\n",
            "Requirement already satisfied: python-dateutil>=2.8.2 in /usr/local/lib/python3.10/dist-packages (from pandas->llama-index-core<0.11.0,>=0.10.1->llama-index-llms-huggingface) (2.8.2)\n",
            "Requirement already satisfied: pytz>=2020.1 in /usr/local/lib/python3.10/dist-packages (from pandas->llama-index-core<0.11.0,>=0.10.1->llama-index-llms-huggingface) (2023.4)\n",
            "Requirement already satisfied: tzdata>=2022.1 in /usr/local/lib/python3.10/dist-packages (from pandas->llama-index-core<0.11.0,>=0.10.1->llama-index-llms-huggingface) (2024.1)\n",
            "Requirement already satisfied: mpmath>=0.19 in /usr/local/lib/python3.10/dist-packages (from sympy->torch<3.0.0,>=2.1.2->llama-index-llms-huggingface) (1.3.0)\n",
            "Requirement already satisfied: exceptiongroup in /usr/local/lib/python3.10/dist-packages (from anyio->httpx->llama-index-core<0.11.0,>=0.10.1->llama-index-llms-huggingface) (1.2.0)\n",
            "Requirement already satisfied: annotated-types>=0.4.0 in /usr/local/lib/python3.10/dist-packages (from pydantic>=1.10->llamaindex-py-client<0.2.0,>=0.1.18->llama-index-core<0.11.0,>=0.10.1->llama-index-llms-huggingface) (0.6.0)\n",
            "Requirement already satisfied: pydantic-core==2.16.3 in /usr/local/lib/python3.10/dist-packages (from pydantic>=1.10->llamaindex-py-client<0.2.0,>=0.1.18->llama-index-core<0.11.0,>=0.10.1->llama-index-llms-huggingface) (2.16.3)\n",
            "Requirement already satisfied: six>=1.5 in /usr/local/lib/python3.10/dist-packages (from python-dateutil>=2.8.2->pandas->llama-index-core<0.11.0,>=0.10.1->llama-index-llms-huggingface) (1.16.0)\n"
          ]
        }
      ],
      "source": [
        "!pip install llama-index-embeddings-huggingface\n",
        "!pip install llama-index-llms-huggingface"
      ]
    },
    {
      "cell_type": "code",
      "execution_count": 21,
      "metadata": {
        "colab": {
          "base_uri": "https://localhost:8080/",
          "height": 214,
          "referenced_widgets": [
            "f1bdf691551b4a7ca98864fce38ed2de",
            "3fc38aa6a8d642a9a994c691bb57d436",
            "38df20b410b14ad6aa41e63efd4c09cb",
            "293c43606fa848208ba5857f8dd9d1eb",
            "492bd2107a6f4adbb5503c571cd4abea",
            "e4f7c67a98fe45a29c98f68f9c0461d7",
            "c92188012eec4a24b3d7cdb679bc1f5d",
            "9d45c6e7d85742aebea301c289581f23",
            "77ca63d961a84299bc85bccc5c6e5684",
            "ed556c2e4b4d4df3848b1a5a7bb42dd7",
            "871a49d1b004497cbdbe42ef50061657"
          ]
        },
        "id": "opZozOkhgWkA",
        "outputId": "a6821842-15b8-44a9-e4ed-1981cf8615de"
      },
      "outputs": [
        {
          "name": "stderr",
          "output_type": "stream",
          "text": [
            "/usr/local/lib/python3.10/dist-packages/huggingface_hub/utils/_token.py:88: UserWarning: \n",
            "The secret `HF_TOKEN` does not exist in your Colab secrets.\n",
            "To authenticate with the Hugging Face Hub, create a token in your settings tab (https://huggingface.co/settings/tokens), set it as secret in your Google Colab and restart your session.\n",
            "You will be able to reuse this secret in all of your notebooks.\n",
            "Please note that authentication is recommended but still optional to access public models or datasets.\n",
            "  warnings.warn(\n"
          ]
        },
        {
          "data": {
            "application/vnd.jupyter.widget-view+json": {
              "model_id": "f1bdf691551b4a7ca98864fce38ed2de",
              "version_major": 2,
              "version_minor": 0
            },
            "text/plain": [
              "Loading checkpoint shards:   0%|          | 0/2 [00:00<?, ?it/s]"
            ]
          },
          "metadata": {},
          "output_type": "display_data"
        },
        {
          "name": "stderr",
          "output_type": "stream",
          "text": [
            "WARNING:root:Some parameters are on the meta device device because they were offloaded to the cpu.\n",
            "Special tokens have been added in the vocabulary, make sure the associated word embeddings are fine-tuned or trained.\n"
          ]
        }
      ],
      "source": [
        "from llama_index.llms.huggingface import HuggingFaceLLM\n",
        "from llama_index.core import PromptTemplate\n",
        "\n",
        "system_prompt = \"\"\"<|SYSTEM|># StableLM Tuned (Alpha version)\n",
        "- StableLM is a helpful and harmless open-source AI language model developed by StabilityAI.\n",
        "- StableLM is excited to be able to help the user, but will refuse to do anything that could be considered harmful to the user.\n",
        "- StableLM is more than just an information source, StableLM is also able to write poetry, short stories, and make jokes.\n",
        "- StableLM will refuse to participate in anything that could harm a human.\n",
        "\"\"\"\n",
        "\n",
        "# This will wrap the default prompts that are internal to llama-index\n",
        "query_wrapper_prompt = PromptTemplate(\"<|USER|>{query_str}<|ASSISTANT|>\")\n",
        "\n",
        "import torch\n",
        "from llama_index.llms.huggingface import HuggingFaceLLM\n",
        "llm = HuggingFaceLLM(\n",
        "    context_window=4096,\n",
        "    max_new_tokens=256,\n",
        "    generate_kwargs={\"temperature\": 0.7, \"do_sample\": False},\n",
        "    system_prompt=system_prompt,\n",
        "    query_wrapper_prompt=query_wrapper_prompt,\n",
        "    tokenizer_name=\"StabilityAI/stablelm-tuned-alpha-3b\",\n",
        "    model_name=\"StabilityAI/stablelm-tuned-alpha-3b\",\n",
        "    device_map=\"auto\",\n",
        "    stopping_ids=[50278, 50279, 50277, 1, 0],\n",
        "    tokenizer_kwargs={\"max_length\": 4096},\n",
        "    # uncomment this if using CUDA to reduce memory usage\n",
        "    # model_kwargs={\"torch_dtype\": torch.float16}\n",
        ")"
      ]
    },
    {
      "cell_type": "code",
      "execution_count": 22,
      "metadata": {
        "id": "h4L9Ejcvv2GJ"
      },
      "outputs": [],
      "source": [
        "%%capture\n",
        "!pip install transformers[torch]"
      ]
    },
    {
      "cell_type": "code",
      "execution_count": 23,
      "metadata": {
        "id": "TL5-5OanwDuy"
      },
      "outputs": [],
      "source": [
        "import torch\n",
        "from llama_index.llms.huggingface import HuggingFaceLLM ##########################################################################################################################\n",
        "from llama_index.core import PromptTemplate\n",
        "\n",
        "system_prompt = \"\"\"<|SYSTEM|># StableLM Tuned (Alpha version)\n",
        "- StableLM is a helpful and harmless open-source AI language model developed by StabilityAI.\n",
        "- StableLM is excited to be able to help the user, but will refuse to do anything that could be considered harmful to the user.\n",
        "- StableLM is more than just an information source, StableLM is also able to write poetry, short stories, and make jokes.\n",
        "- StableLM will refuse to participate in anything that could harm a human.\n",
        "\"\"\"\n",
        "\n",
        "# This will wrap the default prompts that are internal to llama-index\n",
        "query_wrapper_prompt = PromptTemplate(\"<|USER|>{query_str}<|ASSISTANT|>\")\n",
        "\n",
        "llm = HuggingFaceLLM(\n",
        "    context_window=4096,\n",
        "    max_new_tokens=256,\n",
        "    generate_kwargs={\"temperature\": 0.7, \"do_sample\": False},\n",
        "    system_prompt=system_prompt,\n",
        "    query_wrapper_prompt=query_wrapper_prompt,\n",
        "    tokenizer_name=\"StabilityAI/stablelm-tuned-alpha-3b\",\n",
        "    model_name=\"StabilityAI/stablelm-tuned-alpha-3b\",\n",
        "    device_map=\"auto\",\n",
        "    stopping_ids=[50278, 50279, 50277, 1, 0],\n",
        "    tokenizer_kwargs={\"max_length\": 4096},\n",
        "    # uncomment this if using CUDA to reduce memory usage\n",
        "    # model_kwargs={\"torch_dtype\": torch.float16}\n",
        ")"
      ]
    },
    {
      "cell_type": "markdown",
      "metadata": {
        "id": "tatLI1Wi1U03"
      },
      "source": [
        "![image.png](data:image/png;base64,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)"
      ]
    },
    {
      "cell_type": "code",
      "execution_count": 24,
      "metadata": {
        "colab": {
          "base_uri": "https://localhost:8080/"
        },
        "id": "S9rTqh7bwLtT",
        "outputId": "ec7d0df2-bc51-4d01-8c8b-3058e484fa0a"
      },
      "outputs": [
        {
          "name": "stderr",
          "output_type": "stream",
          "text": [
            "<ipython-input-24-96ffecc6d483>:2: DeprecationWarning: Call to deprecated class method from_defaults. (ServiceContext is deprecated, please use `llama_index.settings.Settings` instead.) -- Deprecated since version 0.10.0.\n",
            "  service_context = ServiceContext.from_defaults(\n"
          ]
        }
      ],
      "source": [
        "# configure service context\n",
        "service_context = ServiceContext.from_defaults(\n",
        "    chunk_size=1024,\n",
        "    llm=llm,\n",
        "    #embed_model=\"local\"\n",
        ")"
      ]
    },
    {
      "cell_type": "code",
      "execution_count": 25,
      "metadata": {
        "id": "eSPPKYkRcarv"
      },
      "outputs": [],
      "source": [
        "index = VectorStoreIndex.from_documents(documents, service_context=service_context)"
      ]
    },
    {
      "cell_type": "code",
      "execution_count": 25,
      "metadata": {
        "id": "_Pl_i_WiyV61"
      },
      "outputs": [],
      "source": []
    }
  ],
  "metadata": {
    "accelerator": "GPU",
    "colab": {
      "gpuType": "T4",
      "provenance": []
    },
    "kernelspec": {
      "display_name": "Python 3",
      "name": "python3"
    },
    "language_info": {
      "name": "python"
    },
    "widgets": {
      "application/vnd.jupyter.widget-state+json": {
        "293c43606fa848208ba5857f8dd9d1eb": {
          "model_module": "@jupyter-widgets/controls",
          "model_module_version": "1.5.0",
          "model_name": "HTMLModel",
          "state": {
            "_dom_classes": [],
            "_model_module": "@jupyter-widgets/controls",
            "_model_module_version": "1.5.0",
            "_model_name": "HTMLModel",
            "_view_count": null,
            "_view_module": "@jupyter-widgets/controls",
            "_view_module_version": "1.5.0",
            "_view_name": "HTMLView",
            "description": "",
            "description_tooltip": null,
            "layout": "IPY_MODEL_ed556c2e4b4d4df3848b1a5a7bb42dd7",
            "placeholder": "​",
            "style": "IPY_MODEL_871a49d1b004497cbdbe42ef50061657",
            "value": " 2/2 [00:55&lt;00:00, 25.06s/it]"
          }
        },
        "38df20b410b14ad6aa41e63efd4c09cb": {
          "model_module": "@jupyter-widgets/controls",
          "model_module_version": "1.5.0",
          "model_name": "FloatProgressModel",
          "state": {
            "_dom_classes": [],
            "_model_module": "@jupyter-widgets/controls",
            "_model_module_version": "1.5.0",
            "_model_name": "FloatProgressModel",
            "_view_count": null,
            "_view_module": "@jupyter-widgets/controls",
            "_view_module_version": "1.5.0",
            "_view_name": "ProgressView",
            "bar_style": "success",
            "description": "",
            "description_tooltip": null,
            "layout": "IPY_MODEL_9d45c6e7d85742aebea301c289581f23",
            "max": 2,
            "min": 0,
            "orientation": "horizontal",
            "style": "IPY_MODEL_77ca63d961a84299bc85bccc5c6e5684",
            "value": 2
          }
        },
        "3fc38aa6a8d642a9a994c691bb57d436": {
          "model_module": "@jupyter-widgets/controls",
          "model_module_version": "1.5.0",
          "model_name": "HTMLModel",
          "state": {
            "_dom_classes": [],
            "_model_module": "@jupyter-widgets/controls",
            "_model_module_version": "1.5.0",
            "_model_name": "HTMLModel",
            "_view_count": null,
            "_view_module": "@jupyter-widgets/controls",
            "_view_module_version": "1.5.0",
            "_view_name": "HTMLView",
            "description": "",
            "description_tooltip": null,
            "layout": "IPY_MODEL_e4f7c67a98fe45a29c98f68f9c0461d7",
            "placeholder": "​",
            "style": "IPY_MODEL_c92188012eec4a24b3d7cdb679bc1f5d",
            "value": "Loading checkpoint shards: 100%"
          }
        },
        "492bd2107a6f4adbb5503c571cd4abea": {
          "model_module": "@jupyter-widgets/base",
          "model_module_version": "1.2.0",
          "model_name": "LayoutModel",
          "state": {
            "_model_module": "@jupyter-widgets/base",
            "_model_module_version": "1.2.0",
            "_model_name": "LayoutModel",
            "_view_count": null,
            "_view_module": "@jupyter-widgets/base",
            "_view_module_version": "1.2.0",
            "_view_name": "LayoutView",
            "align_content": null,
            "align_items": null,
            "align_self": null,
            "border": null,
            "bottom": null,
            "display": null,
            "flex": null,
            "flex_flow": null,
            "grid_area": null,
            "grid_auto_columns": null,
            "grid_auto_flow": null,
            "grid_auto_rows": null,
            "grid_column": null,
            "grid_gap": null,
            "grid_row": null,
            "grid_template_areas": null,
            "grid_template_columns": null,
            "grid_template_rows": null,
            "height": null,
            "justify_content": null,
            "justify_items": null,
            "left": null,
            "margin": null,
            "max_height": null,
            "max_width": null,
            "min_height": null,
            "min_width": null,
            "object_fit": null,
            "object_position": null,
            "order": null,
            "overflow": null,
            "overflow_x": null,
            "overflow_y": null,
            "padding": null,
            "right": null,
            "top": null,
            "visibility": null,
            "width": null
          }
        },
        "77ca63d961a84299bc85bccc5c6e5684": {
          "model_module": "@jupyter-widgets/controls",
          "model_module_version": "1.5.0",
          "model_name": "ProgressStyleModel",
          "state": {
            "_model_module": "@jupyter-widgets/controls",
            "_model_module_version": "1.5.0",
            "_model_name": "ProgressStyleModel",
            "_view_count": null,
            "_view_module": "@jupyter-widgets/base",
            "_view_module_version": "1.2.0",
            "_view_name": "StyleView",
            "bar_color": null,
            "description_width": ""
          }
        },
        "871a49d1b004497cbdbe42ef50061657": {
          "model_module": "@jupyter-widgets/controls",
          "model_module_version": "1.5.0",
          "model_name": "DescriptionStyleModel",
          "state": {
            "_model_module": "@jupyter-widgets/controls",
            "_model_module_version": "1.5.0",
            "_model_name": "DescriptionStyleModel",
            "_view_count": null,
            "_view_module": "@jupyter-widgets/base",
            "_view_module_version": "1.2.0",
            "_view_name": "StyleView",
            "description_width": ""
          }
        },
        "9d45c6e7d85742aebea301c289581f23": {
          "model_module": "@jupyter-widgets/base",
          "model_module_version": "1.2.0",
          "model_name": "LayoutModel",
          "state": {
            "_model_module": "@jupyter-widgets/base",
            "_model_module_version": "1.2.0",
            "_model_name": "LayoutModel",
            "_view_count": null,
            "_view_module": "@jupyter-widgets/base",
            "_view_module_version": "1.2.0",
            "_view_name": "LayoutView",
            "align_content": null,
            "align_items": null,
            "align_self": null,
            "border": null,
            "bottom": null,
            "display": null,
            "flex": null,
            "flex_flow": null,
            "grid_area": null,
            "grid_auto_columns": null,
            "grid_auto_flow": null,
            "grid_auto_rows": null,
            "grid_column": null,
            "grid_gap": null,
            "grid_row": null,
            "grid_template_areas": null,
            "grid_template_columns": null,
            "grid_template_rows": null,
            "height": null,
            "justify_content": null,
            "justify_items": null,
            "left": null,
            "margin": null,
            "max_height": null,
            "max_width": null,
            "min_height": null,
            "min_width": null,
            "object_fit": null,
            "object_position": null,
            "order": null,
            "overflow": null,
            "overflow_x": null,
            "overflow_y": null,
            "padding": null,
            "right": null,
            "top": null,
            "visibility": null,
            "width": null
          }
        },
        "c92188012eec4a24b3d7cdb679bc1f5d": {
          "model_module": "@jupyter-widgets/controls",
          "model_module_version": "1.5.0",
          "model_name": "DescriptionStyleModel",
          "state": {
            "_model_module": "@jupyter-widgets/controls",
            "_model_module_version": "1.5.0",
            "_model_name": "DescriptionStyleModel",
            "_view_count": null,
            "_view_module": "@jupyter-widgets/base",
            "_view_module_version": "1.2.0",
            "_view_name": "StyleView",
            "description_width": ""
          }
        },
        "e4f7c67a98fe45a29c98f68f9c0461d7": {
          "model_module": "@jupyter-widgets/base",
          "model_module_version": "1.2.0",
          "model_name": "LayoutModel",
          "state": {
            "_model_module": "@jupyter-widgets/base",
            "_model_module_version": "1.2.0",
            "_model_name": "LayoutModel",
            "_view_count": null,
            "_view_module": "@jupyter-widgets/base",
            "_view_module_version": "1.2.0",
            "_view_name": "LayoutView",
            "align_content": null,
            "align_items": null,
            "align_self": null,
            "border": null,
            "bottom": null,
            "display": null,
            "flex": null,
            "flex_flow": null,
            "grid_area": null,
            "grid_auto_columns": null,
            "grid_auto_flow": null,
            "grid_auto_rows": null,
            "grid_column": null,
            "grid_gap": null,
            "grid_row": null,
            "grid_template_areas": null,
            "grid_template_columns": null,
            "grid_template_rows": null,
            "height": null,
            "justify_content": null,
            "justify_items": null,
            "left": null,
            "margin": null,
            "max_height": null,
            "max_width": null,
            "min_height": null,
            "min_width": null,
            "object_fit": null,
            "object_position": null,
            "order": null,
            "overflow": null,
            "overflow_x": null,
            "overflow_y": null,
            "padding": null,
            "right": null,
            "top": null,
            "visibility": null,
            "width": null
          }
        },
        "ed556c2e4b4d4df3848b1a5a7bb42dd7": {
          "model_module": "@jupyter-widgets/base",
          "model_module_version": "1.2.0",
          "model_name": "LayoutModel",
          "state": {
            "_model_module": "@jupyter-widgets/base",
            "_model_module_version": "1.2.0",
            "_model_name": "LayoutModel",
            "_view_count": null,
            "_view_module": "@jupyter-widgets/base",
            "_view_module_version": "1.2.0",
            "_view_name": "LayoutView",
            "align_content": null,
            "align_items": null,
            "align_self": null,
            "border": null,
            "bottom": null,
            "display": null,
            "flex": null,
            "flex_flow": null,
            "grid_area": null,
            "grid_auto_columns": null,
            "grid_auto_flow": null,
            "grid_auto_rows": null,
            "grid_column": null,
            "grid_gap": null,
            "grid_row": null,
            "grid_template_areas": null,
            "grid_template_columns": null,
            "grid_template_rows": null,
            "height": null,
            "justify_content": null,
            "justify_items": null,
            "left": null,
            "margin": null,
            "max_height": null,
            "max_width": null,
            "min_height": null,
            "min_width": null,
            "object_fit": null,
            "object_position": null,
            "order": null,
            "overflow": null,
            "overflow_x": null,
            "overflow_y": null,
            "padding": null,
            "right": null,
            "top": null,
            "visibility": null,
            "width": null
          }
        },
        "f1bdf691551b4a7ca98864fce38ed2de": {
          "model_module": "@jupyter-widgets/controls",
          "model_module_version": "1.5.0",
          "model_name": "HBoxModel",
          "state": {
            "_dom_classes": [],
            "_model_module": "@jupyter-widgets/controls",
            "_model_module_version": "1.5.0",
            "_model_name": "HBoxModel",
            "_view_count": null,
            "_view_module": "@jupyter-widgets/controls",
            "_view_module_version": "1.5.0",
            "_view_name": "HBoxView",
            "box_style": "",
            "children": [
              "IPY_MODEL_3fc38aa6a8d642a9a994c691bb57d436",
              "IPY_MODEL_38df20b410b14ad6aa41e63efd4c09cb",
              "IPY_MODEL_293c43606fa848208ba5857f8dd9d1eb"
            ],
            "layout": "IPY_MODEL_492bd2107a6f4adbb5503c571cd4abea"
          }
        }
      }
    }
  },
  "nbformat": 4,
  "nbformat_minor": 0
}
